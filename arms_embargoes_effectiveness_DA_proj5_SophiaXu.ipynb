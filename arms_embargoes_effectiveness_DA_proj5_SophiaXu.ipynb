{
  "nbformat": 4,
  "nbformat_minor": 0,
  "metadata": {
    "colab": {
      "name": "arms-embargoes-effectiveness-DA-proj5-SophiaXu.ipynb",
      "provenance": [],
      "collapsed_sections": [
        "QRuPKW-hEMAX",
        "IH8V0PXWEPDP",
        "BwosyrdGEuek",
        "BnaWW8ExD8AC"
      ],
      "toc_visible": true,
      "authorship_tag": "ABX9TyNQvcMUUuU7IOemLVFKaeo/",
      "include_colab_link": true
    },
    "kernelspec": {
      "name": "python3",
      "display_name": "Python 3"
    },
    "language_info": {
      "name": "python"
    }
  },
  "cells": [
    {
      "cell_type": "markdown",
      "metadata": {
        "id": "view-in-github",
        "colab_type": "text"
      },
      "source": [
        "<a href=\"https://colab.research.google.com/github/sophiaxuu/arms-embargoes-effectiveness-DA-proj5/blob/main/arms_embargoes_effectiveness_DA_proj5_SophiaXu.ipynb\" target=\"_parent\"><img src=\"https://colab.research.google.com/assets/colab-badge.svg\" alt=\"Open In Colab\"/></a>"
      ]
    },
    {
      "cell_type": "markdown",
      "metadata": {
        "id": "fTO1BYNsMDbx"
      },
      "source": [
        "# Import library and datasets"
      ]
    },
    {
      "cell_type": "markdown",
      "metadata": {
        "id": "QRuPKW-hEMAX"
      },
      "source": [
        "### Import libraries"
      ]
    },
    {
      "cell_type": "code",
      "metadata": {
        "id": "g5gyyr_0L___"
      },
      "source": [
        "# data analysis\n",
        "import pandas as pd\n",
        "\n",
        "# data viz\n",
        "import plotly.express as px\n",
        "from plotly.subplots import make_subplots # to make subplots\n",
        "import plotly.figure_factory as ff # to make density plots\n",
        "\n",
        "# exporting files\n",
        "from google.colab import files"
      ],
      "execution_count": 288,
      "outputs": []
    },
    {
      "cell_type": "markdown",
      "metadata": {
        "id": "IH8V0PXWEPDP"
      },
      "source": [
        "### Import arms embargoes dataset"
      ]
    },
    {
      "cell_type": "code",
      "metadata": {
        "colab": {
          "base_uri": "https://localhost:8080/",
          "height": 202
        },
        "id": "PnKA7UCpMOgt",
        "outputId": "e5e26f1d-3dfd-472b-e9f0-5a15adb34d7c"
      },
      "source": [
        "df_embargo = pd.read_csv(\"https://raw.githubusercontent.com/sophiaxuu/arms-embargoes-effectiveness-DA-proj5/main/embargo.csv\")\n",
        "df_embargo.head()"
      ],
      "execution_count": 289,
      "outputs": [
        {
          "output_type": "execute_result",
          "data": {
            "text/html": [
              "<div>\n",
              "<style scoped>\n",
              "    .dataframe tbody tr th:only-of-type {\n",
              "        vertical-align: middle;\n",
              "    }\n",
              "\n",
              "    .dataframe tbody tr th {\n",
              "        vertical-align: top;\n",
              "    }\n",
              "\n",
              "    .dataframe thead th {\n",
              "        text-align: right;\n",
              "    }\n",
              "</style>\n",
              "<table border=\"1\" class=\"dataframe\">\n",
              "  <thead>\n",
              "    <tr style=\"text-align: right;\">\n",
              "      <th></th>\n",
              "      <th>Target</th>\n",
              "      <th>Entry into force</th>\n",
              "      <th>Suspended</th>\n",
              "      <th>Lifted</th>\n",
              "      <th>Establishing document</th>\n",
              "    </tr>\n",
              "  </thead>\n",
              "  <tbody>\n",
              "    <tr>\n",
              "      <th>0</th>\n",
              "      <td>Afghanistan</td>\n",
              "      <td>19-Dec-00</td>\n",
              "      <td>16-Jan-02</td>\n",
              "      <td>NaN</td>\n",
              "      <td>UNSCR 1333</td>\n",
              "    </tr>\n",
              "    <tr>\n",
              "      <th>1</th>\n",
              "      <td>Angola</td>\n",
              "      <td>15-Sep-93</td>\n",
              "      <td>NaN</td>\n",
              "      <td>9-Dec-02</td>\n",
              "      <td>UNSCR 864</td>\n",
              "    </tr>\n",
              "    <tr>\n",
              "      <th>2</th>\n",
              "      <td>Central African Rep.</td>\n",
              "      <td>5-Dec-13</td>\n",
              "      <td>NaN</td>\n",
              "      <td>NaN</td>\n",
              "      <td>UNSCR 2127</td>\n",
              "    </tr>\n",
              "    <tr>\n",
              "      <th>3</th>\n",
              "      <td>Cote d'Ivoire</td>\n",
              "      <td>15-Nov-04</td>\n",
              "      <td>NaN</td>\n",
              "      <td>28-Apr-16</td>\n",
              "      <td>UNSCR 1572</td>\n",
              "    </tr>\n",
              "    <tr>\n",
              "      <th>4</th>\n",
              "      <td>DRC</td>\n",
              "      <td>28-Jul-03</td>\n",
              "      <td>NaN</td>\n",
              "      <td>NaN</td>\n",
              "      <td>UNSCR 1493</td>\n",
              "    </tr>\n",
              "  </tbody>\n",
              "</table>\n",
              "</div>"
            ],
            "text/plain": [
              "                 Target Entry into force  ...     Lifted Establishing document\n",
              "0           Afghanistan        19-Dec-00  ...        NaN            UNSCR 1333\n",
              "1                Angola        15-Sep-93  ...   9-Dec-02             UNSCR 864\n",
              "2  Central African Rep.         5-Dec-13  ...        NaN            UNSCR 2127\n",
              "3         Cote d'Ivoire        15-Nov-04  ...  28-Apr-16            UNSCR 1572\n",
              "4                   DRC        28-Jul-03  ...        NaN            UNSCR 1493\n",
              "\n",
              "[5 rows x 5 columns]"
            ]
          },
          "metadata": {
            "tags": []
          },
          "execution_count": 289
        }
      ]
    },
    {
      "cell_type": "code",
      "metadata": {
        "colab": {
          "base_uri": "https://localhost:8080/"
        },
        "id": "Ky8x_vFxQ5eG",
        "outputId": "f9bdf14f-df9f-4121-be79-8a392aec8f17"
      },
      "source": [
        "df_embargo.info()"
      ],
      "execution_count": 290,
      "outputs": [
        {
          "output_type": "stream",
          "text": [
            "<class 'pandas.core.frame.DataFrame'>\n",
            "RangeIndex: 85 entries, 0 to 84\n",
            "Data columns (total 5 columns):\n",
            " #   Column                 Non-Null Count  Dtype \n",
            "---  ------                 --------------  ----- \n",
            " 0   Target                 79 non-null     object\n",
            " 1   Entry into force       79 non-null     object\n",
            " 2   Suspended              4 non-null      object\n",
            " 3   Lifted                 43 non-null     object\n",
            " 4   Establishing document  79 non-null     object\n",
            "dtypes: object(5)\n",
            "memory usage: 3.4+ KB\n"
          ],
          "name": "stdout"
        }
      ]
    },
    {
      "cell_type": "markdown",
      "metadata": {
        "id": "BwosyrdGEuek"
      },
      "source": [
        "### Import Military Expenditure Dataset"
      ]
    },
    {
      "cell_type": "code",
      "metadata": {
        "colab": {
          "base_uri": "https://localhost:8080/",
          "height": 0
        },
        "id": "TjRKqMzQOTr7",
        "outputId": "e286d95e-3c0a-4c2f-84a5-75b533ea9136"
      },
      "source": [
        "df_milexp = pd.read_csv(\"https://raw.githubusercontent.com/sophiaxuu/arms-embargoes-effectiveness-DA-proj5/main/military-exp-m-usd.csv\")\n",
        "df_milexp.head()"
      ],
      "execution_count": 291,
      "outputs": [
        {
          "output_type": "execute_result",
          "data": {
            "text/html": [
              "<div>\n",
              "<style scoped>\n",
              "    .dataframe tbody tr th:only-of-type {\n",
              "        vertical-align: middle;\n",
              "    }\n",
              "\n",
              "    .dataframe tbody tr th {\n",
              "        vertical-align: top;\n",
              "    }\n",
              "\n",
              "    .dataframe thead th {\n",
              "        text-align: right;\n",
              "    }\n",
              "</style>\n",
              "<table border=\"1\" class=\"dataframe\">\n",
              "  <thead>\n",
              "    <tr style=\"text-align: right;\">\n",
              "      <th></th>\n",
              "      <th>Country</th>\n",
              "      <th>1949</th>\n",
              "      <th>1950</th>\n",
              "      <th>1951</th>\n",
              "      <th>1952</th>\n",
              "      <th>1953</th>\n",
              "      <th>1954</th>\n",
              "      <th>1955</th>\n",
              "      <th>1956</th>\n",
              "      <th>1957</th>\n",
              "      <th>1958</th>\n",
              "      <th>1959</th>\n",
              "      <th>1960</th>\n",
              "      <th>1961</th>\n",
              "      <th>1962</th>\n",
              "      <th>1963</th>\n",
              "      <th>1964</th>\n",
              "      <th>1965</th>\n",
              "      <th>1966</th>\n",
              "      <th>1967</th>\n",
              "      <th>1968</th>\n",
              "      <th>1969</th>\n",
              "      <th>1970</th>\n",
              "      <th>1971</th>\n",
              "      <th>1972</th>\n",
              "      <th>1973</th>\n",
              "      <th>1974</th>\n",
              "      <th>1975</th>\n",
              "      <th>1976</th>\n",
              "      <th>1977</th>\n",
              "      <th>1978</th>\n",
              "      <th>1979</th>\n",
              "      <th>1980</th>\n",
              "      <th>1981</th>\n",
              "      <th>1982</th>\n",
              "      <th>1983</th>\n",
              "      <th>1984</th>\n",
              "      <th>1985</th>\n",
              "      <th>1986</th>\n",
              "      <th>1987</th>\n",
              "      <th>1988</th>\n",
              "      <th>1989</th>\n",
              "      <th>1990</th>\n",
              "      <th>1991</th>\n",
              "      <th>1992</th>\n",
              "      <th>1993</th>\n",
              "      <th>1994</th>\n",
              "      <th>1995</th>\n",
              "      <th>1996</th>\n",
              "      <th>1997</th>\n",
              "      <th>1998</th>\n",
              "      <th>1999</th>\n",
              "      <th>2000</th>\n",
              "      <th>2001</th>\n",
              "      <th>2002</th>\n",
              "      <th>2003</th>\n",
              "      <th>2004</th>\n",
              "      <th>2005</th>\n",
              "      <th>2006</th>\n",
              "      <th>2007</th>\n",
              "      <th>2008</th>\n",
              "      <th>2009</th>\n",
              "      <th>2010</th>\n",
              "      <th>2011</th>\n",
              "      <th>2012</th>\n",
              "      <th>2013</th>\n",
              "      <th>2014</th>\n",
              "      <th>2015</th>\n",
              "      <th>2016</th>\n",
              "      <th>2017</th>\n",
              "      <th>2018</th>\n",
              "      <th>2019</th>\n",
              "      <th>2020</th>\n",
              "    </tr>\n",
              "  </thead>\n",
              "  <tbody>\n",
              "    <tr>\n",
              "      <th>0</th>\n",
              "      <td>Africa</td>\n",
              "      <td>NaN</td>\n",
              "      <td>NaN</td>\n",
              "      <td>NaN</td>\n",
              "      <td>NaN</td>\n",
              "      <td>NaN</td>\n",
              "      <td>NaN</td>\n",
              "      <td>NaN</td>\n",
              "      <td>NaN</td>\n",
              "      <td>NaN</td>\n",
              "      <td>NaN</td>\n",
              "      <td>NaN</td>\n",
              "      <td>NaN</td>\n",
              "      <td>NaN</td>\n",
              "      <td>NaN</td>\n",
              "      <td>NaN</td>\n",
              "      <td>NaN</td>\n",
              "      <td>NaN</td>\n",
              "      <td>NaN</td>\n",
              "      <td>NaN</td>\n",
              "      <td>NaN</td>\n",
              "      <td>NaN</td>\n",
              "      <td>NaN</td>\n",
              "      <td>NaN</td>\n",
              "      <td>NaN</td>\n",
              "      <td>NaN</td>\n",
              "      <td>NaN</td>\n",
              "      <td>NaN</td>\n",
              "      <td>NaN</td>\n",
              "      <td>NaN</td>\n",
              "      <td>NaN</td>\n",
              "      <td>NaN</td>\n",
              "      <td>NaN</td>\n",
              "      <td>NaN</td>\n",
              "      <td>NaN</td>\n",
              "      <td>NaN</td>\n",
              "      <td>NaN</td>\n",
              "      <td>NaN</td>\n",
              "      <td>NaN</td>\n",
              "      <td>NaN</td>\n",
              "      <td>NaN</td>\n",
              "      <td>NaN</td>\n",
              "      <td>NaN</td>\n",
              "      <td>NaN</td>\n",
              "      <td>NaN</td>\n",
              "      <td>NaN</td>\n",
              "      <td>NaN</td>\n",
              "      <td>NaN</td>\n",
              "      <td>NaN</td>\n",
              "      <td>NaN</td>\n",
              "      <td>NaN</td>\n",
              "      <td>NaN</td>\n",
              "      <td>NaN</td>\n",
              "      <td>NaN</td>\n",
              "      <td>NaN</td>\n",
              "      <td>NaN</td>\n",
              "      <td>NaN</td>\n",
              "      <td>NaN</td>\n",
              "      <td>NaN</td>\n",
              "      <td>NaN</td>\n",
              "      <td>NaN</td>\n",
              "      <td>NaN</td>\n",
              "      <td>NaN</td>\n",
              "      <td>NaN</td>\n",
              "      <td>NaN</td>\n",
              "      <td>NaN</td>\n",
              "      <td>NaN</td>\n",
              "      <td>NaN</td>\n",
              "      <td>NaN</td>\n",
              "      <td>NaN</td>\n",
              "      <td>NaN</td>\n",
              "      <td>NaN</td>\n",
              "      <td>NaN</td>\n",
              "    </tr>\n",
              "    <tr>\n",
              "      <th>1</th>\n",
              "      <td>North Africa</td>\n",
              "      <td>NaN</td>\n",
              "      <td>NaN</td>\n",
              "      <td>NaN</td>\n",
              "      <td>NaN</td>\n",
              "      <td>NaN</td>\n",
              "      <td>NaN</td>\n",
              "      <td>NaN</td>\n",
              "      <td>NaN</td>\n",
              "      <td>NaN</td>\n",
              "      <td>NaN</td>\n",
              "      <td>NaN</td>\n",
              "      <td>NaN</td>\n",
              "      <td>NaN</td>\n",
              "      <td>NaN</td>\n",
              "      <td>NaN</td>\n",
              "      <td>NaN</td>\n",
              "      <td>NaN</td>\n",
              "      <td>NaN</td>\n",
              "      <td>NaN</td>\n",
              "      <td>NaN</td>\n",
              "      <td>NaN</td>\n",
              "      <td>NaN</td>\n",
              "      <td>NaN</td>\n",
              "      <td>NaN</td>\n",
              "      <td>NaN</td>\n",
              "      <td>NaN</td>\n",
              "      <td>NaN</td>\n",
              "      <td>NaN</td>\n",
              "      <td>NaN</td>\n",
              "      <td>NaN</td>\n",
              "      <td>NaN</td>\n",
              "      <td>NaN</td>\n",
              "      <td>NaN</td>\n",
              "      <td>NaN</td>\n",
              "      <td>NaN</td>\n",
              "      <td>NaN</td>\n",
              "      <td>NaN</td>\n",
              "      <td>NaN</td>\n",
              "      <td>NaN</td>\n",
              "      <td>NaN</td>\n",
              "      <td>NaN</td>\n",
              "      <td>NaN</td>\n",
              "      <td>NaN</td>\n",
              "      <td>NaN</td>\n",
              "      <td>NaN</td>\n",
              "      <td>NaN</td>\n",
              "      <td>NaN</td>\n",
              "      <td>NaN</td>\n",
              "      <td>NaN</td>\n",
              "      <td>NaN</td>\n",
              "      <td>NaN</td>\n",
              "      <td>NaN</td>\n",
              "      <td>NaN</td>\n",
              "      <td>NaN</td>\n",
              "      <td>NaN</td>\n",
              "      <td>NaN</td>\n",
              "      <td>NaN</td>\n",
              "      <td>NaN</td>\n",
              "      <td>NaN</td>\n",
              "      <td>NaN</td>\n",
              "      <td>NaN</td>\n",
              "      <td>NaN</td>\n",
              "      <td>NaN</td>\n",
              "      <td>NaN</td>\n",
              "      <td>NaN</td>\n",
              "      <td>NaN</td>\n",
              "      <td>NaN</td>\n",
              "      <td>NaN</td>\n",
              "      <td>NaN</td>\n",
              "      <td>NaN</td>\n",
              "      <td>NaN</td>\n",
              "      <td>NaN</td>\n",
              "    </tr>\n",
              "    <tr>\n",
              "      <th>2</th>\n",
              "      <td>Algeria</td>\n",
              "      <td>xxx</td>\n",
              "      <td>xxx</td>\n",
              "      <td>xxx</td>\n",
              "      <td>xxx</td>\n",
              "      <td>xxx</td>\n",
              "      <td>xxx</td>\n",
              "      <td>xxx</td>\n",
              "      <td>xxx</td>\n",
              "      <td>xxx</td>\n",
              "      <td>xxx</td>\n",
              "      <td>xxx</td>\n",
              "      <td>xxx</td>\n",
              "      <td>xxx</td>\n",
              "      <td>. .</td>\n",
              "      <td>66.4</td>\n",
              "      <td>99.9</td>\n",
              "      <td>105.5</td>\n",
              "      <td>104.5</td>\n",
              "      <td>99.2</td>\n",
              "      <td>99.2</td>\n",
              "      <td>99.2</td>\n",
              "      <td>98.8</td>\n",
              "      <td>99.9</td>\n",
              "      <td>109.9</td>\n",
              "      <td>136.8</td>\n",
              "      <td>260.2</td>\n",
              "      <td>332.3</td>\n",
              "      <td>480.6</td>\n",
              "      <td>471.7</td>\n",
              "      <td>627.9</td>\n",
              "      <td>711.7</td>\n",
              "      <td>890.2</td>\n",
              "      <td>806.6</td>\n",
              "      <td>932.5</td>\n",
              "      <td>952.4</td>\n",
              "      <td>929.3</td>\n",
              "      <td>953.3</td>\n",
              "      <td>1127.1</td>\n",
              "      <td>1197.0</td>\n",
              "      <td>1028.6</td>\n",
              "      <td>854.3</td>\n",
              "      <td>904.3</td>\n",
              "      <td>565.1</td>\n",
              "      <td>1053.3</td>\n",
              "      <td>1276.9</td>\n",
              "      <td>1334.9</td>\n",
              "      <td>1234.7</td>\n",
              "      <td>1452.4</td>\n",
              "      <td>1752.4</td>\n",
              "      <td>1911.0</td>\n",
              "      <td>1826.5</td>\n",
              "      <td>1881.2</td>\n",
              "      <td>2091.6</td>\n",
              "      <td>2100.6</td>\n",
              "      <td>2206.4</td>\n",
              "      <td>2802.2</td>\n",
              "      <td>2924.8</td>\n",
              "      <td>3094.0</td>\n",
              "      <td>3945.8</td>\n",
              "      <td>5172.3</td>\n",
              "      <td>5280.6</td>\n",
              "      <td>5671.3</td>\n",
              "      <td>8652.2</td>\n",
              "      <td>9326.3</td>\n",
              "      <td>10161.6</td>\n",
              "      <td>9724.4</td>\n",
              "      <td>10412.7</td>\n",
              "      <td>10217.1</td>\n",
              "      <td>10073.4</td>\n",
              "      <td>9583.7</td>\n",
              "      <td>10303.6</td>\n",
              "      <td>9708.3</td>\n",
              "    </tr>\n",
              "    <tr>\n",
              "      <th>3</th>\n",
              "      <td>Libya</td>\n",
              "      <td>xxx</td>\n",
              "      <td>xxx</td>\n",
              "      <td>. .</td>\n",
              "      <td>. .</td>\n",
              "      <td>. .</td>\n",
              "      <td>. .</td>\n",
              "      <td>. .</td>\n",
              "      <td>. .</td>\n",
              "      <td>. .</td>\n",
              "      <td>. .</td>\n",
              "      <td>5.6</td>\n",
              "      <td>5.6</td>\n",
              "      <td>7.2</td>\n",
              "      <td>16.7</td>\n",
              "      <td>18.7</td>\n",
              "      <td>21.5</td>\n",
              "      <td>29.1</td>\n",
              "      <td>58.5</td>\n",
              "      <td>79.5</td>\n",
              "      <td>95.5</td>\n",
              "      <td>143.1</td>\n",
              "      <td>242.5</td>\n",
              "      <td>243.0</td>\n",
              "      <td>202.8</td>\n",
              "      <td>298.3</td>\n",
              "      <td>431.7</td>\n",
              "      <td>287.8</td>\n",
              "      <td>326.3</td>\n",
              "      <td>479.6</td>\n",
              "      <td>729.9</td>\n",
              "      <td>853.6</td>\n",
              "      <td>1074.1</td>\n",
              "      <td>557.3</td>\n",
              "      <td>709.3</td>\n",
              "      <td>. .</td>\n",
              "      <td>. .</td>\n",
              "      <td>. .</td>\n",
              "      <td>. .</td>\n",
              "      <td>. .</td>\n",
              "      <td>. .</td>\n",
              "      <td>. .</td>\n",
              "      <td>. .</td>\n",
              "      <td>. .</td>\n",
              "      <td>. .</td>\n",
              "      <td>. .</td>\n",
              "      <td>. .</td>\n",
              "      <td>. .</td>\n",
              "      <td>. .</td>\n",
              "      <td>1252.0</td>\n",
              "      <td>1443.6</td>\n",
              "      <td>1153.5</td>\n",
              "      <td>1085.5</td>\n",
              "      <td>819.7</td>\n",
              "      <td>452.5</td>\n",
              "      <td>541.4</td>\n",
              "      <td>685.1</td>\n",
              "      <td>690.9</td>\n",
              "      <td>614.4</td>\n",
              "      <td>639.1</td>\n",
              "      <td>1100.1</td>\n",
              "      <td>. .</td>\n",
              "      <td>. .</td>\n",
              "      <td>. .</td>\n",
              "      <td>2987.4</td>\n",
              "      <td>3964.7</td>\n",
              "      <td>3755.7</td>\n",
              "      <td>. .</td>\n",
              "      <td>. .</td>\n",
              "      <td>. .</td>\n",
              "      <td>. .</td>\n",
              "      <td>. .</td>\n",
              "      <td>. .</td>\n",
              "    </tr>\n",
              "    <tr>\n",
              "      <th>4</th>\n",
              "      <td>Morocco</td>\n",
              "      <td>xxx</td>\n",
              "      <td>xxx</td>\n",
              "      <td>xxx</td>\n",
              "      <td>xxx</td>\n",
              "      <td>xxx</td>\n",
              "      <td>xxx</td>\n",
              "      <td>xxx</td>\n",
              "      <td>23.7</td>\n",
              "      <td>35.4</td>\n",
              "      <td>41.7</td>\n",
              "      <td>41.9</td>\n",
              "      <td>41.6</td>\n",
              "      <td>48.3</td>\n",
              "      <td>53.8</td>\n",
              "      <td>74.9</td>\n",
              "      <td>70.0</td>\n",
              "      <td>63.2</td>\n",
              "      <td>67.9</td>\n",
              "      <td>70.3</td>\n",
              "      <td>90.9</td>\n",
              "      <td>85.0</td>\n",
              "      <td>88.9</td>\n",
              "      <td>111.3</td>\n",
              "      <td>140.4</td>\n",
              "      <td>185.8</td>\n",
              "      <td>241.9</td>\n",
              "      <td>413.3</td>\n",
              "      <td>577.2</td>\n",
              "      <td>731.5</td>\n",
              "      <td>772.6</td>\n",
              "      <td>896.4</td>\n",
              "      <td>1118.0</td>\n",
              "      <td>975.6</td>\n",
              "      <td>959.5</td>\n",
              "      <td>628.2</td>\n",
              "      <td>512.5</td>\n",
              "      <td>692.5</td>\n",
              "      <td>728.5</td>\n",
              "      <td>815.4</td>\n",
              "      <td>917.3</td>\n",
              "      <td>990.6</td>\n",
              "      <td>1069.7</td>\n",
              "      <td>1148.4</td>\n",
              "      <td>1228.5</td>\n",
              "      <td>1251.8</td>\n",
              "      <td>1365.3</td>\n",
              "      <td>1437.9</td>\n",
              "      <td>1447.1</td>\n",
              "      <td>1400.9</td>\n",
              "      <td>1445.0</td>\n",
              "      <td>1207.5</td>\n",
              "      <td>859.2</td>\n",
              "      <td>1470.3</td>\n",
              "      <td>1474.9</td>\n",
              "      <td>1819.2</td>\n",
              "      <td>1937.5</td>\n",
              "      <td>2031.1</td>\n",
              "      <td>2134.6</td>\n",
              "      <td>2408.4</td>\n",
              "      <td>2945.0</td>\n",
              "      <td>3055.1</td>\n",
              "      <td>3160.8</td>\n",
              "      <td>3342.7</td>\n",
              "      <td>3402.7</td>\n",
              "      <td>4065.6</td>\n",
              "      <td>4048.6</td>\n",
              "      <td>3268.4</td>\n",
              "      <td>3327.0</td>\n",
              "      <td>3461.5</td>\n",
              "      <td>3696.9</td>\n",
              "      <td>3721.3</td>\n",
              "      <td>4831.0</td>\n",
              "    </tr>\n",
              "  </tbody>\n",
              "</table>\n",
              "</div>"
            ],
            "text/plain": [
              "        Country 1949 1950 1951 1952  ...     2016     2017    2018     2019    2020\n",
              "0        Africa  NaN  NaN  NaN  NaN  ...      NaN      NaN     NaN      NaN     NaN\n",
              "1  North Africa  NaN  NaN  NaN  NaN  ...      NaN      NaN     NaN      NaN     NaN\n",
              "2       Algeria  xxx  xxx  xxx  xxx  ...  10217.1  10073.4  9583.7  10303.6  9708.3\n",
              "3         Libya  xxx  xxx  . .  . .  ...      . .      . .     . .      . .     . .\n",
              "4       Morocco  xxx  xxx  xxx  xxx  ...   3327.0   3461.5  3696.9   3721.3  4831.0\n",
              "\n",
              "[5 rows x 73 columns]"
            ]
          },
          "metadata": {
            "tags": []
          },
          "execution_count": 291
        }
      ]
    },
    {
      "cell_type": "code",
      "metadata": {
        "colab": {
          "base_uri": "https://localhost:8080/"
        },
        "id": "DWFxWZF4E4yw",
        "outputId": "5b4c74f7-0992-4fbf-d4e6-1267b248c52e"
      },
      "source": [
        "df_milexp.info()"
      ],
      "execution_count": 292,
      "outputs": [
        {
          "output_type": "stream",
          "text": [
            "<class 'pandas.core.frame.DataFrame'>\n",
            "RangeIndex: 191 entries, 0 to 190\n",
            "Data columns (total 73 columns):\n",
            " #   Column   Non-Null Count  Dtype \n",
            "---  ------   --------------  ----- \n",
            " 0   Country  191 non-null    object\n",
            " 1   1949     173 non-null    object\n",
            " 2   1950     173 non-null    object\n",
            " 3   1951     173 non-null    object\n",
            " 4   1952     173 non-null    object\n",
            " 5   1953     173 non-null    object\n",
            " 6   1954     173 non-null    object\n",
            " 7   1955     173 non-null    object\n",
            " 8   1956     173 non-null    object\n",
            " 9   1957     173 non-null    object\n",
            " 10  1958     173 non-null    object\n",
            " 11  1959     173 non-null    object\n",
            " 12  1960     173 non-null    object\n",
            " 13  1961     173 non-null    object\n",
            " 14  1962     173 non-null    object\n",
            " 15  1963     173 non-null    object\n",
            " 16  1964     173 non-null    object\n",
            " 17  1965     173 non-null    object\n",
            " 18  1966     173 non-null    object\n",
            " 19  1967     173 non-null    object\n",
            " 20  1968     173 non-null    object\n",
            " 21  1969     173 non-null    object\n",
            " 22  1970     173 non-null    object\n",
            " 23  1971     173 non-null    object\n",
            " 24  1972     173 non-null    object\n",
            " 25  1973     173 non-null    object\n",
            " 26  1974     173 non-null    object\n",
            " 27  1975     173 non-null    object\n",
            " 28  1976     173 non-null    object\n",
            " 29  1977     173 non-null    object\n",
            " 30  1978     173 non-null    object\n",
            " 31  1979     173 non-null    object\n",
            " 32  1980     173 non-null    object\n",
            " 33  1981     173 non-null    object\n",
            " 34  1982     173 non-null    object\n",
            " 35  1983     173 non-null    object\n",
            " 36  1984     173 non-null    object\n",
            " 37  1985     173 non-null    object\n",
            " 38  1986     173 non-null    object\n",
            " 39  1987     173 non-null    object\n",
            " 40  1988     173 non-null    object\n",
            " 41  1989     173 non-null    object\n",
            " 42  1990     173 non-null    object\n",
            " 43  1991     173 non-null    object\n",
            " 44  1992     172 non-null    object\n",
            " 45  1993     172 non-null    object\n",
            " 46  1994     172 non-null    object\n",
            " 47  1995     172 non-null    object\n",
            " 48  1996     173 non-null    object\n",
            " 49  1997     173 non-null    object\n",
            " 50  1998     173 non-null    object\n",
            " 51  1999     173 non-null    object\n",
            " 52  2000     173 non-null    object\n",
            " 53  2001     173 non-null    object\n",
            " 54  2002     173 non-null    object\n",
            " 55  2003     173 non-null    object\n",
            " 56  2004     173 non-null    object\n",
            " 57  2005     173 non-null    object\n",
            " 58  2006     173 non-null    object\n",
            " 59  2007     173 non-null    object\n",
            " 60  2008     173 non-null    object\n",
            " 61  2009     173 non-null    object\n",
            " 62  2010     173 non-null    object\n",
            " 63  2011     173 non-null    object\n",
            " 64  2012     173 non-null    object\n",
            " 65  2013     173 non-null    object\n",
            " 66  2014     173 non-null    object\n",
            " 67  2015     173 non-null    object\n",
            " 68  2016     173 non-null    object\n",
            " 69  2017     173 non-null    object\n",
            " 70  2018     173 non-null    object\n",
            " 71  2019     173 non-null    object\n",
            " 72  2020     173 non-null    object\n",
            "dtypes: object(73)\n",
            "memory usage: 109.1+ KB\n"
          ],
          "name": "stdout"
        }
      ]
    },
    {
      "cell_type": "markdown",
      "metadata": {
        "id": "BnaWW8ExD8AC"
      },
      "source": [
        "### Import and clean Country Population Dataset\n"
      ]
    },
    {
      "cell_type": "code",
      "metadata": {
        "colab": {
          "base_uri": "https://localhost:8080/",
          "height": 0
        },
        "id": "0GdaDi-Q4wLd",
        "outputId": "0b27fadf-4d48-4856-a012-df9d275ee2d3"
      },
      "source": [
        "# import Country Population Dataset\n",
        "\n",
        "df_population = pd.read_csv(\"https://raw.githubusercontent.com/sophiaxuu/arms-embargoes-effectiveness-DA-proj5/main/population2020.csv\")\n",
        "df_population.head()\n"
      ],
      "execution_count": 293,
      "outputs": [
        {
          "output_type": "execute_result",
          "data": {
            "text/html": [
              "<div>\n",
              "<style scoped>\n",
              "    .dataframe tbody tr th:only-of-type {\n",
              "        vertical-align: middle;\n",
              "    }\n",
              "\n",
              "    .dataframe tbody tr th {\n",
              "        vertical-align: top;\n",
              "    }\n",
              "\n",
              "    .dataframe thead th {\n",
              "        text-align: right;\n",
              "    }\n",
              "</style>\n",
              "<table border=\"1\" class=\"dataframe\">\n",
              "  <thead>\n",
              "    <tr style=\"text-align: right;\">\n",
              "      <th></th>\n",
              "      <th>LocID</th>\n",
              "      <th>Location</th>\n",
              "      <th>Time</th>\n",
              "      <th>PopTotal</th>\n",
              "      <th>PopDensity</th>\n",
              "    </tr>\n",
              "  </thead>\n",
              "  <tbody>\n",
              "    <tr>\n",
              "      <th>0</th>\n",
              "      <td>4</td>\n",
              "      <td>Afghanistan</td>\n",
              "      <td>2020</td>\n",
              "      <td>38928.341</td>\n",
              "      <td>59.627</td>\n",
              "    </tr>\n",
              "    <tr>\n",
              "      <th>1</th>\n",
              "      <td>903</td>\n",
              "      <td>Africa</td>\n",
              "      <td>2020</td>\n",
              "      <td>1340598.113</td>\n",
              "      <td>45.216</td>\n",
              "    </tr>\n",
              "    <tr>\n",
              "      <th>2</th>\n",
              "      <td>8</td>\n",
              "      <td>Albania</td>\n",
              "      <td>2020</td>\n",
              "      <td>2877.800</td>\n",
              "      <td>105.029</td>\n",
              "    </tr>\n",
              "    <tr>\n",
              "      <th>3</th>\n",
              "      <td>12</td>\n",
              "      <td>Algeria</td>\n",
              "      <td>2020</td>\n",
              "      <td>43851.043</td>\n",
              "      <td>18.411</td>\n",
              "    </tr>\n",
              "    <tr>\n",
              "      <th>4</th>\n",
              "      <td>16</td>\n",
              "      <td>American Samoa</td>\n",
              "      <td>2020</td>\n",
              "      <td>55.197</td>\n",
              "      <td>275.985</td>\n",
              "    </tr>\n",
              "  </tbody>\n",
              "</table>\n",
              "</div>"
            ],
            "text/plain": [
              "   LocID        Location  Time     PopTotal  PopDensity\n",
              "0      4     Afghanistan  2020    38928.341      59.627\n",
              "1    903          Africa  2020  1340598.113      45.216\n",
              "2      8         Albania  2020     2877.800     105.029\n",
              "3     12         Algeria  2020    43851.043      18.411\n",
              "4     16  American Samoa  2020       55.197     275.985"
            ]
          },
          "metadata": {
            "tags": []
          },
          "execution_count": 293
        }
      ]
    },
    {
      "cell_type": "code",
      "metadata": {
        "id": "Wh_3zqVs6y3A"
      },
      "source": [
        "# rename columns \n",
        "df_population = df_population.rename(columns= {\"Location\": \"Country\"})"
      ],
      "execution_count": 294,
      "outputs": []
    },
    {
      "cell_type": "code",
      "metadata": {
        "colab": {
          "base_uri": "https://localhost:8080/"
        },
        "id": "AotH33h64wN7",
        "outputId": "8b53e2c9-55b0-402b-d62a-c790981defa1"
      },
      "source": [
        "df_population.info()"
      ],
      "execution_count": 295,
      "outputs": [
        {
          "output_type": "stream",
          "text": [
            "<class 'pandas.core.frame.DataFrame'>\n",
            "RangeIndex: 285 entries, 0 to 284\n",
            "Data columns (total 5 columns):\n",
            " #   Column      Non-Null Count  Dtype  \n",
            "---  ------      --------------  -----  \n",
            " 0   LocID       285 non-null    int64  \n",
            " 1   Country     285 non-null    object \n",
            " 2   Time        285 non-null    int64  \n",
            " 3   PopTotal    285 non-null    float64\n",
            " 4   PopDensity  285 non-null    float64\n",
            "dtypes: float64(2), int64(2), object(1)\n",
            "memory usage: 11.3+ KB\n"
          ],
          "name": "stdout"
        }
      ]
    },
    {
      "cell_type": "markdown",
      "metadata": {
        "id": "qBYPD4KYO2fm"
      },
      "source": [
        "# Arms Embargoes: "
      ]
    },
    {
      "cell_type": "markdown",
      "metadata": {
        "id": "bhz-mDVhF1lk"
      },
      "source": [
        "### Embargo data analysis with Groupby"
      ]
    },
    {
      "cell_type": "code",
      "metadata": {
        "id": "tCIQF3DoQaIB"
      },
      "source": [
        "# Clean data: Convert Entry into force date to year \n",
        "df_embargo[\"Entry into force\"] = pd.DatetimeIndex(df_embargo[\"Entry into force\"]).year"
      ],
      "execution_count": 296,
      "outputs": []
    },
    {
      "cell_type": "code",
      "metadata": {
        "colab": {
          "base_uri": "https://localhost:8080/",
          "height": 202
        },
        "id": "68jkzu48UfvD",
        "outputId": "4f613242-670c-41c9-884b-3bef380142c6"
      },
      "source": [
        "# Rename columns \n",
        "df_embargo = df_embargo.rename(columns= {\"Target\": \"Country\", \"Entry into force\": \"Year\", \"Suspended\": \"Suspended_date\", \"Lifted\" : \"Lifted_date\", \"Establishing document\": \"Establishing_document\"})\n",
        "df_embargo.sort_values(by = \"Year\")\n",
        "df_embargo.tail()"
      ],
      "execution_count": 297,
      "outputs": [
        {
          "output_type": "execute_result",
          "data": {
            "text/html": [
              "<div>\n",
              "<style scoped>\n",
              "    .dataframe tbody tr th:only-of-type {\n",
              "        vertical-align: middle;\n",
              "    }\n",
              "\n",
              "    .dataframe tbody tr th {\n",
              "        vertical-align: top;\n",
              "    }\n",
              "\n",
              "    .dataframe thead th {\n",
              "        text-align: right;\n",
              "    }\n",
              "</style>\n",
              "<table border=\"1\" class=\"dataframe\">\n",
              "  <thead>\n",
              "    <tr style=\"text-align: right;\">\n",
              "      <th></th>\n",
              "      <th>Country</th>\n",
              "      <th>Year</th>\n",
              "      <th>Suspended_date</th>\n",
              "      <th>Lifted_date</th>\n",
              "      <th>Establishing_document</th>\n",
              "    </tr>\n",
              "  </thead>\n",
              "  <tbody>\n",
              "    <tr>\n",
              "      <th>80</th>\n",
              "      <td>NaN</td>\n",
              "      <td>NaN</td>\n",
              "      <td>NaN</td>\n",
              "      <td>NaN</td>\n",
              "      <td>NaN</td>\n",
              "    </tr>\n",
              "    <tr>\n",
              "      <th>81</th>\n",
              "      <td>NaN</td>\n",
              "      <td>NaN</td>\n",
              "      <td>NaN</td>\n",
              "      <td>NaN</td>\n",
              "      <td>NaN</td>\n",
              "    </tr>\n",
              "    <tr>\n",
              "      <th>82</th>\n",
              "      <td>NaN</td>\n",
              "      <td>NaN</td>\n",
              "      <td>NaN</td>\n",
              "      <td>NaN</td>\n",
              "      <td>NaN</td>\n",
              "    </tr>\n",
              "    <tr>\n",
              "      <th>83</th>\n",
              "      <td>NaN</td>\n",
              "      <td>NaN</td>\n",
              "      <td>NaN</td>\n",
              "      <td>NaN</td>\n",
              "      <td>NaN</td>\n",
              "    </tr>\n",
              "    <tr>\n",
              "      <th>84</th>\n",
              "      <td>NaN</td>\n",
              "      <td>NaN</td>\n",
              "      <td>NaN</td>\n",
              "      <td>NaN</td>\n",
              "      <td>NaN</td>\n",
              "    </tr>\n",
              "  </tbody>\n",
              "</table>\n",
              "</div>"
            ],
            "text/plain": [
              "   Country  Year Suspended_date Lifted_date Establishing_document\n",
              "80     NaN   NaN            NaN         NaN                   NaN\n",
              "81     NaN   NaN            NaN         NaN                   NaN\n",
              "82     NaN   NaN            NaN         NaN                   NaN\n",
              "83     NaN   NaN            NaN         NaN                   NaN\n",
              "84     NaN   NaN            NaN         NaN                   NaN"
            ]
          },
          "metadata": {
            "tags": []
          },
          "execution_count": 297
        }
      ]
    },
    {
      "cell_type": "code",
      "metadata": {
        "id": "oJJ5ucwfIsYA"
      },
      "source": [
        "df_embargo = df_embargo[df_embargo['Year'].notna()]"
      ],
      "execution_count": 298,
      "outputs": []
    },
    {
      "cell_type": "code",
      "metadata": {
        "colab": {
          "base_uri": "https://localhost:8080/",
          "height": 202
        },
        "id": "egWeRVQcHW3Y",
        "outputId": "692dbd81-4f72-4410-f94c-d758e0cf752e"
      },
      "source": [
        "# Turn Year value from float to integer\n",
        "df_embargo.tail(5)"
      ],
      "execution_count": 299,
      "outputs": [
        {
          "output_type": "execute_result",
          "data": {
            "text/html": [
              "<div>\n",
              "<style scoped>\n",
              "    .dataframe tbody tr th:only-of-type {\n",
              "        vertical-align: middle;\n",
              "    }\n",
              "\n",
              "    .dataframe tbody tr th {\n",
              "        vertical-align: top;\n",
              "    }\n",
              "\n",
              "    .dataframe thead th {\n",
              "        text-align: right;\n",
              "    }\n",
              "</style>\n",
              "<table border=\"1\" class=\"dataframe\">\n",
              "  <thead>\n",
              "    <tr style=\"text-align: right;\">\n",
              "      <th></th>\n",
              "      <th>Country</th>\n",
              "      <th>Year</th>\n",
              "      <th>Suspended_date</th>\n",
              "      <th>Lifted_date</th>\n",
              "      <th>Establishing_document</th>\n",
              "    </tr>\n",
              "  </thead>\n",
              "  <tbody>\n",
              "    <tr>\n",
              "      <th>74</th>\n",
              "      <td>Azerbaijan</td>\n",
              "      <td>1992.0</td>\n",
              "      <td>NaN</td>\n",
              "      <td>NaN</td>\n",
              "      <td>OSCE statement</td>\n",
              "    </tr>\n",
              "    <tr>\n",
              "      <th>75</th>\n",
              "      <td>Nigeria</td>\n",
              "      <td>1996.0</td>\n",
              "      <td>NaN</td>\n",
              "      <td>1-Nov-99</td>\n",
              "      <td>-</td>\n",
              "    </tr>\n",
              "    <tr>\n",
              "      <th>76</th>\n",
              "      <td>Syria</td>\n",
              "      <td>2011.0</td>\n",
              "      <td>NaN</td>\n",
              "      <td>NaN</td>\n",
              "      <td>LAS statement</td>\n",
              "    </tr>\n",
              "    <tr>\n",
              "      <th>77</th>\n",
              "      <td>Togo</td>\n",
              "      <td>2005.0</td>\n",
              "      <td>NaN</td>\n",
              "      <td>28-May-05</td>\n",
              "      <td>-</td>\n",
              "    </tr>\n",
              "    <tr>\n",
              "      <th>78</th>\n",
              "      <td>Togo</td>\n",
              "      <td>2005.0</td>\n",
              "      <td>NaN</td>\n",
              "      <td>26-Feb-05</td>\n",
              "      <td>-</td>\n",
              "    </tr>\n",
              "  </tbody>\n",
              "</table>\n",
              "</div>"
            ],
            "text/plain": [
              "       Country    Year Suspended_date Lifted_date Establishing_document\n",
              "74  Azerbaijan  1992.0            NaN         NaN        OSCE statement\n",
              "75     Nigeria  1996.0            NaN    1-Nov-99                     -\n",
              "76       Syria  2011.0            NaN         NaN         LAS statement\n",
              "77        Togo  2005.0            NaN   28-May-05                     -\n",
              "78        Togo  2005.0            NaN   26-Feb-05                     -"
            ]
          },
          "metadata": {
            "tags": []
          },
          "execution_count": 299
        }
      ]
    },
    {
      "cell_type": "code",
      "metadata": {
        "colab": {
          "base_uri": "https://localhost:8080/",
          "height": 202
        },
        "id": "vC3WDhsIQLe-",
        "outputId": "6b5ce775-b126-44cc-ed42-10067fc2b667"
      },
      "source": [
        "#  get count of embargo for each country by fiscal year \n",
        "df_country_fy_embargo = df_embargo.groupby([\"Year\", \"Country\"])[\"Country\"].agg([\"count\"]).reset_index()\n",
        "df_country_fy_embargo = df_country_fy_embargo.sort_values(by = \"Year\")\n",
        "df_country_fy_embargo = df_country_fy_embargo[df_country_fy_embargo[\"Year\"] < 2020]\n",
        "df_country_fy_embargo.tail()"
      ],
      "execution_count": 300,
      "outputs": [
        {
          "output_type": "execute_result",
          "data": {
            "text/html": [
              "<div>\n",
              "<style scoped>\n",
              "    .dataframe tbody tr th:only-of-type {\n",
              "        vertical-align: middle;\n",
              "    }\n",
              "\n",
              "    .dataframe tbody tr th {\n",
              "        vertical-align: top;\n",
              "    }\n",
              "\n",
              "    .dataframe thead th {\n",
              "        text-align: right;\n",
              "    }\n",
              "</style>\n",
              "<table border=\"1\" class=\"dataframe\">\n",
              "  <thead>\n",
              "    <tr style=\"text-align: right;\">\n",
              "      <th></th>\n",
              "      <th>Year</th>\n",
              "      <th>Country</th>\n",
              "      <th>count</th>\n",
              "    </tr>\n",
              "  </thead>\n",
              "  <tbody>\n",
              "    <tr>\n",
              "      <th>59</th>\n",
              "      <td>2014.0</td>\n",
              "      <td>Russia</td>\n",
              "      <td>1</td>\n",
              "    </tr>\n",
              "    <tr>\n",
              "      <th>60</th>\n",
              "      <td>2014.0</td>\n",
              "      <td>Ukraine</td>\n",
              "      <td>1</td>\n",
              "    </tr>\n",
              "    <tr>\n",
              "      <th>61</th>\n",
              "      <td>2015.0</td>\n",
              "      <td>Yemen</td>\n",
              "      <td>2</td>\n",
              "    </tr>\n",
              "    <tr>\n",
              "      <th>62</th>\n",
              "      <td>2017.0</td>\n",
              "      <td>Venezuela</td>\n",
              "      <td>1</td>\n",
              "    </tr>\n",
              "    <tr>\n",
              "      <th>63</th>\n",
              "      <td>2018.0</td>\n",
              "      <td>South Sudan</td>\n",
              "      <td>1</td>\n",
              "    </tr>\n",
              "  </tbody>\n",
              "</table>\n",
              "</div>"
            ],
            "text/plain": [
              "      Year      Country  count\n",
              "59  2014.0       Russia      1\n",
              "60  2014.0      Ukraine      1\n",
              "61  2015.0        Yemen      2\n",
              "62  2017.0    Venezuela      1\n",
              "63  2018.0  South Sudan      1"
            ]
          },
          "metadata": {
            "tags": []
          },
          "execution_count": 300
        }
      ]
    },
    {
      "cell_type": "code",
      "metadata": {
        "colab": {
          "base_uri": "https://localhost:8080/",
          "height": 202
        },
        "id": "g4oKMItehIt-",
        "outputId": "6aefedb0-c4f9-4d02-b828-08f0dc0f56e4"
      },
      "source": [
        "#  get count of embargo for each country\n",
        "df_country_embargo = df_country_fy_embargo.groupby([\"Country\"])[\"count\"].agg([\"sum\"]).reset_index()\n",
        "df_country_embargo = df_country_embargo.sort_values(by = \"Country\")\n",
        "df_country_embargo.tail(5)"
      ],
      "execution_count": 361,
      "outputs": [
        {
          "output_type": "execute_result",
          "data": {
            "text/html": [
              "<div>\n",
              "<style scoped>\n",
              "    .dataframe tbody tr th:only-of-type {\n",
              "        vertical-align: middle;\n",
              "    }\n",
              "\n",
              "    .dataframe tbody tr th {\n",
              "        vertical-align: top;\n",
              "    }\n",
              "\n",
              "    .dataframe thead th {\n",
              "        text-align: right;\n",
              "    }\n",
              "</style>\n",
              "<table border=\"1\" class=\"dataframe\">\n",
              "  <thead>\n",
              "    <tr style=\"text-align: right;\">\n",
              "      <th></th>\n",
              "      <th>Country</th>\n",
              "      <th>sum</th>\n",
              "    </tr>\n",
              "  </thead>\n",
              "  <tbody>\n",
              "    <tr>\n",
              "      <th>40</th>\n",
              "      <td>Uzbekistan</td>\n",
              "      <td>1</td>\n",
              "    </tr>\n",
              "    <tr>\n",
              "      <th>41</th>\n",
              "      <td>Venezuela</td>\n",
              "      <td>1</td>\n",
              "    </tr>\n",
              "    <tr>\n",
              "      <th>42</th>\n",
              "      <td>Yemen</td>\n",
              "      <td>2</td>\n",
              "    </tr>\n",
              "    <tr>\n",
              "      <th>43</th>\n",
              "      <td>Yugoslavia</td>\n",
              "      <td>3</td>\n",
              "    </tr>\n",
              "    <tr>\n",
              "      <th>44</th>\n",
              "      <td>Zimbabwe</td>\n",
              "      <td>1</td>\n",
              "    </tr>\n",
              "  </tbody>\n",
              "</table>\n",
              "</div>"
            ],
            "text/plain": [
              "       Country  sum\n",
              "40  Uzbekistan    1\n",
              "41   Venezuela    1\n",
              "42       Yemen    2\n",
              "43  Yugoslavia    3\n",
              "44    Zimbabwe    1"
            ]
          },
          "metadata": {
            "tags": []
          },
          "execution_count": 361
        }
      ]
    },
    {
      "cell_type": "code",
      "metadata": {
        "id": "43oVHOd_hwJq"
      },
      "source": [
        ""
      ],
      "execution_count": null,
      "outputs": []
    },
    {
      "cell_type": "markdown",
      "metadata": {
        "id": "T6JtUHcYF7M8"
      },
      "source": [
        "### Number of embargoes each year  "
      ]
    },
    {
      "cell_type": "code",
      "metadata": {
        "colab": {
          "base_uri": "https://localhost:8080/"
        },
        "id": "tnxtVV09I4QO",
        "outputId": "08691fa2-4110-408a-c08e-58a584ebb5d1"
      },
      "source": [
        "print(df_country_fy_embargo)"
      ],
      "execution_count": 301,
      "outputs": [
        {
          "output_type": "stream",
          "text": [
            "      Year       Country  count\n",
            "0   1977.0  South Africa      1\n",
            "1   1986.0         Libya      1\n",
            "2   1986.0         Syria      1\n",
            "3   1989.0         China      1\n",
            "4   1990.0          Iraq      2\n",
            "..     ...           ...    ...\n",
            "59  2014.0        Russia      1\n",
            "60  2014.0       Ukraine      1\n",
            "61  2015.0         Yemen      2\n",
            "62  2017.0     Venezuela      1\n",
            "63  2018.0   South Sudan      1\n",
            "\n",
            "[64 rows x 3 columns]\n"
          ],
          "name": "stdout"
        }
      ]
    },
    {
      "cell_type": "code",
      "metadata": {
        "id": "zbuE4HbPO1y7"
      },
      "source": [
        "# make a histogram graph to show count of embargo grouped by countries over all fy \n",
        "embargo_country_histogram = px.histogram(df_country_fy_embargo, \n",
        "                               x = \"Year\", \n",
        "                               y = \"count\", \n",
        "                               title = \"Count #  get count of embargo for each country by fiscal year \n",
        "df_country_fy_embargo = df_embargo.groupby([\"Year\", \"Country\"])[\"Country\"].agg([\"count\"]).reset_index()of embarges FY1960 - 2020\")\n"
      ],
      "execution_count": 302,
      "outputs": []
    },
    {
      "cell_type": "code",
      "metadata": {
        "id": "0Ho_doAOV4yg",
        "colab": {
          "base_uri": "https://localhost:8080/",
          "height": 542
        },
        "outputId": "afb7b026-2dd5-41d4-edf4-92c58f68f001"
      },
      "source": [
        "embargo_country_histogram"
      ],
      "execution_count": 303,
      "outputs": [
        {
          "output_type": "display_data",
          "data": {
            "text/html": [
              "<html>\n",
              "<head><meta charset=\"utf-8\" /></head>\n",
              "<body>\n",
              "    <div>\n",
              "            <script src=\"https://cdnjs.cloudflare.com/ajax/libs/mathjax/2.7.5/MathJax.js?config=TeX-AMS-MML_SVG\"></script><script type=\"text/javascript\">if (window.MathJax) {MathJax.Hub.Config({SVG: {font: \"STIX-Web\"}});}</script>\n",
              "                <script type=\"text/javascript\">window.PlotlyConfig = {MathJaxConfig: 'local'};</script>\n",
              "        <script src=\"https://cdn.plot.ly/plotly-latest.min.js\"></script>    \n",
              "            <div id=\"a7f99186-70af-4a20-a689-3f2d8dae2f1f\" class=\"plotly-graph-div\" style=\"height:525px; width:100%;\"></div>\n",
              "            <script type=\"text/javascript\">\n",
              "                \n",
              "                    window.PLOTLYENV=window.PLOTLYENV || {};\n",
              "                    \n",
              "                if (document.getElementById(\"a7f99186-70af-4a20-a689-3f2d8dae2f1f\")) {\n",
              "                    Plotly.newPlot(\n",
              "                        'a7f99186-70af-4a20-a689-3f2d8dae2f1f',\n",
              "                        [{\"alignmentgroup\": \"True\", \"bingroup\": \"x\", \"hoverlabel\": {\"namelength\": 0}, \"hovertemplate\": \"Year=%{x}<br>count of count=%{y}\", \"legendgroup\": \"\", \"marker\": {\"color\": \"#636efa\"}, \"name\": \"\", \"offsetgroup\": \"\", \"orientation\": \"v\", \"showlegend\": false, \"type\": \"histogram\", \"x\": [1977.0, 1986.0, 1986.0, 1989.0, 1990.0, 1991.0, 1991.0, 1991.0, 1991.0, 1991.0, 1992.0, 1992.0, 1992.0, 1992.0, 1993.0, 1993.0, 1993.0, 1993.0, 1994.0, 1994.0, 1995.0, 1996.0, 1996.0, 1996.0, 1997.0, 1998.0, 1998.0, 1999.0, 1999.0, 1999.0, 2000.0, 2000.0, 2000.0, 2001.0, 2001.0, 2002.0, 2002.0, 2002.0, 2002.0, 2002.0, 2003.0, 2004.0, 2004.0, 2005.0, 2005.0, 2006.0, 2006.0, 2006.0, 2007.0, 2009.0, 2009.0, 2010.0, 2011.0, 2011.0, 2011.0, 2011.0, 2013.0, 2013.0, 2013.0, 2014.0, 2014.0, 2015.0, 2017.0, 2018.0], \"xaxis\": \"x\", \"y\": [1, 1, 1, 1, 2, 1, 1, 1, 1, 2, 1, 1, 1, 1, 1, 1, 1, 1, 1, 1, 1, 2, 1, 1, 1, 1, 1, 2, 2, 1, 1, 1, 1, 1, 1, 1, 1, 1, 1, 1, 1, 2, 1, 2, 1, 2, 1, 2, 1, 1, 2, 1, 1, 2, 1, 2, 1, 1, 1, 1, 1, 2, 1, 1], \"yaxis\": \"y\"}],\n",
              "                        {\"barmode\": \"relative\", \"legend\": {\"tracegroupgap\": 0}, \"template\": {\"data\": {\"bar\": [{\"error_x\": {\"color\": \"#2a3f5f\"}, \"error_y\": {\"color\": \"#2a3f5f\"}, \"marker\": {\"line\": {\"color\": \"#E5ECF6\", \"width\": 0.5}}, \"type\": \"bar\"}], \"barpolar\": [{\"marker\": {\"line\": {\"color\": \"#E5ECF6\", \"width\": 0.5}}, \"type\": \"barpolar\"}], \"carpet\": [{\"aaxis\": {\"endlinecolor\": \"#2a3f5f\", \"gridcolor\": \"white\", \"linecolor\": \"white\", \"minorgridcolor\": \"white\", \"startlinecolor\": \"#2a3f5f\"}, \"baxis\": {\"endlinecolor\": \"#2a3f5f\", \"gridcolor\": \"white\", \"linecolor\": \"white\", \"minorgridcolor\": \"white\", \"startlinecolor\": \"#2a3f5f\"}, \"type\": \"carpet\"}], \"choropleth\": [{\"colorbar\": {\"outlinewidth\": 0, \"ticks\": \"\"}, \"type\": \"choropleth\"}], \"contour\": [{\"colorbar\": {\"outlinewidth\": 0, \"ticks\": \"\"}, \"colorscale\": [[0.0, \"#0d0887\"], [0.1111111111111111, \"#46039f\"], [0.2222222222222222, \"#7201a8\"], [0.3333333333333333, \"#9c179e\"], [0.4444444444444444, \"#bd3786\"], [0.5555555555555556, \"#d8576b\"], [0.6666666666666666, \"#ed7953\"], [0.7777777777777778, \"#fb9f3a\"], [0.8888888888888888, \"#fdca26\"], [1.0, \"#f0f921\"]], \"type\": \"contour\"}], \"contourcarpet\": [{\"colorbar\": {\"outlinewidth\": 0, \"ticks\": \"\"}, \"type\": \"contourcarpet\"}], \"heatmap\": [{\"colorbar\": {\"outlinewidth\": 0, \"ticks\": \"\"}, \"colorscale\": [[0.0, \"#0d0887\"], [0.1111111111111111, \"#46039f\"], [0.2222222222222222, \"#7201a8\"], [0.3333333333333333, \"#9c179e\"], [0.4444444444444444, \"#bd3786\"], [0.5555555555555556, \"#d8576b\"], [0.6666666666666666, \"#ed7953\"], [0.7777777777777778, \"#fb9f3a\"], [0.8888888888888888, \"#fdca26\"], [1.0, \"#f0f921\"]], \"type\": \"heatmap\"}], \"heatmapgl\": [{\"colorbar\": {\"outlinewidth\": 0, \"ticks\": \"\"}, \"colorscale\": [[0.0, \"#0d0887\"], [0.1111111111111111, \"#46039f\"], [0.2222222222222222, \"#7201a8\"], [0.3333333333333333, \"#9c179e\"], [0.4444444444444444, \"#bd3786\"], [0.5555555555555556, \"#d8576b\"], [0.6666666666666666, \"#ed7953\"], [0.7777777777777778, \"#fb9f3a\"], [0.8888888888888888, \"#fdca26\"], [1.0, \"#f0f921\"]], \"type\": \"heatmapgl\"}], \"histogram\": [{\"marker\": {\"colorbar\": {\"outlinewidth\": 0, \"ticks\": \"\"}}, \"type\": \"histogram\"}], \"histogram2d\": [{\"colorbar\": {\"outlinewidth\": 0, \"ticks\": \"\"}, \"colorscale\": [[0.0, \"#0d0887\"], [0.1111111111111111, \"#46039f\"], [0.2222222222222222, \"#7201a8\"], [0.3333333333333333, \"#9c179e\"], [0.4444444444444444, \"#bd3786\"], [0.5555555555555556, \"#d8576b\"], [0.6666666666666666, \"#ed7953\"], [0.7777777777777778, \"#fb9f3a\"], [0.8888888888888888, \"#fdca26\"], [1.0, \"#f0f921\"]], \"type\": \"histogram2d\"}], \"histogram2dcontour\": [{\"colorbar\": {\"outlinewidth\": 0, \"ticks\": \"\"}, \"colorscale\": [[0.0, \"#0d0887\"], [0.1111111111111111, \"#46039f\"], [0.2222222222222222, \"#7201a8\"], [0.3333333333333333, \"#9c179e\"], [0.4444444444444444, \"#bd3786\"], [0.5555555555555556, \"#d8576b\"], [0.6666666666666666, \"#ed7953\"], [0.7777777777777778, \"#fb9f3a\"], [0.8888888888888888, \"#fdca26\"], [1.0, \"#f0f921\"]], \"type\": \"histogram2dcontour\"}], \"mesh3d\": [{\"colorbar\": {\"outlinewidth\": 0, \"ticks\": \"\"}, \"type\": \"mesh3d\"}], \"parcoords\": [{\"line\": {\"colorbar\": {\"outlinewidth\": 0, \"ticks\": \"\"}}, \"type\": \"parcoords\"}], \"pie\": [{\"automargin\": true, \"type\": \"pie\"}], \"scatter\": [{\"marker\": {\"colorbar\": {\"outlinewidth\": 0, \"ticks\": \"\"}}, \"type\": \"scatter\"}], \"scatter3d\": [{\"line\": {\"colorbar\": {\"outlinewidth\": 0, \"ticks\": \"\"}}, \"marker\": {\"colorbar\": {\"outlinewidth\": 0, \"ticks\": \"\"}}, \"type\": \"scatter3d\"}], \"scattercarpet\": [{\"marker\": {\"colorbar\": {\"outlinewidth\": 0, \"ticks\": \"\"}}, \"type\": \"scattercarpet\"}], \"scattergeo\": [{\"marker\": {\"colorbar\": {\"outlinewidth\": 0, \"ticks\": \"\"}}, \"type\": \"scattergeo\"}], \"scattergl\": [{\"marker\": {\"colorbar\": {\"outlinewidth\": 0, \"ticks\": \"\"}}, \"type\": \"scattergl\"}], \"scattermapbox\": [{\"marker\": {\"colorbar\": {\"outlinewidth\": 0, \"ticks\": \"\"}}, \"type\": \"scattermapbox\"}], \"scatterpolar\": [{\"marker\": {\"colorbar\": {\"outlinewidth\": 0, \"ticks\": \"\"}}, \"type\": \"scatterpolar\"}], \"scatterpolargl\": [{\"marker\": {\"colorbar\": {\"outlinewidth\": 0, \"ticks\": \"\"}}, \"type\": \"scatterpolargl\"}], \"scatterternary\": [{\"marker\": {\"colorbar\": {\"outlinewidth\": 0, \"ticks\": \"\"}}, \"type\": \"scatterternary\"}], \"surface\": [{\"colorbar\": {\"outlinewidth\": 0, \"ticks\": \"\"}, \"colorscale\": [[0.0, \"#0d0887\"], [0.1111111111111111, \"#46039f\"], [0.2222222222222222, \"#7201a8\"], [0.3333333333333333, \"#9c179e\"], [0.4444444444444444, \"#bd3786\"], [0.5555555555555556, \"#d8576b\"], [0.6666666666666666, \"#ed7953\"], [0.7777777777777778, \"#fb9f3a\"], [0.8888888888888888, \"#fdca26\"], [1.0, \"#f0f921\"]], \"type\": \"surface\"}], \"table\": [{\"cells\": {\"fill\": {\"color\": \"#EBF0F8\"}, \"line\": {\"color\": \"white\"}}, \"header\": {\"fill\": {\"color\": \"#C8D4E3\"}, \"line\": {\"color\": \"white\"}}, \"type\": \"table\"}]}, \"layout\": {\"annotationdefaults\": {\"arrowcolor\": \"#2a3f5f\", \"arrowhead\": 0, \"arrowwidth\": 1}, \"coloraxis\": {\"colorbar\": {\"outlinewidth\": 0, \"ticks\": \"\"}}, \"colorscale\": {\"diverging\": [[0, \"#8e0152\"], [0.1, \"#c51b7d\"], [0.2, \"#de77ae\"], [0.3, \"#f1b6da\"], [0.4, \"#fde0ef\"], [0.5, \"#f7f7f7\"], [0.6, \"#e6f5d0\"], [0.7, \"#b8e186\"], [0.8, \"#7fbc41\"], [0.9, \"#4d9221\"], [1, \"#276419\"]], \"sequential\": [[0.0, \"#0d0887\"], [0.1111111111111111, \"#46039f\"], [0.2222222222222222, \"#7201a8\"], [0.3333333333333333, \"#9c179e\"], [0.4444444444444444, \"#bd3786\"], [0.5555555555555556, \"#d8576b\"], [0.6666666666666666, \"#ed7953\"], [0.7777777777777778, \"#fb9f3a\"], [0.8888888888888888, \"#fdca26\"], [1.0, \"#f0f921\"]], \"sequentialminus\": [[0.0, \"#0d0887\"], [0.1111111111111111, \"#46039f\"], [0.2222222222222222, \"#7201a8\"], [0.3333333333333333, \"#9c179e\"], [0.4444444444444444, \"#bd3786\"], [0.5555555555555556, \"#d8576b\"], [0.6666666666666666, \"#ed7953\"], [0.7777777777777778, \"#fb9f3a\"], [0.8888888888888888, \"#fdca26\"], [1.0, \"#f0f921\"]]}, \"colorway\": [\"#636efa\", \"#EF553B\", \"#00cc96\", \"#ab63fa\", \"#FFA15A\", \"#19d3f3\", \"#FF6692\", \"#B6E880\", \"#FF97FF\", \"#FECB52\"], \"font\": {\"color\": \"#2a3f5f\"}, \"geo\": {\"bgcolor\": \"white\", \"lakecolor\": \"white\", \"landcolor\": \"#E5ECF6\", \"showlakes\": true, \"showland\": true, \"subunitcolor\": \"white\"}, \"hoverlabel\": {\"align\": \"left\"}, \"hovermode\": \"closest\", \"mapbox\": {\"style\": \"light\"}, \"paper_bgcolor\": \"white\", \"plot_bgcolor\": \"#E5ECF6\", \"polar\": {\"angularaxis\": {\"gridcolor\": \"white\", \"linecolor\": \"white\", \"ticks\": \"\"}, \"bgcolor\": \"#E5ECF6\", \"radialaxis\": {\"gridcolor\": \"white\", \"linecolor\": \"white\", \"ticks\": \"\"}}, \"scene\": {\"xaxis\": {\"backgroundcolor\": \"#E5ECF6\", \"gridcolor\": \"white\", \"gridwidth\": 2, \"linecolor\": \"white\", \"showbackground\": true, \"ticks\": \"\", \"zerolinecolor\": \"white\"}, \"yaxis\": {\"backgroundcolor\": \"#E5ECF6\", \"gridcolor\": \"white\", \"gridwidth\": 2, \"linecolor\": \"white\", \"showbackground\": true, \"ticks\": \"\", \"zerolinecolor\": \"white\"}, \"zaxis\": {\"backgroundcolor\": \"#E5ECF6\", \"gridcolor\": \"white\", \"gridwidth\": 2, \"linecolor\": \"white\", \"showbackground\": true, \"ticks\": \"\", \"zerolinecolor\": \"white\"}}, \"shapedefaults\": {\"line\": {\"color\": \"#2a3f5f\"}}, \"ternary\": {\"aaxis\": {\"gridcolor\": \"white\", \"linecolor\": \"white\", \"ticks\": \"\"}, \"baxis\": {\"gridcolor\": \"white\", \"linecolor\": \"white\", \"ticks\": \"\"}, \"bgcolor\": \"#E5ECF6\", \"caxis\": {\"gridcolor\": \"white\", \"linecolor\": \"white\", \"ticks\": \"\"}}, \"title\": {\"x\": 0.05}, \"xaxis\": {\"automargin\": true, \"gridcolor\": \"white\", \"linecolor\": \"white\", \"ticks\": \"\", \"title\": {\"standoff\": 15}, \"zerolinecolor\": \"white\", \"zerolinewidth\": 2}, \"yaxis\": {\"automargin\": true, \"gridcolor\": \"white\", \"linecolor\": \"white\", \"ticks\": \"\", \"title\": {\"standoff\": 15}, \"zerolinecolor\": \"white\", \"zerolinewidth\": 2}}}, \"title\": {\"text\": \"Count of embarges FY1960 - 2020\"}, \"xaxis\": {\"anchor\": \"y\", \"domain\": [0.0, 1.0], \"title\": {\"text\": \"Year\"}}, \"yaxis\": {\"anchor\": \"x\", \"domain\": [0.0, 1.0], \"title\": {\"text\": \"count of count\"}}},\n",
              "                        {\"responsive\": true}\n",
              "                    ).then(function(){\n",
              "                            \n",
              "var gd = document.getElementById('a7f99186-70af-4a20-a689-3f2d8dae2f1f');\n",
              "var x = new MutationObserver(function (mutations, observer) {{\n",
              "        var display = window.getComputedStyle(gd).display;\n",
              "        if (!display || display === 'none') {{\n",
              "            console.log([gd, 'removed!']);\n",
              "            Plotly.purge(gd);\n",
              "            observer.disconnect();\n",
              "        }}\n",
              "}});\n",
              "\n",
              "// Listen for the removal of the full notebook cells\n",
              "var notebookContainer = gd.closest('#notebook-container');\n",
              "if (notebookContainer) {{\n",
              "    x.observe(notebookContainer, {childList: true});\n",
              "}}\n",
              "\n",
              "// Listen for the clearing of the current output cell\n",
              "var outputEl = gd.closest('.output');\n",
              "if (outputEl) {{\n",
              "    x.observe(outputEl, {childList: true});\n",
              "}}\n",
              "\n",
              "                        })\n",
              "                };\n",
              "                \n",
              "            </script>\n",
              "        </div>\n",
              "</body>\n",
              "</html>"
            ]
          },
          "metadata": {
            "tags": []
          }
        }
      ]
    },
    {
      "cell_type": "markdown",
      "metadata": {
        "id": "x08LmDANfrVQ"
      },
      "source": [
        "# Merge arms embargo, military expenditure and population datasets"
      ]
    },
    {
      "cell_type": "code",
      "metadata": {
        "id": "kk9ISGZ6fqes"
      },
      "source": [
        "# get list of countries that received embargo \n",
        "seleted_countries_list = df_embargo[\"Country\"].unique().tolist()"
      ],
      "execution_count": 304,
      "outputs": []
    },
    {
      "cell_type": "code",
      "metadata": {
        "id": "JOD0b7JchISR"
      },
      "source": [
        "# filter full dataset with selected_countries_list \n",
        "df_milexp_selected_countries = df_milexp[df_milexp[\"Country\"].isin(seleted_countries_list)]"
      ],
      "execution_count": 305,
      "outputs": []
    },
    {
      "cell_type": "code",
      "metadata": {
        "colab": {
          "base_uri": "https://localhost:8080/",
          "height": 257
        },
        "id": "8LWeu5G6hfuP",
        "outputId": "2214d334-22d4-4e11-a793-1a7468a09ef6"
      },
      "source": [
        "df_milexp_selected_countries.head()"
      ],
      "execution_count": 306,
      "outputs": [
        {
          "output_type": "execute_result",
          "data": {
            "text/html": [
              "<div>\n",
              "<style scoped>\n",
              "    .dataframe tbody tr th:only-of-type {\n",
              "        vertical-align: middle;\n",
              "    }\n",
              "\n",
              "    .dataframe tbody tr th {\n",
              "        vertical-align: top;\n",
              "    }\n",
              "\n",
              "    .dataframe thead th {\n",
              "        text-align: right;\n",
              "    }\n",
              "</style>\n",
              "<table border=\"1\" class=\"dataframe\">\n",
              "  <thead>\n",
              "    <tr style=\"text-align: right;\">\n",
              "      <th></th>\n",
              "      <th>Country</th>\n",
              "      <th>1949</th>\n",
              "      <th>1950</th>\n",
              "      <th>1951</th>\n",
              "      <th>1952</th>\n",
              "      <th>1953</th>\n",
              "      <th>1954</th>\n",
              "      <th>1955</th>\n",
              "      <th>1956</th>\n",
              "      <th>1957</th>\n",
              "      <th>1958</th>\n",
              "      <th>1959</th>\n",
              "      <th>1960</th>\n",
              "      <th>1961</th>\n",
              "      <th>1962</th>\n",
              "      <th>1963</th>\n",
              "      <th>1964</th>\n",
              "      <th>1965</th>\n",
              "      <th>1966</th>\n",
              "      <th>1967</th>\n",
              "      <th>1968</th>\n",
              "      <th>1969</th>\n",
              "      <th>1970</th>\n",
              "      <th>1971</th>\n",
              "      <th>1972</th>\n",
              "      <th>1973</th>\n",
              "      <th>1974</th>\n",
              "      <th>1975</th>\n",
              "      <th>1976</th>\n",
              "      <th>1977</th>\n",
              "      <th>1978</th>\n",
              "      <th>1979</th>\n",
              "      <th>1980</th>\n",
              "      <th>1981</th>\n",
              "      <th>1982</th>\n",
              "      <th>1983</th>\n",
              "      <th>1984</th>\n",
              "      <th>1985</th>\n",
              "      <th>1986</th>\n",
              "      <th>1987</th>\n",
              "      <th>1988</th>\n",
              "      <th>1989</th>\n",
              "      <th>1990</th>\n",
              "      <th>1991</th>\n",
              "      <th>1992</th>\n",
              "      <th>1993</th>\n",
              "      <th>1994</th>\n",
              "      <th>1995</th>\n",
              "      <th>1996</th>\n",
              "      <th>1997</th>\n",
              "      <th>1998</th>\n",
              "      <th>1999</th>\n",
              "      <th>2000</th>\n",
              "      <th>2001</th>\n",
              "      <th>2002</th>\n",
              "      <th>2003</th>\n",
              "      <th>2004</th>\n",
              "      <th>2005</th>\n",
              "      <th>2006</th>\n",
              "      <th>2007</th>\n",
              "      <th>2008</th>\n",
              "      <th>2009</th>\n",
              "      <th>2010</th>\n",
              "      <th>2011</th>\n",
              "      <th>2012</th>\n",
              "      <th>2013</th>\n",
              "      <th>2014</th>\n",
              "      <th>2015</th>\n",
              "      <th>2016</th>\n",
              "      <th>2017</th>\n",
              "      <th>2018</th>\n",
              "      <th>2019</th>\n",
              "      <th>2020</th>\n",
              "    </tr>\n",
              "  </thead>\n",
              "  <tbody>\n",
              "    <tr>\n",
              "      <th>3</th>\n",
              "      <td>Libya</td>\n",
              "      <td>xxx</td>\n",
              "      <td>xxx</td>\n",
              "      <td>. .</td>\n",
              "      <td>. .</td>\n",
              "      <td>. .</td>\n",
              "      <td>. .</td>\n",
              "      <td>. .</td>\n",
              "      <td>. .</td>\n",
              "      <td>. .</td>\n",
              "      <td>. .</td>\n",
              "      <td>5.6</td>\n",
              "      <td>5.6</td>\n",
              "      <td>7.2</td>\n",
              "      <td>16.7</td>\n",
              "      <td>18.7</td>\n",
              "      <td>21.5</td>\n",
              "      <td>29.1</td>\n",
              "      <td>58.5</td>\n",
              "      <td>79.5</td>\n",
              "      <td>95.5</td>\n",
              "      <td>143.1</td>\n",
              "      <td>242.5</td>\n",
              "      <td>243.0</td>\n",
              "      <td>202.8</td>\n",
              "      <td>298.3</td>\n",
              "      <td>431.7</td>\n",
              "      <td>287.8</td>\n",
              "      <td>326.3</td>\n",
              "      <td>479.6</td>\n",
              "      <td>729.9</td>\n",
              "      <td>853.6</td>\n",
              "      <td>1074.1</td>\n",
              "      <td>557.3</td>\n",
              "      <td>709.3</td>\n",
              "      <td>. .</td>\n",
              "      <td>. .</td>\n",
              "      <td>. .</td>\n",
              "      <td>. .</td>\n",
              "      <td>. .</td>\n",
              "      <td>. .</td>\n",
              "      <td>. .</td>\n",
              "      <td>. .</td>\n",
              "      <td>. .</td>\n",
              "      <td>. .</td>\n",
              "      <td>. .</td>\n",
              "      <td>. .</td>\n",
              "      <td>. .</td>\n",
              "      <td>. .</td>\n",
              "      <td>1252.0</td>\n",
              "      <td>1443.6</td>\n",
              "      <td>1153.5</td>\n",
              "      <td>1085.5</td>\n",
              "      <td>819.7</td>\n",
              "      <td>452.5</td>\n",
              "      <td>541.4</td>\n",
              "      <td>685.1</td>\n",
              "      <td>690.9</td>\n",
              "      <td>614.4</td>\n",
              "      <td>639.1</td>\n",
              "      <td>1100.1</td>\n",
              "      <td>. .</td>\n",
              "      <td>. .</td>\n",
              "      <td>. .</td>\n",
              "      <td>2987.4</td>\n",
              "      <td>3964.7</td>\n",
              "      <td>3755.7</td>\n",
              "      <td>. .</td>\n",
              "      <td>. .</td>\n",
              "      <td>. .</td>\n",
              "      <td>. .</td>\n",
              "      <td>. .</td>\n",
              "      <td>. .</td>\n",
              "    </tr>\n",
              "    <tr>\n",
              "      <th>7</th>\n",
              "      <td>Angola</td>\n",
              "      <td>xxx</td>\n",
              "      <td>xxx</td>\n",
              "      <td>xxx</td>\n",
              "      <td>xxx</td>\n",
              "      <td>xxx</td>\n",
              "      <td>xxx</td>\n",
              "      <td>xxx</td>\n",
              "      <td>xxx</td>\n",
              "      <td>xxx</td>\n",
              "      <td>xxx</td>\n",
              "      <td>xxx</td>\n",
              "      <td>xxx</td>\n",
              "      <td>xxx</td>\n",
              "      <td>xxx</td>\n",
              "      <td>xxx</td>\n",
              "      <td>xxx</td>\n",
              "      <td>xxx</td>\n",
              "      <td>xxx</td>\n",
              "      <td>xxx</td>\n",
              "      <td>xxx</td>\n",
              "      <td>xxx</td>\n",
              "      <td>xxx</td>\n",
              "      <td>xxx</td>\n",
              "      <td>xxx</td>\n",
              "      <td>xxx</td>\n",
              "      <td>xxx</td>\n",
              "      <td>. .</td>\n",
              "      <td>. .</td>\n",
              "      <td>. .</td>\n",
              "      <td>343.3</td>\n",
              "      <td>504.7</td>\n",
              "      <td>497.4</td>\n",
              "      <td>618.9</td>\n",
              "      <td>668.5</td>\n",
              "      <td>778.6</td>\n",
              "      <td>1066.2</td>\n",
              "      <td>1146.5</td>\n",
              "      <td>1156.5</td>\n",
              "      <td>1487.4</td>\n",
              "      <td>1469.4</td>\n",
              "      <td>1948.6</td>\n",
              "      <td>1751.2</td>\n",
              "      <td>1031.2</td>\n",
              "      <td>794.1</td>\n",
              "      <td>1774.4</td>\n",
              "      <td>595.0</td>\n",
              "      <td>233.8</td>\n",
              "      <td>159.7</td>\n",
              "      <td>456.8</td>\n",
              "      <td>170.3</td>\n",
              "      <td>1066.6</td>\n",
              "      <td>583.6</td>\n",
              "      <td>404.3</td>\n",
              "      <td>438.7</td>\n",
              "      <td>670.0</td>\n",
              "      <td>817.5</td>\n",
              "      <td>1365.1</td>\n",
              "      <td>1970.3</td>\n",
              "      <td>2032.4</td>\n",
              "      <td>3163.6</td>\n",
              "      <td>3311.2</td>\n",
              "      <td>3500.8</td>\n",
              "      <td>3639.5</td>\n",
              "      <td>4144.6</td>\n",
              "      <td>6090.8</td>\n",
              "      <td>6846.2</td>\n",
              "      <td>3608.3</td>\n",
              "      <td>2764.1</td>\n",
              "      <td>3062.9</td>\n",
              "      <td>1983.6</td>\n",
              "      <td>1470.9</td>\n",
              "      <td>993.6</td>\n",
              "    </tr>\n",
              "    <tr>\n",
              "      <th>11</th>\n",
              "      <td>Burundi</td>\n",
              "      <td>xxx</td>\n",
              "      <td>xxx</td>\n",
              "      <td>xxx</td>\n",
              "      <td>xxx</td>\n",
              "      <td>xxx</td>\n",
              "      <td>xxx</td>\n",
              "      <td>xxx</td>\n",
              "      <td>xxx</td>\n",
              "      <td>xxx</td>\n",
              "      <td>xxx</td>\n",
              "      <td>xxx</td>\n",
              "      <td>xxx</td>\n",
              "      <td>xxx</td>\n",
              "      <td>8.4</td>\n",
              "      <td>1.0</td>\n",
              "      <td>1.2</td>\n",
              "      <td>2.2</td>\n",
              "      <td>2.3</td>\n",
              "      <td>2.4</td>\n",
              "      <td>2.6</td>\n",
              "      <td>3.3</td>\n",
              "      <td>. .</td>\n",
              "      <td>2.6</td>\n",
              "      <td>3.6</td>\n",
              "      <td>5.9</td>\n",
              "      <td>7.7</td>\n",
              "      <td>8.5</td>\n",
              "      <td>10.0</td>\n",
              "      <td>14.0</td>\n",
              "      <td>17.0</td>\n",
              "      <td>20.0</td>\n",
              "      <td>27.8</td>\n",
              "      <td>30.0</td>\n",
              "      <td>36.7</td>\n",
              "      <td>34.4</td>\n",
              "      <td>29.9</td>\n",
              "      <td>32.2</td>\n",
              "      <td>34.6</td>\n",
              "      <td>30.8</td>\n",
              "      <td>34.3</td>\n",
              "      <td>37.9</td>\n",
              "      <td>39.6</td>\n",
              "      <td>42.8</td>\n",
              "      <td>39.0</td>\n",
              "      <td>36.3</td>\n",
              "      <td>41.9</td>\n",
              "      <td>42.1</td>\n",
              "      <td>50.9</td>\n",
              "      <td>61.9</td>\n",
              "      <td>58.7</td>\n",
              "      <td>50.6</td>\n",
              "      <td>42.3</td>\n",
              "      <td>53.2</td>\n",
              "      <td>44.9</td>\n",
              "      <td>43.4</td>\n",
              "      <td>44.9</td>\n",
              "      <td>49.6</td>\n",
              "      <td>44.7</td>\n",
              "      <td>46.3</td>\n",
              "      <td>43.9</td>\n",
              "      <td>. .</td>\n",
              "      <td>. .</td>\n",
              "      <td>. .</td>\n",
              "      <td>59.0</td>\n",
              "      <td>60.9</td>\n",
              "      <td>62.2</td>\n",
              "      <td>66.2</td>\n",
              "      <td>66.5</td>\n",
              "      <td>63.9</td>\n",
              "      <td>65.4</td>\n",
              "      <td>84.7</td>\n",
              "      <td>67.5</td>\n",
              "    </tr>\n",
              "    <tr>\n",
              "      <th>14</th>\n",
              "      <td>Central African Rep.</td>\n",
              "      <td>xxx</td>\n",
              "      <td>xxx</td>\n",
              "      <td>xxx</td>\n",
              "      <td>xxx</td>\n",
              "      <td>xxx</td>\n",
              "      <td>xxx</td>\n",
              "      <td>xxx</td>\n",
              "      <td>xxx</td>\n",
              "      <td>xxx</td>\n",
              "      <td>xxx</td>\n",
              "      <td>xxx</td>\n",
              "      <td>. .</td>\n",
              "      <td>. .</td>\n",
              "      <td>. .</td>\n",
              "      <td>. .</td>\n",
              "      <td>. .</td>\n",
              "      <td>. .</td>\n",
              "      <td>. .</td>\n",
              "      <td>. .</td>\n",
              "      <td>. .</td>\n",
              "      <td>. .</td>\n",
              "      <td>. .</td>\n",
              "      <td>. .</td>\n",
              "      <td>. .</td>\n",
              "      <td>. .</td>\n",
              "      <td>. .</td>\n",
              "      <td>. .</td>\n",
              "      <td>. .</td>\n",
              "      <td>. .</td>\n",
              "      <td>. .</td>\n",
              "      <td>. .</td>\n",
              "      <td>. .</td>\n",
              "      <td>. .</td>\n",
              "      <td>. .</td>\n",
              "      <td>. .</td>\n",
              "      <td>. .</td>\n",
              "      <td>. .</td>\n",
              "      <td>. .</td>\n",
              "      <td>. .</td>\n",
              "      <td>. .</td>\n",
              "      <td>. .</td>\n",
              "      <td>. .</td>\n",
              "      <td>21.6</td>\n",
              "      <td>23.2</td>\n",
              "      <td>19.1</td>\n",
              "      <td>10.7</td>\n",
              "      <td>13.0</td>\n",
              "      <td>12.2</td>\n",
              "      <td>. .</td>\n",
              "      <td>. .</td>\n",
              "      <td>. .</td>\n",
              "      <td>. .</td>\n",
              "      <td>. .</td>\n",
              "      <td>10.7</td>\n",
              "      <td>15.0</td>\n",
              "      <td>15.1</td>\n",
              "      <td>15.4</td>\n",
              "      <td>. .</td>\n",
              "      <td>19.1</td>\n",
              "      <td>31.5</td>\n",
              "      <td>36.0</td>\n",
              "      <td>51.6</td>\n",
              "      <td>49.9</td>\n",
              "      <td>42.7</td>\n",
              "      <td>47.9</td>\n",
              "      <td>38.4</td>\n",
              "      <td>26.7</td>\n",
              "      <td>26.8</td>\n",
              "      <td>27.5</td>\n",
              "      <td>30.5</td>\n",
              "      <td>40.8</td>\n",
              "      <td>41.3</td>\n",
              "    </tr>\n",
              "    <tr>\n",
              "      <th>21</th>\n",
              "      <td>Eritrea</td>\n",
              "      <td>xxx</td>\n",
              "      <td>xxx</td>\n",
              "      <td>xxx</td>\n",
              "      <td>xxx</td>\n",
              "      <td>xxx</td>\n",
              "      <td>xxx</td>\n",
              "      <td>xxx</td>\n",
              "      <td>xxx</td>\n",
              "      <td>xxx</td>\n",
              "      <td>xxx</td>\n",
              "      <td>xxx</td>\n",
              "      <td>xxx</td>\n",
              "      <td>xxx</td>\n",
              "      <td>xxx</td>\n",
              "      <td>xxx</td>\n",
              "      <td>xxx</td>\n",
              "      <td>xxx</td>\n",
              "      <td>xxx</td>\n",
              "      <td>xxx</td>\n",
              "      <td>xxx</td>\n",
              "      <td>xxx</td>\n",
              "      <td>xxx</td>\n",
              "      <td>xxx</td>\n",
              "      <td>xxx</td>\n",
              "      <td>xxx</td>\n",
              "      <td>xxx</td>\n",
              "      <td>xxx</td>\n",
              "      <td>xxx</td>\n",
              "      <td>xxx</td>\n",
              "      <td>xxx</td>\n",
              "      <td>xxx</td>\n",
              "      <td>xxx</td>\n",
              "      <td>xxx</td>\n",
              "      <td>xxx</td>\n",
              "      <td>xxx</td>\n",
              "      <td>xxx</td>\n",
              "      <td>xxx</td>\n",
              "      <td>xxx</td>\n",
              "      <td>xxx</td>\n",
              "      <td>xxx</td>\n",
              "      <td>xxx</td>\n",
              "      <td>xxx</td>\n",
              "      <td>xxx</td>\n",
              "      <td>xxx</td>\n",
              "      <td>107.7</td>\n",
              "      <td>80.2</td>\n",
              "      <td>125.0</td>\n",
              "      <td>152.3</td>\n",
              "      <td>92.8</td>\n",
              "      <td>263.0</td>\n",
              "      <td>272.9</td>\n",
              "      <td>230.7</td>\n",
              "      <td>166.6</td>\n",
              "      <td>150.8</td>\n",
              "      <td>181.6</td>\n",
              "      <td>. .</td>\n",
              "      <td>. .</td>\n",
              "      <td>. .</td>\n",
              "      <td>. .</td>\n",
              "      <td>. .</td>\n",
              "      <td>. .</td>\n",
              "      <td>. .</td>\n",
              "      <td>. .</td>\n",
              "      <td>. .</td>\n",
              "      <td>. .</td>\n",
              "      <td>. .</td>\n",
              "      <td>. .</td>\n",
              "      <td>. .</td>\n",
              "      <td>. .</td>\n",
              "      <td>. .</td>\n",
              "      <td>. .</td>\n",
              "      <td>. .</td>\n",
              "    </tr>\n",
              "  </tbody>\n",
              "</table>\n",
              "</div>"
            ],
            "text/plain": [
              "                 Country 1949 1950 1951  ...    2017    2018    2019   2020\n",
              "3                  Libya  xxx  xxx  . .  ...     . .     . .     . .    . .\n",
              "7                 Angola  xxx  xxx  xxx  ...  3062.9  1983.6  1470.9  993.6\n",
              "11               Burundi  xxx  xxx  xxx  ...    63.9    65.4    84.7   67.5\n",
              "14  Central African Rep.  xxx  xxx  xxx  ...    27.5    30.5    40.8   41.3\n",
              "21               Eritrea  xxx  xxx  xxx  ...     . .     . .     . .    . .\n",
              "\n",
              "[5 rows x 73 columns]"
            ]
          },
          "metadata": {
            "tags": []
          },
          "execution_count": 306
        }
      ]
    },
    {
      "cell_type": "code",
      "metadata": {
        "colab": {
          "base_uri": "https://localhost:8080/"
        },
        "id": "VNDkr67moBmT",
        "outputId": "0cb8920c-8b1d-4638-92d3-281a21d1ac7d"
      },
      "source": [
        "# list of years \n",
        "# df_milexp_selected_countries.info()\n",
        "\n",
        "year_list = list(range(1949, 2021))\n",
        "print(year_list)\n",
        "\n",
        "# FIXED: turn integer list to string list\n",
        "string_ints = [str(int) for int in year_list] \n",
        "str_of_year = \",\". join(string_ints)\n",
        "print(str_of_year)"
      ],
      "execution_count": 307,
      "outputs": [
        {
          "output_type": "stream",
          "text": [
            "[1949, 1950, 1951, 1952, 1953, 1954, 1955, 1956, 1957, 1958, 1959, 1960, 1961, 1962, 1963, 1964, 1965, 1966, 1967, 1968, 1969, 1970, 1971, 1972, 1973, 1974, 1975, 1976, 1977, 1978, 1979, 1980, 1981, 1982, 1983, 1984, 1985, 1986, 1987, 1988, 1989, 1990, 1991, 1992, 1993, 1994, 1995, 1996, 1997, 1998, 1999, 2000, 2001, 2002, 2003, 2004, 2005, 2006, 2007, 2008, 2009, 2010, 2011, 2012, 2013, 2014, 2015, 2016, 2017, 2018, 2019, 2020]\n",
            "1949,1950,1951,1952,1953,1954,1955,1956,1957,1958,1959,1960,1961,1962,1963,1964,1965,1966,1967,1968,1969,1970,1971,1972,1973,1974,1975,1976,1977,1978,1979,1980,1981,1982,1983,1984,1985,1986,1987,1988,1989,1990,1991,1992,1993,1994,1995,1996,1997,1998,1999,2000,2001,2002,2003,2004,2005,2006,2007,2008,2009,2010,2011,2012,2013,2014,2015,2016,2017,2018,2019,2020\n"
          ],
          "name": "stdout"
        }
      ]
    },
    {
      "cell_type": "code",
      "metadata": {
        "id": "uNTRTz-CnYB2",
        "colab": {
          "base_uri": "https://localhost:8080/",
          "height": 202
        },
        "outputId": "049c21f9-5dcc-452f-c79f-5a8d11b971d1"
      },
      "source": [
        "# Melt the datafram \n",
        "df_milexp_melted = pd.melt(df_milexp_selected_countries, id_vars='Country', value_vars=str_of_year, value_name= 'value').sort_values('Country')\n",
        "df_milexp_melted.head(5)"
      ],
      "execution_count": 308,
      "outputs": [
        {
          "output_type": "execute_result",
          "data": {
            "text/html": [
              "<div>\n",
              "<style scoped>\n",
              "    .dataframe tbody tr th:only-of-type {\n",
              "        vertical-align: middle;\n",
              "    }\n",
              "\n",
              "    .dataframe tbody tr th {\n",
              "        vertical-align: top;\n",
              "    }\n",
              "\n",
              "    .dataframe thead th {\n",
              "        text-align: right;\n",
              "    }\n",
              "</style>\n",
              "<table border=\"1\" class=\"dataframe\">\n",
              "  <thead>\n",
              "    <tr style=\"text-align: right;\">\n",
              "      <th></th>\n",
              "      <th>Country</th>\n",
              "      <th>variable</th>\n",
              "      <th>value</th>\n",
              "    </tr>\n",
              "  </thead>\n",
              "  <tbody>\n",
              "    <tr>\n",
              "      <th>21</th>\n",
              "      <td>Afghanistan</td>\n",
              "      <td>2020</td>\n",
              "      <td>279.6</td>\n",
              "    </tr>\n",
              "    <tr>\n",
              "      <th>1</th>\n",
              "      <td>Angola</td>\n",
              "      <td>2020</td>\n",
              "      <td>993.6</td>\n",
              "    </tr>\n",
              "    <tr>\n",
              "      <th>27</th>\n",
              "      <td>Azerbaijan</td>\n",
              "      <td>2020</td>\n",
              "      <td>2237.8</td>\n",
              "    </tr>\n",
              "    <tr>\n",
              "      <th>28</th>\n",
              "      <td>Belarus</td>\n",
              "      <td>2020</td>\n",
              "      <td>844.5</td>\n",
              "    </tr>\n",
              "    <tr>\n",
              "      <th>2</th>\n",
              "      <td>Burundi</td>\n",
              "      <td>2020</td>\n",
              "      <td>67.5</td>\n",
              "    </tr>\n",
              "  </tbody>\n",
              "</table>\n",
              "</div>"
            ],
            "text/plain": [
              "        Country variable   value\n",
              "21  Afghanistan     2020   279.6\n",
              "1        Angola     2020   993.6\n",
              "27   Azerbaijan     2020  2237.8\n",
              "28      Belarus     2020   844.5\n",
              "2       Burundi     2020    67.5"
            ]
          },
          "metadata": {
            "tags": []
          },
          "execution_count": 308
        }
      ]
    },
    {
      "cell_type": "code",
      "metadata": {
        "colab": {
          "base_uri": "https://localhost:8080/",
          "height": 202
        },
        "id": "tCHynktHqVG0",
        "outputId": "204c03ab-f565-4f11-c9a2-ddcbc6043e5b"
      },
      "source": [
        "# Clean melted dataset: remove null\n",
        "df_milexp_melted = df_milexp_melted[df_milexp_melted['value'] != '. .']\n",
        "df_milexp_melted = df_milexp_melted[df_milexp_melted['value'] != 'xxx']\n",
        "df_milexp_melted = df_milexp_melted.rename(columns={'variable': 'Year', 'value': 'Expenditure'})\n",
        "\n",
        "df_milexp_melted.head()\n"
      ],
      "execution_count": 309,
      "outputs": [
        {
          "output_type": "execute_result",
          "data": {
            "text/html": [
              "<div>\n",
              "<style scoped>\n",
              "    .dataframe tbody tr th:only-of-type {\n",
              "        vertical-align: middle;\n",
              "    }\n",
              "\n",
              "    .dataframe tbody tr th {\n",
              "        vertical-align: top;\n",
              "    }\n",
              "\n",
              "    .dataframe thead th {\n",
              "        text-align: right;\n",
              "    }\n",
              "</style>\n",
              "<table border=\"1\" class=\"dataframe\">\n",
              "  <thead>\n",
              "    <tr style=\"text-align: right;\">\n",
              "      <th></th>\n",
              "      <th>Country</th>\n",
              "      <th>Year</th>\n",
              "      <th>Expenditure</th>\n",
              "    </tr>\n",
              "  </thead>\n",
              "  <tbody>\n",
              "    <tr>\n",
              "      <th>21</th>\n",
              "      <td>Afghanistan</td>\n",
              "      <td>2020</td>\n",
              "      <td>279.6</td>\n",
              "    </tr>\n",
              "    <tr>\n",
              "      <th>1</th>\n",
              "      <td>Angola</td>\n",
              "      <td>2020</td>\n",
              "      <td>993.6</td>\n",
              "    </tr>\n",
              "    <tr>\n",
              "      <th>27</th>\n",
              "      <td>Azerbaijan</td>\n",
              "      <td>2020</td>\n",
              "      <td>2237.8</td>\n",
              "    </tr>\n",
              "    <tr>\n",
              "      <th>28</th>\n",
              "      <td>Belarus</td>\n",
              "      <td>2020</td>\n",
              "      <td>844.5</td>\n",
              "    </tr>\n",
              "    <tr>\n",
              "      <th>2</th>\n",
              "      <td>Burundi</td>\n",
              "      <td>2020</td>\n",
              "      <td>67.5</td>\n",
              "    </tr>\n",
              "  </tbody>\n",
              "</table>\n",
              "</div>"
            ],
            "text/plain": [
              "        Country  Year Expenditure\n",
              "21  Afghanistan  2020       279.6\n",
              "1        Angola  2020       993.6\n",
              "27   Azerbaijan  2020      2237.8\n",
              "28      Belarus  2020       844.5\n",
              "2       Burundi  2020        67.5"
            ]
          },
          "metadata": {
            "tags": []
          },
          "execution_count": 309
        }
      ]
    },
    {
      "cell_type": "code",
      "metadata": {
        "id": "On51lcGStKiN"
      },
      "source": [
        "# Change Value from object to float \n",
        "df_milexp_melted['Expenditure'] = df_milexp_melted['Expenditure'].astype(float, errors = 'raise')"
      ],
      "execution_count": 310,
      "outputs": []
    },
    {
      "cell_type": "code",
      "metadata": {
        "colab": {
          "base_uri": "https://localhost:8080/"
        },
        "id": "-szC8bITs1ek",
        "outputId": "de63bb1c-0daa-4f05-cfe3-9e6a7f221169"
      },
      "source": [
        "df_milexp_melted.info()"
      ],
      "execution_count": 311,
      "outputs": [
        {
          "output_type": "stream",
          "text": [
            "<class 'pandas.core.frame.DataFrame'>\n",
            "Int64Index: 28 entries, 21 to 30\n",
            "Data columns (total 3 columns):\n",
            " #   Column       Non-Null Count  Dtype  \n",
            "---  ------       --------------  -----  \n",
            " 0   Country      28 non-null     object \n",
            " 1   Year         28 non-null     object \n",
            " 2   Expenditure  28 non-null     float64\n",
            "dtypes: float64(1), object(2)\n",
            "memory usage: 896.0+ bytes\n"
          ],
          "name": "stdout"
        }
      ]
    },
    {
      "cell_type": "markdown",
      "metadata": {
        "id": "o93SmMAxrDUe"
      },
      "source": [
        "# Bubble Plot of military expenditure to number of embargo for each country"
      ]
    },
    {
      "cell_type": "code",
      "metadata": {
        "colab": {
          "base_uri": "https://localhost:8080/",
          "height": 202
        },
        "id": "Wi_bWUq6q9NC",
        "outputId": "10eb72a9-18d8-44d8-b437-79e32e07ee12"
      },
      "source": [
        "# df_dept_fy_salary = df_dept.groupby([\"fiscalyear\", \"agencyname_only\"])[\"annualsalary\"].agg([\"mean\"]).reset_index()\n",
        "# Panda Groupby \n",
        "df_milexp_country_fy = df_milexp_melted.groupby([\"Year\", 'Country'])[\"Expenditure\"].agg('mean').reset_index()\n",
        "\n",
        "df_milexp_country_fy.head()"
      ],
      "execution_count": 351,
      "outputs": [
        {
          "output_type": "execute_result",
          "data": {
            "text/html": [
              "<div>\n",
              "<style scoped>\n",
              "    .dataframe tbody tr th:only-of-type {\n",
              "        vertical-align: middle;\n",
              "    }\n",
              "\n",
              "    .dataframe tbody tr th {\n",
              "        vertical-align: top;\n",
              "    }\n",
              "\n",
              "    .dataframe thead th {\n",
              "        text-align: right;\n",
              "    }\n",
              "</style>\n",
              "<table border=\"1\" class=\"dataframe\">\n",
              "  <thead>\n",
              "    <tr style=\"text-align: right;\">\n",
              "      <th></th>\n",
              "      <th>Country</th>\n",
              "      <th>Expenditure</th>\n",
              "    </tr>\n",
              "  </thead>\n",
              "  <tbody>\n",
              "    <tr>\n",
              "      <th>0</th>\n",
              "      <td>Afghanistan</td>\n",
              "      <td>279.6</td>\n",
              "    </tr>\n",
              "    <tr>\n",
              "      <th>1</th>\n",
              "      <td>Angola</td>\n",
              "      <td>993.6</td>\n",
              "    </tr>\n",
              "    <tr>\n",
              "      <th>2</th>\n",
              "      <td>Azerbaijan</td>\n",
              "      <td>2237.8</td>\n",
              "    </tr>\n",
              "    <tr>\n",
              "      <th>3</th>\n",
              "      <td>Belarus</td>\n",
              "      <td>844.5</td>\n",
              "    </tr>\n",
              "    <tr>\n",
              "      <th>4</th>\n",
              "      <td>Burundi</td>\n",
              "      <td>67.5</td>\n",
              "    </tr>\n",
              "  </tbody>\n",
              "</table>\n",
              "</div>"
            ],
            "text/plain": [
              "       Country  Expenditure\n",
              "0  Afghanistan        279.6\n",
              "1       Angola        993.6\n",
              "2   Azerbaijan       2237.8\n",
              "3      Belarus        844.5\n",
              "4      Burundi         67.5"
            ]
          },
          "metadata": {
            "tags": []
          },
          "execution_count": 351
        }
      ]
    },
    {
      "cell_type": "code",
      "metadata": {
        "colab": {
          "base_uri": "https://localhost:8080/",
          "height": 202
        },
        "id": "h3olGlzzvsru",
        "outputId": "9721cee0-bc7e-40f8-f13c-217d03a3498f"
      },
      "source": [
        "df_country_fy_embargo.head()"
      ],
      "execution_count": 352,
      "outputs": [
        {
          "output_type": "execute_result",
          "data": {
            "text/html": [
              "<div>\n",
              "<style scoped>\n",
              "    .dataframe tbody tr th:only-of-type {\n",
              "        vertical-align: middle;\n",
              "    }\n",
              "\n",
              "    .dataframe tbody tr th {\n",
              "        vertical-align: top;\n",
              "    }\n",
              "\n",
              "    .dataframe thead th {\n",
              "        text-align: right;\n",
              "    }\n",
              "</style>\n",
              "<table border=\"1\" class=\"dataframe\">\n",
              "  <thead>\n",
              "    <tr style=\"text-align: right;\">\n",
              "      <th></th>\n",
              "      <th>Year</th>\n",
              "      <th>Country</th>\n",
              "      <th>count</th>\n",
              "    </tr>\n",
              "  </thead>\n",
              "  <tbody>\n",
              "    <tr>\n",
              "      <th>0</th>\n",
              "      <td>1977.0</td>\n",
              "      <td>South Africa</td>\n",
              "      <td>1</td>\n",
              "    </tr>\n",
              "    <tr>\n",
              "      <th>1</th>\n",
              "      <td>1986.0</td>\n",
              "      <td>Libya</td>\n",
              "      <td>1</td>\n",
              "    </tr>\n",
              "    <tr>\n",
              "      <th>2</th>\n",
              "      <td>1986.0</td>\n",
              "      <td>Syria</td>\n",
              "      <td>1</td>\n",
              "    </tr>\n",
              "    <tr>\n",
              "      <th>3</th>\n",
              "      <td>1989.0</td>\n",
              "      <td>China</td>\n",
              "      <td>1</td>\n",
              "    </tr>\n",
              "    <tr>\n",
              "      <th>4</th>\n",
              "      <td>1990.0</td>\n",
              "      <td>Iraq</td>\n",
              "      <td>2</td>\n",
              "    </tr>\n",
              "  </tbody>\n",
              "</table>\n",
              "</div>"
            ],
            "text/plain": [
              "     Year       Country  count\n",
              "0  1977.0  South Africa      1\n",
              "1  1986.0         Libya      1\n",
              "2  1986.0         Syria      1\n",
              "3  1989.0         China      1\n",
              "4  1990.0          Iraq      2"
            ]
          },
          "metadata": {
            "tags": []
          },
          "execution_count": 352
        }
      ]
    },
    {
      "cell_type": "code",
      "metadata": {
        "colab": {
          "base_uri": "https://localhost:8080/"
        },
        "id": "W_NnQRSJRYyn",
        "outputId": "ecfb7d68-7649-4d6d-eea9-bd2573872591"
      },
      "source": [
        "# FIXED: Here df_country_fy_embargo's Year is a float, we need to turn it into an object\n",
        "df_country_fy_embargo['Year'] = df_country_fy_embargo['Year'].astype(str)\n",
        "df_country_fy_embargo.info()\n"
      ],
      "execution_count": 318,
      "outputs": [
        {
          "output_type": "stream",
          "text": [
            "<class 'pandas.core.frame.DataFrame'>\n",
            "Int64Index: 64 entries, 0 to 63\n",
            "Data columns (total 3 columns):\n",
            " #   Column   Non-Null Count  Dtype \n",
            "---  ------   --------------  ----- \n",
            " 0   Year     64 non-null     object\n",
            " 1   Country  64 non-null     object\n",
            " 2   count    64 non-null     int64 \n",
            "dtypes: int64(1), object(2)\n",
            "memory usage: 2.0+ KB\n"
          ],
          "name": "stdout"
        }
      ]
    },
    {
      "cell_type": "code",
      "metadata": {
        "colab": {
          "base_uri": "https://localhost:8080/",
          "height": 202
        },
        "id": "Wb9wrAhkifAC",
        "outputId": "7504cd24-9e83-4a35-ccf7-4c418e324a82"
      },
      "source": [
        "df_country_embargo = df_country_embargo.rename(columns= {\"sum\": \"num_embargoes\"})\n",
        "df_country_embargo.head()\n"
      ],
      "execution_count": 365,
      "outputs": [
        {
          "output_type": "execute_result",
          "data": {
            "text/html": [
              "<div>\n",
              "<style scoped>\n",
              "    .dataframe tbody tr th:only-of-type {\n",
              "        vertical-align: middle;\n",
              "    }\n",
              "\n",
              "    .dataframe tbody tr th {\n",
              "        vertical-align: top;\n",
              "    }\n",
              "\n",
              "    .dataframe thead th {\n",
              "        text-align: right;\n",
              "    }\n",
              "</style>\n",
              "<table border=\"1\" class=\"dataframe\">\n",
              "  <thead>\n",
              "    <tr style=\"text-align: right;\">\n",
              "      <th></th>\n",
              "      <th>Country</th>\n",
              "      <th>num_embargoes</th>\n",
              "    </tr>\n",
              "  </thead>\n",
              "  <tbody>\n",
              "    <tr>\n",
              "      <th>0</th>\n",
              "      <td>Afghanistan</td>\n",
              "      <td>4</td>\n",
              "    </tr>\n",
              "    <tr>\n",
              "      <th>1</th>\n",
              "      <td>Al-Qaeda, Taliban, Osama Bin Laden</td>\n",
              "      <td>1</td>\n",
              "    </tr>\n",
              "    <tr>\n",
              "      <th>2</th>\n",
              "      <td>Angola</td>\n",
              "      <td>1</td>\n",
              "    </tr>\n",
              "    <tr>\n",
              "      <th>3</th>\n",
              "      <td>Azerbaijan</td>\n",
              "      <td>2</td>\n",
              "    </tr>\n",
              "    <tr>\n",
              "      <th>4</th>\n",
              "      <td>Belarus</td>\n",
              "      <td>1</td>\n",
              "    </tr>\n",
              "  </tbody>\n",
              "</table>\n",
              "</div>"
            ],
            "text/plain": [
              "                              Country  num_embargoes\n",
              "0                         Afghanistan              4\n",
              "1  Al-Qaeda, Taliban, Osama Bin Laden              1\n",
              "2                              Angola              1\n",
              "3                          Azerbaijan              2\n",
              "4                             Belarus              1"
            ]
          },
          "metadata": {
            "tags": []
          },
          "execution_count": 365
        }
      ]
    },
    {
      "cell_type": "code",
      "metadata": {
        "colab": {
          "base_uri": "https://localhost:8080/",
          "height": 202
        },
        "id": "t_tzjMWFu0Iz",
        "outputId": "3f1b2259-3934-4449-9d00-a018629c05f4"
      },
      "source": [
        "# Merge Two dataset on country: year, country, value, count of embargo, (size of country) \n",
        "df_merged = pd.merge(df_milexp_country_fy, \n",
        "                          df_country_embargo[[\"Country\", \"num_embargoes\"]], \n",
        "                          how = \"left\", \n",
        "                          on = [\"Country\"])\n",
        "\n",
        "df_merged.head(5)"
      ],
      "execution_count": 370,
      "outputs": [
        {
          "output_type": "execute_result",
          "data": {
            "text/html": [
              "<div>\n",
              "<style scoped>\n",
              "    .dataframe tbody tr th:only-of-type {\n",
              "        vertical-align: middle;\n",
              "    }\n",
              "\n",
              "    .dataframe tbody tr th {\n",
              "        vertical-align: top;\n",
              "    }\n",
              "\n",
              "    .dataframe thead th {\n",
              "        text-align: right;\n",
              "    }\n",
              "</style>\n",
              "<table border=\"1\" class=\"dataframe\">\n",
              "  <thead>\n",
              "    <tr style=\"text-align: right;\">\n",
              "      <th></th>\n",
              "      <th>Country</th>\n",
              "      <th>Expenditure</th>\n",
              "      <th>num_embargoes</th>\n",
              "    </tr>\n",
              "  </thead>\n",
              "  <tbody>\n",
              "    <tr>\n",
              "      <th>0</th>\n",
              "      <td>Afghanistan</td>\n",
              "      <td>279.6</td>\n",
              "      <td>4</td>\n",
              "    </tr>\n",
              "    <tr>\n",
              "      <th>1</th>\n",
              "      <td>Angola</td>\n",
              "      <td>993.6</td>\n",
              "      <td>1</td>\n",
              "    </tr>\n",
              "    <tr>\n",
              "      <th>2</th>\n",
              "      <td>Azerbaijan</td>\n",
              "      <td>2237.8</td>\n",
              "      <td>2</td>\n",
              "    </tr>\n",
              "    <tr>\n",
              "      <th>3</th>\n",
              "      <td>Belarus</td>\n",
              "      <td>844.5</td>\n",
              "      <td>1</td>\n",
              "    </tr>\n",
              "    <tr>\n",
              "      <th>4</th>\n",
              "      <td>Burundi</td>\n",
              "      <td>67.5</td>\n",
              "      <td>1</td>\n",
              "    </tr>\n",
              "  </tbody>\n",
              "</table>\n",
              "</div>"
            ],
            "text/plain": [
              "       Country  Expenditure  num_embargoes\n",
              "0  Afghanistan        279.6              4\n",
              "1       Angola        993.6              1\n",
              "2   Azerbaijan       2237.8              2\n",
              "3      Belarus        844.5              1\n",
              "4      Burundi         67.5              1"
            ]
          },
          "metadata": {
            "tags": []
          },
          "execution_count": 370
        }
      ]
    },
    {
      "cell_type": "code",
      "metadata": {
        "id": "dirILMKo3kQw",
        "colab": {
          "base_uri": "https://localhost:8080/",
          "height": 202
        },
        "outputId": "093c2855-efba-407f-db51-bee63bfede99"
      },
      "source": [
        "# only selected country with arm embargo \n",
        "df_merged_selected = df_merged.dropna()\n",
        "\n",
        "df_merged_selected.head(5)"
      ],
      "execution_count": 371,
      "outputs": [
        {
          "output_type": "execute_result",
          "data": {
            "text/html": [
              "<div>\n",
              "<style scoped>\n",
              "    .dataframe tbody tr th:only-of-type {\n",
              "        vertical-align: middle;\n",
              "    }\n",
              "\n",
              "    .dataframe tbody tr th {\n",
              "        vertical-align: top;\n",
              "    }\n",
              "\n",
              "    .dataframe thead th {\n",
              "        text-align: right;\n",
              "    }\n",
              "</style>\n",
              "<table border=\"1\" class=\"dataframe\">\n",
              "  <thead>\n",
              "    <tr style=\"text-align: right;\">\n",
              "      <th></th>\n",
              "      <th>Country</th>\n",
              "      <th>Expenditure</th>\n",
              "      <th>num_embargoes</th>\n",
              "    </tr>\n",
              "  </thead>\n",
              "  <tbody>\n",
              "    <tr>\n",
              "      <th>0</th>\n",
              "      <td>Afghanistan</td>\n",
              "      <td>279.6</td>\n",
              "      <td>4</td>\n",
              "    </tr>\n",
              "    <tr>\n",
              "      <th>1</th>\n",
              "      <td>Angola</td>\n",
              "      <td>993.6</td>\n",
              "      <td>1</td>\n",
              "    </tr>\n",
              "    <tr>\n",
              "      <th>2</th>\n",
              "      <td>Azerbaijan</td>\n",
              "      <td>2237.8</td>\n",
              "      <td>2</td>\n",
              "    </tr>\n",
              "    <tr>\n",
              "      <th>3</th>\n",
              "      <td>Belarus</td>\n",
              "      <td>844.5</td>\n",
              "      <td>1</td>\n",
              "    </tr>\n",
              "    <tr>\n",
              "      <th>4</th>\n",
              "      <td>Burundi</td>\n",
              "      <td>67.5</td>\n",
              "      <td>1</td>\n",
              "    </tr>\n",
              "  </tbody>\n",
              "</table>\n",
              "</div>"
            ],
            "text/plain": [
              "       Country  Expenditure  num_embargoes\n",
              "0  Afghanistan        279.6              4\n",
              "1       Angola        993.6              1\n",
              "2   Azerbaijan       2237.8              2\n",
              "3      Belarus        844.5              1\n",
              "4      Burundi         67.5              1"
            ]
          },
          "metadata": {
            "tags": []
          },
          "execution_count": 371
        }
      ]
    },
    {
      "cell_type": "code",
      "metadata": {
        "colab": {
          "base_uri": "https://localhost:8080/",
          "height": 202
        },
        "id": "s4Ps2uHE6mFF",
        "outputId": "d93e7356-a6af-446e-b95f-ee65c58f982a"
      },
      "source": [
        "# Merge world population in 2020 to each country here \n",
        "df_merged_selected_pop = pd.merge(df_merged_selected, \n",
        "                          df_population[[\"Country\", \"PopTotal\"]], \n",
        "                          how = \"left\", \n",
        "                          on = [\"Country\"])\n",
        "\n",
        "df_merged_selected_pop.head(5)"
      ],
      "execution_count": 372,
      "outputs": [
        {
          "output_type": "execute_result",
          "data": {
            "text/html": [
              "<div>\n",
              "<style scoped>\n",
              "    .dataframe tbody tr th:only-of-type {\n",
              "        vertical-align: middle;\n",
              "    }\n",
              "\n",
              "    .dataframe tbody tr th {\n",
              "        vertical-align: top;\n",
              "    }\n",
              "\n",
              "    .dataframe thead th {\n",
              "        text-align: right;\n",
              "    }\n",
              "</style>\n",
              "<table border=\"1\" class=\"dataframe\">\n",
              "  <thead>\n",
              "    <tr style=\"text-align: right;\">\n",
              "      <th></th>\n",
              "      <th>Country</th>\n",
              "      <th>Expenditure</th>\n",
              "      <th>num_embargoes</th>\n",
              "      <th>PopTotal</th>\n",
              "    </tr>\n",
              "  </thead>\n",
              "  <tbody>\n",
              "    <tr>\n",
              "      <th>0</th>\n",
              "      <td>Afghanistan</td>\n",
              "      <td>279.6</td>\n",
              "      <td>4</td>\n",
              "      <td>38928.341</td>\n",
              "    </tr>\n",
              "    <tr>\n",
              "      <th>1</th>\n",
              "      <td>Angola</td>\n",
              "      <td>993.6</td>\n",
              "      <td>1</td>\n",
              "      <td>32866.268</td>\n",
              "    </tr>\n",
              "    <tr>\n",
              "      <th>2</th>\n",
              "      <td>Azerbaijan</td>\n",
              "      <td>2237.8</td>\n",
              "      <td>2</td>\n",
              "      <td>10139.175</td>\n",
              "    </tr>\n",
              "    <tr>\n",
              "      <th>3</th>\n",
              "      <td>Belarus</td>\n",
              "      <td>844.5</td>\n",
              "      <td>1</td>\n",
              "      <td>9449.321</td>\n",
              "    </tr>\n",
              "    <tr>\n",
              "      <th>4</th>\n",
              "      <td>Burundi</td>\n",
              "      <td>67.5</td>\n",
              "      <td>1</td>\n",
              "      <td>11890.781</td>\n",
              "    </tr>\n",
              "  </tbody>\n",
              "</table>\n",
              "</div>"
            ],
            "text/plain": [
              "       Country  Expenditure  num_embargoes   PopTotal\n",
              "0  Afghanistan        279.6              4  38928.341\n",
              "1       Angola        993.6              1  32866.268\n",
              "2   Azerbaijan       2237.8              2  10139.175\n",
              "3      Belarus        844.5              1   9449.321\n",
              "4      Burundi         67.5              1  11890.781"
            ]
          },
          "metadata": {
            "tags": []
          },
          "execution_count": 372
        }
      ]
    },
    {
      "cell_type": "code",
      "metadata": {
        "id": "tXI4YUcf0JFs"
      },
      "source": [
        "# scatter or bubble plot \n",
        "milexp_embargo_bubble = px.scatter(df_merged_selected_pop, \n",
        "                                      x = \"Expenditure\", \n",
        "                                      y = \"num_embargoes\", \n",
        "                                      color = \"Country\", \n",
        "                                      hover_name=\"Country\", \n",
        "                                      size = \"PopTotal\",\n",
        "                                      title = \"Average Annual Military Expenditure VS. Number of Arms Embargoes\")"
      ],
      "execution_count": 374,
      "outputs": []
    },
    {
      "cell_type": "code",
      "metadata": {
        "colab": {
          "base_uri": "https://localhost:8080/",
          "height": 542
        },
        "id": "UIbWmNzv03kd",
        "outputId": "54bf54dc-e698-4972-c32c-c4cd4929c03d"
      },
      "source": [
        "milexp_embargo_bubble"
      ],
      "execution_count": 375,
      "outputs": [
        {
          "output_type": "display_data",
          "data": {
            "text/html": [
              "<html>\n",
              "<head><meta charset=\"utf-8\" /></head>\n",
              "<body>\n",
              "    <div>\n",
              "            <script src=\"https://cdnjs.cloudflare.com/ajax/libs/mathjax/2.7.5/MathJax.js?config=TeX-AMS-MML_SVG\"></script><script type=\"text/javascript\">if (window.MathJax) {MathJax.Hub.Config({SVG: {font: \"STIX-Web\"}});}</script>\n",
              "                <script type=\"text/javascript\">window.PlotlyConfig = {MathJaxConfig: 'local'};</script>\n",
              "        <script src=\"https://cdn.plot.ly/plotly-latest.min.js\"></script>    \n",
              "            <div id=\"107a2148-4c2b-451e-ac50-a7f4436343b1\" class=\"plotly-graph-div\" style=\"height:525px; width:100%;\"></div>\n",
              "            <script type=\"text/javascript\">\n",
              "                \n",
              "                    window.PLOTLYENV=window.PLOTLYENV || {};\n",
              "                    \n",
              "                if (document.getElementById(\"107a2148-4c2b-451e-ac50-a7f4436343b1\")) {\n",
              "                    Plotly.newPlot(\n",
              "                        '107a2148-4c2b-451e-ac50-a7f4436343b1',\n",
              "                        [{\"hoverlabel\": {\"namelength\": 0}, \"hovertemplate\": \"<b>%{hovertext}</b><br><br>Country=Afghanistan<br>Expenditure=%{x}<br>num_embargoes=%{y}<br>PopTotal=%{marker.size}\", \"hovertext\": [\"Afghanistan\"], \"legendgroup\": \"Country=Afghanistan\", \"marker\": {\"color\": \"#636efa\", \"size\": [38928.341], \"sizemode\": \"area\", \"sizeref\": 3598.309435, \"symbol\": \"circle\"}, \"mode\": \"markers\", \"name\": \"Country=Afghanistan\", \"showlegend\": true, \"type\": \"scatter\", \"x\": [279.6], \"xaxis\": \"x\", \"y\": [4], \"yaxis\": \"y\"}, {\"hoverlabel\": {\"namelength\": 0}, \"hovertemplate\": \"<b>%{hovertext}</b><br><br>Country=Angola<br>Expenditure=%{x}<br>num_embargoes=%{y}<br>PopTotal=%{marker.size}\", \"hovertext\": [\"Angola\"], \"legendgroup\": \"Country=Angola\", \"marker\": {\"color\": \"#EF553B\", \"size\": [32866.268], \"sizemode\": \"area\", \"sizeref\": 3598.309435, \"symbol\": \"circle\"}, \"mode\": \"markers\", \"name\": \"Country=Angola\", \"showlegend\": true, \"type\": \"scatter\", \"x\": [993.6], \"xaxis\": \"x\", \"y\": [1], \"yaxis\": \"y\"}, {\"hoverlabel\": {\"namelength\": 0}, \"hovertemplate\": \"<b>%{hovertext}</b><br><br>Country=Azerbaijan<br>Expenditure=%{x}<br>num_embargoes=%{y}<br>PopTotal=%{marker.size}\", \"hovertext\": [\"Azerbaijan\"], \"legendgroup\": \"Country=Azerbaijan\", \"marker\": {\"color\": \"#00cc96\", \"size\": [10139.175], \"sizemode\": \"area\", \"sizeref\": 3598.309435, \"symbol\": \"circle\"}, \"mode\": \"markers\", \"name\": \"Country=Azerbaijan\", \"showlegend\": true, \"type\": \"scatter\", \"x\": [2237.8], \"xaxis\": \"x\", \"y\": [2], \"yaxis\": \"y\"}, {\"hoverlabel\": {\"namelength\": 0}, \"hovertemplate\": \"<b>%{hovertext}</b><br><br>Country=Belarus<br>Expenditure=%{x}<br>num_embargoes=%{y}<br>PopTotal=%{marker.size}\", \"hovertext\": [\"Belarus\"], \"legendgroup\": \"Country=Belarus\", \"marker\": {\"color\": \"#ab63fa\", \"size\": [9449.321], \"sizemode\": \"area\", \"sizeref\": 3598.309435, \"symbol\": \"circle\"}, \"mode\": \"markers\", \"name\": \"Country=Belarus\", \"showlegend\": true, \"type\": \"scatter\", \"x\": [844.5], \"xaxis\": \"x\", \"y\": [1], \"yaxis\": \"y\"}, {\"hoverlabel\": {\"namelength\": 0}, \"hovertemplate\": \"<b>%{hovertext}</b><br><br>Country=Burundi<br>Expenditure=%{x}<br>num_embargoes=%{y}<br>PopTotal=%{marker.size}\", \"hovertext\": [\"Burundi\"], \"legendgroup\": \"Country=Burundi\", \"marker\": {\"color\": \"#FFA15A\", \"size\": [11890.781], \"sizemode\": \"area\", \"sizeref\": 3598.309435, \"symbol\": \"circle\"}, \"mode\": \"markers\", \"name\": \"Country=Burundi\", \"showlegend\": true, \"type\": \"scatter\", \"x\": [67.5], \"xaxis\": \"x\", \"y\": [1], \"yaxis\": \"y\"}, {\"hoverlabel\": {\"namelength\": 0}, \"hovertemplate\": \"<b>%{hovertext}</b><br><br>Country=Central African Rep.<br>Expenditure=%{x}<br>num_embargoes=%{y}<br>PopTotal=%{marker.size}\", \"hovertext\": [\"Central African Rep.\"], \"legendgroup\": \"Country=Central African Rep.\", \"marker\": {\"color\": \"#19d3f3\", \"size\": [4829.764], \"sizemode\": \"area\", \"sizeref\": 3598.309435, \"symbol\": \"circle\"}, \"mode\": \"markers\", \"name\": \"Country=Central African Rep.\", \"showlegend\": true, \"type\": \"scatter\", \"x\": [41.3], \"xaxis\": \"x\", \"y\": [1], \"yaxis\": \"y\"}, {\"hoverlabel\": {\"namelength\": 0}, \"hovertemplate\": \"<b>%{hovertext}</b><br><br>Country=China<br>Expenditure=%{x}<br>num_embargoes=%{y}<br>PopTotal=%{marker.size}\", \"hovertext\": [\"China\"], \"legendgroup\": \"Country=China\", \"marker\": {\"color\": \"#FF6692\", \"size\": [1439323.774], \"sizemode\": \"area\", \"sizeref\": 3598.309435, \"symbol\": \"circle\"}, \"mode\": \"markers\", \"name\": \"Country=China\", \"showlegend\": true, \"type\": \"scatter\", \"x\": [252304.2], \"xaxis\": \"x\", \"y\": [1], \"yaxis\": \"y\"}, {\"hoverlabel\": {\"namelength\": 0}, \"hovertemplate\": \"<b>%{hovertext}</b><br><br>Country=Croatia<br>Expenditure=%{x}<br>num_embargoes=%{y}<br>PopTotal=%{marker.size}\", \"hovertext\": [\"Croatia\"], \"legendgroup\": \"Country=Croatia\", \"marker\": {\"color\": \"#B6E880\", \"size\": [4105.268], \"sizemode\": \"area\", \"sizeref\": 3598.309435, \"symbol\": \"circle\"}, \"mode\": \"markers\", \"name\": \"Country=Croatia\", \"showlegend\": true, \"type\": \"scatter\", \"x\": [1034.9], \"xaxis\": \"x\", \"y\": [1], \"yaxis\": \"y\"}, {\"hoverlabel\": {\"namelength\": 0}, \"hovertemplate\": \"<b>%{hovertext}</b><br><br>Country=Egypt<br>Expenditure=%{x}<br>num_embargoes=%{y}<br>PopTotal=%{marker.size}\", \"hovertext\": [\"Egypt\"], \"legendgroup\": \"Country=Egypt\", \"marker\": {\"color\": \"#FF97FF\", \"size\": [102334.403], \"sizemode\": \"area\", \"sizeref\": 3598.309435, \"symbol\": \"circle\"}, \"mode\": \"markers\", \"name\": \"Country=Egypt\", \"showlegend\": true, \"type\": \"scatter\", \"x\": [4505.4], \"xaxis\": \"x\", \"y\": [1], \"yaxis\": \"y\"}, {\"hoverlabel\": {\"namelength\": 0}, \"hovertemplate\": \"<b>%{hovertext}</b><br><br>Country=Ethiopia<br>Expenditure=%{x}<br>num_embargoes=%{y}<br>PopTotal=%{marker.size}\", \"hovertext\": [\"Ethiopia\"], \"legendgroup\": \"Country=Ethiopia\", \"marker\": {\"color\": \"#FECB52\", \"size\": [114963.58300000001], \"sizemode\": \"area\", \"sizeref\": 3598.309435, \"symbol\": \"circle\"}, \"mode\": \"markers\", \"name\": \"Country=Ethiopia\", \"showlegend\": true, \"type\": \"scatter\", \"x\": [461.3], \"xaxis\": \"x\", \"y\": [3], \"yaxis\": \"y\"}, {\"hoverlabel\": {\"namelength\": 0}, \"hovertemplate\": \"<b>%{hovertext}</b><br><br>Country=Guinea<br>Expenditure=%{x}<br>num_embargoes=%{y}<br>PopTotal=%{marker.size}\", \"hovertext\": [\"Guinea\"], \"legendgroup\": \"Country=Guinea\", \"marker\": {\"color\": \"#636efa\", \"size\": [13132.792], \"sizemode\": \"area\", \"sizeref\": 3598.309435, \"symbol\": \"circle\"}, \"mode\": \"markers\", \"name\": \"Country=Guinea\", \"showlegend\": true, \"type\": \"scatter\", \"x\": [209.7], \"xaxis\": \"x\", \"y\": [2], \"yaxis\": \"y\"}, {\"hoverlabel\": {\"namelength\": 0}, \"hovertemplate\": \"<b>%{hovertext}</b><br><br>Country=Haiti<br>Expenditure=%{x}<br>num_embargoes=%{y}<br>PopTotal=%{marker.size}\", \"hovertext\": [\"Haiti\"], \"legendgroup\": \"Country=Haiti\", \"marker\": {\"color\": \"#EF553B\", \"size\": [11402.533000000001], \"sizemode\": \"area\", \"sizeref\": 3598.309435, \"symbol\": \"circle\"}, \"mode\": \"markers\", \"name\": \"Country=Haiti\", \"showlegend\": true, \"type\": \"scatter\", \"x\": [0.3], \"xaxis\": \"x\", \"y\": [1], \"yaxis\": \"y\"}, {\"hoverlabel\": {\"namelength\": 0}, \"hovertemplate\": \"<b>%{hovertext}</b><br><br>Country=Indonesia<br>Expenditure=%{x}<br>num_embargoes=%{y}<br>PopTotal=%{marker.size}\", \"hovertext\": [\"Indonesia\"], \"legendgroup\": \"Country=Indonesia\", \"marker\": {\"color\": \"#00cc96\", \"size\": [273523.62100000004], \"sizemode\": \"area\", \"sizeref\": 3598.309435, \"symbol\": \"circle\"}, \"mode\": \"markers\", \"name\": \"Country=Indonesia\", \"showlegend\": true, \"type\": \"scatter\", \"x\": [9395.5], \"xaxis\": \"x\", \"y\": [1], \"yaxis\": \"y\"}, {\"hoverlabel\": {\"namelength\": 0}, \"hovertemplate\": \"<b>%{hovertext}</b><br><br>Country=Iran<br>Expenditure=%{x}<br>num_embargoes=%{y}<br>PopTotal=%{marker.size}\", \"hovertext\": [\"Iran\"], \"legendgroup\": \"Country=Iran\", \"marker\": {\"color\": \"#ab63fa\", \"size\": [83992.95300000001], \"sizemode\": \"area\", \"sizeref\": 3598.309435, \"symbol\": \"circle\"}, \"mode\": \"markers\", \"name\": \"Country=Iran\", \"showlegend\": true, \"type\": \"scatter\", \"x\": [15825.1], \"xaxis\": \"x\", \"y\": [2], \"yaxis\": \"y\"}, {\"hoverlabel\": {\"namelength\": 0}, \"hovertemplate\": \"<b>%{hovertext}</b><br><br>Country=Iraq<br>Expenditure=%{x}<br>num_embargoes=%{y}<br>PopTotal=%{marker.size}\", \"hovertext\": [\"Iraq\"], \"legendgroup\": \"Country=Iraq\", \"marker\": {\"color\": \"#FFA15A\", \"size\": [40222.503], \"sizemode\": \"area\", \"sizeref\": 3598.309435, \"symbol\": \"circle\"}, \"mode\": \"markers\", \"name\": \"Country=Iraq\", \"showlegend\": true, \"type\": \"scatter\", \"x\": [7015.6], \"xaxis\": \"x\", \"y\": [2], \"yaxis\": \"y\"}, {\"hoverlabel\": {\"namelength\": 0}, \"hovertemplate\": \"<b>%{hovertext}</b><br><br>Country=Lebanon<br>Expenditure=%{x}<br>num_embargoes=%{y}<br>PopTotal=%{marker.size}\", \"hovertext\": [\"Lebanon\"], \"legendgroup\": \"Country=Lebanon\", \"marker\": {\"color\": \"#19d3f3\", \"size\": [6825.441999999999], \"sizemode\": \"area\", \"sizeref\": 3598.309435, \"symbol\": \"circle\"}, \"mode\": \"markers\", \"name\": \"Country=Lebanon\", \"showlegend\": true, \"type\": \"scatter\", \"x\": [1921.4], \"xaxis\": \"x\", \"y\": [2], \"yaxis\": \"y\"}, {\"hoverlabel\": {\"namelength\": 0}, \"hovertemplate\": \"<b>%{hovertext}</b><br><br>Country=Liberia<br>Expenditure=%{x}<br>num_embargoes=%{y}<br>PopTotal=%{marker.size}\", \"hovertext\": [\"Liberia\"], \"legendgroup\": \"Country=Liberia\", \"marker\": {\"color\": \"#FF6692\", \"size\": [5057.677], \"sizemode\": \"area\", \"sizeref\": 3598.309435, \"symbol\": \"circle\"}, \"mode\": \"markers\", \"name\": \"Country=Liberia\", \"showlegend\": true, \"type\": \"scatter\", \"x\": [16.9], \"xaxis\": \"x\", \"y\": [2], \"yaxis\": \"y\"}, {\"hoverlabel\": {\"namelength\": 0}, \"hovertemplate\": \"<b>%{hovertext}</b><br><br>Country=Myanmar<br>Expenditure=%{x}<br>num_embargoes=%{y}<br>PopTotal=%{marker.size}\", \"hovertext\": [\"Myanmar\"], \"legendgroup\": \"Country=Myanmar\", \"marker\": {\"color\": \"#B6E880\", \"size\": [54409.794], \"sizemode\": \"area\", \"sizeref\": 3598.309435, \"symbol\": \"circle\"}, \"mode\": \"markers\", \"name\": \"Country=Myanmar\", \"showlegend\": true, \"type\": \"scatter\", \"x\": [2445.8], \"xaxis\": \"x\", \"y\": [1], \"yaxis\": \"y\"}, {\"hoverlabel\": {\"namelength\": 0}, \"hovertemplate\": \"<b>%{hovertext}</b><br><br>Country=Nigeria<br>Expenditure=%{x}<br>num_embargoes=%{y}<br>PopTotal=%{marker.size}\", \"hovertext\": [\"Nigeria\"], \"legendgroup\": \"Country=Nigeria\", \"marker\": {\"color\": \"#FF97FF\", \"size\": [206139.587], \"sizemode\": \"area\", \"sizeref\": 3598.309435, \"symbol\": \"circle\"}, \"mode\": \"markers\", \"name\": \"Country=Nigeria\", \"showlegend\": true, \"type\": \"scatter\", \"x\": [2567.9], \"xaxis\": \"x\", \"y\": [2], \"yaxis\": \"y\"}, {\"hoverlabel\": {\"namelength\": 0}, \"hovertemplate\": \"<b>%{hovertext}</b><br><br>Country=Russia<br>Expenditure=%{x}<br>num_embargoes=%{y}<br>PopTotal=%{marker.size}\", \"hovertext\": [\"Russia\"], \"legendgroup\": \"Country=Russia\", \"marker\": {\"color\": \"#FECB52\", \"size\": [145934.46], \"sizemode\": \"area\", \"sizeref\": 3598.309435, \"symbol\": \"circle\"}, \"mode\": \"markers\", \"name\": \"Country=Russia\", \"showlegend\": true, \"type\": \"scatter\", \"x\": [61712.5], \"xaxis\": \"x\", \"y\": [1], \"yaxis\": \"y\"}, {\"hoverlabel\": {\"namelength\": 0}, \"hovertemplate\": \"<b>%{hovertext}</b><br><br>Country=Rwanda<br>Expenditure=%{x}<br>num_embargoes=%{y}<br>PopTotal=%{marker.size}\", \"hovertext\": [\"Rwanda\"], \"legendgroup\": \"Country=Rwanda\", \"marker\": {\"color\": \"#636efa\", \"size\": [12952.208999999999], \"sizemode\": \"area\", \"sizeref\": 3598.309435, \"symbol\": \"circle\"}, \"mode\": \"markers\", \"name\": \"Country=Rwanda\", \"showlegend\": true, \"type\": \"scatter\", \"x\": [143.0], \"xaxis\": \"x\", \"y\": [1], \"yaxis\": \"y\"}, {\"hoverlabel\": {\"namelength\": 0}, \"hovertemplate\": \"<b>%{hovertext}</b><br><br>Country=Sierra Leone<br>Expenditure=%{x}<br>num_embargoes=%{y}<br>PopTotal=%{marker.size}\", \"hovertext\": [\"Sierra Leone\"], \"legendgroup\": \"Country=Sierra Leone\", \"marker\": {\"color\": \"#EF553B\", \"size\": [7976.985], \"sizemode\": \"area\", \"sizeref\": 3598.309435, \"symbol\": \"circle\"}, \"mode\": \"markers\", \"name\": \"Country=Sierra Leone\", \"showlegend\": true, \"type\": \"scatter\", \"x\": [23.8], \"xaxis\": \"x\", \"y\": [2], \"yaxis\": \"y\"}, {\"hoverlabel\": {\"namelength\": 0}, \"hovertemplate\": \"<b>%{hovertext}</b><br><br>Country=Slovenia<br>Expenditure=%{x}<br>num_embargoes=%{y}<br>PopTotal=%{marker.size}\", \"hovertext\": [\"Slovenia\"], \"legendgroup\": \"Country=Slovenia\", \"marker\": {\"color\": \"#00cc96\", \"size\": [2078.9320000000002], \"sizemode\": \"area\", \"sizeref\": 3598.309435, \"symbol\": \"circle\"}, \"mode\": \"markers\", \"name\": \"Country=Slovenia\", \"showlegend\": true, \"type\": \"scatter\", \"x\": [574.8], \"xaxis\": \"x\", \"y\": [1], \"yaxis\": \"y\"}, {\"hoverlabel\": {\"namelength\": 0}, \"hovertemplate\": \"<b>%{hovertext}</b><br><br>Country=Somalia<br>Expenditure=%{x}<br>num_embargoes=%{y}<br>PopTotal=%{marker.size}\", \"hovertext\": [\"Somalia\"], \"legendgroup\": \"Country=Somalia\", \"marker\": {\"color\": \"#ab63fa\", \"size\": [15893.219], \"sizemode\": \"area\", \"sizeref\": 3598.309435, \"symbol\": \"circle\"}, \"mode\": \"markers\", \"name\": \"Country=Somalia\", \"showlegend\": true, \"type\": \"scatter\", \"x\": [98.4], \"xaxis\": \"x\", \"y\": [2], \"yaxis\": \"y\"}, {\"hoverlabel\": {\"namelength\": 0}, \"hovertemplate\": \"<b>%{hovertext}</b><br><br>Country=South Africa<br>Expenditure=%{x}<br>num_embargoes=%{y}<br>PopTotal=%{marker.size}\", \"hovertext\": [\"South Africa\"], \"legendgroup\": \"Country=South Africa\", \"marker\": {\"color\": \"#FFA15A\", \"size\": [59308.69], \"sizemode\": \"area\", \"sizeref\": 3598.309435, \"symbol\": \"circle\"}, \"mode\": \"markers\", \"name\": \"Country=South Africa\", \"showlegend\": true, \"type\": \"scatter\", \"x\": [3150.8], \"xaxis\": \"x\", \"y\": [1], \"yaxis\": \"y\"}, {\"hoverlabel\": {\"namelength\": 0}, \"hovertemplate\": \"<b>%{hovertext}</b><br><br>Country=Sudan<br>Expenditure=%{x}<br>num_embargoes=%{y}<br>PopTotal=%{marker.size}\", \"hovertext\": [\"Sudan\"], \"legendgroup\": \"Country=Sudan\", \"marker\": {\"color\": \"#19d3f3\", \"size\": [43849.269], \"sizemode\": \"area\", \"sizeref\": 3598.309435, \"symbol\": \"circle\"}, \"mode\": \"markers\", \"name\": \"Country=Sudan\", \"showlegend\": true, \"type\": \"scatter\", \"x\": [934.3], \"xaxis\": \"x\", \"y\": [2], \"yaxis\": \"y\"}, {\"hoverlabel\": {\"namelength\": 0}, \"hovertemplate\": \"<b>%{hovertext}</b><br><br>Country=Togo<br>Expenditure=%{x}<br>num_embargoes=%{y}<br>PopTotal=%{marker.size}\", \"hovertext\": [\"Togo\"], \"legendgroup\": \"Country=Togo\", \"marker\": {\"color\": \"#FF6692\", \"size\": [8278.737], \"sizemode\": \"area\", \"sizeref\": 3598.309435, \"symbol\": \"circle\"}, \"mode\": \"markers\", \"name\": \"Country=Togo\", \"showlegend\": true, \"type\": \"scatter\", \"x\": [116.3], \"xaxis\": \"x\", \"y\": [2], \"yaxis\": \"y\"}, {\"hoverlabel\": {\"namelength\": 0}, \"hovertemplate\": \"<b>%{hovertext}</b><br><br>Country=Ukraine<br>Expenditure=%{x}<br>num_embargoes=%{y}<br>PopTotal=%{marker.size}\", \"hovertext\": [\"Ukraine\"], \"legendgroup\": \"Country=Ukraine\", \"marker\": {\"color\": \"#B6E880\", \"size\": [43733.759000000005], \"sizemode\": \"area\", \"sizeref\": 3598.309435, \"symbol\": \"circle\"}, \"mode\": \"markers\", \"name\": \"Country=Ukraine\", \"showlegend\": true, \"type\": \"scatter\", \"x\": [5924.2], \"xaxis\": \"x\", \"y\": [1], \"yaxis\": \"y\"}],\n",
              "                        {\"legend\": {\"itemsizing\": \"constant\", \"tracegroupgap\": 0}, \"template\": {\"data\": {\"bar\": [{\"error_x\": {\"color\": \"#2a3f5f\"}, \"error_y\": {\"color\": \"#2a3f5f\"}, \"marker\": {\"line\": {\"color\": \"#E5ECF6\", \"width\": 0.5}}, \"type\": \"bar\"}], \"barpolar\": [{\"marker\": {\"line\": {\"color\": \"#E5ECF6\", \"width\": 0.5}}, \"type\": \"barpolar\"}], \"carpet\": [{\"aaxis\": {\"endlinecolor\": \"#2a3f5f\", \"gridcolor\": \"white\", \"linecolor\": \"white\", \"minorgridcolor\": \"white\", \"startlinecolor\": \"#2a3f5f\"}, \"baxis\": {\"endlinecolor\": \"#2a3f5f\", \"gridcolor\": \"white\", \"linecolor\": \"white\", \"minorgridcolor\": \"white\", \"startlinecolor\": \"#2a3f5f\"}, \"type\": \"carpet\"}], \"choropleth\": [{\"colorbar\": {\"outlinewidth\": 0, \"ticks\": \"\"}, \"type\": \"choropleth\"}], \"contour\": [{\"colorbar\": {\"outlinewidth\": 0, \"ticks\": \"\"}, \"colorscale\": [[0.0, \"#0d0887\"], [0.1111111111111111, \"#46039f\"], [0.2222222222222222, \"#7201a8\"], [0.3333333333333333, \"#9c179e\"], [0.4444444444444444, \"#bd3786\"], [0.5555555555555556, \"#d8576b\"], [0.6666666666666666, \"#ed7953\"], [0.7777777777777778, \"#fb9f3a\"], [0.8888888888888888, \"#fdca26\"], [1.0, \"#f0f921\"]], \"type\": \"contour\"}], \"contourcarpet\": [{\"colorbar\": {\"outlinewidth\": 0, \"ticks\": \"\"}, \"type\": \"contourcarpet\"}], \"heatmap\": [{\"colorbar\": {\"outlinewidth\": 0, \"ticks\": \"\"}, \"colorscale\": [[0.0, \"#0d0887\"], [0.1111111111111111, \"#46039f\"], [0.2222222222222222, \"#7201a8\"], [0.3333333333333333, \"#9c179e\"], [0.4444444444444444, \"#bd3786\"], [0.5555555555555556, \"#d8576b\"], [0.6666666666666666, \"#ed7953\"], [0.7777777777777778, \"#fb9f3a\"], [0.8888888888888888, \"#fdca26\"], [1.0, \"#f0f921\"]], \"type\": \"heatmap\"}], \"heatmapgl\": [{\"colorbar\": {\"outlinewidth\": 0, \"ticks\": \"\"}, \"colorscale\": [[0.0, \"#0d0887\"], [0.1111111111111111, \"#46039f\"], [0.2222222222222222, \"#7201a8\"], [0.3333333333333333, \"#9c179e\"], [0.4444444444444444, \"#bd3786\"], [0.5555555555555556, \"#d8576b\"], [0.6666666666666666, \"#ed7953\"], [0.7777777777777778, \"#fb9f3a\"], [0.8888888888888888, \"#fdca26\"], [1.0, \"#f0f921\"]], \"type\": \"heatmapgl\"}], \"histogram\": [{\"marker\": {\"colorbar\": {\"outlinewidth\": 0, \"ticks\": \"\"}}, \"type\": \"histogram\"}], \"histogram2d\": [{\"colorbar\": {\"outlinewidth\": 0, \"ticks\": \"\"}, \"colorscale\": [[0.0, \"#0d0887\"], [0.1111111111111111, \"#46039f\"], [0.2222222222222222, \"#7201a8\"], [0.3333333333333333, \"#9c179e\"], [0.4444444444444444, \"#bd3786\"], [0.5555555555555556, \"#d8576b\"], [0.6666666666666666, \"#ed7953\"], [0.7777777777777778, \"#fb9f3a\"], [0.8888888888888888, \"#fdca26\"], [1.0, \"#f0f921\"]], \"type\": \"histogram2d\"}], \"histogram2dcontour\": [{\"colorbar\": {\"outlinewidth\": 0, \"ticks\": \"\"}, \"colorscale\": [[0.0, \"#0d0887\"], [0.1111111111111111, \"#46039f\"], [0.2222222222222222, \"#7201a8\"], [0.3333333333333333, \"#9c179e\"], [0.4444444444444444, \"#bd3786\"], [0.5555555555555556, \"#d8576b\"], [0.6666666666666666, \"#ed7953\"], [0.7777777777777778, \"#fb9f3a\"], [0.8888888888888888, \"#fdca26\"], [1.0, \"#f0f921\"]], \"type\": \"histogram2dcontour\"}], \"mesh3d\": [{\"colorbar\": {\"outlinewidth\": 0, \"ticks\": \"\"}, \"type\": \"mesh3d\"}], \"parcoords\": [{\"line\": {\"colorbar\": {\"outlinewidth\": 0, \"ticks\": \"\"}}, \"type\": \"parcoords\"}], \"pie\": [{\"automargin\": true, \"type\": \"pie\"}], \"scatter\": [{\"marker\": {\"colorbar\": {\"outlinewidth\": 0, \"ticks\": \"\"}}, \"type\": \"scatter\"}], \"scatter3d\": [{\"line\": {\"colorbar\": {\"outlinewidth\": 0, \"ticks\": \"\"}}, \"marker\": {\"colorbar\": {\"outlinewidth\": 0, \"ticks\": \"\"}}, \"type\": \"scatter3d\"}], \"scattercarpet\": [{\"marker\": {\"colorbar\": {\"outlinewidth\": 0, \"ticks\": \"\"}}, \"type\": \"scattercarpet\"}], \"scattergeo\": [{\"marker\": {\"colorbar\": {\"outlinewidth\": 0, \"ticks\": \"\"}}, \"type\": \"scattergeo\"}], \"scattergl\": [{\"marker\": {\"colorbar\": {\"outlinewidth\": 0, \"ticks\": \"\"}}, \"type\": \"scattergl\"}], \"scattermapbox\": [{\"marker\": {\"colorbar\": {\"outlinewidth\": 0, \"ticks\": \"\"}}, \"type\": \"scattermapbox\"}], \"scatterpolar\": [{\"marker\": {\"colorbar\": {\"outlinewidth\": 0, \"ticks\": \"\"}}, \"type\": \"scatterpolar\"}], \"scatterpolargl\": [{\"marker\": {\"colorbar\": {\"outlinewidth\": 0, \"ticks\": \"\"}}, \"type\": \"scatterpolargl\"}], \"scatterternary\": [{\"marker\": {\"colorbar\": {\"outlinewidth\": 0, \"ticks\": \"\"}}, \"type\": \"scatterternary\"}], \"surface\": [{\"colorbar\": {\"outlinewidth\": 0, \"ticks\": \"\"}, \"colorscale\": [[0.0, \"#0d0887\"], [0.1111111111111111, \"#46039f\"], [0.2222222222222222, \"#7201a8\"], [0.3333333333333333, \"#9c179e\"], [0.4444444444444444, \"#bd3786\"], [0.5555555555555556, \"#d8576b\"], [0.6666666666666666, \"#ed7953\"], [0.7777777777777778, \"#fb9f3a\"], [0.8888888888888888, \"#fdca26\"], [1.0, \"#f0f921\"]], \"type\": \"surface\"}], \"table\": [{\"cells\": {\"fill\": {\"color\": \"#EBF0F8\"}, \"line\": {\"color\": \"white\"}}, \"header\": {\"fill\": {\"color\": \"#C8D4E3\"}, \"line\": {\"color\": \"white\"}}, \"type\": \"table\"}]}, \"layout\": {\"annotationdefaults\": {\"arrowcolor\": \"#2a3f5f\", \"arrowhead\": 0, \"arrowwidth\": 1}, \"coloraxis\": {\"colorbar\": {\"outlinewidth\": 0, \"ticks\": \"\"}}, \"colorscale\": {\"diverging\": [[0, \"#8e0152\"], [0.1, \"#c51b7d\"], [0.2, \"#de77ae\"], [0.3, \"#f1b6da\"], [0.4, \"#fde0ef\"], [0.5, \"#f7f7f7\"], [0.6, \"#e6f5d0\"], [0.7, \"#b8e186\"], [0.8, \"#7fbc41\"], [0.9, \"#4d9221\"], [1, \"#276419\"]], \"sequential\": [[0.0, \"#0d0887\"], [0.1111111111111111, \"#46039f\"], [0.2222222222222222, \"#7201a8\"], [0.3333333333333333, \"#9c179e\"], [0.4444444444444444, \"#bd3786\"], [0.5555555555555556, \"#d8576b\"], [0.6666666666666666, \"#ed7953\"], [0.7777777777777778, \"#fb9f3a\"], [0.8888888888888888, \"#fdca26\"], [1.0, \"#f0f921\"]], \"sequentialminus\": [[0.0, \"#0d0887\"], [0.1111111111111111, \"#46039f\"], [0.2222222222222222, \"#7201a8\"], [0.3333333333333333, \"#9c179e\"], [0.4444444444444444, \"#bd3786\"], [0.5555555555555556, \"#d8576b\"], [0.6666666666666666, \"#ed7953\"], [0.7777777777777778, \"#fb9f3a\"], [0.8888888888888888, \"#fdca26\"], [1.0, \"#f0f921\"]]}, \"colorway\": [\"#636efa\", \"#EF553B\", \"#00cc96\", \"#ab63fa\", \"#FFA15A\", \"#19d3f3\", \"#FF6692\", \"#B6E880\", \"#FF97FF\", \"#FECB52\"], \"font\": {\"color\": \"#2a3f5f\"}, \"geo\": {\"bgcolor\": \"white\", \"lakecolor\": \"white\", \"landcolor\": \"#E5ECF6\", \"showlakes\": true, \"showland\": true, \"subunitcolor\": \"white\"}, \"hoverlabel\": {\"align\": \"left\"}, \"hovermode\": \"closest\", \"mapbox\": {\"style\": \"light\"}, \"paper_bgcolor\": \"white\", \"plot_bgcolor\": \"#E5ECF6\", \"polar\": {\"angularaxis\": {\"gridcolor\": \"white\", \"linecolor\": \"white\", \"ticks\": \"\"}, \"bgcolor\": \"#E5ECF6\", \"radialaxis\": {\"gridcolor\": \"white\", \"linecolor\": \"white\", \"ticks\": \"\"}}, \"scene\": {\"xaxis\": {\"backgroundcolor\": \"#E5ECF6\", \"gridcolor\": \"white\", \"gridwidth\": 2, \"linecolor\": \"white\", \"showbackground\": true, \"ticks\": \"\", \"zerolinecolor\": \"white\"}, \"yaxis\": {\"backgroundcolor\": \"#E5ECF6\", \"gridcolor\": \"white\", \"gridwidth\": 2, \"linecolor\": \"white\", \"showbackground\": true, \"ticks\": \"\", \"zerolinecolor\": \"white\"}, \"zaxis\": {\"backgroundcolor\": \"#E5ECF6\", \"gridcolor\": \"white\", \"gridwidth\": 2, \"linecolor\": \"white\", \"showbackground\": true, \"ticks\": \"\", \"zerolinecolor\": \"white\"}}, \"shapedefaults\": {\"line\": {\"color\": \"#2a3f5f\"}}, \"ternary\": {\"aaxis\": {\"gridcolor\": \"white\", \"linecolor\": \"white\", \"ticks\": \"\"}, \"baxis\": {\"gridcolor\": \"white\", \"linecolor\": \"white\", \"ticks\": \"\"}, \"bgcolor\": \"#E5ECF6\", \"caxis\": {\"gridcolor\": \"white\", \"linecolor\": \"white\", \"ticks\": \"\"}}, \"title\": {\"x\": 0.05}, \"xaxis\": {\"automargin\": true, \"gridcolor\": \"white\", \"linecolor\": \"white\", \"ticks\": \"\", \"title\": {\"standoff\": 15}, \"zerolinecolor\": \"white\", \"zerolinewidth\": 2}, \"yaxis\": {\"automargin\": true, \"gridcolor\": \"white\", \"linecolor\": \"white\", \"ticks\": \"\", \"title\": {\"standoff\": 15}, \"zerolinecolor\": \"white\", \"zerolinewidth\": 2}}}, \"title\": {\"text\": \"Average Annual Military Expenditure VS. Number of Arms Embargoes\"}, \"xaxis\": {\"anchor\": \"y\", \"domain\": [0.0, 1.0], \"title\": {\"text\": \"Expenditure\"}}, \"yaxis\": {\"anchor\": \"x\", \"domain\": [0.0, 1.0], \"title\": {\"text\": \"num_embargoes\"}}},\n",
              "                        {\"responsive\": true}\n",
              "                    ).then(function(){\n",
              "                            \n",
              "var gd = document.getElementById('107a2148-4c2b-451e-ac50-a7f4436343b1');\n",
              "var x = new MutationObserver(function (mutations, observer) {{\n",
              "        var display = window.getComputedStyle(gd).display;\n",
              "        if (!display || display === 'none') {{\n",
              "            console.log([gd, 'removed!']);\n",
              "            Plotly.purge(gd);\n",
              "            observer.disconnect();\n",
              "        }}\n",
              "}});\n",
              "\n",
              "// Listen for the removal of the full notebook cells\n",
              "var notebookContainer = gd.closest('#notebook-container');\n",
              "if (notebookContainer) {{\n",
              "    x.observe(notebookContainer, {childList: true});\n",
              "}}\n",
              "\n",
              "// Listen for the clearing of the current output cell\n",
              "var outputEl = gd.closest('.output');\n",
              "if (outputEl) {{\n",
              "    x.observe(outputEl, {childList: true});\n",
              "}}\n",
              "\n",
              "                        })\n",
              "                };\n",
              "                \n",
              "            </script>\n",
              "        </div>\n",
              "</body>\n",
              "</html>"
            ]
          },
          "metadata": {
            "tags": []
          }
        }
      ]
    },
    {
      "cell_type": "markdown",
      "metadata": {
        "id": "SsVbtw0b3bm2"
      },
      "source": [
        "# Line Plot of Military Expenditure over 1960-2020"
      ]
    },
    {
      "cell_type": "code",
      "metadata": {
        "id": "qjcC7YWx3cNT"
      },
      "source": [
        "# Need to compare with data without embargo, the normal \n",
        "# scatter graph \n",
        "milexp_selected_fy = px.line(df_merged,\n",
        "                         x = \"Year\", \n",
        "                         y = \"Value\", \n",
        "                         color = \"Country\", \n",
        "                         hover_name=\"Country\", \n",
        "                         title = \"Military Expenditure for selected countries, FY1960 - 2020\")\n",
        "\n"
      ],
      "execution_count": 333,
      "outputs": []
    },
    {
      "cell_type": "code",
      "metadata": {
        "id": "aeAaSqZD5Exm",
        "colab": {
          "base_uri": "https://localhost:8080/",
          "height": 542
        },
        "outputId": "24b2f530-53af-45c2-9633-78c86bcd4162"
      },
      "source": [
        "milexp_selected_fy"
      ],
      "execution_count": 334,
      "outputs": [
        {
          "output_type": "display_data",
          "data": {
            "text/html": [
              "<html>\n",
              "<head><meta charset=\"utf-8\" /></head>\n",
              "<body>\n",
              "    <div>\n",
              "            <script src=\"https://cdnjs.cloudflare.com/ajax/libs/mathjax/2.7.5/MathJax.js?config=TeX-AMS-MML_SVG\"></script><script type=\"text/javascript\">if (window.MathJax) {MathJax.Hub.Config({SVG: {font: \"STIX-Web\"}});}</script>\n",
              "                <script type=\"text/javascript\">window.PlotlyConfig = {MathJaxConfig: 'local'};</script>\n",
              "        <script src=\"https://cdn.plot.ly/plotly-latest.min.js\"></script>    \n",
              "            <div id=\"e168b899-d770-40ca-b56e-845a4d6b9d18\" class=\"plotly-graph-div\" style=\"height:525px; width:100%;\"></div>\n",
              "            <script type=\"text/javascript\">\n",
              "                \n",
              "                    window.PLOTLYENV=window.PLOTLYENV || {};\n",
              "                    \n",
              "                if (document.getElementById(\"e168b899-d770-40ca-b56e-845a4d6b9d18\")) {\n",
              "                    Plotly.newPlot(\n",
              "                        'e168b899-d770-40ca-b56e-845a4d6b9d18',\n",
              "                        [{\"hoverlabel\": {\"namelength\": 0}, \"hovertemplate\": \"<b>%{hovertext}</b><br><br>Country=Myanmar<br>Year=%{x}<br>Value=%{y}\", \"hovertext\": [\"Myanmar\", \"Myanmar\", \"Myanmar\", \"Myanmar\", \"Myanmar\", \"Myanmar\", \"Myanmar\", \"Myanmar\", \"Myanmar\", \"Myanmar\", \"Myanmar\", \"Myanmar\", \"Myanmar\", \"Myanmar\", \"Myanmar\", \"Myanmar\", \"Myanmar\", \"Myanmar\", \"Myanmar\", \"Myanmar\", \"Myanmar\", \"Myanmar\", \"Myanmar\", \"Myanmar\", \"Myanmar\", \"Myanmar\", \"Myanmar\", \"Myanmar\", \"Myanmar\", \"Myanmar\", \"Myanmar\", \"Myanmar\", \"Myanmar\", \"Myanmar\", \"Myanmar\", \"Myanmar\", \"Myanmar\", \"Myanmar\", \"Myanmar\", \"Myanmar\", \"Myanmar\", \"Myanmar\", \"Myanmar\", \"Myanmar\", \"Myanmar\", \"Myanmar\", \"Myanmar\", \"Myanmar\", \"Myanmar\", \"Myanmar\", \"Myanmar\", \"Myanmar\", \"Myanmar\", \"Myanmar\", \"Myanmar\", \"Myanmar\", \"Myanmar\", \"Myanmar\", \"Myanmar\", \"Myanmar\", \"Myanmar\", \"Myanmar\", \"Myanmar\", \"Myanmar\"], \"legendgroup\": \"Country=Myanmar\", \"line\": {\"color\": \"#636efa\", \"dash\": \"solid\"}, \"mode\": \"lines\", \"name\": \"Country=Myanmar\", \"showlegend\": true, \"type\": \"scattergl\", \"x\": [1951, 1952, 1953, 1954, 1955, 1956, 1957, 1958, 1959, 1960, 1961, 1962, 1963, 1964, 1965, 1966, 1967, 1968, 1969, 1970, 1971, 1972, 1973, 1974, 1975, 1976, 1977, 1978, 1979, 1980, 1981, 1982, 1983, 1984, 1985, 1986, 1987, 1988, 1989, 1990, 1991, 1992, 1993, 1994, 1995, 1996, 1997, 1998, 1999, 2000, 2001, 2002, 2003, 2004, 2005, 2012, 2013, 2014, 2015, 2016, 2017, 2018, 2019, 2020], \"xaxis\": \"x\", \"y\": [32.06178206178206, 46.67779667779668, 64.86906486906487, 77.60557760557761, 70.97482097482097, 75.02257502257503, 79.43782943782944, 85.37033537033537, 86.25758625758625, 89.51258951258951, 85.61708561708562, 90.70434070434071, 100.32235032235032, 97.9125979125979, 107.24185724185725, 105.45685545685546, 102.03910203910205, 104.59060459060458, 114.41861441861441, 122.78187278187279, 127.758749506804, 117.18127517405473, 152.45231745774228, 159.99934190502046, 138.92372323415995, 155.14220747754126, 169.29367819344617, 183.42928925931048, 190.8663540730303, 202.08346716344406, 205.28811662608686, 195.4194155967135, 192.1699914577157, 188.72082926365155, 196.75864469577633, 231.8433696479582, 203.6537435465811, 255.25682848179852, 550.1946337752986, 814.0255830977383, 942.6770851568343, 1370.4576765123606, 2061.809623889673, 2801.966891551504, 3932.0791806657444, 4675.441101668421, 4780.529107649519, 5873.097951178907, 6950.081055841826, 9030.564408836948, 9464.417217002449, 11000.356815937175, 24189.10950279609, 29853.91408291321, 32954.2622508452, 2969.2360763158836, 2366.989084910612, 2372.8959116141423, 2552.3704418280217, 2455.7841201322026, 2221.9610602285816, 1529.3644779426184, 1495.5098975020273, 2445.8217816033557], \"yaxis\": \"y\"}, {\"hoverlabel\": {\"namelength\": 0}, \"hovertemplate\": \"<b>%{hovertext}</b><br><br>Country=South Africa<br>Year=%{x}<br>Value=%{y}\", \"hovertext\": [\"South Africa\", \"South Africa\", \"South Africa\", \"South Africa\", \"South Africa\", \"South Africa\", \"South Africa\", \"South Africa\", \"South Africa\", \"South Africa\", \"South Africa\", \"South Africa\", \"South Africa\", \"South Africa\", \"South Africa\", \"South Africa\", \"South Africa\", \"South Africa\", \"South Africa\", \"South Africa\", \"South Africa\", \"South Africa\", \"South Africa\", \"South Africa\", \"South Africa\", \"South Africa\", \"South Africa\", \"South Africa\", \"South Africa\", \"South Africa\", \"South Africa\", \"South Africa\", \"South Africa\", \"South Africa\", \"South Africa\", \"South Africa\", \"South Africa\", \"South Africa\", \"South Africa\", \"South Africa\", \"South Africa\", \"South Africa\", \"South Africa\", \"South Africa\", \"South Africa\", \"South Africa\", \"South Africa\", \"South Africa\", \"South Africa\", \"South Africa\", \"South Africa\", \"South Africa\", \"South Africa\", \"South Africa\", \"South Africa\", \"South Africa\", \"South Africa\", \"South Africa\", \"South Africa\", \"South Africa\", \"South Africa\", \"South Africa\", \"South Africa\", \"South Africa\", \"South Africa\", \"South Africa\", \"South Africa\", \"South Africa\", \"South Africa\", \"South Africa\"], \"legendgroup\": \"Country=South Africa\", \"line\": {\"color\": \"#EF553B\", \"dash\": \"solid\"}, \"mode\": \"lines\", \"name\": \"Country=South Africa\", \"showlegend\": true, \"type\": \"scattergl\", \"x\": [1951, 1952, 1953, 1954, 1955, 1956, 1957, 1958, 1959, 1960, 1961, 1962, 1963, 1964, 1965, 1966, 1967, 1968, 1969, 1970, 1971, 1972, 1973, 1974, 1975, 1976, 1977, 1978, 1979, 1980, 1981, 1982, 1983, 1984, 1985, 1986, 1987, 1988, 1989, 1990, 1991, 1992, 1993, 1994, 1995, 1996, 1997, 1998, 1999, 2000, 2001, 2002, 2003, 2004, 2005, 2006, 2007, 2008, 2009, 2010, 2011, 2012, 2013, 2014, 2015, 2016, 2017, 2018, 2019, 2020], \"xaxis\": \"x\", \"y\": [64.74997410001036, 74.54997018001193, 65.79997368001052, 62.99997480001009, 67.19997312001075, 76.99996920001233, 81.89996724001311, 63.699974520010194, 60.54997578000969, 69.99997200001121, 113.7499545000182, 186.19992552002978, 188.99992440003027, 271.59989136004344, 289.44988422004633, 324.44987022005193, 373.0998507600597, 399.699840120064, 425.59982976006813, 417.89983284006684, 485.8665272218082, 492.38654620433067, 752.9263256186605, 1102.318400770004, 1431.695127030404, 1677.2754193188548, 2073.7380184345043, 2067.9880169970043, 2160.86733972825, 2661.6711648438563, 3011.979548279984, 2744.6998581717044, 3052.68826855758, 2770.1521067187246, 2117.4063454885645, 2497.8884303488358, 3595.968625216721, 4263.086823226169, 4181.886467277746, 4364.458203855727, 3874.415134790607, 3677.40646070666, 3254.3133786653775, 3478.5822913146335, 3292.4465618443437, 2591.787130612767, 2414.1377095287285, 1905.6560087405126, 1738.0366250482857, 1891.7250134369287, 1802.262236357005, 1766.0828977202655, 2574.176278132126, 3099.065125416235, 3566.9638153704873, 3506.13965783314, 3525.684243694795, 3285.925081283394, 3592.6877020228544, 4188.168092203212, 4594.154077946546, 4489.590095944322, 4118.208483427343, 3892.4850910694445, 3488.8679478399654, 3139.312128418237, 3591.5076133699313, 3622.9187425515065, 3435.736037095993, 3150.8288802526113], \"yaxis\": \"y\"}, {\"hoverlabel\": {\"namelength\": 0}, \"hovertemplate\": \"<b>%{hovertext}</b><br><br>Country=Lebanon<br>Year=%{x}<br>Value=%{y}\", \"hovertext\": [\"Lebanon\", \"Lebanon\", \"Lebanon\", \"Lebanon\", \"Lebanon\", \"Lebanon\", \"Lebanon\", \"Lebanon\", \"Lebanon\", \"Lebanon\", \"Lebanon\", \"Lebanon\", \"Lebanon\", \"Lebanon\", \"Lebanon\", \"Lebanon\", \"Lebanon\", \"Lebanon\", \"Lebanon\", \"Lebanon\", \"Lebanon\", \"Lebanon\", \"Lebanon\", \"Lebanon\", \"Lebanon\", \"Lebanon\", \"Lebanon\", \"Lebanon\", \"Lebanon\", \"Lebanon\", \"Lebanon\", \"Lebanon\", \"Lebanon\", \"Lebanon\", \"Lebanon\", \"Lebanon\", \"Lebanon\", \"Lebanon\", \"Lebanon\", \"Lebanon\", \"Lebanon\", \"Lebanon\", \"Lebanon\", \"Lebanon\", \"Lebanon\", \"Lebanon\", \"Lebanon\", \"Lebanon\", \"Lebanon\", \"Lebanon\", \"Lebanon\", \"Lebanon\", \"Lebanon\", \"Lebanon\", \"Lebanon\", \"Lebanon\", \"Lebanon\", \"Lebanon\", \"Lebanon\", \"Lebanon\", \"Lebanon\", \"Lebanon\", \"Lebanon\", \"Lebanon\", \"Lebanon\"], \"legendgroup\": \"Country=Lebanon\", \"line\": {\"color\": \"#00cc96\", \"dash\": \"solid\"}, \"mode\": \"lines\", \"name\": \"Country=Lebanon\", \"showlegend\": true, \"type\": \"scattergl\", \"x\": [1955, 1956, 1957, 1958, 1959, 1960, 1961, 1962, 1963, 1964, 1965, 1966, 1967, 1968, 1969, 1970, 1971, 1972, 1973, 1974, 1975, 1976, 1977, 1978, 1979, 1980, 1981, 1982, 1983, 1984, 1985, 1986, 1987, 1988, 1990, 1991, 1992, 1993, 1994, 1995, 1996, 1997, 1998, 1999, 2000, 2001, 2002, 2003, 2004, 2005, 2006, 2007, 2008, 2009, 2010, 2011, 2012, 2013, 2014, 2015, 2016, 2017, 2018, 2019, 2020], \"xaxis\": \"x\", \"y\": [12.523076923076925, 18.0625, 18.654782879054824, 21.76965630330503, 20.729001584786058, 22.906905201381985, 27.83714781298114, 40.8768245021668, 33.900603430741064, 38.065368323106654, 44.59853182935365, 51.42537730575741, 57.73095502602573, 65.57231644503013, 65.13897338519871, 64.54612753825353, 66.92009554702531, 106.2044369853674, 103.8155072019614, 179.14217960614496, 165.9441002962667, 173.07484703596268, 126.4271935769772, 252.76022968359294, 346.31100146480605, 503.4763147861971, 373.2147700324767, 246.65175512751054, 492.4726766000393, 474.5749175637259, 227.20350855820186, 148.29332367298326, 36.9997684731696, 39.31774307846443, 214.36103865835884, 229.46973100329984, 442.78633107386196, 452.97928056231916, 637.4734386067247, 746.26405412573, 735.6310135926284, 678.164279450453, 693.871897528576, 829.663624787776, 930.016583747927, 958.5406301824212, 907.4626865671642, 923.3830845771145, 954.5605306799337, 962.5207296849087, 1008.955223880597, 1152.2388059701493, 1169.485903814262, 1426.2023217247097, 1585.4063018242123, 1626.5339966832505, 1757.2139303482588, 1935.7182413723235, 2270.065959793791, 2239.416093739447, 2606.456908322253, 2441.074857018222, 2775.557816206579, 2521.246648014341, 1921.3930348258707], \"yaxis\": \"y\"}, {\"hoverlabel\": {\"namelength\": 0}, \"hovertemplate\": \"<b>%{hovertext}</b><br><br>Country=Venezuela<br>Year=%{x}<br>Value=%{y}\", \"hovertext\": [\"Venezuela\", \"Venezuela\", \"Venezuela\", \"Venezuela\", \"Venezuela\", \"Venezuela\", \"Venezuela\", \"Venezuela\", \"Venezuela\", \"Venezuela\", \"Venezuela\", \"Venezuela\", \"Venezuela\", \"Venezuela\", \"Venezuela\", \"Venezuela\", \"Venezuela\", \"Venezuela\", \"Venezuela\", \"Venezuela\", \"Venezuela\", \"Venezuela\", \"Venezuela\", \"Venezuela\", \"Venezuela\", \"Venezuela\", \"Venezuela\", \"Venezuela\", \"Venezuela\", \"Venezuela\", \"Venezuela\", \"Venezuela\", \"Venezuela\", \"Venezuela\", \"Venezuela\", \"Venezuela\", \"Venezuela\", \"Venezuela\", \"Venezuela\", \"Venezuela\", \"Venezuela\", \"Venezuela\", \"Venezuela\", \"Venezuela\", \"Venezuela\", \"Venezuela\", \"Venezuela\", \"Venezuela\", \"Venezuela\", \"Venezuela\", \"Venezuela\", \"Venezuela\", \"Venezuela\", \"Venezuela\", \"Venezuela\", \"Venezuela\", \"Venezuela\", \"Venezuela\", \"Venezuela\", \"Venezuela\", \"Venezuela\", \"Venezuela\", \"Venezuela\"], \"legendgroup\": \"Country=Venezuela\", \"line\": {\"color\": \"#ab63fa\", \"dash\": \"solid\"}, \"mode\": \"lines\", \"name\": \"Country=Venezuela\", \"showlegend\": true, \"type\": \"scattergl\", \"x\": [1955, 1956, 1957, 1958, 1959, 1960, 1961, 1962, 1963, 1964, 1965, 1966, 1967, 1968, 1969, 1970, 1971, 1972, 1973, 1974, 1975, 1976, 1977, 1978, 1979, 1980, 1981, 1982, 1983, 1984, 1985, 1986, 1987, 1988, 1989, 1990, 1991, 1992, 1993, 1994, 1995, 1996, 1997, 1998, 1999, 2000, 2001, 2002, 2003, 2004, 2005, 2006, 2007, 2008, 2009, 2010, 2011, 2012, 2013, 2014, 2015, 2016, 2017], \"xaxis\": \"x\", \"y\": [142.85714285714286, 173.40327059549523, 228.9326723039223, 251.94029850746267, 225.6938743219481, 234.35774037341994, 114.63268285256268, 203.90068275382353, 245.39730779449917, 200.45977011494256, 227.27272727272725, 238.63636363636363, 270.45454545454544, 272.7272727272727, 263.6363636363636, 272.7272727272727, 352.27272727272725, 404.6511627906977, 420.93023255813955, 602.3255813953488, 711.6279069767442, 593.0232558139535, 748.8372093023256, 827.9069767441861, 925.5813953488373, 1002.3255813953488, 1009.3023255813954, 1523.2558139534883, 2006.9767441860465, 1325.4150473087661, 820.0, 1004.536496716081, 765.5172413793102, 1096.551724137931, 1196.2515529651184, 737.8704546860105, 983.7219533655962, 992.9324849780576, 1287.9547608642288, 939.6832314208283, 1198.810237387046, 733.1975560081466, 1541.0338638610165, 1450.9639916211167, 1408.0647158363945, 1788.3220803362517, 1911.4001365285812, 1071.3639691631854, 987.890177726888, 1448.7159829326454, 2665.390596961359, 3630.0884955752217, 4351.5603167210065, 5660.456450861668, 4055.379599441081, 3991.1948347443517, 3577.53158743851, 5114.847099993006, 6199.698500155424, 1554.7271082393247, 320.5391579635235, 218.15489292907495, 2127.936596435706], \"yaxis\": \"y\"}, {\"hoverlabel\": {\"namelength\": 0}, \"hovertemplate\": \"<b>%{hovertext}</b><br><br>Country=Sudan<br>Year=%{x}<br>Value=%{y}\", \"hovertext\": [\"Sudan\", \"Sudan\", \"Sudan\", \"Sudan\", \"Sudan\", \"Sudan\", \"Sudan\", \"Sudan\", \"Sudan\", \"Sudan\", \"Sudan\", \"Sudan\", \"Sudan\", \"Sudan\", \"Sudan\", \"Sudan\", \"Sudan\", \"Sudan\", \"Sudan\", \"Sudan\", \"Sudan\", \"Sudan\", \"Sudan\", \"Sudan\", \"Sudan\", \"Sudan\", \"Sudan\", \"Sudan\", \"Sudan\", \"Sudan\", \"Sudan\", \"Sudan\", \"Sudan\", \"Sudan\", \"Sudan\", \"Sudan\", \"Sudan\", \"Sudan\", \"Sudan\", \"Sudan\", \"Sudan\", \"Sudan\", \"Sudan\", \"Sudan\", \"Sudan\", \"Sudan\", \"Sudan\", \"Sudan\", \"Sudan\", \"Sudan\", \"Sudan\", \"Sudan\", \"Sudan\", \"Sudan\", \"Sudan\", \"Sudan\", \"Sudan\", \"Sudan\", \"Sudan\"], \"legendgroup\": \"Country=Sudan\", \"line\": {\"color\": \"#FFA15A\", \"dash\": \"solid\"}, \"mode\": \"lines\", \"name\": \"Country=Sudan\", \"showlegend\": true, \"type\": \"scattergl\", \"x\": [1956, 1957, 1958, 1959, 1960, 1961, 1962, 1963, 1964, 1965, 1966, 1967, 1968, 1969, 1970, 1971, 1972, 1973, 1974, 1975, 1976, 1977, 1978, 1979, 1980, 1981, 1982, 1983, 1984, 1985, 1986, 1987, 1988, 1990, 1991, 1992, 1993, 1994, 1995, 1996, 1997, 1998, 1999, 2000, 2001, 2002, 2003, 2004, 2005, 2006, 2007, 2008, 2009, 2015, 2016, 2017, 2018, 2019, 2020], \"xaxis\": \"x\", \"y\": [0.09648462850546459, 14.101091326823665, 14.359563469270535, 16.59965537047674, 18.667432510051693, 20.50545663411832, 24.842044801838025, 28.144744399770246, 41.87248707639287, 56.375646180356114, 50.31591039632395, 52.268811028144746, 57.72544514646754, 87.01895462377944, 108.27110855829983, 109.99425617461229, 107.98391728891441, 113.1533601378518, 111.43021252153935, 119.47156806433085, 179.20735209649627, 216.53848583884255, 175.91640791411888, 239.9998135923778, 228.0, 203.9874171972129, 172.21463824425078, 230.76923076923077, 355.3846153846154, 205.29335682849975, 260.0, 310.3333333333333, 369.33333333333337, 1177.7777777777778, 1365.798114911065, 183.71844071282757, 257.98109394026886, 226.16700447845196, 138.75642566201964, 106.33279767187136, 97.73185931689238, 259.9575701437236, 429.6178974460503, 587.2675723291966, 388.09131742313554, 484.6072630323654, 398.11022173858066, 1240.766949070394, 1164.9959360606883, 1647.8391943710703, 2427.0725947480155, 3228.0000000000005, 3180.4830097306613, 2279.6216395618985, 2748.5119762470727, 4382.998816697173, 1047.8787199874052, 722.2561774207632, 934.3111538035246], \"yaxis\": \"y\"}, {\"hoverlabel\": {\"namelength\": 0}, \"hovertemplate\": \"<b>%{hovertext}</b><br><br>Country=Syria<br>Year=%{x}<br>Value=%{y}\", \"hovertext\": [\"Syria\", \"Syria\", \"Syria\", \"Syria\", \"Syria\", \"Syria\", \"Syria\", \"Syria\", \"Syria\", \"Syria\", \"Syria\", \"Syria\", \"Syria\", \"Syria\", \"Syria\", \"Syria\", \"Syria\", \"Syria\", \"Syria\", \"Syria\", \"Syria\", \"Syria\", \"Syria\", \"Syria\", \"Syria\", \"Syria\", \"Syria\", \"Syria\", \"Syria\", \"Syria\", \"Syria\", \"Syria\", \"Syria\", \"Syria\", \"Syria\", \"Syria\", \"Syria\", \"Syria\", \"Syria\", \"Syria\", \"Syria\", \"Syria\", \"Syria\", \"Syria\", \"Syria\", \"Syria\", \"Syria\", \"Syria\", \"Syria\", \"Syria\", \"Syria\", \"Syria\", \"Syria\", \"Syria\", \"Syria\"], \"legendgroup\": \"Country=Syria\", \"line\": {\"color\": \"#19d3f3\", \"dash\": \"solid\"}, \"mode\": \"lines\", \"name\": \"Country=Syria\", \"showlegend\": true, \"type\": \"scattergl\", \"x\": [1956, 1957, 1958, 1959, 1960, 1961, 1962, 1964, 1965, 1966, 1967, 1968, 1969, 1970, 1971, 1972, 1973, 1974, 1975, 1976, 1977, 1978, 1979, 1980, 1981, 1982, 1983, 1984, 1985, 1986, 1987, 1988, 1989, 1990, 1991, 1992, 1993, 1994, 1995, 1996, 1997, 1998, 1999, 2000, 2001, 2002, 2003, 2004, 2005, 2006, 2007, 2008, 2009, 2010, 2011], \"xaxis\": \"x\", \"y\": [55.58659217877095, 48.324022346368714, 81.00558659217876, 82.9608938547486, 90.22346368715084, 90.22346368715084, 149.59349593495935, 112.04188481675394, 118.0628272251309, 102.35602094240838, 118.58638743455498, 190.05235602094243, 194.5026178010471, 199.73821989528795, 176.9633507853403, 260.20942408376965, 388.67455698685677, 537.3809243166207, 887.8378378378378, 945.0588812433974, 998.2165605095541, 1213.5031847133757, 1581.656050955414, 2253.248407643312, 2437.707006369427, 2726.87898089172, 2733.503184713376, 3394.9044585987263, 3510.31847133758, 3678.980891719745, 3650.191082802548, 3722.802547770701, 1483.652561247216, 1641.781737193764, 2893.80846325167, 2976.570155902005, 1426.0952380952383, 1636.2997760899152, 957.8998189499096, 995.0890409326054, 1046.927961044541, 1096.0395330516365, 1127.6328571090103, 897.044908654196, 1022.526577913993, 1102.9121569096455, 1436.2107335444664, 1388.544983485948, 1450.3246566683906, 1435.2156922841161, 1599.0337230650305, 1732.4168479019934, 2181.9745811918024, 2346.021283012365, 2494.887483148397], \"yaxis\": \"y\"}, {\"hoverlabel\": {\"namelength\": 0}, \"hovertemplate\": \"<b>%{hovertext}</b><br><br>Country=Ethiopia<br>Year=%{x}<br>Value=%{y}\", \"hovertext\": [\"Ethiopia\", \"Ethiopia\", \"Ethiopia\", \"Ethiopia\", \"Ethiopia\", \"Ethiopia\", \"Ethiopia\", \"Ethiopia\", \"Ethiopia\", \"Ethiopia\", \"Ethiopia\", \"Ethiopia\", \"Ethiopia\", \"Ethiopia\", \"Ethiopia\", \"Ethiopia\", \"Ethiopia\", \"Ethiopia\", \"Ethiopia\", \"Ethiopia\", \"Ethiopia\", \"Ethiopia\", \"Ethiopia\", \"Ethiopia\", \"Ethiopia\", \"Ethiopia\", \"Ethiopia\", \"Ethiopia\", \"Ethiopia\", \"Ethiopia\", \"Ethiopia\", \"Ethiopia\", \"Ethiopia\", \"Ethiopia\", \"Ethiopia\", \"Ethiopia\", \"Ethiopia\", \"Ethiopia\", \"Ethiopia\", \"Ethiopia\", \"Ethiopia\", \"Ethiopia\", \"Ethiopia\", \"Ethiopia\", \"Ethiopia\", \"Ethiopia\", \"Ethiopia\", \"Ethiopia\", \"Ethiopia\", \"Ethiopia\", \"Ethiopia\", \"Ethiopia\", \"Ethiopia\", \"Ethiopia\", \"Ethiopia\", \"Ethiopia\", \"Ethiopia\", \"Ethiopia\", \"Ethiopia\", \"Ethiopia\", \"Ethiopia\", \"Ethiopia\", \"Ethiopia\", \"Ethiopia\"], \"legendgroup\": \"Country=Ethiopia\", \"line\": {\"color\": \"#FF6692\", \"dash\": \"solid\"}, \"mode\": \"lines\", \"name\": \"Country=Ethiopia\", \"showlegend\": true, \"type\": \"scattergl\", \"x\": [1957, 1958, 1959, 1960, 1961, 1962, 1963, 1964, 1965, 1966, 1967, 1968, 1969, 1970, 1971, 1972, 1973, 1974, 1975, 1976, 1977, 1978, 1979, 1980, 1981, 1982, 1983, 1984, 1985, 1986, 1987, 1988, 1989, 1990, 1991, 1992, 1993, 1994, 1995, 1996, 1997, 1998, 1999, 2000, 2001, 2002, 2003, 2004, 2005, 2006, 2007, 2008, 2009, 2010, 2011, 2012, 2013, 2014, 2015, 2016, 2017, 2018, 2019, 2020], \"xaxis\": \"x\", \"y\": [15.073637435750886, 16.20063836552665, 15.194387535369717, 15.33526265159169, 18.55526530809388, 20.185391652948116, 27.289522513856074, 36.14, 42.9, 43.42, 37.0, 34.66, 34.42, 34.54, 36.134238092946404, 41.04347826086957, 48.43359142346635, 74.7584541062802, 125.07246376811595, 128.0434782608696, 135.04830917874395, 178.21256038647346, 276.32850241545896, 359.3236714975846, 366.9806763285024, 387.36714975845416, 408.4057971014493, 423.01932367149766, 429.44444444444446, 439.2028985507247, 476.6183574879227, 614.8550724637681, 781.5217391304349, 785.048309178744, 529.0338164251208, 255.34344335414806, 163.85, 148.69167429094236, 122.460147475046, 126.45473323593127, 225.41710511018968, 458.54992544874796, 703.7048695268973, 617.5416136279003, 349.8082764508146, 288.9323334597765, 278.6731599315324, 311.03874898964517, 342.0666386659343, 345.6870170210907, 360.1403086120266, 388.18759674741193, 339.62776796630897, 303.6170330890518, 332.4417723915925, 366.53901766752523, 345.0641658440276, 414.4760258300706, 442.532624456259, 490.1772485320749, 499.7954834873768, 512.0290567106032, 544.8394298471578, 461.25762391547113], \"yaxis\": \"y\"}, {\"hoverlabel\": {\"namelength\": 0}, \"hovertemplate\": \"<b>%{hovertext}</b><br><br>Country=Iraq<br>Year=%{x}<br>Value=%{y}\", \"hovertext\": [\"Iraq\", \"Iraq\", \"Iraq\", \"Iraq\", \"Iraq\", \"Iraq\", \"Iraq\", \"Iraq\", \"Iraq\", \"Iraq\", \"Iraq\", \"Iraq\", \"Iraq\", \"Iraq\", \"Iraq\", \"Iraq\", \"Iraq\", \"Iraq\", \"Iraq\", \"Iraq\", \"Iraq\", \"Iraq\", \"Iraq\", \"Iraq\", \"Iraq\", \"Iraq\", \"Iraq\", \"Iraq\", \"Iraq\", \"Iraq\", \"Iraq\", \"Iraq\", \"Iraq\", \"Iraq\", \"Iraq\", \"Iraq\", \"Iraq\", \"Iraq\", \"Iraq\", \"Iraq\", \"Iraq\", \"Iraq\"], \"legendgroup\": \"Country=Iraq\", \"line\": {\"color\": \"#B6E880\", \"dash\": \"solid\"}, \"mode\": \"lines\", \"name\": \"Country=Iraq\", \"showlegend\": true, \"type\": \"scattergl\", \"x\": [1957, 1958, 1959, 1960, 1961, 1962, 1963, 1964, 1965, 1966, 1967, 1968, 1969, 1970, 1971, 1972, 1973, 1974, 1975, 1976, 1977, 1978, 1979, 1980, 1981, 2004, 2005, 2006, 2007, 2008, 2009, 2010, 2011, 2012, 2013, 2014, 2015, 2016, 2017, 2018, 2019, 2020], \"xaxis\": \"x\", \"y\": [83.24396670241332, 86.68796532481387, 100.16295993481603, 118.726952509219, 125.48194980722009, 135.0649459740216, 163.21893471242612, 185.19892592042964, 225.74290970283613, 234.9969060012376, 234.54190618323753, 291.43788342484663, 375.9978496008602, 401.05083957966417, 426.26334016538266, 466.11328807809116, 665.1852889854231, 1427.457784181032, 1590.171817116696, 1761.1762395280955, 2007.6935058954195, 1986.021658302688, 2371.7128209295865, 2976.4928178142586, 4086.4977617044906, 613.7248696178667, 1120.2785326086957, 1236.0810129342656, 1989.9487473795803, 3116.3040198477893, 3237.1794871794873, 3752.9059829059825, 4278.6324786324785, 4141.066053834346, 7780.188679245283, 6923.644082332762, 9604.23101085097, 5970.383697669416, 7416.385135135135, 6317.977150052539, 7598.829335745368, 7015.558808232815], \"yaxis\": \"y\"}, {\"hoverlabel\": {\"namelength\": 0}, \"hovertemplate\": \"<b>%{hovertext}</b><br><br>Country=Libya<br>Year=%{x}<br>Value=%{y}\", \"hovertext\": [\"Libya\", \"Libya\", \"Libya\", \"Libya\", \"Libya\", \"Libya\", \"Libya\", \"Libya\", \"Libya\", \"Libya\", \"Libya\", \"Libya\", \"Libya\", \"Libya\", \"Libya\", \"Libya\", \"Libya\", \"Libya\", \"Libya\", \"Libya\", \"Libya\", \"Libya\", \"Libya\", \"Libya\", \"Libya\", \"Libya\", \"Libya\", \"Libya\", \"Libya\", \"Libya\", \"Libya\", \"Libya\", \"Libya\", \"Libya\", \"Libya\", \"Libya\", \"Libya\", \"Libya\", \"Libya\"], \"legendgroup\": \"Country=Libya\", \"line\": {\"color\": \"#FF97FF\", \"dash\": \"solid\"}, \"mode\": \"lines\", \"name\": \"Country=Libya\", \"showlegend\": true, \"type\": \"scattergl\", \"x\": [1959, 1960, 1961, 1962, 1963, 1964, 1965, 1966, 1967, 1968, 1969, 1970, 1971, 1972, 1973, 1974, 1975, 1976, 1977, 1978, 1979, 1980, 1981, 1982, 1997, 1998, 1999, 2000, 2001, 2002, 2003, 2004, 2005, 2006, 2007, 2008, 2012, 2013, 2014], \"xaxis\": \"x\", \"y\": [5.571997771200891, 5.571997771200891, 7.167997132801148, 16.687993324802672, 18.67599252960299, 21.475991409603434, 29.119988352004658, 58.519976592009364, 79.51996819201273, 95.47996180801529, 143.0799427680229, 242.47990300803883, 243.03587164562788, 202.76822710041438, 298.3074800183984, 431.68237904955566, 287.7882526997038, 326.2951315820585, 479.6470878328396, 729.9418005681453, 853.5691485588632, 1074.1392530341056, 557.3345223136477, 709.3324506085058, 1251.9908172874545, 1443.6217582671406, 1153.4870884907862, 1085.534664870458, 819.7479936006769, 452.5136147574527, 541.401766516621, 685.0732200740247, 690.9307693483545, 614.356296200431, 639.1370461889375, 1100.0686521298505, 2987.41340773267, 3964.690154136521, 3755.652496350929], \"yaxis\": \"y\"}, {\"hoverlabel\": {\"namelength\": 0}, \"hovertemplate\": \"<b>%{hovertext}</b><br><br>Country=Iran<br>Year=%{x}<br>Value=%{y}\", \"hovertext\": [\"Iran\", \"Iran\", \"Iran\", \"Iran\", \"Iran\", \"Iran\", \"Iran\", \"Iran\", \"Iran\", \"Iran\", \"Iran\", \"Iran\", \"Iran\", \"Iran\", \"Iran\", \"Iran\", \"Iran\", \"Iran\", \"Iran\", \"Iran\", \"Iran\", \"Iran\", \"Iran\", \"Iran\", \"Iran\", \"Iran\", \"Iran\", \"Iran\", \"Iran\", \"Iran\", \"Iran\", \"Iran\", \"Iran\", \"Iran\", \"Iran\", \"Iran\", \"Iran\", \"Iran\", \"Iran\", \"Iran\", \"Iran\", \"Iran\", \"Iran\", \"Iran\", \"Iran\", \"Iran\", \"Iran\", \"Iran\", \"Iran\", \"Iran\", \"Iran\", \"Iran\", \"Iran\", \"Iran\", \"Iran\", \"Iran\", \"Iran\", \"Iran\", \"Iran\", \"Iran\", \"Iran\"], \"legendgroup\": \"Country=Iran\", \"line\": {\"color\": \"#FECB52\", \"dash\": \"solid\"}, \"mode\": \"lines\", \"name\": \"Country=Iran\", \"showlegend\": true, \"type\": \"scattergl\", \"x\": [1960, 1961, 1962, 1963, 1964, 1965, 1966, 1967, 1968, 1969, 1970, 1971, 1972, 1973, 1974, 1975, 1976, 1977, 1978, 1979, 1980, 1981, 1982, 1983, 1984, 1985, 1986, 1987, 1988, 1989, 1990, 1991, 1992, 1993, 1994, 1995, 1996, 1997, 1998, 1999, 2000, 2001, 2002, 2003, 2004, 2005, 2006, 2007, 2008, 2009, 2010, 2011, 2012, 2013, 2014, 2015, 2016, 2017, 2018, 2019, 2020], \"xaxis\": \"x\", \"y\": [98.67986798679867, 105.94059405940594, 109.9009900990099, 128.7128712871287, 155.44554455445547, 200.00000000000003, 256.1056105610561, 331.023102310231, 437.2937293729373, 566.006600660066, 620.1320132013202, 402.3102310231023, 371.94719471947195, 480.8571669129623, 3877.8626631267116, 5951.043741982016, 7186.307294358153, 7617.207960430016, 8113.739880875546, 4993.779938919994, 4874.889400106175, 8121.567621447014, 9703.525315259945, 10550.357292931585, 9926.303621971003, 10706.415944506478, 11741.433342091335, 15263.376569599572, 18889.008562658197, 16301.812932063633, 16474.401698234527, 17549.5948299352, 19732.55801540571, 1448.1777034805784, 1703.171536205704, 2501.544189557847, 3550.9869641929276, 4642.384615823301, 5479.36294174375, 6650.2851439977185, 8327.053824362605, 10378.791765718619, 3243.891033232663, 3717.0684497839247, 5243.621132599411, 6796.744965394759, 8751.474767035876, 9330.901881771117, 11081.950208569098, 12584.623338706246, 13561.272454213882, 14277.667360568184, 16493.96328692867, 11997.1869840994, 9901.118855302648, 10588.769670868436, 12263.957414621567, 13931.196489797547, 11230.852287933145, 12528.450210913432, 15825.143121288625], \"yaxis\": \"y\"}, {\"hoverlabel\": {\"namelength\": 0}, \"hovertemplate\": \"<b>%{hovertext}</b><br><br>Country=Nigeria<br>Year=%{x}<br>Value=%{y}\", \"hovertext\": [\"Nigeria\", \"Nigeria\", \"Nigeria\", \"Nigeria\", \"Nigeria\", \"Nigeria\", \"Nigeria\", \"Nigeria\", \"Nigeria\", \"Nigeria\", \"Nigeria\", \"Nigeria\", \"Nigeria\", \"Nigeria\", \"Nigeria\", \"Nigeria\", \"Nigeria\", \"Nigeria\", \"Nigeria\", \"Nigeria\", \"Nigeria\", \"Nigeria\", \"Nigeria\", \"Nigeria\", \"Nigeria\", \"Nigeria\", \"Nigeria\", \"Nigeria\", \"Nigeria\", \"Nigeria\", \"Nigeria\", \"Nigeria\", \"Nigeria\", \"Nigeria\", \"Nigeria\", \"Nigeria\", \"Nigeria\", \"Nigeria\", \"Nigeria\", \"Nigeria\", \"Nigeria\", \"Nigeria\", \"Nigeria\", \"Nigeria\", \"Nigeria\", \"Nigeria\", \"Nigeria\", \"Nigeria\", \"Nigeria\", \"Nigeria\", \"Nigeria\", \"Nigeria\", \"Nigeria\", \"Nigeria\", \"Nigeria\", \"Nigeria\", \"Nigeria\", \"Nigeria\", \"Nigeria\", \"Nigeria\", \"Nigeria\"], \"legendgroup\": \"Country=Nigeria\", \"line\": {\"color\": \"#636efa\", \"dash\": \"solid\"}, \"mode\": \"lines\", \"name\": \"Country=Nigeria\", \"showlegend\": true, \"type\": \"scattergl\", \"x\": [1960, 1961, 1962, 1963, 1964, 1965, 1966, 1967, 1968, 1969, 1970, 1971, 1972, 1973, 1974, 1975, 1976, 1977, 1978, 1979, 1980, 1981, 1982, 1983, 1984, 1985, 1986, 1987, 1988, 1989, 1990, 1991, 1992, 1993, 1994, 1995, 1996, 1997, 1998, 1999, 2000, 2001, 2002, 2003, 2004, 2005, 2006, 2007, 2008, 2009, 2010, 2011, 2012, 2013, 2014, 2015, 2016, 2017, 2018, 2019, 2020], \"xaxis\": \"x\", \"y\": [23.37999064800374, 28.279988688004526, 38.63998454400618, 45.49998180000728, 54.3199782720087, 65.93997362401056, 55.71997771200891, 239.9599040160384, 369.0398523840591, 684.4597262161095, 662.339735064106, 639.2595418990651, 904.0956383617446, 1020.2235919105632, 1351.1412351931358, 3028.5847974498865, 2644.426038260392, 3138.1989480394786, 3022.6422697679104, 3070.8253381169425, 3029.9150848328677, 2135.475014084325, 1651.9145132383317, 1627.393326983338, 1210.916249525457, 1091.6629931056398, 516.8935093358867, 201.691218214958, 271.10604654648364, 170.70551126789442, 277.29778348380063, 243.70578102404866, 173.65767932294315, 289.23110390022384, 319.6944899072559, 639.4066306467598, 701.4128785801759, 818.784525338, 1149.6847299643607, 491.671368589997, 368.64410946242265, 570.6322877615054, 896.9132014131931, 587.4618872947331, 639.9900668231894, 674.20814479638, 776.1480583278924, 971.3213786086734, 1615.5332107367603, 1504.4861721132022, 1990.0996686582655, 2384.9360217138424, 2316.4781998615867, 2418.7601708706266, 2357.6712192906225, 2065.557663350914, 1723.2042663951536, 1621.218176403174, 2043.051719216729, 1860.2604295613423, 2567.917819043856], \"yaxis\": \"y\"}, {\"hoverlabel\": {\"namelength\": 0}, \"hovertemplate\": \"<b>%{hovertext}</b><br><br>Country=Sierra Leone<br>Year=%{x}<br>Value=%{y}\", \"hovertext\": [\"Sierra Leone\", \"Sierra Leone\", \"Sierra Leone\", \"Sierra Leone\", \"Sierra Leone\", \"Sierra Leone\", \"Sierra Leone\", \"Sierra Leone\", \"Sierra Leone\", \"Sierra Leone\", \"Sierra Leone\", \"Sierra Leone\", \"Sierra Leone\", \"Sierra Leone\", \"Sierra Leone\", \"Sierra Leone\", \"Sierra Leone\", \"Sierra Leone\", \"Sierra Leone\", \"Sierra Leone\", \"Sierra Leone\", \"Sierra Leone\", \"Sierra Leone\", \"Sierra Leone\", \"Sierra Leone\", \"Sierra Leone\", \"Sierra Leone\", \"Sierra Leone\", \"Sierra Leone\", \"Sierra Leone\", \"Sierra Leone\", \"Sierra Leone\", \"Sierra Leone\", \"Sierra Leone\", \"Sierra Leone\", \"Sierra Leone\", \"Sierra Leone\", \"Sierra Leone\", \"Sierra Leone\", \"Sierra Leone\", \"Sierra Leone\", \"Sierra Leone\", \"Sierra Leone\", \"Sierra Leone\", \"Sierra Leone\", \"Sierra Leone\", \"Sierra Leone\", \"Sierra Leone\", \"Sierra Leone\", \"Sierra Leone\", \"Sierra Leone\", \"Sierra Leone\", \"Sierra Leone\", \"Sierra Leone\", \"Sierra Leone\", \"Sierra Leone\", \"Sierra Leone\", \"Sierra Leone\"], \"legendgroup\": \"Country=Sierra Leone\", \"line\": {\"color\": \"#EF553B\", \"dash\": \"solid\"}, \"mode\": \"lines\", \"name\": \"Country=Sierra Leone\", \"showlegend\": true, \"type\": \"scattergl\", \"x\": [1961, 1962, 1963, 1964, 1965, 1966, 1967, 1968, 1969, 1970, 1971, 1972, 1973, 1974, 1975, 1976, 1977, 1978, 1979, 1980, 1981, 1982, 1983, 1984, 1985, 1986, 1987, 1988, 1989, 1990, 1991, 1992, 1993, 1994, 1995, 1996, 1997, 2000, 2001, 2002, 2003, 2004, 2005, 2006, 2007, 2008, 2009, 2010, 2011, 2012, 2013, 2014, 2015, 2016, 2017, 2018, 2019, 2020], \"xaxis\": \"x\", \"y\": [1.9305992277603088, 1.9837992064803176, 2.155999137600345, 2.3533990586403766, 2.505998997600401, 2.5395989841604063, 2.883153573494871, 2.6580010632004254, 3.2976013190405276, 3.986401594560638, 3.7706374098260427, 4.23461066807196, 5.022404825428557, 6.779970097993947, 6.526389844494935, 6.020631896768628, 7.064980375054513, 8.11812347188264, 10.785547366528851, 15.907791960373403, 15.788111465792426, 14.128284826222096, 10.2369346480457, 9.92051634494711, 6.281702969675079, 7.227148725150852, 4.585444664757289, 9.011475021606012, 14.394912125832597, 12.387253542516806, 23.179749715585896, 26.661754518042137, 23.339131109031666, 26.49555169240209, 25.02330459100443, 18.592815281754085, 9.490749703000159, 23.310804351566834, 29.911134607154544, 27.133961877629186, 28.467933592851605, 22.961537037722575, 23.552130233008835, 28.02245848118275, 29.07687617873569, 23.645736556308712, 26.405564662620176, 25.06227863120241, 25.4761839067774, 29.75893407979669, 31.684939411425272, 48.81063078771625, 39.22651426584026, 37.41473216954801, 39.57782600412428, 29.622478099625702, 25.641867776012568, 23.8273810780594], \"yaxis\": \"y\"}, {\"hoverlabel\": {\"namelength\": 0}, \"hovertemplate\": \"<b>%{hovertext}</b><br><br>Country=Somalia<br>Year=%{x}<br>Value=%{y}\", \"hovertext\": [\"Somalia\", \"Somalia\", \"Somalia\", \"Somalia\", \"Somalia\", \"Somalia\", \"Somalia\", \"Somalia\", \"Somalia\", \"Somalia\", \"Somalia\", \"Somalia\", \"Somalia\", \"Somalia\", \"Somalia\", \"Somalia\", \"Somalia\", \"Somalia\", \"Somalia\", \"Somalia\", \"Somalia\", \"Somalia\", \"Somalia\", \"Somalia\", \"Somalia\", \"Somalia\", \"Somalia\", \"Somalia\", \"Somalia\", \"Somalia\", \"Somalia\", \"Somalia\", \"Somalia\", \"Somalia\", \"Somalia\", \"Somalia\", \"Somalia\"], \"legendgroup\": \"Country=Somalia\", \"line\": {\"color\": \"#00cc96\", \"dash\": \"solid\"}, \"mode\": \"lines\", \"name\": \"Country=Somalia\", \"showlegend\": true, \"type\": \"scattergl\", \"x\": [1961, 1962, 1963, 1964, 1965, 1966, 1967, 1968, 1969, 1970, 1971, 1972, 1973, 1974, 1975, 1976, 1977, 1978, 1979, 1980, 1981, 1982, 1983, 1984, 1985, 1986, 1987, 1988, 1989, 2013, 2014, 2015, 2016, 2017, 2018, 2019, 2020], \"xaxis\": \"x\", \"y\": [3.16, 3.7, 4.48, 5.42, 5.17, 6.5, 7.53, 8.34, 9.0, 11.2, 11.4, 13.2, 16.1, 21.4, 23.1, 26.3, 31.7, 81.4, 87.7, 95.5, 134.0, 83.9, 83.9, 89.2, 44.3, 34.9, 28.5, 49.5, 8.56, 26.05, 60.258, 46.614, 47.706, 61.813, 76.562, 77.535, 98.385], \"yaxis\": \"y\"}, {\"hoverlabel\": {\"namelength\": 0}, \"hovertemplate\": \"<b>%{hovertext}</b><br><br>Country=Togo<br>Year=%{x}<br>Value=%{y}\", \"hovertext\": [\"Togo\", \"Togo\", \"Togo\", \"Togo\", \"Togo\", \"Togo\", \"Togo\", \"Togo\", \"Togo\", \"Togo\", \"Togo\", \"Togo\", \"Togo\", \"Togo\", \"Togo\", \"Togo\", \"Togo\", \"Togo\", \"Togo\", \"Togo\", \"Togo\", \"Togo\", \"Togo\", \"Togo\", \"Togo\", \"Togo\", \"Togo\", \"Togo\", \"Togo\", \"Togo\", \"Togo\", \"Togo\", \"Togo\", \"Togo\", \"Togo\", \"Togo\", \"Togo\", \"Togo\", \"Togo\", \"Togo\", \"Togo\", \"Togo\", \"Togo\", \"Togo\", \"Togo\", \"Togo\", \"Togo\", \"Togo\", \"Togo\", \"Togo\", \"Togo\"], \"legendgroup\": \"Country=Togo\", \"line\": {\"color\": \"#ab63fa\", \"dash\": \"solid\"}, \"mode\": \"lines\", \"name\": \"Country=Togo\", \"showlegend\": true, \"type\": \"scattergl\", \"x\": [1961, 1962, 1963, 1964, 1965, 1966, 1967, 1968, 1969, 1970, 1971, 1972, 1973, 1974, 1975, 1976, 1977, 1978, 1979, 1980, 1981, 1982, 1983, 1984, 1985, 1986, 1987, 1988, 1989, 1990, 1991, 1992, 1993, 1994, 1995, 2003, 2004, 2005, 2008, 2009, 2010, 2011, 2012, 2013, 2014, 2015, 2016, 2017, 2018, 2019, 2020], \"xaxis\": \"x\", \"y\": [0.3269999184538857, 0.7142449002914119, 1.134619779932739, 3.3833006158504983, 3.362428130139026, 2.8899616571284366, 3.1056784322014948, 3.288025367075314, 3.4351306542135167, 3.6504668907356286, 4.183674951698892, 5.126414525370198, 6.873376434009753, 8.097048254086953, 11.114584742876076, 14.233103159656832, 21.10875936177141, 22.7337185804942, 22.498848262050938, 24.763347216963272, 22.52595397654298, 18.54196210659574, 16.398734077561368, 15.692619639918803, 18.87980982186381, 30.011030706947036, 43.41229199732479, 43.08909242298085, 41.861019159394125, 50.748351789616734, 45.90456812486042, 49.11368685113264, 50.147794733068935, 25.396024891706663, 30.852572784023973, 28.831211286992428, 31.71962103788675, 33.23803529313627, 57.00918926764998, 55.13081709326409, 56.832843035311555, 59.01887400236508, 62.931049680036516, 72.41923730871993, 83.08001156110065, 69.97717474004565, 82.01969041231563, 88.41411492217038, 104.3789946450164, 170.5668324350892, 116.30493335881974], \"yaxis\": \"y\"}, {\"hoverlabel\": {\"namelength\": 0}, \"hovertemplate\": \"<b>%{hovertext}</b><br><br>Country=Burundi<br>Year=%{x}<br>Value=%{y}\", \"hovertext\": [\"Burundi\", \"Burundi\", \"Burundi\", \"Burundi\", \"Burundi\", \"Burundi\", \"Burundi\", \"Burundi\", \"Burundi\", \"Burundi\", \"Burundi\", \"Burundi\", \"Burundi\", \"Burundi\", \"Burundi\", \"Burundi\", \"Burundi\", \"Burundi\", \"Burundi\", \"Burundi\", \"Burundi\", \"Burundi\", \"Burundi\", \"Burundi\", \"Burundi\", \"Burundi\", \"Burundi\", \"Burundi\", \"Burundi\", \"Burundi\", \"Burundi\", \"Burundi\", \"Burundi\", \"Burundi\", \"Burundi\", \"Burundi\", \"Burundi\", \"Burundi\", \"Burundi\", \"Burundi\", \"Burundi\", \"Burundi\", \"Burundi\", \"Burundi\", \"Burundi\", \"Burundi\", \"Burundi\", \"Burundi\", \"Burundi\", \"Burundi\", \"Burundi\", \"Burundi\", \"Burundi\", \"Burundi\", \"Burundi\"], \"legendgroup\": \"Country=Burundi\", \"line\": {\"color\": \"#FFA15A\", \"dash\": \"solid\"}, \"mode\": \"lines\", \"name\": \"Country=Burundi\", \"showlegend\": true, \"type\": \"scattergl\", \"x\": [1962, 1963, 1964, 1965, 1966, 1967, 1968, 1969, 1971, 1972, 1973, 1974, 1975, 1976, 1977, 1978, 1979, 1980, 1981, 1982, 1983, 1984, 1985, 1986, 1987, 1988, 1989, 1990, 1991, 1992, 1993, 1994, 1995, 1996, 1997, 1998, 1999, 2000, 2001, 2002, 2003, 2004, 2005, 2006, 2007, 2008, 2012, 2013, 2014, 2015, 2016, 2017, 2018, 2019, 2020], \"xaxis\": \"x\", \"y\": [8.42, 1.012, 1.162, 2.1534814814814816, 2.286857142857143, 2.376, 2.5908571428571427, 3.337142857142857, 2.6285714285714286, 3.6, 5.923067599195763, 7.682539682539683, 8.533333333333333, 9.971014492753623, 13.955555555555556, 17.03333333333333, 20.0, 27.763333333333332, 29.995555555555555, 36.66555555555555, 34.3696442000553, 29.938434035870316, 32.22029811667812, 34.60773751653222, 30.784856430675603, 34.25549342925318, 37.90328171579471, 39.60234737671893, 42.751758827191445, 38.98647643096835, 36.26740258670401, 41.90974503486872, 42.1089298798432, 50.89398078263368, 61.870123825390024, 58.736036233211095, 50.5711882632257, 42.32155221577609, 53.230373106377655, 44.910067053523555, 43.41320130793815, 44.87237714597148, 49.55712938478892, 44.717502041451176, 46.308706221634765, 43.85631994872184, 58.96666227617139, 60.8595000932422, 62.17729473908798, 66.16458443559236, 66.4628430779874, 63.908678432008834, 65.43659526279552, 84.68941391820168, 67.47409271629704], \"yaxis\": \"y\"}, {\"hoverlabel\": {\"namelength\": 0}, \"hovertemplate\": \"<b>%{hovertext}</b><br><br>Country=Egypt<br>Year=%{x}<br>Value=%{y}\", \"hovertext\": [\"Egypt\", \"Egypt\", \"Egypt\", \"Egypt\", \"Egypt\", \"Egypt\", \"Egypt\", \"Egypt\", \"Egypt\", \"Egypt\", \"Egypt\", \"Egypt\", \"Egypt\", \"Egypt\", \"Egypt\", \"Egypt\", \"Egypt\", \"Egypt\", \"Egypt\", \"Egypt\", \"Egypt\", \"Egypt\", \"Egypt\", \"Egypt\", \"Egypt\", \"Egypt\", \"Egypt\", \"Egypt\", \"Egypt\", \"Egypt\", \"Egypt\", \"Egypt\", \"Egypt\", \"Egypt\", \"Egypt\", \"Egypt\", \"Egypt\", \"Egypt\", \"Egypt\", \"Egypt\", \"Egypt\", \"Egypt\", \"Egypt\", \"Egypt\", \"Egypt\", \"Egypt\", \"Egypt\", \"Egypt\", \"Egypt\", \"Egypt\", \"Egypt\", \"Egypt\", \"Egypt\", \"Egypt\", \"Egypt\", \"Egypt\", \"Egypt\", \"Egypt\", \"Egypt\"], \"legendgroup\": \"Country=Egypt\", \"line\": {\"color\": \"#19d3f3\", \"dash\": \"solid\"}, \"mode\": \"lines\", \"name\": \"Country=Egypt\", \"showlegend\": true, \"type\": \"scattergl\", \"x\": [1962, 1963, 1964, 1965, 1966, 1967, 1968, 1969, 1970, 1971, 1972, 1973, 1974, 1975, 1976, 1977, 1978, 1979, 1980, 1981, 1982, 1983, 1984, 1985, 1986, 1987, 1988, 1989, 1990, 1991, 1992, 1993, 1994, 1995, 1996, 1997, 1998, 1999, 2000, 2001, 2002, 2003, 2004, 2005, 2006, 2007, 2008, 2009, 2010, 2011, 2012, 2013, 2014, 2015, 2016, 2017, 2018, 2019, 2020], \"xaxis\": \"x\", \"y\": [249.69776681195285, 335.799697780272, 448.49959635036333, 515.1995363204173, 481.8495663353903, 508.29954253041177, 648.5994162605253, 888.9491999457201, 1092.499016750885, 1266.1488604660256, 1066.0490405558637, 1243.8561046949917, 1852.779424692822, 1926.890601680535, 2201.6130681005047, 2751.0580009404453, 2485.279986915544, 1152.8554959207202, 1361.4266265333908, 1817.1402612281984, 2307.1395612291985, 3004.281422455111, 3742.1375112321266, 4203.565423477967, 4727.13610409128, 4805.707420417971, 4453.56506633562, 3516.344801405846, 2260.6451612903224, 1345.7573430294995, 1415.8199744110784, 1526.165392003627, 1714.4097863302147, 1948.8769857998177, 2115.7429794661916, 2267.6503135374405, 2372.048406139315, 2447.978793903247, 2627.6983338373584, 2834.256229549459, 2902.768425240073, 2383.914898271713, 2369.743586433063, 2659.4397135752392, 2952.5201590045294, 3306.9082572226075, 3779.8803497468934, 4017.404478271456, 4407.286452719168, 4463.974191069017, 4557.748767350389, 4359.83424376995, 5085.12157627973, 5475.490833441686, 4513.022526816316, 2765.5884340120665, 3119.587363842486, 3743.6714515456547, 4505.374644325008], \"yaxis\": \"y\"}, {\"hoverlabel\": {\"namelength\": 0}, \"hovertemplate\": \"<b>%{hovertext}</b><br><br>Country=Guinea<br>Year=%{x}<br>Value=%{y}\", \"hovertext\": [\"Guinea\", \"Guinea\", \"Guinea\", \"Guinea\", \"Guinea\", \"Guinea\", \"Guinea\", \"Guinea\", \"Guinea\", \"Guinea\", \"Guinea\", \"Guinea\", \"Guinea\", \"Guinea\", \"Guinea\", \"Guinea\", \"Guinea\", \"Guinea\", \"Guinea\", \"Guinea\", \"Guinea\", \"Guinea\", \"Guinea\", \"Guinea\", \"Guinea\", \"Guinea\", \"Guinea\", \"Guinea\", \"Guinea\", \"Guinea\", \"Guinea\", \"Guinea\", \"Guinea\", \"Guinea\"], \"legendgroup\": \"Country=Guinea\", \"line\": {\"color\": \"#FF6692\", \"dash\": \"solid\"}, \"mode\": \"lines\", \"name\": \"Country=Guinea\", \"showlegend\": true, \"type\": \"scattergl\", \"x\": [1965, 1966, 1968, 1969, 1970, 1971, 1972, 1973, 1978, 1979, 1980, 1981, 1982, 1991, 1992, 1993, 1994, 1997, 1998, 1999, 2000, 2001, 2002, 2003, 2004, 2012, 2013, 2014, 2015, 2016, 2017, 2018, 2019, 2020], \"xaxis\": \"x\", \"y\": [10.492201741948552, 13.895077982580515, 14.17865100263318, 14.70528661130241, 15.069880494227265, 26.327764415263605, 31.711404230239747, 36.058910702304004, 85.22828098461225, 71.02109174648035, 60.30924302410788, 52.510728896654115, 52.26683358669409, 71.76417839964557, 55.65404029485555, 43.956503992715774, 45.8717475087955, 44.37018980581195, 45.03448331621969, 55.21118639181202, 45.96793121411439, 87.71839881880076, 98.08486517126894, 84.13394930803605, 81.01857009799771, 168.9133574679029, 196.818705594191, 196.94558975324063, 221.4142323102065, 161.85674445321777, 181.63777587054466, 197.07952635247594, 197.75433070763407, 209.67040043205742], \"yaxis\": \"y\"}, {\"hoverlabel\": {\"namelength\": 0}, \"hovertemplate\": \"<b>%{hovertext}</b><br><br>Country=Liberia<br>Year=%{x}<br>Value=%{y}\", \"hovertext\": [\"Liberia\", \"Liberia\", \"Liberia\", \"Liberia\", \"Liberia\", \"Liberia\", \"Liberia\", \"Liberia\", \"Liberia\", \"Liberia\", \"Liberia\", \"Liberia\", \"Liberia\", \"Liberia\", \"Liberia\", \"Liberia\", \"Liberia\", \"Liberia\", \"Liberia\", \"Liberia\", \"Liberia\", \"Liberia\", \"Liberia\", \"Liberia\", \"Liberia\", \"Liberia\", \"Liberia\", \"Liberia\", \"Liberia\", \"Liberia\", \"Liberia\", \"Liberia\", \"Liberia\", \"Liberia\", \"Liberia\", \"Liberia\", \"Liberia\", \"Liberia\", \"Liberia\", \"Liberia\", \"Liberia\", \"Liberia\", \"Liberia\", \"Liberia\", \"Liberia\"], \"legendgroup\": \"Country=Liberia\", \"line\": {\"color\": \"#B6E880\", \"dash\": \"solid\"}, \"mode\": \"lines\", \"name\": \"Country=Liberia\", \"showlegend\": true, \"type\": \"scattergl\", \"x\": [1965, 1966, 1967, 1968, 1969, 1970, 1971, 1972, 1973, 1974, 1975, 1976, 1977, 1978, 1979, 1980, 1981, 1982, 1983, 1984, 1985, 1986, 1987, 1988, 1991, 1992, 1993, 1994, 2004, 2005, 2006, 2007, 2008, 2009, 2010, 2011, 2012, 2013, 2014, 2015, 2016, 2017, 2018, 2019, 2020], \"xaxis\": \"x\", \"y\": [2.7, 2.8, 3.05, 3.05, 3.05, 3.55, 4.05, 4.05, 3.75, 4.55, 5.5, 6.4, 7.75, 8.9, 9.4, 12.75, 26.35, 43.35, 38.75, 24.95, 25.15, 24.35, 22.25, 25.0, 25.0, 22.65, 30.45, 39.3, 3.182, 8.025, 3.925, 3.486, 3.907, 7.193, 8.458, 13.271, 15.179, 15.1115, 14.531, 14.799, 14.712, 13.3355, 16.7885, 19.2285, 16.937], \"yaxis\": \"y\"}, {\"hoverlabel\": {\"namelength\": 0}, \"hovertemplate\": \"<b>%{hovertext}</b><br><br>Country=Zimbabwe<br>Year=%{x}<br>Value=%{y}\", \"hovertext\": [\"Zimbabwe\", \"Zimbabwe\", \"Zimbabwe\", \"Zimbabwe\", \"Zimbabwe\", \"Zimbabwe\", \"Zimbabwe\", \"Zimbabwe\", \"Zimbabwe\", \"Zimbabwe\", \"Zimbabwe\", \"Zimbabwe\", \"Zimbabwe\", \"Zimbabwe\", \"Zimbabwe\", \"Zimbabwe\", \"Zimbabwe\", \"Zimbabwe\", \"Zimbabwe\", \"Zimbabwe\", \"Zimbabwe\", \"Zimbabwe\", \"Zimbabwe\", \"Zimbabwe\", \"Zimbabwe\", \"Zimbabwe\", \"Zimbabwe\", \"Zimbabwe\", \"Zimbabwe\", \"Zimbabwe\", \"Zimbabwe\", \"Zimbabwe\", \"Zimbabwe\", \"Zimbabwe\", \"Zimbabwe\", \"Zimbabwe\", \"Zimbabwe\", \"Zimbabwe\", \"Zimbabwe\", \"Zimbabwe\", \"Zimbabwe\", \"Zimbabwe\", \"Zimbabwe\", \"Zimbabwe\", \"Zimbabwe\", \"Zimbabwe\", \"Zimbabwe\", \"Zimbabwe\", \"Zimbabwe\", \"Zimbabwe\", \"Zimbabwe\", \"Zimbabwe\"], \"legendgroup\": \"Country=Zimbabwe\", \"line\": {\"color\": \"#FF97FF\", \"dash\": \"solid\"}, \"mode\": \"lines\", \"name\": \"Country=Zimbabwe\", \"showlegend\": true, \"type\": \"scattergl\", \"x\": [1965, 1966, 1967, 1968, 1969, 1970, 1971, 1972, 1973, 1974, 1975, 1976, 1977, 1978, 1979, 1980, 1981, 1982, 1983, 1984, 1985, 1986, 1987, 1988, 1989, 1990, 1991, 1992, 1993, 1994, 1995, 1996, 1997, 1998, 1999, 2000, 2001, 2002, 2003, 2004, 2005, 2006, 2010, 2011, 2012, 2013, 2014, 2015, 2016, 2017, 2018, 2019], \"xaxis\": \"x\", \"y\": [15.6, 16.95, 19.0, 30.6, 42.35, 45.95, 49.85, 58.45, 86.9, 118.55, 148.6, 199.8, 285.35, 347.75, 441.15, 442.75, 389.7, 437.45, 431.75, 360.65, 309.3, 342.2, 392.6, 407.05, 408.6, 416.3, 376.05, 296.35, 249.8, 247.9, 262.9, 291.65, 311.4, 306.0, 263.4, 346.3, 286.7, 677.0, 194.8, 256.1, 131.4, 161.7, 98.293, 198.438, 318.272, 356.7, 368.1, 376.677, 358.065, 340.522, 420.364, 546.939], \"yaxis\": \"y\"}, {\"hoverlabel\": {\"namelength\": 0}, \"hovertemplate\": \"<b>%{hovertext}</b><br><br>Country=Afghanistan<br>Year=%{x}<br>Value=%{y}\", \"hovertext\": [\"Afghanistan\", \"Afghanistan\", \"Afghanistan\", \"Afghanistan\", \"Afghanistan\", \"Afghanistan\", \"Afghanistan\", \"Afghanistan\", \"Afghanistan\", \"Afghanistan\", \"Afghanistan\", \"Afghanistan\", \"Afghanistan\", \"Afghanistan\", \"Afghanistan\", \"Afghanistan\", \"Afghanistan\", \"Afghanistan\", \"Afghanistan\", \"Afghanistan\", \"Afghanistan\", \"Afghanistan\", \"Afghanistan\"], \"legendgroup\": \"Country=Afghanistan\", \"line\": {\"color\": \"#FECB52\", \"dash\": \"solid\"}, \"mode\": \"lines\", \"name\": \"Country=Afghanistan\", \"showlegend\": true, \"type\": \"scattergl\", \"x\": [1970, 1973, 1974, 1975, 1976, 1977, 2004, 2005, 2006, 2007, 2008, 2009, 2010, 2011, 2012, 2013, 2014, 2015, 2016, 2017, 2018, 2019, 2020], \"xaxis\": \"x\", \"y\": [2.939585501253765, 3.3412715512301565, 3.5813663514300256, 4.203664568654506, 5.3932512159455035, 6.127288063334602, 125.11155745705429, 122.72719313487397, 131.34623126951666, 219.58021429619842, 240.53259462098535, 251.8695148203345, 298.14685251959884, 325.80700365798873, 238.583385374322, 217.19410711329814, 268.2270742358079, 199.5186148318968, 185.87831006238258, 191.40711324439658, 198.07472857440797, 225.8356438693777, 279.57695492519326], \"yaxis\": \"y\"}, {\"hoverlabel\": {\"namelength\": 0}, \"hovertemplate\": \"<b>%{hovertext}</b><br><br>Country=Rwanda<br>Year=%{x}<br>Value=%{y}\", \"hovertext\": [\"Rwanda\", \"Rwanda\", \"Rwanda\", \"Rwanda\", \"Rwanda\", \"Rwanda\", \"Rwanda\", \"Rwanda\", \"Rwanda\", \"Rwanda\", \"Rwanda\", \"Rwanda\", \"Rwanda\", \"Rwanda\", \"Rwanda\", \"Rwanda\", \"Rwanda\", \"Rwanda\", \"Rwanda\", \"Rwanda\", \"Rwanda\", \"Rwanda\", \"Rwanda\", \"Rwanda\", \"Rwanda\", \"Rwanda\", \"Rwanda\", \"Rwanda\", \"Rwanda\", \"Rwanda\", \"Rwanda\", \"Rwanda\", \"Rwanda\", \"Rwanda\", \"Rwanda\", \"Rwanda\", \"Rwanda\", \"Rwanda\", \"Rwanda\", \"Rwanda\", \"Rwanda\", \"Rwanda\", \"Rwanda\", \"Rwanda\", \"Rwanda\", \"Rwanda\", \"Rwanda\", \"Rwanda\"], \"legendgroup\": \"Country=Rwanda\", \"line\": {\"color\": \"#636efa\", \"dash\": \"solid\"}, \"mode\": \"lines\", \"name\": \"Country=Rwanda\", \"showlegend\": true, \"type\": \"scattergl\", \"x\": [1973, 1974, 1975, 1976, 1977, 1978, 1979, 1980, 1981, 1982, 1983, 1984, 1985, 1986, 1987, 1988, 1989, 1990, 1991, 1992, 1993, 1994, 1995, 1996, 1997, 1998, 1999, 2000, 2001, 2002, 2003, 2004, 2005, 2006, 2007, 2008, 2009, 2010, 2011, 2012, 2013, 2014, 2015, 2016, 2017, 2018, 2019, 2020], \"xaxis\": \"x\", \"y\": [9.365839708300564, 7.786746398360911, 9.319735189477804, 10.297663285995695, 16.062942551787614, 14.393007322777716, 19.63301715178214, 23.552267559336727, 28.68278333140202, 28.175370728562218, 28.024671701325474, 25.460676623467318, 27.25072843103363, 34.889469111517286, 36.093359476268745, 36.626347162831586, 41.62247813447454, 95.13273543350923, 105.33380205170816, 88.57017000276245, 89.4361363589093, 40.51057539231294, 56.44933672029353, 73.65882276253177, 77.27257652638212, 87.09183706141896, 80.85236358409543, 61.329857119395626, 56.88590313143352, 51.11861411757281, 45.19626898289796, 41.2157610455642, 44.99635188939861, 54.55764803973101, 55.580440804088084, 67.66035962395469, 75.27848605414107, 74.51441728645308, 75.38392855655523, 79.79391009205675, 82.4807155803265, 90.93779321668521, 103.5632147055096, 107.27861868518903, 115.71681244900425, 118.95917404681512, 124.07335262689226, 143.0218905295779], \"yaxis\": \"y\"}, {\"hoverlabel\": {\"namelength\": 0}, \"hovertemplate\": \"<b>%{hovertext}</b><br><br>Country=Indonesia<br>Year=%{x}<br>Value=%{y}\", \"hovertext\": [\"Indonesia\", \"Indonesia\", \"Indonesia\", \"Indonesia\", \"Indonesia\", \"Indonesia\", \"Indonesia\", \"Indonesia\", \"Indonesia\", \"Indonesia\", \"Indonesia\", \"Indonesia\", \"Indonesia\", \"Indonesia\", \"Indonesia\", \"Indonesia\", \"Indonesia\", \"Indonesia\", \"Indonesia\", \"Indonesia\", \"Indonesia\", \"Indonesia\", \"Indonesia\", \"Indonesia\", \"Indonesia\", \"Indonesia\", \"Indonesia\", \"Indonesia\", \"Indonesia\", \"Indonesia\", \"Indonesia\", \"Indonesia\", \"Indonesia\", \"Indonesia\", \"Indonesia\", \"Indonesia\", \"Indonesia\", \"Indonesia\", \"Indonesia\", \"Indonesia\", \"Indonesia\", \"Indonesia\", \"Indonesia\", \"Indonesia\", \"Indonesia\", \"Indonesia\", \"Indonesia\"], \"legendgroup\": \"Country=Indonesia\", \"line\": {\"color\": \"#EF553B\", \"dash\": \"solid\"}, \"mode\": \"lines\", \"name\": \"Country=Indonesia\", \"showlegend\": true, \"type\": \"scattergl\", \"x\": [1974, 1975, 1976, 1977, 1978, 1979, 1980, 1981, 1982, 1983, 1984, 1985, 1986, 1987, 1988, 1989, 1990, 1991, 1992, 1993, 1994, 1995, 1996, 1997, 1998, 1999, 2000, 2001, 2002, 2003, 2004, 2005, 2006, 2007, 2008, 2009, 2010, 2011, 2012, 2013, 2014, 2015, 2016, 2017, 2018, 2019, 2020], \"xaxis\": \"x\", \"y\": [698.1927710843373, 1063.855421686747, 1275.301204819277, 1468.6746987951808, 1627.6623420692463, 1552.431165787932, 2114.4540458122406, 2654.1059299699095, 2741.0680942999993, 2047.2579501025552, 2002.3100766126672, 1923.3193466476978, 1734.6167040918165, 1347.5986251786965, 1356.70641276621, 1409.556738189666, 1613.9753962698271, 1697.0292054637189, 1887.635965949397, 1933.3045853097601, 2239.7315746847157, 2478.753541076487, 2874.845237586987, 3231.358571241983, 972.7021251098505, 1135.1470054677507, 1129.542839569354, 919.022697814032, 1369.8571288954472, 2134.7467043171787, 2428.947795298053, 2146.2707913864774, 2611.8751173667915, 3348.758341538125, 3232.2022154952697, 3304.459138201523, 4663.365759375519, 5838.026185717234, 6531.097955283207, 8384.028600925323, 6929.248704206713, 7595.030527643327, 7396.62607468605, 8797.528449542044, 7556.824710980182, 9003.028193204776, 9395.52953138874], \"yaxis\": \"y\"}, {\"hoverlabel\": {\"namelength\": 0}, \"hovertemplate\": \"<b>%{hovertext}</b><br><br>Country=Angola<br>Year=%{x}<br>Value=%{y}\", \"hovertext\": [\"Angola\", \"Angola\", \"Angola\", \"Angola\", \"Angola\", \"Angola\", \"Angola\", \"Angola\", \"Angola\", \"Angola\", \"Angola\", \"Angola\", \"Angola\", \"Angola\", \"Angola\", \"Angola\", \"Angola\", \"Angola\", \"Angola\", \"Angola\", \"Angola\", \"Angola\", \"Angola\", \"Angola\", \"Angola\", \"Angola\", \"Angola\", \"Angola\", \"Angola\", \"Angola\", \"Angola\", \"Angola\", \"Angola\", \"Angola\", \"Angola\", \"Angola\", \"Angola\", \"Angola\", \"Angola\", \"Angola\", \"Angola\", \"Angola\", \"Angola\"], \"legendgroup\": \"Country=Angola\", \"line\": {\"color\": \"#00cc96\", \"dash\": \"solid\"}, \"mode\": \"lines\", \"name\": \"Country=Angola\", \"showlegend\": true, \"type\": \"scattergl\", \"x\": [1978, 1979, 1980, 1981, 1982, 1983, 1984, 1985, 1986, 1987, 1988, 1989, 1990, 1991, 1992, 1993, 1994, 1995, 1996, 1997, 1998, 1999, 2000, 2001, 2002, 2003, 2004, 2005, 2006, 2007, 2008, 2009, 2010, 2011, 2012, 2013, 2014, 2015, 2016, 2017, 2018, 2019, 2020], \"xaxis\": \"x\", \"y\": [343.27160906477707, 504.71288187713094, 497.35944916104023, 618.8916371415203, 668.493883280968, 778.6282505515074, 1066.2477438331439, 1146.4670098268602, 1156.494418076075, 1487.3988903001539, 1469.3829801457314, 1948.5593956815298, 1751.1531519486598, 1031.2477880442773, 794.1388211616558, 1774.3978768274208, 594.9911786944468, 233.84371488930014, 159.7419334681986, 456.7804750261963, 170.27829256868213, 1066.5887892328476, 583.6213335989244, 404.299139990661, 438.68624541123177, 670.0211644324943, 817.5335821520827, 1365.0553986904408, 1970.3091151837607, 2032.432883434303, 3163.5911474090203, 3311.1932452772153, 3500.7948364464883, 3639.4963735446004, 4144.634851468555, 6090.751702008843, 6846.249313340521, 3608.2991146167365, 2764.054937159764, 3062.8729139838, 1983.6137480008938, 1470.9387172875404, 993.5944046258786], \"yaxis\": \"y\"}, {\"hoverlabel\": {\"namelength\": 0}, \"hovertemplate\": \"<b>%{hovertext}</b><br><br>Country=Haiti<br>Year=%{x}<br>Value=%{y}\", \"hovertext\": [\"Haiti\", \"Haiti\", \"Haiti\", \"Haiti\", \"Haiti\", \"Haiti\", \"Haiti\", \"Haiti\", \"Haiti\", \"Haiti\", \"Haiti\", \"Haiti\", \"Haiti\", \"Haiti\", \"Haiti\", \"Haiti\"], \"legendgroup\": \"Country=Haiti\", \"line\": {\"color\": \"#ab63fa\", \"dash\": \"solid\"}, \"mode\": \"lines\", \"name\": \"Country=Haiti\", \"showlegend\": true, \"type\": \"scattergl\", \"x\": [1988, 1989, 1990, 1991, 1992, 1993, 1994, 1995, 2013, 2014, 2015, 2016, 2017, 2018, 2019, 2020], \"xaxis\": \"x\", \"y\": [1.9724, 2.23155, 2.6704, 2.6232273866994134, 1.7436059365393857, 1.6496393059075842, 1.599966755319149, 2.478871188706593, 0.051595847483365084, 0.05351159509743409, 0.07356229689214626, 0.06451431660556704, 0.07361349246227625, 0.13968388162903356, 0.1130174894841709, 0.2638088478325353], \"yaxis\": \"y\"}, {\"hoverlabel\": {\"namelength\": 0}, \"hovertemplate\": \"<b>%{hovertext}</b><br><br>Country=China<br>Year=%{x}<br>Value=%{y}\", \"hovertext\": [\"China\", \"China\", \"China\", \"China\", \"China\", \"China\", \"China\", \"China\", \"China\", \"China\", \"China\", \"China\", \"China\", \"China\", \"China\", \"China\", \"China\", \"China\", \"China\", \"China\", \"China\", \"China\", \"China\", \"China\", \"China\", \"China\", \"China\", \"China\", \"China\", \"China\", \"China\", \"China\"], \"legendgroup\": \"Country=China\", \"line\": {\"color\": \"#FFA15A\", \"dash\": \"solid\"}, \"mode\": \"lines\", \"name\": \"Country=China\", \"showlegend\": true, \"type\": \"scattergl\", \"x\": [1989, 1990, 1991, 1992, 1993, 1994, 1995, 1996, 1997, 1998, 1999, 2000, 2001, 2002, 2003, 2004, 2005, 2006, 2007, 2008, 2009, 2010, 2011, 2012, 2013, 2014, 2015, 2016, 2017, 2018, 2019, 2020], \"xaxis\": \"x\", \"y\": [11251.332630387957, 9926.34925081692, 9802.375366073124, 12244.267842214926, 12360.225860644641, 9867.120066274185, 12385.129474987487, 14275.400819973162, 15699.586768575462, 17031.780199691813, 20473.915094766675, 22237.140151214495, 26561.462998292423, 30284.127409997203, 33144.0004814458, 37904.57182699605, 42789.95365090244, 51453.37323384863, 62136.59075458873, 78840.80281986286, 96601.66675295417, 105522.64810183836, 125286.37316401086, 145127.60959620716, 164070.4693217442, 182109.32599168003, 196538.82723079034, 198538.36142755367, 210443.03474096782, 232530.59598526615, 240332.55545815144, 252304.2237413091], \"yaxis\": \"y\"}, {\"hoverlabel\": {\"namelength\": 0}, \"hovertemplate\": \"<b>%{hovertext}</b><br><br>Country=Yemen<br>Year=%{x}<br>Value=%{y}\", \"hovertext\": [\"Yemen\", \"Yemen\", \"Yemen\", \"Yemen\", \"Yemen\", \"Yemen\", \"Yemen\", \"Yemen\", \"Yemen\", \"Yemen\", \"Yemen\", \"Yemen\", \"Yemen\", \"Yemen\", \"Yemen\", \"Yemen\", \"Yemen\", \"Yemen\", \"Yemen\", \"Yemen\", \"Yemen\", \"Yemen\", \"Yemen\", \"Yemen\", \"Yemen\"], \"legendgroup\": \"Country=Yemen\", \"line\": {\"color\": \"#19d3f3\", \"dash\": \"solid\"}, \"mode\": \"lines\", \"name\": \"Country=Yemen\", \"showlegend\": true, \"type\": \"scattergl\", \"x\": [1990, 1991, 1992, 1993, 1994, 1995, 1996, 1997, 1998, 1999, 2000, 2001, 2002, 2003, 2004, 2005, 2006, 2007, 2008, 2009, 2010, 2011, 2012, 2013, 2014], \"xaxis\": \"x\", \"y\": [807.0707154811367, 1028.2179165868727, 1306.9000258116087, 1535.4576564724691, 2353.269331645865, 805.8923779114184, 416.008632418086, 397.0730424424316, 384.502730310122, 395.2529572689092, 473.6640324515515, 540.1014987668375, 737.3665480427046, 807.3132440800662, 735.4851279386933, 815.627463983416, 822.1305360595587, 1050.4993641714375, 1196.4117658837429, 1420.7752641153184, 1448.153376747575, 1612.2544434050515, 1618.8401267080628, 1648.7505235236633, 1714.8308436874681], \"yaxis\": \"y\"}, {\"hoverlabel\": {\"namelength\": 0}, \"hovertemplate\": \"<b>%{hovertext}</b><br><br>Country=Central African Rep.<br>Year=%{x}<br>Value=%{y}\", \"hovertext\": [\"Central African Rep.\", \"Central African Rep.\", \"Central African Rep.\", \"Central African Rep.\", \"Central African Rep.\", \"Central African Rep.\", \"Central African Rep.\", \"Central African Rep.\", \"Central African Rep.\", \"Central African Rep.\", \"Central African Rep.\", \"Central African Rep.\", \"Central African Rep.\", \"Central African Rep.\", \"Central African Rep.\", \"Central African Rep.\", \"Central African Rep.\", \"Central African Rep.\", \"Central African Rep.\", \"Central African Rep.\", \"Central African Rep.\", \"Central African Rep.\", \"Central African Rep.\", \"Central African Rep.\"], \"legendgroup\": \"Country=Central African Rep.\", \"line\": {\"color\": \"#FF6692\", \"dash\": \"solid\"}, \"mode\": \"lines\", \"name\": \"Country=Central African Rep.\", \"showlegend\": true, \"type\": \"scattergl\", \"x\": [1991, 1992, 1993, 1994, 1995, 1996, 2002, 2003, 2004, 2005, 2007, 2008, 2009, 2010, 2011, 2012, 2013, 2014, 2015, 2016, 2017, 2018, 2019, 2020], \"xaxis\": \"x\", \"y\": [21.59818792160421, 23.18543816964623, 19.14445036957512, 10.68974522923965, 13.014176156170112, 12.196218566245465, 10.681962960624858, 15.018926359256708, 15.103589918320603, 15.396194650670752, 19.11251974369193, 31.511483793168903, 35.99238435701186, 51.58527450295492, 49.874328728918805, 42.74602518573944, 47.923241448908705, 38.40700992145633, 26.703885622839138, 26.832998820193534, 27.516264177935216, 30.517648413658087, 40.7776666587025, 41.303630076285465], \"yaxis\": \"y\"}, {\"hoverlabel\": {\"namelength\": 0}, \"hovertemplate\": \"<b>%{hovertext}</b><br><br>Country=Azerbaijan<br>Year=%{x}<br>Value=%{y}\", \"hovertext\": [\"Azerbaijan\", \"Azerbaijan\", \"Azerbaijan\", \"Azerbaijan\", \"Azerbaijan\", \"Azerbaijan\", \"Azerbaijan\", \"Azerbaijan\", \"Azerbaijan\", \"Azerbaijan\", \"Azerbaijan\", \"Azerbaijan\", \"Azerbaijan\", \"Azerbaijan\", \"Azerbaijan\", \"Azerbaijan\", \"Azerbaijan\", \"Azerbaijan\", \"Azerbaijan\", \"Azerbaijan\", \"Azerbaijan\", \"Azerbaijan\", \"Azerbaijan\", \"Azerbaijan\", \"Azerbaijan\", \"Azerbaijan\", \"Azerbaijan\", \"Azerbaijan\", \"Azerbaijan\"], \"legendgroup\": \"Country=Azerbaijan\", \"line\": {\"color\": \"#B6E880\", \"dash\": \"solid\"}, \"mode\": \"lines\", \"name\": \"Country=Azerbaijan\", \"showlegend\": true, \"type\": \"scattergl\", \"x\": [1992, 1993, 1994, 1995, 1996, 1997, 1998, 1999, 2000, 2001, 2002, 2003, 2004, 2005, 2006, 2007, 2008, 2009, 2010, 2011, 2012, 2013, 2014, 2015, 2016, 2017, 2018, 2019, 2020], \"xaxis\": \"x\", \"y\": [11.07011070110701, 77.51937984496124, 43.942747058542565, 66.15996891387762, 71.60684124321565, 92.0866919675062, 107.2628586197984, 120.26217396633386, 119.57565171524007, 131.96366006418867, 139.89409194333467, 176.55216230580788, 228.24963162565027, 304.52147773320036, 717.111853555619, 946.5997921046375, 1607.7992259195248, 1472.9099769465142, 1476.6087335700493, 3080.084995808461, 3246.1226126303864, 3367.5741611974386, 3427.179917064822, 2900.5513821521513, 1396.9691076583222, 1528.8595922938523, 1672.1764705882354, 1854.235294117647, 2237.7647058823527], \"yaxis\": \"y\"}, {\"hoverlabel\": {\"namelength\": 0}, \"hovertemplate\": \"<b>%{hovertext}</b><br><br>Country=Croatia<br>Year=%{x}<br>Value=%{y}\", \"hovertext\": [\"Croatia\", \"Croatia\", \"Croatia\", \"Croatia\", \"Croatia\", \"Croatia\", \"Croatia\", \"Croatia\", \"Croatia\", \"Croatia\", \"Croatia\", \"Croatia\", \"Croatia\", \"Croatia\", \"Croatia\", \"Croatia\", \"Croatia\", \"Croatia\", \"Croatia\", \"Croatia\", \"Croatia\", \"Croatia\", \"Croatia\", \"Croatia\", \"Croatia\", \"Croatia\", \"Croatia\", \"Croatia\", \"Croatia\"], \"legendgroup\": \"Country=Croatia\", \"line\": {\"color\": \"#FF97FF\", \"dash\": \"solid\"}, \"mode\": \"lines\", \"name\": \"Country=Croatia\", \"showlegend\": true, \"type\": \"scattergl\", \"x\": [1992, 1993, 1994, 1995, 1996, 1997, 1998, 1999, 2000, 2001, 2002, 2003, 2004, 2005, 2006, 2007, 2008, 2009, 2010, 2011, 2012, 2013, 2014, 2015, 2016, 2017, 2018, 2019, 2020], \"xaxis\": \"x\", \"y\": [782.0036612507502, 1168.9367587276308, 1625.2223654178636, 2060.388930098112, 1938.6988973456798, 1797.184680663184, 1427.264826842718, 1035.9490082595821, 659.7750333125142, 629.4641037506264, 733.6807390544332, 709.3991471997638, 730.8670045108496, 799.1609012243581, 849.4310346894972, 978.8537321000496, 1295.9570743094282, 1129.0984963900114, 1015.8766535528309, 1106.4640419770692, 955.3201636158208, 956.9526440521097, 1063.4697432811347, 883.1629832668173, 836.68504208224, 920.8370529181882, 966.3587167988873, 1001.8121413470251, 1034.925914726338], \"yaxis\": \"y\"}, {\"hoverlabel\": {\"namelength\": 0}, \"hovertemplate\": \"<b>%{hovertext}</b><br><br>Country=Slovenia<br>Year=%{x}<br>Value=%{y}\", \"hovertext\": [\"Slovenia\", \"Slovenia\", \"Slovenia\", \"Slovenia\", \"Slovenia\", \"Slovenia\", \"Slovenia\", \"Slovenia\", \"Slovenia\", \"Slovenia\", \"Slovenia\", \"Slovenia\", \"Slovenia\", \"Slovenia\", \"Slovenia\", \"Slovenia\", \"Slovenia\", \"Slovenia\", \"Slovenia\", \"Slovenia\", \"Slovenia\", \"Slovenia\", \"Slovenia\", \"Slovenia\", \"Slovenia\", \"Slovenia\", \"Slovenia\", \"Slovenia\", \"Slovenia\"], \"legendgroup\": \"Country=Slovenia\", \"line\": {\"color\": \"#FECB52\", \"dash\": \"solid\"}, \"mode\": \"lines\", \"name\": \"Country=Slovenia\", \"showlegend\": true, \"type\": \"scattergl\", \"x\": [1992, 1993, 1994, 1995, 1996, 1997, 1998, 1999, 2000, 2001, 2002, 2003, 2004, 2005, 2006, 2007, 2008, 2009, 2010, 2011, 2012, 2013, 2014, 2015, 2016, 2017, 2018, 2019, 2020], \"xaxis\": \"x\", \"y\": [281.422738461992, 230.3036715691461, 237.94950410132668, 334.6550228582867, 329.97264833190235, 290.78527180176724, 301.13982223273604, 274.8418278491092, 222.39155680547438, 271.48879038865914, 326.9595228120574, 416.9067536765131, 493.1538929137311, 514.1727994667635, 608.8337533729663, 692.6549125558757, 829.3844069286263, 798.868642190033, 772.0851075101484, 665.6796713722711, 543.4964165212631, 506.74293210331416, 486.1948703960181, 400.77187534656764, 449.17753909570104, 473.79675720880743, 529.4961226585461, 572.8840125391849, 574.8318705117975], \"yaxis\": \"y\"}, {\"hoverlabel\": {\"namelength\": 0}, \"hovertemplate\": \"<b>%{hovertext}</b><br><br>Country=Eritrea<br>Year=%{x}<br>Value=%{y}\", \"hovertext\": [\"Eritrea\", \"Eritrea\", \"Eritrea\", \"Eritrea\", \"Eritrea\", \"Eritrea\", \"Eritrea\", \"Eritrea\", \"Eritrea\", \"Eritrea\", \"Eritrea\"], \"legendgroup\": \"Country=Eritrea\", \"line\": {\"color\": \"#636efa\", \"dash\": \"solid\"}, \"mode\": \"lines\", \"name\": \"Country=Eritrea\", \"showlegend\": true, \"type\": \"scattergl\", \"x\": [1993, 1994, 1995, 1996, 1997, 1998, 1999, 2000, 2001, 2002, 2003], \"xaxis\": \"x\", \"y\": [107.73764923322844, 80.19831121039672, 124.99634987946492, 152.27180856000038, 92.75631940818484, 263.0016856992663, 272.85673457522296, 230.67012987012987, 166.55024536893762, 150.76442521241995, 181.58366899891195], \"yaxis\": \"y\"}, {\"hoverlabel\": {\"namelength\": 0}, \"hovertemplate\": \"<b>%{hovertext}</b><br><br>Country=Russia<br>Year=%{x}<br>Value=%{y}\", \"hovertext\": [\"Russia\", \"Russia\", \"Russia\", \"Russia\", \"Russia\", \"Russia\", \"Russia\", \"Russia\", \"Russia\", \"Russia\", \"Russia\", \"Russia\", \"Russia\", \"Russia\", \"Russia\", \"Russia\", \"Russia\", \"Russia\", \"Russia\", \"Russia\", \"Russia\", \"Russia\", \"Russia\", \"Russia\", \"Russia\", \"Russia\", \"Russia\", \"Russia\"], \"legendgroup\": \"Country=Russia\", \"line\": {\"color\": \"#EF553B\", \"dash\": \"solid\"}, \"mode\": \"lines\", \"name\": \"Country=Russia\", \"showlegend\": true, \"type\": \"scattergl\", \"x\": [1993, 1994, 1995, 1996, 1997, 1998, 1999, 2000, 2001, 2002, 2003, 2004, 2005, 2006, 2007, 2008, 2009, 2010, 2011, 2012, 2013, 2014, 2015, 2016, 2017, 2018, 2019, 2020], \"xaxis\": \"x\", \"y\": [7766.720078413419, 13547.871733424627, 12741.629470405669, 15826.3406518084, 17577.353180646624, 7955.730400985875, 6469.035211353417, 9228.204143736757, 11683.151344772614, 13943.825063400162, 16973.73908510361, 20955.41357062786, 27336.9772736915, 34517.78161891802, 43534.99499624719, 56183.7853932539, 51532.11679751988, 58720.22760875794, 70237.5239514946, 81469.39993125766, 88352.89646355981, 84696.5046534978, 66421.82217992056, 69245.2945528466, 66913.03353678314, 61609.20475641708, 65201.335848356466, 61712.53716893713], \"yaxis\": \"y\"}, {\"hoverlabel\": {\"namelength\": 0}, \"hovertemplate\": \"<b>%{hovertext}</b><br><br>Country=Ukraine<br>Year=%{x}<br>Value=%{y}\", \"hovertext\": [\"Ukraine\", \"Ukraine\", \"Ukraine\", \"Ukraine\", \"Ukraine\", \"Ukraine\", \"Ukraine\", \"Ukraine\", \"Ukraine\", \"Ukraine\", \"Ukraine\", \"Ukraine\", \"Ukraine\", \"Ukraine\", \"Ukraine\", \"Ukraine\", \"Ukraine\", \"Ukraine\", \"Ukraine\", \"Ukraine\", \"Ukraine\", \"Ukraine\", \"Ukraine\", \"Ukraine\", \"Ukraine\", \"Ukraine\", \"Ukraine\", \"Ukraine\"], \"legendgroup\": \"Country=Ukraine\", \"line\": {\"color\": \"#00cc96\", \"dash\": \"solid\"}, \"mode\": \"lines\", \"name\": \"Country=Ukraine\", \"showlegend\": true, \"type\": \"scattergl\", \"x\": [1993, 1994, 1995, 1996, 1997, 1998, 1999, 2000, 2001, 2002, 2003, 2004, 2005, 2006, 2007, 2008, 2009, 2010, 2011, 2012, 2013, 2014, 2015, 2016, 2017, 2018, 2019, 2020], \"xaxis\": \"x\", \"y\": [123.41092112520684, 683.5860451766946, 779.2569260116627, 1009.5820100903541, 1449.6739469075985, 912.2120888003462, 620.8055316140653, 696.4043799618767, 741.712830593281, 872.3918732704792, 1104.8082674972668, 1322.215078263943, 1692.6845064274214, 2101.5073661169995, 2882.2798403449306, 3385.406783392424, 2320.408612749703, 2587.448220937442, 2502.2965751120796, 2835.905352501492, 2895.0018891530085, 2997.1892144942544, 2959.581345119483, 2943.807591718629, 3246.78656733091, 4169.707536409091, 5419.138048445906, 5924.200880305501], \"yaxis\": \"y\"}, {\"hoverlabel\": {\"namelength\": 0}, \"hovertemplate\": \"<b>%{hovertext}</b><br><br>Country=Uzbekistan<br>Year=%{x}<br>Value=%{y}\", \"hovertext\": [\"Uzbekistan\", \"Uzbekistan\", \"Uzbekistan\", \"Uzbekistan\", \"Uzbekistan\", \"Uzbekistan\", \"Uzbekistan\", \"Uzbekistan\", \"Uzbekistan\", \"Uzbekistan\"], \"legendgroup\": \"Country=Uzbekistan\", \"line\": {\"color\": \"#ab63fa\", \"dash\": \"solid\"}, \"mode\": \"lines\", \"name\": \"Country=Uzbekistan\", \"showlegend\": true, \"type\": \"scattergl\", \"x\": [1994, 1995, 1996, 1997, 1999, 2000, 2001, 2002, 2003, 2018], \"xaxis\": \"x\", \"y\": [86.9298245614035, 112.6784214945424, 172.2115456610178, 217.74719074336028, 250.07173601147773, 115.3753846153846, 59.76061046511628, 45.914432989690724, 54.1336954635028, 1440.3850722075165], \"yaxis\": \"y\"}, {\"hoverlabel\": {\"namelength\": 0}, \"hovertemplate\": \"<b>%{hovertext}</b><br><br>Country=Belarus<br>Year=%{x}<br>Value=%{y}\", \"hovertext\": [\"Belarus\", \"Belarus\", \"Belarus\", \"Belarus\", \"Belarus\", \"Belarus\", \"Belarus\", \"Belarus\", \"Belarus\", \"Belarus\", \"Belarus\", \"Belarus\", \"Belarus\", \"Belarus\", \"Belarus\", \"Belarus\", \"Belarus\", \"Belarus\", \"Belarus\", \"Belarus\", \"Belarus\", \"Belarus\", \"Belarus\", \"Belarus\", \"Belarus\", \"Belarus\"], \"legendgroup\": \"Country=Belarus\", \"line\": {\"color\": \"#FFA15A\", \"dash\": \"solid\"}, \"mode\": \"lines\", \"name\": \"Country=Belarus\", \"showlegend\": true, \"type\": \"scattergl\", \"x\": [1995, 1996, 1997, 1998, 1999, 2000, 2001, 2002, 2003, 2004, 2005, 2006, 2007, 2008, 2009, 2010, 2011, 2012, 2013, 2014, 2015, 2016, 2017, 2018, 2019, 2020], \"xaxis\": \"x\", \"y\": [179.08167693776585, 182.8056145549097, 249.38413942852753, 227.58608728830464, 165.90384885376764, 140.32620473339037, 177.69784172661872, 204.3642373752038, 231.56386043768006, 314.3140177571218, 452.68406830654374, 631.831238109449, 746.9432639976143, 883.0275229357798, 675.4265050750971, 767.699285884553, 756.2773512803967, 807.4232628435032, 959.8016903057979, 1000.0134486132156, 709.9088460548721, 592.1823313668201, 625.6378169178508, 709.7133163847901, 773.7130287162566, 844.5129409462303], \"yaxis\": \"y\"}, {\"hoverlabel\": {\"namelength\": 0}, \"hovertemplate\": \"<b>%{hovertext}</b><br><br>Country=South Sudan<br>Year=%{x}<br>Value=%{y}\", \"hovertext\": [\"South Sudan\", \"South Sudan\", \"South Sudan\", \"South Sudan\", \"South Sudan\", \"South Sudan\", \"South Sudan\", \"South Sudan\", \"South Sudan\", \"South Sudan\", \"South Sudan\", \"South Sudan\", \"South Sudan\", \"South Sudan\"], \"legendgroup\": \"Country=South Sudan\", \"line\": {\"color\": \"#19d3f3\", \"dash\": \"solid\"}, \"mode\": \"lines\", \"name\": \"Country=South Sudan\", \"showlegend\": true, \"type\": \"scattergl\", \"x\": [2006, 2007, 2008, 2009, 2010, 2011, 2012, 2013, 2014, 2015, 2016, 2017, 2018, 2019], \"xaxis\": \"x\", \"y\": [551.4545044277537, 587.9668667228808, 896.3907069315268, 609.8986326487162, 650.9106678230703, 1052.7219703686358, 988.2259887005649, 981.9830508474575, 1301.5254237288134, 1151.9203767594379, 135.3381435897436, 72.38810457388036, 149.0924246995465, 186.49892522647013], \"yaxis\": \"y\"}],\n",
              "                        {\"legend\": {\"tracegroupgap\": 0}, \"template\": {\"data\": {\"bar\": [{\"error_x\": {\"color\": \"#2a3f5f\"}, \"error_y\": {\"color\": \"#2a3f5f\"}, \"marker\": {\"line\": {\"color\": \"#E5ECF6\", \"width\": 0.5}}, \"type\": \"bar\"}], \"barpolar\": [{\"marker\": {\"line\": {\"color\": \"#E5ECF6\", \"width\": 0.5}}, \"type\": \"barpolar\"}], \"carpet\": [{\"aaxis\": {\"endlinecolor\": \"#2a3f5f\", \"gridcolor\": \"white\", \"linecolor\": \"white\", \"minorgridcolor\": \"white\", \"startlinecolor\": \"#2a3f5f\"}, \"baxis\": {\"endlinecolor\": \"#2a3f5f\", \"gridcolor\": \"white\", \"linecolor\": \"white\", \"minorgridcolor\": \"white\", \"startlinecolor\": \"#2a3f5f\"}, \"type\": \"carpet\"}], \"choropleth\": [{\"colorbar\": {\"outlinewidth\": 0, \"ticks\": \"\"}, \"type\": \"choropleth\"}], \"contour\": [{\"colorbar\": {\"outlinewidth\": 0, \"ticks\": \"\"}, \"colorscale\": [[0.0, \"#0d0887\"], [0.1111111111111111, \"#46039f\"], [0.2222222222222222, \"#7201a8\"], [0.3333333333333333, \"#9c179e\"], [0.4444444444444444, \"#bd3786\"], [0.5555555555555556, \"#d8576b\"], [0.6666666666666666, \"#ed7953\"], [0.7777777777777778, \"#fb9f3a\"], [0.8888888888888888, \"#fdca26\"], [1.0, \"#f0f921\"]], \"type\": \"contour\"}], \"contourcarpet\": [{\"colorbar\": {\"outlinewidth\": 0, \"ticks\": \"\"}, \"type\": \"contourcarpet\"}], \"heatmap\": [{\"colorbar\": {\"outlinewidth\": 0, \"ticks\": \"\"}, \"colorscale\": [[0.0, \"#0d0887\"], [0.1111111111111111, \"#46039f\"], [0.2222222222222222, \"#7201a8\"], [0.3333333333333333, \"#9c179e\"], [0.4444444444444444, \"#bd3786\"], [0.5555555555555556, \"#d8576b\"], [0.6666666666666666, \"#ed7953\"], [0.7777777777777778, \"#fb9f3a\"], [0.8888888888888888, \"#fdca26\"], [1.0, \"#f0f921\"]], \"type\": \"heatmap\"}], \"heatmapgl\": [{\"colorbar\": {\"outlinewidth\": 0, \"ticks\": \"\"}, \"colorscale\": [[0.0, \"#0d0887\"], [0.1111111111111111, \"#46039f\"], [0.2222222222222222, \"#7201a8\"], [0.3333333333333333, \"#9c179e\"], [0.4444444444444444, \"#bd3786\"], [0.5555555555555556, \"#d8576b\"], [0.6666666666666666, \"#ed7953\"], [0.7777777777777778, \"#fb9f3a\"], [0.8888888888888888, \"#fdca26\"], [1.0, \"#f0f921\"]], \"type\": \"heatmapgl\"}], \"histogram\": [{\"marker\": {\"colorbar\": {\"outlinewidth\": 0, \"ticks\": \"\"}}, \"type\": \"histogram\"}], \"histogram2d\": [{\"colorbar\": {\"outlinewidth\": 0, \"ticks\": \"\"}, \"colorscale\": [[0.0, \"#0d0887\"], [0.1111111111111111, \"#46039f\"], [0.2222222222222222, \"#7201a8\"], [0.3333333333333333, \"#9c179e\"], [0.4444444444444444, \"#bd3786\"], [0.5555555555555556, \"#d8576b\"], [0.6666666666666666, \"#ed7953\"], [0.7777777777777778, \"#fb9f3a\"], [0.8888888888888888, \"#fdca26\"], [1.0, \"#f0f921\"]], \"type\": \"histogram2d\"}], \"histogram2dcontour\": [{\"colorbar\": {\"outlinewidth\": 0, \"ticks\": \"\"}, \"colorscale\": [[0.0, \"#0d0887\"], [0.1111111111111111, \"#46039f\"], [0.2222222222222222, \"#7201a8\"], [0.3333333333333333, \"#9c179e\"], [0.4444444444444444, \"#bd3786\"], [0.5555555555555556, \"#d8576b\"], [0.6666666666666666, \"#ed7953\"], [0.7777777777777778, \"#fb9f3a\"], [0.8888888888888888, \"#fdca26\"], [1.0, \"#f0f921\"]], \"type\": \"histogram2dcontour\"}], \"mesh3d\": [{\"colorbar\": {\"outlinewidth\": 0, \"ticks\": \"\"}, \"type\": \"mesh3d\"}], \"parcoords\": [{\"line\": {\"colorbar\": {\"outlinewidth\": 0, \"ticks\": \"\"}}, \"type\": \"parcoords\"}], \"pie\": [{\"automargin\": true, \"type\": \"pie\"}], \"scatter\": [{\"marker\": {\"colorbar\": {\"outlinewidth\": 0, \"ticks\": \"\"}}, \"type\": \"scatter\"}], \"scatter3d\": [{\"line\": {\"colorbar\": {\"outlinewidth\": 0, \"ticks\": \"\"}}, \"marker\": {\"colorbar\": {\"outlinewidth\": 0, \"ticks\": \"\"}}, \"type\": \"scatter3d\"}], \"scattercarpet\": [{\"marker\": {\"colorbar\": {\"outlinewidth\": 0, \"ticks\": \"\"}}, \"type\": \"scattercarpet\"}], \"scattergeo\": [{\"marker\": {\"colorbar\": {\"outlinewidth\": 0, \"ticks\": \"\"}}, \"type\": \"scattergeo\"}], \"scattergl\": [{\"marker\": {\"colorbar\": {\"outlinewidth\": 0, \"ticks\": \"\"}}, \"type\": \"scattergl\"}], \"scattermapbox\": [{\"marker\": {\"colorbar\": {\"outlinewidth\": 0, \"ticks\": \"\"}}, \"type\": \"scattermapbox\"}], \"scatterpolar\": [{\"marker\": {\"colorbar\": {\"outlinewidth\": 0, \"ticks\": \"\"}}, \"type\": \"scatterpolar\"}], \"scatterpolargl\": [{\"marker\": {\"colorbar\": {\"outlinewidth\": 0, \"ticks\": \"\"}}, \"type\": \"scatterpolargl\"}], \"scatterternary\": [{\"marker\": {\"colorbar\": {\"outlinewidth\": 0, \"ticks\": \"\"}}, \"type\": \"scatterternary\"}], \"surface\": [{\"colorbar\": {\"outlinewidth\": 0, \"ticks\": \"\"}, \"colorscale\": [[0.0, \"#0d0887\"], [0.1111111111111111, \"#46039f\"], [0.2222222222222222, \"#7201a8\"], [0.3333333333333333, \"#9c179e\"], [0.4444444444444444, \"#bd3786\"], [0.5555555555555556, \"#d8576b\"], [0.6666666666666666, \"#ed7953\"], [0.7777777777777778, \"#fb9f3a\"], [0.8888888888888888, \"#fdca26\"], [1.0, \"#f0f921\"]], \"type\": \"surface\"}], \"table\": [{\"cells\": {\"fill\": {\"color\": \"#EBF0F8\"}, \"line\": {\"color\": \"white\"}}, \"header\": {\"fill\": {\"color\": \"#C8D4E3\"}, \"line\": {\"color\": \"white\"}}, \"type\": \"table\"}]}, \"layout\": {\"annotationdefaults\": {\"arrowcolor\": \"#2a3f5f\", \"arrowhead\": 0, \"arrowwidth\": 1}, \"coloraxis\": {\"colorbar\": {\"outlinewidth\": 0, \"ticks\": \"\"}}, \"colorscale\": {\"diverging\": [[0, \"#8e0152\"], [0.1, \"#c51b7d\"], [0.2, \"#de77ae\"], [0.3, \"#f1b6da\"], [0.4, \"#fde0ef\"], [0.5, \"#f7f7f7\"], [0.6, \"#e6f5d0\"], [0.7, \"#b8e186\"], [0.8, \"#7fbc41\"], [0.9, \"#4d9221\"], [1, \"#276419\"]], \"sequential\": [[0.0, \"#0d0887\"], [0.1111111111111111, \"#46039f\"], [0.2222222222222222, \"#7201a8\"], [0.3333333333333333, \"#9c179e\"], [0.4444444444444444, \"#bd3786\"], [0.5555555555555556, \"#d8576b\"], [0.6666666666666666, \"#ed7953\"], [0.7777777777777778, \"#fb9f3a\"], [0.8888888888888888, \"#fdca26\"], [1.0, \"#f0f921\"]], \"sequentialminus\": [[0.0, \"#0d0887\"], [0.1111111111111111, \"#46039f\"], [0.2222222222222222, \"#7201a8\"], [0.3333333333333333, \"#9c179e\"], [0.4444444444444444, \"#bd3786\"], [0.5555555555555556, \"#d8576b\"], [0.6666666666666666, \"#ed7953\"], [0.7777777777777778, \"#fb9f3a\"], [0.8888888888888888, \"#fdca26\"], [1.0, \"#f0f921\"]]}, \"colorway\": [\"#636efa\", \"#EF553B\", \"#00cc96\", \"#ab63fa\", \"#FFA15A\", \"#19d3f3\", \"#FF6692\", \"#B6E880\", \"#FF97FF\", \"#FECB52\"], \"font\": {\"color\": \"#2a3f5f\"}, \"geo\": {\"bgcolor\": \"white\", \"lakecolor\": \"white\", \"landcolor\": \"#E5ECF6\", \"showlakes\": true, \"showland\": true, \"subunitcolor\": \"white\"}, \"hoverlabel\": {\"align\": \"left\"}, \"hovermode\": \"closest\", \"mapbox\": {\"style\": \"light\"}, \"paper_bgcolor\": \"white\", \"plot_bgcolor\": \"#E5ECF6\", \"polar\": {\"angularaxis\": {\"gridcolor\": \"white\", \"linecolor\": \"white\", \"ticks\": \"\"}, \"bgcolor\": \"#E5ECF6\", \"radialaxis\": {\"gridcolor\": \"white\", \"linecolor\": \"white\", \"ticks\": \"\"}}, \"scene\": {\"xaxis\": {\"backgroundcolor\": \"#E5ECF6\", \"gridcolor\": \"white\", \"gridwidth\": 2, \"linecolor\": \"white\", \"showbackground\": true, \"ticks\": \"\", \"zerolinecolor\": \"white\"}, \"yaxis\": {\"backgroundcolor\": \"#E5ECF6\", \"gridcolor\": \"white\", \"gridwidth\": 2, \"linecolor\": \"white\", \"showbackground\": true, \"ticks\": \"\", \"zerolinecolor\": \"white\"}, \"zaxis\": {\"backgroundcolor\": \"#E5ECF6\", \"gridcolor\": \"white\", \"gridwidth\": 2, \"linecolor\": \"white\", \"showbackground\": true, \"ticks\": \"\", \"zerolinecolor\": \"white\"}}, \"shapedefaults\": {\"line\": {\"color\": \"#2a3f5f\"}}, \"ternary\": {\"aaxis\": {\"gridcolor\": \"white\", \"linecolor\": \"white\", \"ticks\": \"\"}, \"baxis\": {\"gridcolor\": \"white\", \"linecolor\": \"white\", \"ticks\": \"\"}, \"bgcolor\": \"#E5ECF6\", \"caxis\": {\"gridcolor\": \"white\", \"linecolor\": \"white\", \"ticks\": \"\"}}, \"title\": {\"x\": 0.05}, \"xaxis\": {\"automargin\": true, \"gridcolor\": \"white\", \"linecolor\": \"white\", \"ticks\": \"\", \"title\": {\"standoff\": 15}, \"zerolinecolor\": \"white\", \"zerolinewidth\": 2}, \"yaxis\": {\"automargin\": true, \"gridcolor\": \"white\", \"linecolor\": \"white\", \"ticks\": \"\", \"title\": {\"standoff\": 15}, \"zerolinecolor\": \"white\", \"zerolinewidth\": 2}}}, \"title\": {\"text\": \"Military Expenditure for selected countries, FY1960 - 2020\"}, \"xaxis\": {\"anchor\": \"y\", \"domain\": [0.0, 1.0], \"title\": {\"text\": \"Year\"}}, \"yaxis\": {\"anchor\": \"x\", \"domain\": [0.0, 1.0], \"title\": {\"text\": \"Value\"}}},\n",
              "                        {\"responsive\": true}\n",
              "                    ).then(function(){\n",
              "                            \n",
              "var gd = document.getElementById('e168b899-d770-40ca-b56e-845a4d6b9d18');\n",
              "var x = new MutationObserver(function (mutations, observer) {{\n",
              "        var display = window.getComputedStyle(gd).display;\n",
              "        if (!display || display === 'none') {{\n",
              "            console.log([gd, 'removed!']);\n",
              "            Plotly.purge(gd);\n",
              "            observer.disconnect();\n",
              "        }}\n",
              "}});\n",
              "\n",
              "// Listen for the removal of the full notebook cells\n",
              "var notebookContainer = gd.closest('#notebook-container');\n",
              "if (notebookContainer) {{\n",
              "    x.observe(notebookContainer, {childList: true});\n",
              "}}\n",
              "\n",
              "// Listen for the clearing of the current output cell\n",
              "var outputEl = gd.closest('.output');\n",
              "if (outputEl) {{\n",
              "    x.observe(outputEl, {childList: true});\n",
              "}}\n",
              "\n",
              "                        })\n",
              "                };\n",
              "                \n",
              "            </script>\n",
              "        </div>\n",
              "</body>\n",
              "</html>"
            ]
          },
          "metadata": {
            "tags": []
          }
        }
      ]
    },
    {
      "cell_type": "markdown",
      "metadata": {
        "id": "ma0Rzm2a0dYD"
      },
      "source": [
        "# Effects of Arms Embargo on Military Expenditure by combining two plots"
      ]
    },
    {
      "cell_type": "code",
      "metadata": {
        "colab": {
          "base_uri": "https://localhost:8080/",
          "height": 542
        },
        "id": "2hiFrpaY0gt_",
        "outputId": "d26beac7-cfd9-425a-8645-93ec18263410"
      },
      "source": [
        "milexp_selected_fy.update_traces(yaxis=\"y2\")"
      ],
      "execution_count": 337,
      "outputs": [
        {
          "output_type": "display_data",
          "data": {
            "text/html": [
              "<html>\n",
              "<head><meta charset=\"utf-8\" /></head>\n",
              "<body>\n",
              "    <div>\n",
              "            <script src=\"https://cdnjs.cloudflare.com/ajax/libs/mathjax/2.7.5/MathJax.js?config=TeX-AMS-MML_SVG\"></script><script type=\"text/javascript\">if (window.MathJax) {MathJax.Hub.Config({SVG: {font: \"STIX-Web\"}});}</script>\n",
              "                <script type=\"text/javascript\">window.PlotlyConfig = {MathJaxConfig: 'local'};</script>\n",
              "        <script src=\"https://cdn.plot.ly/plotly-latest.min.js\"></script>    \n",
              "            <div id=\"c1558a31-1a99-4090-a8d1-ac6760ab122a\" class=\"plotly-graph-div\" style=\"height:525px; width:100%;\"></div>\n",
              "            <script type=\"text/javascript\">\n",
              "                \n",
              "                    window.PLOTLYENV=window.PLOTLYENV || {};\n",
              "                    \n",
              "                if (document.getElementById(\"c1558a31-1a99-4090-a8d1-ac6760ab122a\")) {\n",
              "                    Plotly.newPlot(\n",
              "                        'c1558a31-1a99-4090-a8d1-ac6760ab122a',\n",
              "                        [{\"hoverlabel\": {\"namelength\": 0}, \"hovertemplate\": \"<b>%{hovertext}</b><br><br>Country=Myanmar<br>Year=%{x}<br>Value=%{y}\", \"hovertext\": [\"Myanmar\", \"Myanmar\", \"Myanmar\", \"Myanmar\", \"Myanmar\", \"Myanmar\", \"Myanmar\", \"Myanmar\", \"Myanmar\", \"Myanmar\", \"Myanmar\", \"Myanmar\", \"Myanmar\", \"Myanmar\", \"Myanmar\", \"Myanmar\", \"Myanmar\", \"Myanmar\", \"Myanmar\", \"Myanmar\", \"Myanmar\", \"Myanmar\", \"Myanmar\", \"Myanmar\", \"Myanmar\", \"Myanmar\", \"Myanmar\", \"Myanmar\", \"Myanmar\", \"Myanmar\", \"Myanmar\", \"Myanmar\", \"Myanmar\", \"Myanmar\", \"Myanmar\", \"Myanmar\", \"Myanmar\", \"Myanmar\", \"Myanmar\", \"Myanmar\", \"Myanmar\", \"Myanmar\", \"Myanmar\", \"Myanmar\", \"Myanmar\", \"Myanmar\", \"Myanmar\", \"Myanmar\", \"Myanmar\", \"Myanmar\", \"Myanmar\", \"Myanmar\", \"Myanmar\", \"Myanmar\", \"Myanmar\", \"Myanmar\", \"Myanmar\", \"Myanmar\", \"Myanmar\", \"Myanmar\", \"Myanmar\", \"Myanmar\", \"Myanmar\", \"Myanmar\"], \"legendgroup\": \"Country=Myanmar\", \"line\": {\"color\": \"#636efa\", \"dash\": \"solid\"}, \"mode\": \"lines\", \"name\": \"Country=Myanmar\", \"showlegend\": true, \"type\": \"scattergl\", \"x\": [1951, 1952, 1953, 1954, 1955, 1956, 1957, 1958, 1959, 1960, 1961, 1962, 1963, 1964, 1965, 1966, 1967, 1968, 1969, 1970, 1971, 1972, 1973, 1974, 1975, 1976, 1977, 1978, 1979, 1980, 1981, 1982, 1983, 1984, 1985, 1986, 1987, 1988, 1989, 1990, 1991, 1992, 1993, 1994, 1995, 1996, 1997, 1998, 1999, 2000, 2001, 2002, 2003, 2004, 2005, 2012, 2013, 2014, 2015, 2016, 2017, 2018, 2019, 2020], \"xaxis\": \"x\", \"y\": [32.06178206178206, 46.67779667779668, 64.86906486906487, 77.60557760557761, 70.97482097482097, 75.02257502257503, 79.43782943782944, 85.37033537033537, 86.25758625758625, 89.51258951258951, 85.61708561708562, 90.70434070434071, 100.32235032235032, 97.9125979125979, 107.24185724185725, 105.45685545685546, 102.03910203910205, 104.59060459060458, 114.41861441861441, 122.78187278187279, 127.758749506804, 117.18127517405473, 152.45231745774228, 159.99934190502046, 138.92372323415995, 155.14220747754126, 169.29367819344617, 183.42928925931048, 190.8663540730303, 202.08346716344406, 205.28811662608686, 195.4194155967135, 192.1699914577157, 188.72082926365155, 196.75864469577633, 231.8433696479582, 203.6537435465811, 255.25682848179852, 550.1946337752986, 814.0255830977383, 942.6770851568343, 1370.4576765123606, 2061.809623889673, 2801.966891551504, 3932.0791806657444, 4675.441101668421, 4780.529107649519, 5873.097951178907, 6950.081055841826, 9030.564408836948, 9464.417217002449, 11000.356815937175, 24189.10950279609, 29853.91408291321, 32954.2622508452, 2969.2360763158836, 2366.989084910612, 2372.8959116141423, 2552.3704418280217, 2455.7841201322026, 2221.9610602285816, 1529.3644779426184, 1495.5098975020273, 2445.8217816033557], \"yaxis\": \"y2\"}, {\"hoverlabel\": {\"namelength\": 0}, \"hovertemplate\": \"<b>%{hovertext}</b><br><br>Country=South Africa<br>Year=%{x}<br>Value=%{y}\", \"hovertext\": [\"South Africa\", \"South Africa\", \"South Africa\", \"South Africa\", \"South Africa\", \"South Africa\", \"South Africa\", \"South Africa\", \"South Africa\", \"South Africa\", \"South Africa\", \"South Africa\", \"South Africa\", \"South Africa\", \"South Africa\", \"South Africa\", \"South Africa\", \"South Africa\", \"South Africa\", \"South Africa\", \"South Africa\", \"South Africa\", \"South Africa\", \"South Africa\", \"South Africa\", \"South Africa\", \"South Africa\", \"South Africa\", \"South Africa\", \"South Africa\", \"South Africa\", \"South Africa\", \"South Africa\", \"South Africa\", \"South Africa\", \"South Africa\", \"South Africa\", \"South Africa\", \"South Africa\", \"South Africa\", \"South Africa\", \"South Africa\", \"South Africa\", \"South Africa\", \"South Africa\", \"South Africa\", \"South Africa\", \"South Africa\", \"South Africa\", \"South Africa\", \"South Africa\", \"South Africa\", \"South Africa\", \"South Africa\", \"South Africa\", \"South Africa\", \"South Africa\", \"South Africa\", \"South Africa\", \"South Africa\", \"South Africa\", \"South Africa\", \"South Africa\", \"South Africa\", \"South Africa\", \"South Africa\", \"South Africa\", \"South Africa\", \"South Africa\", \"South Africa\"], \"legendgroup\": \"Country=South Africa\", \"line\": {\"color\": \"#EF553B\", \"dash\": \"solid\"}, \"mode\": \"lines\", \"name\": \"Country=South Africa\", \"showlegend\": true, \"type\": \"scattergl\", \"x\": [1951, 1952, 1953, 1954, 1955, 1956, 1957, 1958, 1959, 1960, 1961, 1962, 1963, 1964, 1965, 1966, 1967, 1968, 1969, 1970, 1971, 1972, 1973, 1974, 1975, 1976, 1977, 1978, 1979, 1980, 1981, 1982, 1983, 1984, 1985, 1986, 1987, 1988, 1989, 1990, 1991, 1992, 1993, 1994, 1995, 1996, 1997, 1998, 1999, 2000, 2001, 2002, 2003, 2004, 2005, 2006, 2007, 2008, 2009, 2010, 2011, 2012, 2013, 2014, 2015, 2016, 2017, 2018, 2019, 2020], \"xaxis\": \"x\", \"y\": [64.74997410001036, 74.54997018001193, 65.79997368001052, 62.99997480001009, 67.19997312001075, 76.99996920001233, 81.89996724001311, 63.699974520010194, 60.54997578000969, 69.99997200001121, 113.7499545000182, 186.19992552002978, 188.99992440003027, 271.59989136004344, 289.44988422004633, 324.44987022005193, 373.0998507600597, 399.699840120064, 425.59982976006813, 417.89983284006684, 485.8665272218082, 492.38654620433067, 752.9263256186605, 1102.318400770004, 1431.695127030404, 1677.2754193188548, 2073.7380184345043, 2067.9880169970043, 2160.86733972825, 2661.6711648438563, 3011.979548279984, 2744.6998581717044, 3052.68826855758, 2770.1521067187246, 2117.4063454885645, 2497.8884303488358, 3595.968625216721, 4263.086823226169, 4181.886467277746, 4364.458203855727, 3874.415134790607, 3677.40646070666, 3254.3133786653775, 3478.5822913146335, 3292.4465618443437, 2591.787130612767, 2414.1377095287285, 1905.6560087405126, 1738.0366250482857, 1891.7250134369287, 1802.262236357005, 1766.0828977202655, 2574.176278132126, 3099.065125416235, 3566.9638153704873, 3506.13965783314, 3525.684243694795, 3285.925081283394, 3592.6877020228544, 4188.168092203212, 4594.154077946546, 4489.590095944322, 4118.208483427343, 3892.4850910694445, 3488.8679478399654, 3139.312128418237, 3591.5076133699313, 3622.9187425515065, 3435.736037095993, 3150.8288802526113], \"yaxis\": \"y2\"}, {\"hoverlabel\": {\"namelength\": 0}, \"hovertemplate\": \"<b>%{hovertext}</b><br><br>Country=Lebanon<br>Year=%{x}<br>Value=%{y}\", \"hovertext\": [\"Lebanon\", \"Lebanon\", \"Lebanon\", \"Lebanon\", \"Lebanon\", \"Lebanon\", \"Lebanon\", \"Lebanon\", \"Lebanon\", \"Lebanon\", \"Lebanon\", \"Lebanon\", \"Lebanon\", \"Lebanon\", \"Lebanon\", \"Lebanon\", \"Lebanon\", \"Lebanon\", \"Lebanon\", \"Lebanon\", \"Lebanon\", \"Lebanon\", \"Lebanon\", \"Lebanon\", \"Lebanon\", \"Lebanon\", \"Lebanon\", \"Lebanon\", \"Lebanon\", \"Lebanon\", \"Lebanon\", \"Lebanon\", \"Lebanon\", \"Lebanon\", \"Lebanon\", \"Lebanon\", \"Lebanon\", \"Lebanon\", \"Lebanon\", \"Lebanon\", \"Lebanon\", \"Lebanon\", \"Lebanon\", \"Lebanon\", \"Lebanon\", \"Lebanon\", \"Lebanon\", \"Lebanon\", \"Lebanon\", \"Lebanon\", \"Lebanon\", \"Lebanon\", \"Lebanon\", \"Lebanon\", \"Lebanon\", \"Lebanon\", \"Lebanon\", \"Lebanon\", \"Lebanon\", \"Lebanon\", \"Lebanon\", \"Lebanon\", \"Lebanon\", \"Lebanon\", \"Lebanon\"], \"legendgroup\": \"Country=Lebanon\", \"line\": {\"color\": \"#00cc96\", \"dash\": \"solid\"}, \"mode\": \"lines\", \"name\": \"Country=Lebanon\", \"showlegend\": true, \"type\": \"scattergl\", \"x\": [1955, 1956, 1957, 1958, 1959, 1960, 1961, 1962, 1963, 1964, 1965, 1966, 1967, 1968, 1969, 1970, 1971, 1972, 1973, 1974, 1975, 1976, 1977, 1978, 1979, 1980, 1981, 1982, 1983, 1984, 1985, 1986, 1987, 1988, 1990, 1991, 1992, 1993, 1994, 1995, 1996, 1997, 1998, 1999, 2000, 2001, 2002, 2003, 2004, 2005, 2006, 2007, 2008, 2009, 2010, 2011, 2012, 2013, 2014, 2015, 2016, 2017, 2018, 2019, 2020], \"xaxis\": \"x\", \"y\": [12.523076923076925, 18.0625, 18.654782879054824, 21.76965630330503, 20.729001584786058, 22.906905201381985, 27.83714781298114, 40.8768245021668, 33.900603430741064, 38.065368323106654, 44.59853182935365, 51.42537730575741, 57.73095502602573, 65.57231644503013, 65.13897338519871, 64.54612753825353, 66.92009554702531, 106.2044369853674, 103.8155072019614, 179.14217960614496, 165.9441002962667, 173.07484703596268, 126.4271935769772, 252.76022968359294, 346.31100146480605, 503.4763147861971, 373.2147700324767, 246.65175512751054, 492.4726766000393, 474.5749175637259, 227.20350855820186, 148.29332367298326, 36.9997684731696, 39.31774307846443, 214.36103865835884, 229.46973100329984, 442.78633107386196, 452.97928056231916, 637.4734386067247, 746.26405412573, 735.6310135926284, 678.164279450453, 693.871897528576, 829.663624787776, 930.016583747927, 958.5406301824212, 907.4626865671642, 923.3830845771145, 954.5605306799337, 962.5207296849087, 1008.955223880597, 1152.2388059701493, 1169.485903814262, 1426.2023217247097, 1585.4063018242123, 1626.5339966832505, 1757.2139303482588, 1935.7182413723235, 2270.065959793791, 2239.416093739447, 2606.456908322253, 2441.074857018222, 2775.557816206579, 2521.246648014341, 1921.3930348258707], \"yaxis\": \"y2\"}, {\"hoverlabel\": {\"namelength\": 0}, \"hovertemplate\": \"<b>%{hovertext}</b><br><br>Country=Venezuela<br>Year=%{x}<br>Value=%{y}\", \"hovertext\": [\"Venezuela\", \"Venezuela\", \"Venezuela\", \"Venezuela\", \"Venezuela\", \"Venezuela\", \"Venezuela\", \"Venezuela\", \"Venezuela\", \"Venezuela\", \"Venezuela\", \"Venezuela\", \"Venezuela\", \"Venezuela\", \"Venezuela\", \"Venezuela\", \"Venezuela\", \"Venezuela\", \"Venezuela\", \"Venezuela\", \"Venezuela\", \"Venezuela\", \"Venezuela\", \"Venezuela\", \"Venezuela\", \"Venezuela\", \"Venezuela\", \"Venezuela\", \"Venezuela\", \"Venezuela\", \"Venezuela\", \"Venezuela\", \"Venezuela\", \"Venezuela\", \"Venezuela\", \"Venezuela\", \"Venezuela\", \"Venezuela\", \"Venezuela\", \"Venezuela\", \"Venezuela\", \"Venezuela\", \"Venezuela\", \"Venezuela\", \"Venezuela\", \"Venezuela\", \"Venezuela\", \"Venezuela\", \"Venezuela\", \"Venezuela\", \"Venezuela\", \"Venezuela\", \"Venezuela\", \"Venezuela\", \"Venezuela\", \"Venezuela\", \"Venezuela\", \"Venezuela\", \"Venezuela\", \"Venezuela\", \"Venezuela\", \"Venezuela\", \"Venezuela\"], \"legendgroup\": \"Country=Venezuela\", \"line\": {\"color\": \"#ab63fa\", \"dash\": \"solid\"}, \"mode\": \"lines\", \"name\": \"Country=Venezuela\", \"showlegend\": true, \"type\": \"scattergl\", \"x\": [1955, 1956, 1957, 1958, 1959, 1960, 1961, 1962, 1963, 1964, 1965, 1966, 1967, 1968, 1969, 1970, 1971, 1972, 1973, 1974, 1975, 1976, 1977, 1978, 1979, 1980, 1981, 1982, 1983, 1984, 1985, 1986, 1987, 1988, 1989, 1990, 1991, 1992, 1993, 1994, 1995, 1996, 1997, 1998, 1999, 2000, 2001, 2002, 2003, 2004, 2005, 2006, 2007, 2008, 2009, 2010, 2011, 2012, 2013, 2014, 2015, 2016, 2017], \"xaxis\": \"x\", \"y\": [142.85714285714286, 173.40327059549523, 228.9326723039223, 251.94029850746267, 225.6938743219481, 234.35774037341994, 114.63268285256268, 203.90068275382353, 245.39730779449917, 200.45977011494256, 227.27272727272725, 238.63636363636363, 270.45454545454544, 272.7272727272727, 263.6363636363636, 272.7272727272727, 352.27272727272725, 404.6511627906977, 420.93023255813955, 602.3255813953488, 711.6279069767442, 593.0232558139535, 748.8372093023256, 827.9069767441861, 925.5813953488373, 1002.3255813953488, 1009.3023255813954, 1523.2558139534883, 2006.9767441860465, 1325.4150473087661, 820.0, 1004.536496716081, 765.5172413793102, 1096.551724137931, 1196.2515529651184, 737.8704546860105, 983.7219533655962, 992.9324849780576, 1287.9547608642288, 939.6832314208283, 1198.810237387046, 733.1975560081466, 1541.0338638610165, 1450.9639916211167, 1408.0647158363945, 1788.3220803362517, 1911.4001365285812, 1071.3639691631854, 987.890177726888, 1448.7159829326454, 2665.390596961359, 3630.0884955752217, 4351.5603167210065, 5660.456450861668, 4055.379599441081, 3991.1948347443517, 3577.53158743851, 5114.847099993006, 6199.698500155424, 1554.7271082393247, 320.5391579635235, 218.15489292907495, 2127.936596435706], \"yaxis\": \"y2\"}, {\"hoverlabel\": {\"namelength\": 0}, \"hovertemplate\": \"<b>%{hovertext}</b><br><br>Country=Sudan<br>Year=%{x}<br>Value=%{y}\", \"hovertext\": [\"Sudan\", \"Sudan\", \"Sudan\", \"Sudan\", \"Sudan\", \"Sudan\", \"Sudan\", \"Sudan\", \"Sudan\", \"Sudan\", \"Sudan\", \"Sudan\", \"Sudan\", \"Sudan\", \"Sudan\", \"Sudan\", \"Sudan\", \"Sudan\", \"Sudan\", \"Sudan\", \"Sudan\", \"Sudan\", \"Sudan\", \"Sudan\", \"Sudan\", \"Sudan\", \"Sudan\", \"Sudan\", \"Sudan\", \"Sudan\", \"Sudan\", \"Sudan\", \"Sudan\", \"Sudan\", \"Sudan\", \"Sudan\", \"Sudan\", \"Sudan\", \"Sudan\", \"Sudan\", \"Sudan\", \"Sudan\", \"Sudan\", \"Sudan\", \"Sudan\", \"Sudan\", \"Sudan\", \"Sudan\", \"Sudan\", \"Sudan\", \"Sudan\", \"Sudan\", \"Sudan\", \"Sudan\", \"Sudan\", \"Sudan\", \"Sudan\", \"Sudan\", \"Sudan\"], \"legendgroup\": \"Country=Sudan\", \"line\": {\"color\": \"#FFA15A\", \"dash\": \"solid\"}, \"mode\": \"lines\", \"name\": \"Country=Sudan\", \"showlegend\": true, \"type\": \"scattergl\", \"x\": [1956, 1957, 1958, 1959, 1960, 1961, 1962, 1963, 1964, 1965, 1966, 1967, 1968, 1969, 1970, 1971, 1972, 1973, 1974, 1975, 1976, 1977, 1978, 1979, 1980, 1981, 1982, 1983, 1984, 1985, 1986, 1987, 1988, 1990, 1991, 1992, 1993, 1994, 1995, 1996, 1997, 1998, 1999, 2000, 2001, 2002, 2003, 2004, 2005, 2006, 2007, 2008, 2009, 2015, 2016, 2017, 2018, 2019, 2020], \"xaxis\": \"x\", \"y\": [0.09648462850546459, 14.101091326823665, 14.359563469270535, 16.59965537047674, 18.667432510051693, 20.50545663411832, 24.842044801838025, 28.144744399770246, 41.87248707639287, 56.375646180356114, 50.31591039632395, 52.268811028144746, 57.72544514646754, 87.01895462377944, 108.27110855829983, 109.99425617461229, 107.98391728891441, 113.1533601378518, 111.43021252153935, 119.47156806433085, 179.20735209649627, 216.53848583884255, 175.91640791411888, 239.9998135923778, 228.0, 203.9874171972129, 172.21463824425078, 230.76923076923077, 355.3846153846154, 205.29335682849975, 260.0, 310.3333333333333, 369.33333333333337, 1177.7777777777778, 1365.798114911065, 183.71844071282757, 257.98109394026886, 226.16700447845196, 138.75642566201964, 106.33279767187136, 97.73185931689238, 259.9575701437236, 429.6178974460503, 587.2675723291966, 388.09131742313554, 484.6072630323654, 398.11022173858066, 1240.766949070394, 1164.9959360606883, 1647.8391943710703, 2427.0725947480155, 3228.0000000000005, 3180.4830097306613, 2279.6216395618985, 2748.5119762470727, 4382.998816697173, 1047.8787199874052, 722.2561774207632, 934.3111538035246], \"yaxis\": \"y2\"}, {\"hoverlabel\": {\"namelength\": 0}, \"hovertemplate\": \"<b>%{hovertext}</b><br><br>Country=Syria<br>Year=%{x}<br>Value=%{y}\", \"hovertext\": [\"Syria\", \"Syria\", \"Syria\", \"Syria\", \"Syria\", \"Syria\", \"Syria\", \"Syria\", \"Syria\", \"Syria\", \"Syria\", \"Syria\", \"Syria\", \"Syria\", \"Syria\", \"Syria\", \"Syria\", \"Syria\", \"Syria\", \"Syria\", \"Syria\", \"Syria\", \"Syria\", \"Syria\", \"Syria\", \"Syria\", \"Syria\", \"Syria\", \"Syria\", \"Syria\", \"Syria\", \"Syria\", \"Syria\", \"Syria\", \"Syria\", \"Syria\", \"Syria\", \"Syria\", \"Syria\", \"Syria\", \"Syria\", \"Syria\", \"Syria\", \"Syria\", \"Syria\", \"Syria\", \"Syria\", \"Syria\", \"Syria\", \"Syria\", \"Syria\", \"Syria\", \"Syria\", \"Syria\", \"Syria\"], \"legendgroup\": \"Country=Syria\", \"line\": {\"color\": \"#19d3f3\", \"dash\": \"solid\"}, \"mode\": \"lines\", \"name\": \"Country=Syria\", \"showlegend\": true, \"type\": \"scattergl\", \"x\": [1956, 1957, 1958, 1959, 1960, 1961, 1962, 1964, 1965, 1966, 1967, 1968, 1969, 1970, 1971, 1972, 1973, 1974, 1975, 1976, 1977, 1978, 1979, 1980, 1981, 1982, 1983, 1984, 1985, 1986, 1987, 1988, 1989, 1990, 1991, 1992, 1993, 1994, 1995, 1996, 1997, 1998, 1999, 2000, 2001, 2002, 2003, 2004, 2005, 2006, 2007, 2008, 2009, 2010, 2011], \"xaxis\": \"x\", \"y\": [55.58659217877095, 48.324022346368714, 81.00558659217876, 82.9608938547486, 90.22346368715084, 90.22346368715084, 149.59349593495935, 112.04188481675394, 118.0628272251309, 102.35602094240838, 118.58638743455498, 190.05235602094243, 194.5026178010471, 199.73821989528795, 176.9633507853403, 260.20942408376965, 388.67455698685677, 537.3809243166207, 887.8378378378378, 945.0588812433974, 998.2165605095541, 1213.5031847133757, 1581.656050955414, 2253.248407643312, 2437.707006369427, 2726.87898089172, 2733.503184713376, 3394.9044585987263, 3510.31847133758, 3678.980891719745, 3650.191082802548, 3722.802547770701, 1483.652561247216, 1641.781737193764, 2893.80846325167, 2976.570155902005, 1426.0952380952383, 1636.2997760899152, 957.8998189499096, 995.0890409326054, 1046.927961044541, 1096.0395330516365, 1127.6328571090103, 897.044908654196, 1022.526577913993, 1102.9121569096455, 1436.2107335444664, 1388.544983485948, 1450.3246566683906, 1435.2156922841161, 1599.0337230650305, 1732.4168479019934, 2181.9745811918024, 2346.021283012365, 2494.887483148397], \"yaxis\": \"y2\"}, {\"hoverlabel\": {\"namelength\": 0}, \"hovertemplate\": \"<b>%{hovertext}</b><br><br>Country=Ethiopia<br>Year=%{x}<br>Value=%{y}\", \"hovertext\": [\"Ethiopia\", \"Ethiopia\", \"Ethiopia\", \"Ethiopia\", \"Ethiopia\", \"Ethiopia\", \"Ethiopia\", \"Ethiopia\", \"Ethiopia\", \"Ethiopia\", \"Ethiopia\", \"Ethiopia\", \"Ethiopia\", \"Ethiopia\", \"Ethiopia\", \"Ethiopia\", \"Ethiopia\", \"Ethiopia\", \"Ethiopia\", \"Ethiopia\", \"Ethiopia\", \"Ethiopia\", \"Ethiopia\", \"Ethiopia\", \"Ethiopia\", \"Ethiopia\", \"Ethiopia\", \"Ethiopia\", \"Ethiopia\", \"Ethiopia\", \"Ethiopia\", \"Ethiopia\", \"Ethiopia\", \"Ethiopia\", \"Ethiopia\", \"Ethiopia\", \"Ethiopia\", \"Ethiopia\", \"Ethiopia\", \"Ethiopia\", \"Ethiopia\", \"Ethiopia\", \"Ethiopia\", \"Ethiopia\", \"Ethiopia\", \"Ethiopia\", \"Ethiopia\", \"Ethiopia\", \"Ethiopia\", \"Ethiopia\", \"Ethiopia\", \"Ethiopia\", \"Ethiopia\", \"Ethiopia\", \"Ethiopia\", \"Ethiopia\", \"Ethiopia\", \"Ethiopia\", \"Ethiopia\", \"Ethiopia\", \"Ethiopia\", \"Ethiopia\", \"Ethiopia\", \"Ethiopia\"], \"legendgroup\": \"Country=Ethiopia\", \"line\": {\"color\": \"#FF6692\", \"dash\": \"solid\"}, \"mode\": \"lines\", \"name\": \"Country=Ethiopia\", \"showlegend\": true, \"type\": \"scattergl\", \"x\": [1957, 1958, 1959, 1960, 1961, 1962, 1963, 1964, 1965, 1966, 1967, 1968, 1969, 1970, 1971, 1972, 1973, 1974, 1975, 1976, 1977, 1978, 1979, 1980, 1981, 1982, 1983, 1984, 1985, 1986, 1987, 1988, 1989, 1990, 1991, 1992, 1993, 1994, 1995, 1996, 1997, 1998, 1999, 2000, 2001, 2002, 2003, 2004, 2005, 2006, 2007, 2008, 2009, 2010, 2011, 2012, 2013, 2014, 2015, 2016, 2017, 2018, 2019, 2020], \"xaxis\": \"x\", \"y\": [15.073637435750886, 16.20063836552665, 15.194387535369717, 15.33526265159169, 18.55526530809388, 20.185391652948116, 27.289522513856074, 36.14, 42.9, 43.42, 37.0, 34.66, 34.42, 34.54, 36.134238092946404, 41.04347826086957, 48.43359142346635, 74.7584541062802, 125.07246376811595, 128.0434782608696, 135.04830917874395, 178.21256038647346, 276.32850241545896, 359.3236714975846, 366.9806763285024, 387.36714975845416, 408.4057971014493, 423.01932367149766, 429.44444444444446, 439.2028985507247, 476.6183574879227, 614.8550724637681, 781.5217391304349, 785.048309178744, 529.0338164251208, 255.34344335414806, 163.85, 148.69167429094236, 122.460147475046, 126.45473323593127, 225.41710511018968, 458.54992544874796, 703.7048695268973, 617.5416136279003, 349.8082764508146, 288.9323334597765, 278.6731599315324, 311.03874898964517, 342.0666386659343, 345.6870170210907, 360.1403086120266, 388.18759674741193, 339.62776796630897, 303.6170330890518, 332.4417723915925, 366.53901766752523, 345.0641658440276, 414.4760258300706, 442.532624456259, 490.1772485320749, 499.7954834873768, 512.0290567106032, 544.8394298471578, 461.25762391547113], \"yaxis\": \"y2\"}, {\"hoverlabel\": {\"namelength\": 0}, \"hovertemplate\": \"<b>%{hovertext}</b><br><br>Country=Iraq<br>Year=%{x}<br>Value=%{y}\", \"hovertext\": [\"Iraq\", \"Iraq\", \"Iraq\", \"Iraq\", \"Iraq\", \"Iraq\", \"Iraq\", \"Iraq\", \"Iraq\", \"Iraq\", \"Iraq\", \"Iraq\", \"Iraq\", \"Iraq\", \"Iraq\", \"Iraq\", \"Iraq\", \"Iraq\", \"Iraq\", \"Iraq\", \"Iraq\", \"Iraq\", \"Iraq\", \"Iraq\", \"Iraq\", \"Iraq\", \"Iraq\", \"Iraq\", \"Iraq\", \"Iraq\", \"Iraq\", \"Iraq\", \"Iraq\", \"Iraq\", \"Iraq\", \"Iraq\", \"Iraq\", \"Iraq\", \"Iraq\", \"Iraq\", \"Iraq\", \"Iraq\"], \"legendgroup\": \"Country=Iraq\", \"line\": {\"color\": \"#B6E880\", \"dash\": \"solid\"}, \"mode\": \"lines\", \"name\": \"Country=Iraq\", \"showlegend\": true, \"type\": \"scattergl\", \"x\": [1957, 1958, 1959, 1960, 1961, 1962, 1963, 1964, 1965, 1966, 1967, 1968, 1969, 1970, 1971, 1972, 1973, 1974, 1975, 1976, 1977, 1978, 1979, 1980, 1981, 2004, 2005, 2006, 2007, 2008, 2009, 2010, 2011, 2012, 2013, 2014, 2015, 2016, 2017, 2018, 2019, 2020], \"xaxis\": \"x\", \"y\": [83.24396670241332, 86.68796532481387, 100.16295993481603, 118.726952509219, 125.48194980722009, 135.0649459740216, 163.21893471242612, 185.19892592042964, 225.74290970283613, 234.9969060012376, 234.54190618323753, 291.43788342484663, 375.9978496008602, 401.05083957966417, 426.26334016538266, 466.11328807809116, 665.1852889854231, 1427.457784181032, 1590.171817116696, 1761.1762395280955, 2007.6935058954195, 1986.021658302688, 2371.7128209295865, 2976.4928178142586, 4086.4977617044906, 613.7248696178667, 1120.2785326086957, 1236.0810129342656, 1989.9487473795803, 3116.3040198477893, 3237.1794871794873, 3752.9059829059825, 4278.6324786324785, 4141.066053834346, 7780.188679245283, 6923.644082332762, 9604.23101085097, 5970.383697669416, 7416.385135135135, 6317.977150052539, 7598.829335745368, 7015.558808232815], \"yaxis\": \"y2\"}, {\"hoverlabel\": {\"namelength\": 0}, \"hovertemplate\": \"<b>%{hovertext}</b><br><br>Country=Libya<br>Year=%{x}<br>Value=%{y}\", \"hovertext\": [\"Libya\", \"Libya\", \"Libya\", \"Libya\", \"Libya\", \"Libya\", \"Libya\", \"Libya\", \"Libya\", \"Libya\", \"Libya\", \"Libya\", \"Libya\", \"Libya\", \"Libya\", \"Libya\", \"Libya\", \"Libya\", \"Libya\", \"Libya\", \"Libya\", \"Libya\", \"Libya\", \"Libya\", \"Libya\", \"Libya\", \"Libya\", \"Libya\", \"Libya\", \"Libya\", \"Libya\", \"Libya\", \"Libya\", \"Libya\", \"Libya\", \"Libya\", \"Libya\", \"Libya\", \"Libya\"], \"legendgroup\": \"Country=Libya\", \"line\": {\"color\": \"#FF97FF\", \"dash\": \"solid\"}, \"mode\": \"lines\", \"name\": \"Country=Libya\", \"showlegend\": true, \"type\": \"scattergl\", \"x\": [1959, 1960, 1961, 1962, 1963, 1964, 1965, 1966, 1967, 1968, 1969, 1970, 1971, 1972, 1973, 1974, 1975, 1976, 1977, 1978, 1979, 1980, 1981, 1982, 1997, 1998, 1999, 2000, 2001, 2002, 2003, 2004, 2005, 2006, 2007, 2008, 2012, 2013, 2014], \"xaxis\": \"x\", \"y\": [5.571997771200891, 5.571997771200891, 7.167997132801148, 16.687993324802672, 18.67599252960299, 21.475991409603434, 29.119988352004658, 58.519976592009364, 79.51996819201273, 95.47996180801529, 143.0799427680229, 242.47990300803883, 243.03587164562788, 202.76822710041438, 298.3074800183984, 431.68237904955566, 287.7882526997038, 326.2951315820585, 479.6470878328396, 729.9418005681453, 853.5691485588632, 1074.1392530341056, 557.3345223136477, 709.3324506085058, 1251.9908172874545, 1443.6217582671406, 1153.4870884907862, 1085.534664870458, 819.7479936006769, 452.5136147574527, 541.401766516621, 685.0732200740247, 690.9307693483545, 614.356296200431, 639.1370461889375, 1100.0686521298505, 2987.41340773267, 3964.690154136521, 3755.652496350929], \"yaxis\": \"y2\"}, {\"hoverlabel\": {\"namelength\": 0}, \"hovertemplate\": \"<b>%{hovertext}</b><br><br>Country=Iran<br>Year=%{x}<br>Value=%{y}\", \"hovertext\": [\"Iran\", \"Iran\", \"Iran\", \"Iran\", \"Iran\", \"Iran\", \"Iran\", \"Iran\", \"Iran\", \"Iran\", \"Iran\", \"Iran\", \"Iran\", \"Iran\", \"Iran\", \"Iran\", \"Iran\", \"Iran\", \"Iran\", \"Iran\", \"Iran\", \"Iran\", \"Iran\", \"Iran\", \"Iran\", \"Iran\", \"Iran\", \"Iran\", \"Iran\", \"Iran\", \"Iran\", \"Iran\", \"Iran\", \"Iran\", \"Iran\", \"Iran\", \"Iran\", \"Iran\", \"Iran\", \"Iran\", \"Iran\", \"Iran\", \"Iran\", \"Iran\", \"Iran\", \"Iran\", \"Iran\", \"Iran\", \"Iran\", \"Iran\", \"Iran\", \"Iran\", \"Iran\", \"Iran\", \"Iran\", \"Iran\", \"Iran\", \"Iran\", \"Iran\", \"Iran\", \"Iran\"], \"legendgroup\": \"Country=Iran\", \"line\": {\"color\": \"#FECB52\", \"dash\": \"solid\"}, \"mode\": \"lines\", \"name\": \"Country=Iran\", \"showlegend\": true, \"type\": \"scattergl\", \"x\": [1960, 1961, 1962, 1963, 1964, 1965, 1966, 1967, 1968, 1969, 1970, 1971, 1972, 1973, 1974, 1975, 1976, 1977, 1978, 1979, 1980, 1981, 1982, 1983, 1984, 1985, 1986, 1987, 1988, 1989, 1990, 1991, 1992, 1993, 1994, 1995, 1996, 1997, 1998, 1999, 2000, 2001, 2002, 2003, 2004, 2005, 2006, 2007, 2008, 2009, 2010, 2011, 2012, 2013, 2014, 2015, 2016, 2017, 2018, 2019, 2020], \"xaxis\": \"x\", \"y\": [98.67986798679867, 105.94059405940594, 109.9009900990099, 128.7128712871287, 155.44554455445547, 200.00000000000003, 256.1056105610561, 331.023102310231, 437.2937293729373, 566.006600660066, 620.1320132013202, 402.3102310231023, 371.94719471947195, 480.8571669129623, 3877.8626631267116, 5951.043741982016, 7186.307294358153, 7617.207960430016, 8113.739880875546, 4993.779938919994, 4874.889400106175, 8121.567621447014, 9703.525315259945, 10550.357292931585, 9926.303621971003, 10706.415944506478, 11741.433342091335, 15263.376569599572, 18889.008562658197, 16301.812932063633, 16474.401698234527, 17549.5948299352, 19732.55801540571, 1448.1777034805784, 1703.171536205704, 2501.544189557847, 3550.9869641929276, 4642.384615823301, 5479.36294174375, 6650.2851439977185, 8327.053824362605, 10378.791765718619, 3243.891033232663, 3717.0684497839247, 5243.621132599411, 6796.744965394759, 8751.474767035876, 9330.901881771117, 11081.950208569098, 12584.623338706246, 13561.272454213882, 14277.667360568184, 16493.96328692867, 11997.1869840994, 9901.118855302648, 10588.769670868436, 12263.957414621567, 13931.196489797547, 11230.852287933145, 12528.450210913432, 15825.143121288625], \"yaxis\": \"y2\"}, {\"hoverlabel\": {\"namelength\": 0}, \"hovertemplate\": \"<b>%{hovertext}</b><br><br>Country=Nigeria<br>Year=%{x}<br>Value=%{y}\", \"hovertext\": [\"Nigeria\", \"Nigeria\", \"Nigeria\", \"Nigeria\", \"Nigeria\", \"Nigeria\", \"Nigeria\", \"Nigeria\", \"Nigeria\", \"Nigeria\", \"Nigeria\", \"Nigeria\", \"Nigeria\", \"Nigeria\", \"Nigeria\", \"Nigeria\", \"Nigeria\", \"Nigeria\", \"Nigeria\", \"Nigeria\", \"Nigeria\", \"Nigeria\", \"Nigeria\", \"Nigeria\", \"Nigeria\", \"Nigeria\", \"Nigeria\", \"Nigeria\", \"Nigeria\", \"Nigeria\", \"Nigeria\", \"Nigeria\", \"Nigeria\", \"Nigeria\", \"Nigeria\", \"Nigeria\", \"Nigeria\", \"Nigeria\", \"Nigeria\", \"Nigeria\", \"Nigeria\", \"Nigeria\", \"Nigeria\", \"Nigeria\", \"Nigeria\", \"Nigeria\", \"Nigeria\", \"Nigeria\", \"Nigeria\", \"Nigeria\", \"Nigeria\", \"Nigeria\", \"Nigeria\", \"Nigeria\", \"Nigeria\", \"Nigeria\", \"Nigeria\", \"Nigeria\", \"Nigeria\", \"Nigeria\", \"Nigeria\"], \"legendgroup\": \"Country=Nigeria\", \"line\": {\"color\": \"#636efa\", \"dash\": \"solid\"}, \"mode\": \"lines\", \"name\": \"Country=Nigeria\", \"showlegend\": true, \"type\": \"scattergl\", \"x\": [1960, 1961, 1962, 1963, 1964, 1965, 1966, 1967, 1968, 1969, 1970, 1971, 1972, 1973, 1974, 1975, 1976, 1977, 1978, 1979, 1980, 1981, 1982, 1983, 1984, 1985, 1986, 1987, 1988, 1989, 1990, 1991, 1992, 1993, 1994, 1995, 1996, 1997, 1998, 1999, 2000, 2001, 2002, 2003, 2004, 2005, 2006, 2007, 2008, 2009, 2010, 2011, 2012, 2013, 2014, 2015, 2016, 2017, 2018, 2019, 2020], \"xaxis\": \"x\", \"y\": [23.37999064800374, 28.279988688004526, 38.63998454400618, 45.49998180000728, 54.3199782720087, 65.93997362401056, 55.71997771200891, 239.9599040160384, 369.0398523840591, 684.4597262161095, 662.339735064106, 639.2595418990651, 904.0956383617446, 1020.2235919105632, 1351.1412351931358, 3028.5847974498865, 2644.426038260392, 3138.1989480394786, 3022.6422697679104, 3070.8253381169425, 3029.9150848328677, 2135.475014084325, 1651.9145132383317, 1627.393326983338, 1210.916249525457, 1091.6629931056398, 516.8935093358867, 201.691218214958, 271.10604654648364, 170.70551126789442, 277.29778348380063, 243.70578102404866, 173.65767932294315, 289.23110390022384, 319.6944899072559, 639.4066306467598, 701.4128785801759, 818.784525338, 1149.6847299643607, 491.671368589997, 368.64410946242265, 570.6322877615054, 896.9132014131931, 587.4618872947331, 639.9900668231894, 674.20814479638, 776.1480583278924, 971.3213786086734, 1615.5332107367603, 1504.4861721132022, 1990.0996686582655, 2384.9360217138424, 2316.4781998615867, 2418.7601708706266, 2357.6712192906225, 2065.557663350914, 1723.2042663951536, 1621.218176403174, 2043.051719216729, 1860.2604295613423, 2567.917819043856], \"yaxis\": \"y2\"}, {\"hoverlabel\": {\"namelength\": 0}, \"hovertemplate\": \"<b>%{hovertext}</b><br><br>Country=Sierra Leone<br>Year=%{x}<br>Value=%{y}\", \"hovertext\": [\"Sierra Leone\", \"Sierra Leone\", \"Sierra Leone\", \"Sierra Leone\", \"Sierra Leone\", \"Sierra Leone\", \"Sierra Leone\", \"Sierra Leone\", \"Sierra Leone\", \"Sierra Leone\", \"Sierra Leone\", \"Sierra Leone\", \"Sierra Leone\", \"Sierra Leone\", \"Sierra Leone\", \"Sierra Leone\", \"Sierra Leone\", \"Sierra Leone\", \"Sierra Leone\", \"Sierra Leone\", \"Sierra Leone\", \"Sierra Leone\", \"Sierra Leone\", \"Sierra Leone\", \"Sierra Leone\", \"Sierra Leone\", \"Sierra Leone\", \"Sierra Leone\", \"Sierra Leone\", \"Sierra Leone\", \"Sierra Leone\", \"Sierra Leone\", \"Sierra Leone\", \"Sierra Leone\", \"Sierra Leone\", \"Sierra Leone\", \"Sierra Leone\", \"Sierra Leone\", \"Sierra Leone\", \"Sierra Leone\", \"Sierra Leone\", \"Sierra Leone\", \"Sierra Leone\", \"Sierra Leone\", \"Sierra Leone\", \"Sierra Leone\", \"Sierra Leone\", \"Sierra Leone\", \"Sierra Leone\", \"Sierra Leone\", \"Sierra Leone\", \"Sierra Leone\", \"Sierra Leone\", \"Sierra Leone\", \"Sierra Leone\", \"Sierra Leone\", \"Sierra Leone\", \"Sierra Leone\"], \"legendgroup\": \"Country=Sierra Leone\", \"line\": {\"color\": \"#EF553B\", \"dash\": \"solid\"}, \"mode\": \"lines\", \"name\": \"Country=Sierra Leone\", \"showlegend\": true, \"type\": \"scattergl\", \"x\": [1961, 1962, 1963, 1964, 1965, 1966, 1967, 1968, 1969, 1970, 1971, 1972, 1973, 1974, 1975, 1976, 1977, 1978, 1979, 1980, 1981, 1982, 1983, 1984, 1985, 1986, 1987, 1988, 1989, 1990, 1991, 1992, 1993, 1994, 1995, 1996, 1997, 2000, 2001, 2002, 2003, 2004, 2005, 2006, 2007, 2008, 2009, 2010, 2011, 2012, 2013, 2014, 2015, 2016, 2017, 2018, 2019, 2020], \"xaxis\": \"x\", \"y\": [1.9305992277603088, 1.9837992064803176, 2.155999137600345, 2.3533990586403766, 2.505998997600401, 2.5395989841604063, 2.883153573494871, 2.6580010632004254, 3.2976013190405276, 3.986401594560638, 3.7706374098260427, 4.23461066807196, 5.022404825428557, 6.779970097993947, 6.526389844494935, 6.020631896768628, 7.064980375054513, 8.11812347188264, 10.785547366528851, 15.907791960373403, 15.788111465792426, 14.128284826222096, 10.2369346480457, 9.92051634494711, 6.281702969675079, 7.227148725150852, 4.585444664757289, 9.011475021606012, 14.394912125832597, 12.387253542516806, 23.179749715585896, 26.661754518042137, 23.339131109031666, 26.49555169240209, 25.02330459100443, 18.592815281754085, 9.490749703000159, 23.310804351566834, 29.911134607154544, 27.133961877629186, 28.467933592851605, 22.961537037722575, 23.552130233008835, 28.02245848118275, 29.07687617873569, 23.645736556308712, 26.405564662620176, 25.06227863120241, 25.4761839067774, 29.75893407979669, 31.684939411425272, 48.81063078771625, 39.22651426584026, 37.41473216954801, 39.57782600412428, 29.622478099625702, 25.641867776012568, 23.8273810780594], \"yaxis\": \"y2\"}, {\"hoverlabel\": {\"namelength\": 0}, \"hovertemplate\": \"<b>%{hovertext}</b><br><br>Country=Somalia<br>Year=%{x}<br>Value=%{y}\", \"hovertext\": [\"Somalia\", \"Somalia\", \"Somalia\", \"Somalia\", \"Somalia\", \"Somalia\", \"Somalia\", \"Somalia\", \"Somalia\", \"Somalia\", \"Somalia\", \"Somalia\", \"Somalia\", \"Somalia\", \"Somalia\", \"Somalia\", \"Somalia\", \"Somalia\", \"Somalia\", \"Somalia\", \"Somalia\", \"Somalia\", \"Somalia\", \"Somalia\", \"Somalia\", \"Somalia\", \"Somalia\", \"Somalia\", \"Somalia\", \"Somalia\", \"Somalia\", \"Somalia\", \"Somalia\", \"Somalia\", \"Somalia\", \"Somalia\", \"Somalia\"], \"legendgroup\": \"Country=Somalia\", \"line\": {\"color\": \"#00cc96\", \"dash\": \"solid\"}, \"mode\": \"lines\", \"name\": \"Country=Somalia\", \"showlegend\": true, \"type\": \"scattergl\", \"x\": [1961, 1962, 1963, 1964, 1965, 1966, 1967, 1968, 1969, 1970, 1971, 1972, 1973, 1974, 1975, 1976, 1977, 1978, 1979, 1980, 1981, 1982, 1983, 1984, 1985, 1986, 1987, 1988, 1989, 2013, 2014, 2015, 2016, 2017, 2018, 2019, 2020], \"xaxis\": \"x\", \"y\": [3.16, 3.7, 4.48, 5.42, 5.17, 6.5, 7.53, 8.34, 9.0, 11.2, 11.4, 13.2, 16.1, 21.4, 23.1, 26.3, 31.7, 81.4, 87.7, 95.5, 134.0, 83.9, 83.9, 89.2, 44.3, 34.9, 28.5, 49.5, 8.56, 26.05, 60.258, 46.614, 47.706, 61.813, 76.562, 77.535, 98.385], \"yaxis\": \"y2\"}, {\"hoverlabel\": {\"namelength\": 0}, \"hovertemplate\": \"<b>%{hovertext}</b><br><br>Country=Togo<br>Year=%{x}<br>Value=%{y}\", \"hovertext\": [\"Togo\", \"Togo\", \"Togo\", \"Togo\", \"Togo\", \"Togo\", \"Togo\", \"Togo\", \"Togo\", \"Togo\", \"Togo\", \"Togo\", \"Togo\", \"Togo\", \"Togo\", \"Togo\", \"Togo\", \"Togo\", \"Togo\", \"Togo\", \"Togo\", \"Togo\", \"Togo\", \"Togo\", \"Togo\", \"Togo\", \"Togo\", \"Togo\", \"Togo\", \"Togo\", \"Togo\", \"Togo\", \"Togo\", \"Togo\", \"Togo\", \"Togo\", \"Togo\", \"Togo\", \"Togo\", \"Togo\", \"Togo\", \"Togo\", \"Togo\", \"Togo\", \"Togo\", \"Togo\", \"Togo\", \"Togo\", \"Togo\", \"Togo\", \"Togo\"], \"legendgroup\": \"Country=Togo\", \"line\": {\"color\": \"#ab63fa\", \"dash\": \"solid\"}, \"mode\": \"lines\", \"name\": \"Country=Togo\", \"showlegend\": true, \"type\": \"scattergl\", \"x\": [1961, 1962, 1963, 1964, 1965, 1966, 1967, 1968, 1969, 1970, 1971, 1972, 1973, 1974, 1975, 1976, 1977, 1978, 1979, 1980, 1981, 1982, 1983, 1984, 1985, 1986, 1987, 1988, 1989, 1990, 1991, 1992, 1993, 1994, 1995, 2003, 2004, 2005, 2008, 2009, 2010, 2011, 2012, 2013, 2014, 2015, 2016, 2017, 2018, 2019, 2020], \"xaxis\": \"x\", \"y\": [0.3269999184538857, 0.7142449002914119, 1.134619779932739, 3.3833006158504983, 3.362428130139026, 2.8899616571284366, 3.1056784322014948, 3.288025367075314, 3.4351306542135167, 3.6504668907356286, 4.183674951698892, 5.126414525370198, 6.873376434009753, 8.097048254086953, 11.114584742876076, 14.233103159656832, 21.10875936177141, 22.7337185804942, 22.498848262050938, 24.763347216963272, 22.52595397654298, 18.54196210659574, 16.398734077561368, 15.692619639918803, 18.87980982186381, 30.011030706947036, 43.41229199732479, 43.08909242298085, 41.861019159394125, 50.748351789616734, 45.90456812486042, 49.11368685113264, 50.147794733068935, 25.396024891706663, 30.852572784023973, 28.831211286992428, 31.71962103788675, 33.23803529313627, 57.00918926764998, 55.13081709326409, 56.832843035311555, 59.01887400236508, 62.931049680036516, 72.41923730871993, 83.08001156110065, 69.97717474004565, 82.01969041231563, 88.41411492217038, 104.3789946450164, 170.5668324350892, 116.30493335881974], \"yaxis\": \"y2\"}, {\"hoverlabel\": {\"namelength\": 0}, \"hovertemplate\": \"<b>%{hovertext}</b><br><br>Country=Burundi<br>Year=%{x}<br>Value=%{y}\", \"hovertext\": [\"Burundi\", \"Burundi\", \"Burundi\", \"Burundi\", \"Burundi\", \"Burundi\", \"Burundi\", \"Burundi\", \"Burundi\", \"Burundi\", \"Burundi\", \"Burundi\", \"Burundi\", \"Burundi\", \"Burundi\", \"Burundi\", \"Burundi\", \"Burundi\", \"Burundi\", \"Burundi\", \"Burundi\", \"Burundi\", \"Burundi\", \"Burundi\", \"Burundi\", \"Burundi\", \"Burundi\", \"Burundi\", \"Burundi\", \"Burundi\", \"Burundi\", \"Burundi\", \"Burundi\", \"Burundi\", \"Burundi\", \"Burundi\", \"Burundi\", \"Burundi\", \"Burundi\", \"Burundi\", \"Burundi\", \"Burundi\", \"Burundi\", \"Burundi\", \"Burundi\", \"Burundi\", \"Burundi\", \"Burundi\", \"Burundi\", \"Burundi\", \"Burundi\", \"Burundi\", \"Burundi\", \"Burundi\", \"Burundi\"], \"legendgroup\": \"Country=Burundi\", \"line\": {\"color\": \"#FFA15A\", \"dash\": \"solid\"}, \"mode\": \"lines\", \"name\": \"Country=Burundi\", \"showlegend\": true, \"type\": \"scattergl\", \"x\": [1962, 1963, 1964, 1965, 1966, 1967, 1968, 1969, 1971, 1972, 1973, 1974, 1975, 1976, 1977, 1978, 1979, 1980, 1981, 1982, 1983, 1984, 1985, 1986, 1987, 1988, 1989, 1990, 1991, 1992, 1993, 1994, 1995, 1996, 1997, 1998, 1999, 2000, 2001, 2002, 2003, 2004, 2005, 2006, 2007, 2008, 2012, 2013, 2014, 2015, 2016, 2017, 2018, 2019, 2020], \"xaxis\": \"x\", \"y\": [8.42, 1.012, 1.162, 2.1534814814814816, 2.286857142857143, 2.376, 2.5908571428571427, 3.337142857142857, 2.6285714285714286, 3.6, 5.923067599195763, 7.682539682539683, 8.533333333333333, 9.971014492753623, 13.955555555555556, 17.03333333333333, 20.0, 27.763333333333332, 29.995555555555555, 36.66555555555555, 34.3696442000553, 29.938434035870316, 32.22029811667812, 34.60773751653222, 30.784856430675603, 34.25549342925318, 37.90328171579471, 39.60234737671893, 42.751758827191445, 38.98647643096835, 36.26740258670401, 41.90974503486872, 42.1089298798432, 50.89398078263368, 61.870123825390024, 58.736036233211095, 50.5711882632257, 42.32155221577609, 53.230373106377655, 44.910067053523555, 43.41320130793815, 44.87237714597148, 49.55712938478892, 44.717502041451176, 46.308706221634765, 43.85631994872184, 58.96666227617139, 60.8595000932422, 62.17729473908798, 66.16458443559236, 66.4628430779874, 63.908678432008834, 65.43659526279552, 84.68941391820168, 67.47409271629704], \"yaxis\": \"y2\"}, {\"hoverlabel\": {\"namelength\": 0}, \"hovertemplate\": \"<b>%{hovertext}</b><br><br>Country=Egypt<br>Year=%{x}<br>Value=%{y}\", \"hovertext\": [\"Egypt\", \"Egypt\", \"Egypt\", \"Egypt\", \"Egypt\", \"Egypt\", \"Egypt\", \"Egypt\", \"Egypt\", \"Egypt\", \"Egypt\", \"Egypt\", \"Egypt\", \"Egypt\", \"Egypt\", \"Egypt\", \"Egypt\", \"Egypt\", \"Egypt\", \"Egypt\", \"Egypt\", \"Egypt\", \"Egypt\", \"Egypt\", \"Egypt\", \"Egypt\", \"Egypt\", \"Egypt\", \"Egypt\", \"Egypt\", \"Egypt\", \"Egypt\", \"Egypt\", \"Egypt\", \"Egypt\", \"Egypt\", \"Egypt\", \"Egypt\", \"Egypt\", \"Egypt\", \"Egypt\", \"Egypt\", \"Egypt\", \"Egypt\", \"Egypt\", \"Egypt\", \"Egypt\", \"Egypt\", \"Egypt\", \"Egypt\", \"Egypt\", \"Egypt\", \"Egypt\", \"Egypt\", \"Egypt\", \"Egypt\", \"Egypt\", \"Egypt\", \"Egypt\"], \"legendgroup\": \"Country=Egypt\", \"line\": {\"color\": \"#19d3f3\", \"dash\": \"solid\"}, \"mode\": \"lines\", \"name\": \"Country=Egypt\", \"showlegend\": true, \"type\": \"scattergl\", \"x\": [1962, 1963, 1964, 1965, 1966, 1967, 1968, 1969, 1970, 1971, 1972, 1973, 1974, 1975, 1976, 1977, 1978, 1979, 1980, 1981, 1982, 1983, 1984, 1985, 1986, 1987, 1988, 1989, 1990, 1991, 1992, 1993, 1994, 1995, 1996, 1997, 1998, 1999, 2000, 2001, 2002, 2003, 2004, 2005, 2006, 2007, 2008, 2009, 2010, 2011, 2012, 2013, 2014, 2015, 2016, 2017, 2018, 2019, 2020], \"xaxis\": \"x\", \"y\": [249.69776681195285, 335.799697780272, 448.49959635036333, 515.1995363204173, 481.8495663353903, 508.29954253041177, 648.5994162605253, 888.9491999457201, 1092.499016750885, 1266.1488604660256, 1066.0490405558637, 1243.8561046949917, 1852.779424692822, 1926.890601680535, 2201.6130681005047, 2751.0580009404453, 2485.279986915544, 1152.8554959207202, 1361.4266265333908, 1817.1402612281984, 2307.1395612291985, 3004.281422455111, 3742.1375112321266, 4203.565423477967, 4727.13610409128, 4805.707420417971, 4453.56506633562, 3516.344801405846, 2260.6451612903224, 1345.7573430294995, 1415.8199744110784, 1526.165392003627, 1714.4097863302147, 1948.8769857998177, 2115.7429794661916, 2267.6503135374405, 2372.048406139315, 2447.978793903247, 2627.6983338373584, 2834.256229549459, 2902.768425240073, 2383.914898271713, 2369.743586433063, 2659.4397135752392, 2952.5201590045294, 3306.9082572226075, 3779.8803497468934, 4017.404478271456, 4407.286452719168, 4463.974191069017, 4557.748767350389, 4359.83424376995, 5085.12157627973, 5475.490833441686, 4513.022526816316, 2765.5884340120665, 3119.587363842486, 3743.6714515456547, 4505.374644325008], \"yaxis\": \"y2\"}, {\"hoverlabel\": {\"namelength\": 0}, \"hovertemplate\": \"<b>%{hovertext}</b><br><br>Country=Guinea<br>Year=%{x}<br>Value=%{y}\", \"hovertext\": [\"Guinea\", \"Guinea\", \"Guinea\", \"Guinea\", \"Guinea\", \"Guinea\", \"Guinea\", \"Guinea\", \"Guinea\", \"Guinea\", \"Guinea\", \"Guinea\", \"Guinea\", \"Guinea\", \"Guinea\", \"Guinea\", \"Guinea\", \"Guinea\", \"Guinea\", \"Guinea\", \"Guinea\", \"Guinea\", \"Guinea\", \"Guinea\", \"Guinea\", \"Guinea\", \"Guinea\", \"Guinea\", \"Guinea\", \"Guinea\", \"Guinea\", \"Guinea\", \"Guinea\", \"Guinea\"], \"legendgroup\": \"Country=Guinea\", \"line\": {\"color\": \"#FF6692\", \"dash\": \"solid\"}, \"mode\": \"lines\", \"name\": \"Country=Guinea\", \"showlegend\": true, \"type\": \"scattergl\", \"x\": [1965, 1966, 1968, 1969, 1970, 1971, 1972, 1973, 1978, 1979, 1980, 1981, 1982, 1991, 1992, 1993, 1994, 1997, 1998, 1999, 2000, 2001, 2002, 2003, 2004, 2012, 2013, 2014, 2015, 2016, 2017, 2018, 2019, 2020], \"xaxis\": \"x\", \"y\": [10.492201741948552, 13.895077982580515, 14.17865100263318, 14.70528661130241, 15.069880494227265, 26.327764415263605, 31.711404230239747, 36.058910702304004, 85.22828098461225, 71.02109174648035, 60.30924302410788, 52.510728896654115, 52.26683358669409, 71.76417839964557, 55.65404029485555, 43.956503992715774, 45.8717475087955, 44.37018980581195, 45.03448331621969, 55.21118639181202, 45.96793121411439, 87.71839881880076, 98.08486517126894, 84.13394930803605, 81.01857009799771, 168.9133574679029, 196.818705594191, 196.94558975324063, 221.4142323102065, 161.85674445321777, 181.63777587054466, 197.07952635247594, 197.75433070763407, 209.67040043205742], \"yaxis\": \"y2\"}, {\"hoverlabel\": {\"namelength\": 0}, \"hovertemplate\": \"<b>%{hovertext}</b><br><br>Country=Liberia<br>Year=%{x}<br>Value=%{y}\", \"hovertext\": [\"Liberia\", \"Liberia\", \"Liberia\", \"Liberia\", \"Liberia\", \"Liberia\", \"Liberia\", \"Liberia\", \"Liberia\", \"Liberia\", \"Liberia\", \"Liberia\", \"Liberia\", \"Liberia\", \"Liberia\", \"Liberia\", \"Liberia\", \"Liberia\", \"Liberia\", \"Liberia\", \"Liberia\", \"Liberia\", \"Liberia\", \"Liberia\", \"Liberia\", \"Liberia\", \"Liberia\", \"Liberia\", \"Liberia\", \"Liberia\", \"Liberia\", \"Liberia\", \"Liberia\", \"Liberia\", \"Liberia\", \"Liberia\", \"Liberia\", \"Liberia\", \"Liberia\", \"Liberia\", \"Liberia\", \"Liberia\", \"Liberia\", \"Liberia\", \"Liberia\"], \"legendgroup\": \"Country=Liberia\", \"line\": {\"color\": \"#B6E880\", \"dash\": \"solid\"}, \"mode\": \"lines\", \"name\": \"Country=Liberia\", \"showlegend\": true, \"type\": \"scattergl\", \"x\": [1965, 1966, 1967, 1968, 1969, 1970, 1971, 1972, 1973, 1974, 1975, 1976, 1977, 1978, 1979, 1980, 1981, 1982, 1983, 1984, 1985, 1986, 1987, 1988, 1991, 1992, 1993, 1994, 2004, 2005, 2006, 2007, 2008, 2009, 2010, 2011, 2012, 2013, 2014, 2015, 2016, 2017, 2018, 2019, 2020], \"xaxis\": \"x\", \"y\": [2.7, 2.8, 3.05, 3.05, 3.05, 3.55, 4.05, 4.05, 3.75, 4.55, 5.5, 6.4, 7.75, 8.9, 9.4, 12.75, 26.35, 43.35, 38.75, 24.95, 25.15, 24.35, 22.25, 25.0, 25.0, 22.65, 30.45, 39.3, 3.182, 8.025, 3.925, 3.486, 3.907, 7.193, 8.458, 13.271, 15.179, 15.1115, 14.531, 14.799, 14.712, 13.3355, 16.7885, 19.2285, 16.937], \"yaxis\": \"y2\"}, {\"hoverlabel\": {\"namelength\": 0}, \"hovertemplate\": \"<b>%{hovertext}</b><br><br>Country=Zimbabwe<br>Year=%{x}<br>Value=%{y}\", \"hovertext\": [\"Zimbabwe\", \"Zimbabwe\", \"Zimbabwe\", \"Zimbabwe\", \"Zimbabwe\", \"Zimbabwe\", \"Zimbabwe\", \"Zimbabwe\", \"Zimbabwe\", \"Zimbabwe\", \"Zimbabwe\", \"Zimbabwe\", \"Zimbabwe\", \"Zimbabwe\", \"Zimbabwe\", \"Zimbabwe\", \"Zimbabwe\", \"Zimbabwe\", \"Zimbabwe\", \"Zimbabwe\", \"Zimbabwe\", \"Zimbabwe\", \"Zimbabwe\", \"Zimbabwe\", \"Zimbabwe\", \"Zimbabwe\", \"Zimbabwe\", \"Zimbabwe\", \"Zimbabwe\", \"Zimbabwe\", \"Zimbabwe\", \"Zimbabwe\", \"Zimbabwe\", \"Zimbabwe\", \"Zimbabwe\", \"Zimbabwe\", \"Zimbabwe\", \"Zimbabwe\", \"Zimbabwe\", \"Zimbabwe\", \"Zimbabwe\", \"Zimbabwe\", \"Zimbabwe\", \"Zimbabwe\", \"Zimbabwe\", \"Zimbabwe\", \"Zimbabwe\", \"Zimbabwe\", \"Zimbabwe\", \"Zimbabwe\", \"Zimbabwe\", \"Zimbabwe\"], \"legendgroup\": \"Country=Zimbabwe\", \"line\": {\"color\": \"#FF97FF\", \"dash\": \"solid\"}, \"mode\": \"lines\", \"name\": \"Country=Zimbabwe\", \"showlegend\": true, \"type\": \"scattergl\", \"x\": [1965, 1966, 1967, 1968, 1969, 1970, 1971, 1972, 1973, 1974, 1975, 1976, 1977, 1978, 1979, 1980, 1981, 1982, 1983, 1984, 1985, 1986, 1987, 1988, 1989, 1990, 1991, 1992, 1993, 1994, 1995, 1996, 1997, 1998, 1999, 2000, 2001, 2002, 2003, 2004, 2005, 2006, 2010, 2011, 2012, 2013, 2014, 2015, 2016, 2017, 2018, 2019], \"xaxis\": \"x\", \"y\": [15.6, 16.95, 19.0, 30.6, 42.35, 45.95, 49.85, 58.45, 86.9, 118.55, 148.6, 199.8, 285.35, 347.75, 441.15, 442.75, 389.7, 437.45, 431.75, 360.65, 309.3, 342.2, 392.6, 407.05, 408.6, 416.3, 376.05, 296.35, 249.8, 247.9, 262.9, 291.65, 311.4, 306.0, 263.4, 346.3, 286.7, 677.0, 194.8, 256.1, 131.4, 161.7, 98.293, 198.438, 318.272, 356.7, 368.1, 376.677, 358.065, 340.522, 420.364, 546.939], \"yaxis\": \"y2\"}, {\"hoverlabel\": {\"namelength\": 0}, \"hovertemplate\": \"<b>%{hovertext}</b><br><br>Country=Afghanistan<br>Year=%{x}<br>Value=%{y}\", \"hovertext\": [\"Afghanistan\", \"Afghanistan\", \"Afghanistan\", \"Afghanistan\", \"Afghanistan\", \"Afghanistan\", \"Afghanistan\", \"Afghanistan\", \"Afghanistan\", \"Afghanistan\", \"Afghanistan\", \"Afghanistan\", \"Afghanistan\", \"Afghanistan\", \"Afghanistan\", \"Afghanistan\", \"Afghanistan\", \"Afghanistan\", \"Afghanistan\", \"Afghanistan\", \"Afghanistan\", \"Afghanistan\", \"Afghanistan\"], \"legendgroup\": \"Country=Afghanistan\", \"line\": {\"color\": \"#FECB52\", \"dash\": \"solid\"}, \"mode\": \"lines\", \"name\": \"Country=Afghanistan\", \"showlegend\": true, \"type\": \"scattergl\", \"x\": [1970, 1973, 1974, 1975, 1976, 1977, 2004, 2005, 2006, 2007, 2008, 2009, 2010, 2011, 2012, 2013, 2014, 2015, 2016, 2017, 2018, 2019, 2020], \"xaxis\": \"x\", \"y\": [2.939585501253765, 3.3412715512301565, 3.5813663514300256, 4.203664568654506, 5.3932512159455035, 6.127288063334602, 125.11155745705429, 122.72719313487397, 131.34623126951666, 219.58021429619842, 240.53259462098535, 251.8695148203345, 298.14685251959884, 325.80700365798873, 238.583385374322, 217.19410711329814, 268.2270742358079, 199.5186148318968, 185.87831006238258, 191.40711324439658, 198.07472857440797, 225.8356438693777, 279.57695492519326], \"yaxis\": \"y2\"}, {\"hoverlabel\": {\"namelength\": 0}, \"hovertemplate\": \"<b>%{hovertext}</b><br><br>Country=Rwanda<br>Year=%{x}<br>Value=%{y}\", \"hovertext\": [\"Rwanda\", \"Rwanda\", \"Rwanda\", \"Rwanda\", \"Rwanda\", \"Rwanda\", \"Rwanda\", \"Rwanda\", \"Rwanda\", \"Rwanda\", \"Rwanda\", \"Rwanda\", \"Rwanda\", \"Rwanda\", \"Rwanda\", \"Rwanda\", \"Rwanda\", \"Rwanda\", \"Rwanda\", \"Rwanda\", \"Rwanda\", \"Rwanda\", \"Rwanda\", \"Rwanda\", \"Rwanda\", \"Rwanda\", \"Rwanda\", \"Rwanda\", \"Rwanda\", \"Rwanda\", \"Rwanda\", \"Rwanda\", \"Rwanda\", \"Rwanda\", \"Rwanda\", \"Rwanda\", \"Rwanda\", \"Rwanda\", \"Rwanda\", \"Rwanda\", \"Rwanda\", \"Rwanda\", \"Rwanda\", \"Rwanda\", \"Rwanda\", \"Rwanda\", \"Rwanda\", \"Rwanda\"], \"legendgroup\": \"Country=Rwanda\", \"line\": {\"color\": \"#636efa\", \"dash\": \"solid\"}, \"mode\": \"lines\", \"name\": \"Country=Rwanda\", \"showlegend\": true, \"type\": \"scattergl\", \"x\": [1973, 1974, 1975, 1976, 1977, 1978, 1979, 1980, 1981, 1982, 1983, 1984, 1985, 1986, 1987, 1988, 1989, 1990, 1991, 1992, 1993, 1994, 1995, 1996, 1997, 1998, 1999, 2000, 2001, 2002, 2003, 2004, 2005, 2006, 2007, 2008, 2009, 2010, 2011, 2012, 2013, 2014, 2015, 2016, 2017, 2018, 2019, 2020], \"xaxis\": \"x\", \"y\": [9.365839708300564, 7.786746398360911, 9.319735189477804, 10.297663285995695, 16.062942551787614, 14.393007322777716, 19.63301715178214, 23.552267559336727, 28.68278333140202, 28.175370728562218, 28.024671701325474, 25.460676623467318, 27.25072843103363, 34.889469111517286, 36.093359476268745, 36.626347162831586, 41.62247813447454, 95.13273543350923, 105.33380205170816, 88.57017000276245, 89.4361363589093, 40.51057539231294, 56.44933672029353, 73.65882276253177, 77.27257652638212, 87.09183706141896, 80.85236358409543, 61.329857119395626, 56.88590313143352, 51.11861411757281, 45.19626898289796, 41.2157610455642, 44.99635188939861, 54.55764803973101, 55.580440804088084, 67.66035962395469, 75.27848605414107, 74.51441728645308, 75.38392855655523, 79.79391009205675, 82.4807155803265, 90.93779321668521, 103.5632147055096, 107.27861868518903, 115.71681244900425, 118.95917404681512, 124.07335262689226, 143.0218905295779], \"yaxis\": \"y2\"}, {\"hoverlabel\": {\"namelength\": 0}, \"hovertemplate\": \"<b>%{hovertext}</b><br><br>Country=Indonesia<br>Year=%{x}<br>Value=%{y}\", \"hovertext\": [\"Indonesia\", \"Indonesia\", \"Indonesia\", \"Indonesia\", \"Indonesia\", \"Indonesia\", \"Indonesia\", \"Indonesia\", \"Indonesia\", \"Indonesia\", \"Indonesia\", \"Indonesia\", \"Indonesia\", \"Indonesia\", \"Indonesia\", \"Indonesia\", \"Indonesia\", \"Indonesia\", \"Indonesia\", \"Indonesia\", \"Indonesia\", \"Indonesia\", \"Indonesia\", \"Indonesia\", \"Indonesia\", \"Indonesia\", \"Indonesia\", \"Indonesia\", \"Indonesia\", \"Indonesia\", \"Indonesia\", \"Indonesia\", \"Indonesia\", \"Indonesia\", \"Indonesia\", \"Indonesia\", \"Indonesia\", \"Indonesia\", \"Indonesia\", \"Indonesia\", \"Indonesia\", \"Indonesia\", \"Indonesia\", \"Indonesia\", \"Indonesia\", \"Indonesia\", \"Indonesia\"], \"legendgroup\": \"Country=Indonesia\", \"line\": {\"color\": \"#EF553B\", \"dash\": \"solid\"}, \"mode\": \"lines\", \"name\": \"Country=Indonesia\", \"showlegend\": true, \"type\": \"scattergl\", \"x\": [1974, 1975, 1976, 1977, 1978, 1979, 1980, 1981, 1982, 1983, 1984, 1985, 1986, 1987, 1988, 1989, 1990, 1991, 1992, 1993, 1994, 1995, 1996, 1997, 1998, 1999, 2000, 2001, 2002, 2003, 2004, 2005, 2006, 2007, 2008, 2009, 2010, 2011, 2012, 2013, 2014, 2015, 2016, 2017, 2018, 2019, 2020], \"xaxis\": \"x\", \"y\": [698.1927710843373, 1063.855421686747, 1275.301204819277, 1468.6746987951808, 1627.6623420692463, 1552.431165787932, 2114.4540458122406, 2654.1059299699095, 2741.0680942999993, 2047.2579501025552, 2002.3100766126672, 1923.3193466476978, 1734.6167040918165, 1347.5986251786965, 1356.70641276621, 1409.556738189666, 1613.9753962698271, 1697.0292054637189, 1887.635965949397, 1933.3045853097601, 2239.7315746847157, 2478.753541076487, 2874.845237586987, 3231.358571241983, 972.7021251098505, 1135.1470054677507, 1129.542839569354, 919.022697814032, 1369.8571288954472, 2134.7467043171787, 2428.947795298053, 2146.2707913864774, 2611.8751173667915, 3348.758341538125, 3232.2022154952697, 3304.459138201523, 4663.365759375519, 5838.026185717234, 6531.097955283207, 8384.028600925323, 6929.248704206713, 7595.030527643327, 7396.62607468605, 8797.528449542044, 7556.824710980182, 9003.028193204776, 9395.52953138874], \"yaxis\": \"y2\"}, {\"hoverlabel\": {\"namelength\": 0}, \"hovertemplate\": \"<b>%{hovertext}</b><br><br>Country=Angola<br>Year=%{x}<br>Value=%{y}\", \"hovertext\": [\"Angola\", \"Angola\", \"Angola\", \"Angola\", \"Angola\", \"Angola\", \"Angola\", \"Angola\", \"Angola\", \"Angola\", \"Angola\", \"Angola\", \"Angola\", \"Angola\", \"Angola\", \"Angola\", \"Angola\", \"Angola\", \"Angola\", \"Angola\", \"Angola\", \"Angola\", \"Angola\", \"Angola\", \"Angola\", \"Angola\", \"Angola\", \"Angola\", \"Angola\", \"Angola\", \"Angola\", \"Angola\", \"Angola\", \"Angola\", \"Angola\", \"Angola\", \"Angola\", \"Angola\", \"Angola\", \"Angola\", \"Angola\", \"Angola\", \"Angola\"], \"legendgroup\": \"Country=Angola\", \"line\": {\"color\": \"#00cc96\", \"dash\": \"solid\"}, \"mode\": \"lines\", \"name\": \"Country=Angola\", \"showlegend\": true, \"type\": \"scattergl\", \"x\": [1978, 1979, 1980, 1981, 1982, 1983, 1984, 1985, 1986, 1987, 1988, 1989, 1990, 1991, 1992, 1993, 1994, 1995, 1996, 1997, 1998, 1999, 2000, 2001, 2002, 2003, 2004, 2005, 2006, 2007, 2008, 2009, 2010, 2011, 2012, 2013, 2014, 2015, 2016, 2017, 2018, 2019, 2020], \"xaxis\": \"x\", \"y\": [343.27160906477707, 504.71288187713094, 497.35944916104023, 618.8916371415203, 668.493883280968, 778.6282505515074, 1066.2477438331439, 1146.4670098268602, 1156.494418076075, 1487.3988903001539, 1469.3829801457314, 1948.5593956815298, 1751.1531519486598, 1031.2477880442773, 794.1388211616558, 1774.3978768274208, 594.9911786944468, 233.84371488930014, 159.7419334681986, 456.7804750261963, 170.27829256868213, 1066.5887892328476, 583.6213335989244, 404.299139990661, 438.68624541123177, 670.0211644324943, 817.5335821520827, 1365.0553986904408, 1970.3091151837607, 2032.432883434303, 3163.5911474090203, 3311.1932452772153, 3500.7948364464883, 3639.4963735446004, 4144.634851468555, 6090.751702008843, 6846.249313340521, 3608.2991146167365, 2764.054937159764, 3062.8729139838, 1983.6137480008938, 1470.9387172875404, 993.5944046258786], \"yaxis\": \"y2\"}, {\"hoverlabel\": {\"namelength\": 0}, \"hovertemplate\": \"<b>%{hovertext}</b><br><br>Country=Haiti<br>Year=%{x}<br>Value=%{y}\", \"hovertext\": [\"Haiti\", \"Haiti\", \"Haiti\", \"Haiti\", \"Haiti\", \"Haiti\", \"Haiti\", \"Haiti\", \"Haiti\", \"Haiti\", \"Haiti\", \"Haiti\", \"Haiti\", \"Haiti\", \"Haiti\", \"Haiti\"], \"legendgroup\": \"Country=Haiti\", \"line\": {\"color\": \"#ab63fa\", \"dash\": \"solid\"}, \"mode\": \"lines\", \"name\": \"Country=Haiti\", \"showlegend\": true, \"type\": \"scattergl\", \"x\": [1988, 1989, 1990, 1991, 1992, 1993, 1994, 1995, 2013, 2014, 2015, 2016, 2017, 2018, 2019, 2020], \"xaxis\": \"x\", \"y\": [1.9724, 2.23155, 2.6704, 2.6232273866994134, 1.7436059365393857, 1.6496393059075842, 1.599966755319149, 2.478871188706593, 0.051595847483365084, 0.05351159509743409, 0.07356229689214626, 0.06451431660556704, 0.07361349246227625, 0.13968388162903356, 0.1130174894841709, 0.2638088478325353], \"yaxis\": \"y2\"}, {\"hoverlabel\": {\"namelength\": 0}, \"hovertemplate\": \"<b>%{hovertext}</b><br><br>Country=China<br>Year=%{x}<br>Value=%{y}\", \"hovertext\": [\"China\", \"China\", \"China\", \"China\", \"China\", \"China\", \"China\", \"China\", \"China\", \"China\", \"China\", \"China\", \"China\", \"China\", \"China\", \"China\", \"China\", \"China\", \"China\", \"China\", \"China\", \"China\", \"China\", \"China\", \"China\", \"China\", \"China\", \"China\", \"China\", \"China\", \"China\", \"China\"], \"legendgroup\": \"Country=China\", \"line\": {\"color\": \"#FFA15A\", \"dash\": \"solid\"}, \"mode\": \"lines\", \"name\": \"Country=China\", \"showlegend\": true, \"type\": \"scattergl\", \"x\": [1989, 1990, 1991, 1992, 1993, 1994, 1995, 1996, 1997, 1998, 1999, 2000, 2001, 2002, 2003, 2004, 2005, 2006, 2007, 2008, 2009, 2010, 2011, 2012, 2013, 2014, 2015, 2016, 2017, 2018, 2019, 2020], \"xaxis\": \"x\", \"y\": [11251.332630387957, 9926.34925081692, 9802.375366073124, 12244.267842214926, 12360.225860644641, 9867.120066274185, 12385.129474987487, 14275.400819973162, 15699.586768575462, 17031.780199691813, 20473.915094766675, 22237.140151214495, 26561.462998292423, 30284.127409997203, 33144.0004814458, 37904.57182699605, 42789.95365090244, 51453.37323384863, 62136.59075458873, 78840.80281986286, 96601.66675295417, 105522.64810183836, 125286.37316401086, 145127.60959620716, 164070.4693217442, 182109.32599168003, 196538.82723079034, 198538.36142755367, 210443.03474096782, 232530.59598526615, 240332.55545815144, 252304.2237413091], \"yaxis\": \"y2\"}, {\"hoverlabel\": {\"namelength\": 0}, \"hovertemplate\": \"<b>%{hovertext}</b><br><br>Country=Yemen<br>Year=%{x}<br>Value=%{y}\", \"hovertext\": [\"Yemen\", \"Yemen\", \"Yemen\", \"Yemen\", \"Yemen\", \"Yemen\", \"Yemen\", \"Yemen\", \"Yemen\", \"Yemen\", \"Yemen\", \"Yemen\", \"Yemen\", \"Yemen\", \"Yemen\", \"Yemen\", \"Yemen\", \"Yemen\", \"Yemen\", \"Yemen\", \"Yemen\", \"Yemen\", \"Yemen\", \"Yemen\", \"Yemen\"], \"legendgroup\": \"Country=Yemen\", \"line\": {\"color\": \"#19d3f3\", \"dash\": \"solid\"}, \"mode\": \"lines\", \"name\": \"Country=Yemen\", \"showlegend\": true, \"type\": \"scattergl\", \"x\": [1990, 1991, 1992, 1993, 1994, 1995, 1996, 1997, 1998, 1999, 2000, 2001, 2002, 2003, 2004, 2005, 2006, 2007, 2008, 2009, 2010, 2011, 2012, 2013, 2014], \"xaxis\": \"x\", \"y\": [807.0707154811367, 1028.2179165868727, 1306.9000258116087, 1535.4576564724691, 2353.269331645865, 805.8923779114184, 416.008632418086, 397.0730424424316, 384.502730310122, 395.2529572689092, 473.6640324515515, 540.1014987668375, 737.3665480427046, 807.3132440800662, 735.4851279386933, 815.627463983416, 822.1305360595587, 1050.4993641714375, 1196.4117658837429, 1420.7752641153184, 1448.153376747575, 1612.2544434050515, 1618.8401267080628, 1648.7505235236633, 1714.8308436874681], \"yaxis\": \"y2\"}, {\"hoverlabel\": {\"namelength\": 0}, \"hovertemplate\": \"<b>%{hovertext}</b><br><br>Country=Central African Rep.<br>Year=%{x}<br>Value=%{y}\", \"hovertext\": [\"Central African Rep.\", \"Central African Rep.\", \"Central African Rep.\", \"Central African Rep.\", \"Central African Rep.\", \"Central African Rep.\", \"Central African Rep.\", \"Central African Rep.\", \"Central African Rep.\", \"Central African Rep.\", \"Central African Rep.\", \"Central African Rep.\", \"Central African Rep.\", \"Central African Rep.\", \"Central African Rep.\", \"Central African Rep.\", \"Central African Rep.\", \"Central African Rep.\", \"Central African Rep.\", \"Central African Rep.\", \"Central African Rep.\", \"Central African Rep.\", \"Central African Rep.\", \"Central African Rep.\"], \"legendgroup\": \"Country=Central African Rep.\", \"line\": {\"color\": \"#FF6692\", \"dash\": \"solid\"}, \"mode\": \"lines\", \"name\": \"Country=Central African Rep.\", \"showlegend\": true, \"type\": \"scattergl\", \"x\": [1991, 1992, 1993, 1994, 1995, 1996, 2002, 2003, 2004, 2005, 2007, 2008, 2009, 2010, 2011, 2012, 2013, 2014, 2015, 2016, 2017, 2018, 2019, 2020], \"xaxis\": \"x\", \"y\": [21.59818792160421, 23.18543816964623, 19.14445036957512, 10.68974522923965, 13.014176156170112, 12.196218566245465, 10.681962960624858, 15.018926359256708, 15.103589918320603, 15.396194650670752, 19.11251974369193, 31.511483793168903, 35.99238435701186, 51.58527450295492, 49.874328728918805, 42.74602518573944, 47.923241448908705, 38.40700992145633, 26.703885622839138, 26.832998820193534, 27.516264177935216, 30.517648413658087, 40.7776666587025, 41.303630076285465], \"yaxis\": \"y2\"}, {\"hoverlabel\": {\"namelength\": 0}, \"hovertemplate\": \"<b>%{hovertext}</b><br><br>Country=Azerbaijan<br>Year=%{x}<br>Value=%{y}\", \"hovertext\": [\"Azerbaijan\", \"Azerbaijan\", \"Azerbaijan\", \"Azerbaijan\", \"Azerbaijan\", \"Azerbaijan\", \"Azerbaijan\", \"Azerbaijan\", \"Azerbaijan\", \"Azerbaijan\", \"Azerbaijan\", \"Azerbaijan\", \"Azerbaijan\", \"Azerbaijan\", \"Azerbaijan\", \"Azerbaijan\", \"Azerbaijan\", \"Azerbaijan\", \"Azerbaijan\", \"Azerbaijan\", \"Azerbaijan\", \"Azerbaijan\", \"Azerbaijan\", \"Azerbaijan\", \"Azerbaijan\", \"Azerbaijan\", \"Azerbaijan\", \"Azerbaijan\", \"Azerbaijan\"], \"legendgroup\": \"Country=Azerbaijan\", \"line\": {\"color\": \"#B6E880\", \"dash\": \"solid\"}, \"mode\": \"lines\", \"name\": \"Country=Azerbaijan\", \"showlegend\": true, \"type\": \"scattergl\", \"x\": [1992, 1993, 1994, 1995, 1996, 1997, 1998, 1999, 2000, 2001, 2002, 2003, 2004, 2005, 2006, 2007, 2008, 2009, 2010, 2011, 2012, 2013, 2014, 2015, 2016, 2017, 2018, 2019, 2020], \"xaxis\": \"x\", \"y\": [11.07011070110701, 77.51937984496124, 43.942747058542565, 66.15996891387762, 71.60684124321565, 92.0866919675062, 107.2628586197984, 120.26217396633386, 119.57565171524007, 131.96366006418867, 139.89409194333467, 176.55216230580788, 228.24963162565027, 304.52147773320036, 717.111853555619, 946.5997921046375, 1607.7992259195248, 1472.9099769465142, 1476.6087335700493, 3080.084995808461, 3246.1226126303864, 3367.5741611974386, 3427.179917064822, 2900.5513821521513, 1396.9691076583222, 1528.8595922938523, 1672.1764705882354, 1854.235294117647, 2237.7647058823527], \"yaxis\": \"y2\"}, {\"hoverlabel\": {\"namelength\": 0}, \"hovertemplate\": \"<b>%{hovertext}</b><br><br>Country=Croatia<br>Year=%{x}<br>Value=%{y}\", \"hovertext\": [\"Croatia\", \"Croatia\", \"Croatia\", \"Croatia\", \"Croatia\", \"Croatia\", \"Croatia\", \"Croatia\", \"Croatia\", \"Croatia\", \"Croatia\", \"Croatia\", \"Croatia\", \"Croatia\", \"Croatia\", \"Croatia\", \"Croatia\", \"Croatia\", \"Croatia\", \"Croatia\", \"Croatia\", \"Croatia\", \"Croatia\", \"Croatia\", \"Croatia\", \"Croatia\", \"Croatia\", \"Croatia\", \"Croatia\"], \"legendgroup\": \"Country=Croatia\", \"line\": {\"color\": \"#FF97FF\", \"dash\": \"solid\"}, \"mode\": \"lines\", \"name\": \"Country=Croatia\", \"showlegend\": true, \"type\": \"scattergl\", \"x\": [1992, 1993, 1994, 1995, 1996, 1997, 1998, 1999, 2000, 2001, 2002, 2003, 2004, 2005, 2006, 2007, 2008, 2009, 2010, 2011, 2012, 2013, 2014, 2015, 2016, 2017, 2018, 2019, 2020], \"xaxis\": \"x\", \"y\": [782.0036612507502, 1168.9367587276308, 1625.2223654178636, 2060.388930098112, 1938.6988973456798, 1797.184680663184, 1427.264826842718, 1035.9490082595821, 659.7750333125142, 629.4641037506264, 733.6807390544332, 709.3991471997638, 730.8670045108496, 799.1609012243581, 849.4310346894972, 978.8537321000496, 1295.9570743094282, 1129.0984963900114, 1015.8766535528309, 1106.4640419770692, 955.3201636158208, 956.9526440521097, 1063.4697432811347, 883.1629832668173, 836.68504208224, 920.8370529181882, 966.3587167988873, 1001.8121413470251, 1034.925914726338], \"yaxis\": \"y2\"}, {\"hoverlabel\": {\"namelength\": 0}, \"hovertemplate\": \"<b>%{hovertext}</b><br><br>Country=Slovenia<br>Year=%{x}<br>Value=%{y}\", \"hovertext\": [\"Slovenia\", \"Slovenia\", \"Slovenia\", \"Slovenia\", \"Slovenia\", \"Slovenia\", \"Slovenia\", \"Slovenia\", \"Slovenia\", \"Slovenia\", \"Slovenia\", \"Slovenia\", \"Slovenia\", \"Slovenia\", \"Slovenia\", \"Slovenia\", \"Slovenia\", \"Slovenia\", \"Slovenia\", \"Slovenia\", \"Slovenia\", \"Slovenia\", \"Slovenia\", \"Slovenia\", \"Slovenia\", \"Slovenia\", \"Slovenia\", \"Slovenia\", \"Slovenia\"], \"legendgroup\": \"Country=Slovenia\", \"line\": {\"color\": \"#FECB52\", \"dash\": \"solid\"}, \"mode\": \"lines\", \"name\": \"Country=Slovenia\", \"showlegend\": true, \"type\": \"scattergl\", \"x\": [1992, 1993, 1994, 1995, 1996, 1997, 1998, 1999, 2000, 2001, 2002, 2003, 2004, 2005, 2006, 2007, 2008, 2009, 2010, 2011, 2012, 2013, 2014, 2015, 2016, 2017, 2018, 2019, 2020], \"xaxis\": \"x\", \"y\": [281.422738461992, 230.3036715691461, 237.94950410132668, 334.6550228582867, 329.97264833190235, 290.78527180176724, 301.13982223273604, 274.8418278491092, 222.39155680547438, 271.48879038865914, 326.9595228120574, 416.9067536765131, 493.1538929137311, 514.1727994667635, 608.8337533729663, 692.6549125558757, 829.3844069286263, 798.868642190033, 772.0851075101484, 665.6796713722711, 543.4964165212631, 506.74293210331416, 486.1948703960181, 400.77187534656764, 449.17753909570104, 473.79675720880743, 529.4961226585461, 572.8840125391849, 574.8318705117975], \"yaxis\": \"y2\"}, {\"hoverlabel\": {\"namelength\": 0}, \"hovertemplate\": \"<b>%{hovertext}</b><br><br>Country=Eritrea<br>Year=%{x}<br>Value=%{y}\", \"hovertext\": [\"Eritrea\", \"Eritrea\", \"Eritrea\", \"Eritrea\", \"Eritrea\", \"Eritrea\", \"Eritrea\", \"Eritrea\", \"Eritrea\", \"Eritrea\", \"Eritrea\"], \"legendgroup\": \"Country=Eritrea\", \"line\": {\"color\": \"#636efa\", \"dash\": \"solid\"}, \"mode\": \"lines\", \"name\": \"Country=Eritrea\", \"showlegend\": true, \"type\": \"scattergl\", \"x\": [1993, 1994, 1995, 1996, 1997, 1998, 1999, 2000, 2001, 2002, 2003], \"xaxis\": \"x\", \"y\": [107.73764923322844, 80.19831121039672, 124.99634987946492, 152.27180856000038, 92.75631940818484, 263.0016856992663, 272.85673457522296, 230.67012987012987, 166.55024536893762, 150.76442521241995, 181.58366899891195], \"yaxis\": \"y2\"}, {\"hoverlabel\": {\"namelength\": 0}, \"hovertemplate\": \"<b>%{hovertext}</b><br><br>Country=Russia<br>Year=%{x}<br>Value=%{y}\", \"hovertext\": [\"Russia\", \"Russia\", \"Russia\", \"Russia\", \"Russia\", \"Russia\", \"Russia\", \"Russia\", \"Russia\", \"Russia\", \"Russia\", \"Russia\", \"Russia\", \"Russia\", \"Russia\", \"Russia\", \"Russia\", \"Russia\", \"Russia\", \"Russia\", \"Russia\", \"Russia\", \"Russia\", \"Russia\", \"Russia\", \"Russia\", \"Russia\", \"Russia\"], \"legendgroup\": \"Country=Russia\", \"line\": {\"color\": \"#EF553B\", \"dash\": \"solid\"}, \"mode\": \"lines\", \"name\": \"Country=Russia\", \"showlegend\": true, \"type\": \"scattergl\", \"x\": [1993, 1994, 1995, 1996, 1997, 1998, 1999, 2000, 2001, 2002, 2003, 2004, 2005, 2006, 2007, 2008, 2009, 2010, 2011, 2012, 2013, 2014, 2015, 2016, 2017, 2018, 2019, 2020], \"xaxis\": \"x\", \"y\": [7766.720078413419, 13547.871733424627, 12741.629470405669, 15826.3406518084, 17577.353180646624, 7955.730400985875, 6469.035211353417, 9228.204143736757, 11683.151344772614, 13943.825063400162, 16973.73908510361, 20955.41357062786, 27336.9772736915, 34517.78161891802, 43534.99499624719, 56183.7853932539, 51532.11679751988, 58720.22760875794, 70237.5239514946, 81469.39993125766, 88352.89646355981, 84696.5046534978, 66421.82217992056, 69245.2945528466, 66913.03353678314, 61609.20475641708, 65201.335848356466, 61712.53716893713], \"yaxis\": \"y2\"}, {\"hoverlabel\": {\"namelength\": 0}, \"hovertemplate\": \"<b>%{hovertext}</b><br><br>Country=Ukraine<br>Year=%{x}<br>Value=%{y}\", \"hovertext\": [\"Ukraine\", \"Ukraine\", \"Ukraine\", \"Ukraine\", \"Ukraine\", \"Ukraine\", \"Ukraine\", \"Ukraine\", \"Ukraine\", \"Ukraine\", \"Ukraine\", \"Ukraine\", \"Ukraine\", \"Ukraine\", \"Ukraine\", \"Ukraine\", \"Ukraine\", \"Ukraine\", \"Ukraine\", \"Ukraine\", \"Ukraine\", \"Ukraine\", \"Ukraine\", \"Ukraine\", \"Ukraine\", \"Ukraine\", \"Ukraine\", \"Ukraine\"], \"legendgroup\": \"Country=Ukraine\", \"line\": {\"color\": \"#00cc96\", \"dash\": \"solid\"}, \"mode\": \"lines\", \"name\": \"Country=Ukraine\", \"showlegend\": true, \"type\": \"scattergl\", \"x\": [1993, 1994, 1995, 1996, 1997, 1998, 1999, 2000, 2001, 2002, 2003, 2004, 2005, 2006, 2007, 2008, 2009, 2010, 2011, 2012, 2013, 2014, 2015, 2016, 2017, 2018, 2019, 2020], \"xaxis\": \"x\", \"y\": [123.41092112520684, 683.5860451766946, 779.2569260116627, 1009.5820100903541, 1449.6739469075985, 912.2120888003462, 620.8055316140653, 696.4043799618767, 741.712830593281, 872.3918732704792, 1104.8082674972668, 1322.215078263943, 1692.6845064274214, 2101.5073661169995, 2882.2798403449306, 3385.406783392424, 2320.408612749703, 2587.448220937442, 2502.2965751120796, 2835.905352501492, 2895.0018891530085, 2997.1892144942544, 2959.581345119483, 2943.807591718629, 3246.78656733091, 4169.707536409091, 5419.138048445906, 5924.200880305501], \"yaxis\": \"y2\"}, {\"hoverlabel\": {\"namelength\": 0}, \"hovertemplate\": \"<b>%{hovertext}</b><br><br>Country=Uzbekistan<br>Year=%{x}<br>Value=%{y}\", \"hovertext\": [\"Uzbekistan\", \"Uzbekistan\", \"Uzbekistan\", \"Uzbekistan\", \"Uzbekistan\", \"Uzbekistan\", \"Uzbekistan\", \"Uzbekistan\", \"Uzbekistan\", \"Uzbekistan\"], \"legendgroup\": \"Country=Uzbekistan\", \"line\": {\"color\": \"#ab63fa\", \"dash\": \"solid\"}, \"mode\": \"lines\", \"name\": \"Country=Uzbekistan\", \"showlegend\": true, \"type\": \"scattergl\", \"x\": [1994, 1995, 1996, 1997, 1999, 2000, 2001, 2002, 2003, 2018], \"xaxis\": \"x\", \"y\": [86.9298245614035, 112.6784214945424, 172.2115456610178, 217.74719074336028, 250.07173601147773, 115.3753846153846, 59.76061046511628, 45.914432989690724, 54.1336954635028, 1440.3850722075165], \"yaxis\": \"y2\"}, {\"hoverlabel\": {\"namelength\": 0}, \"hovertemplate\": \"<b>%{hovertext}</b><br><br>Country=Belarus<br>Year=%{x}<br>Value=%{y}\", \"hovertext\": [\"Belarus\", \"Belarus\", \"Belarus\", \"Belarus\", \"Belarus\", \"Belarus\", \"Belarus\", \"Belarus\", \"Belarus\", \"Belarus\", \"Belarus\", \"Belarus\", \"Belarus\", \"Belarus\", \"Belarus\", \"Belarus\", \"Belarus\", \"Belarus\", \"Belarus\", \"Belarus\", \"Belarus\", \"Belarus\", \"Belarus\", \"Belarus\", \"Belarus\", \"Belarus\"], \"legendgroup\": \"Country=Belarus\", \"line\": {\"color\": \"#FFA15A\", \"dash\": \"solid\"}, \"mode\": \"lines\", \"name\": \"Country=Belarus\", \"showlegend\": true, \"type\": \"scattergl\", \"x\": [1995, 1996, 1997, 1998, 1999, 2000, 2001, 2002, 2003, 2004, 2005, 2006, 2007, 2008, 2009, 2010, 2011, 2012, 2013, 2014, 2015, 2016, 2017, 2018, 2019, 2020], \"xaxis\": \"x\", \"y\": [179.08167693776585, 182.8056145549097, 249.38413942852753, 227.58608728830464, 165.90384885376764, 140.32620473339037, 177.69784172661872, 204.3642373752038, 231.56386043768006, 314.3140177571218, 452.68406830654374, 631.831238109449, 746.9432639976143, 883.0275229357798, 675.4265050750971, 767.699285884553, 756.2773512803967, 807.4232628435032, 959.8016903057979, 1000.0134486132156, 709.9088460548721, 592.1823313668201, 625.6378169178508, 709.7133163847901, 773.7130287162566, 844.5129409462303], \"yaxis\": \"y2\"}, {\"hoverlabel\": {\"namelength\": 0}, \"hovertemplate\": \"<b>%{hovertext}</b><br><br>Country=South Sudan<br>Year=%{x}<br>Value=%{y}\", \"hovertext\": [\"South Sudan\", \"South Sudan\", \"South Sudan\", \"South Sudan\", \"South Sudan\", \"South Sudan\", \"South Sudan\", \"South Sudan\", \"South Sudan\", \"South Sudan\", \"South Sudan\", \"South Sudan\", \"South Sudan\", \"South Sudan\"], \"legendgroup\": \"Country=South Sudan\", \"line\": {\"color\": \"#19d3f3\", \"dash\": \"solid\"}, \"mode\": \"lines\", \"name\": \"Country=South Sudan\", \"showlegend\": true, \"type\": \"scattergl\", \"x\": [2006, 2007, 2008, 2009, 2010, 2011, 2012, 2013, 2014, 2015, 2016, 2017, 2018, 2019], \"xaxis\": \"x\", \"y\": [551.4545044277537, 587.9668667228808, 896.3907069315268, 609.8986326487162, 650.9106678230703, 1052.7219703686358, 988.2259887005649, 981.9830508474575, 1301.5254237288134, 1151.9203767594379, 135.3381435897436, 72.38810457388036, 149.0924246995465, 186.49892522647013], \"yaxis\": \"y2\"}],\n",
              "                        {\"legend\": {\"tracegroupgap\": 0}, \"template\": {\"data\": {\"bar\": [{\"error_x\": {\"color\": \"#2a3f5f\"}, \"error_y\": {\"color\": \"#2a3f5f\"}, \"marker\": {\"line\": {\"color\": \"#E5ECF6\", \"width\": 0.5}}, \"type\": \"bar\"}], \"barpolar\": [{\"marker\": {\"line\": {\"color\": \"#E5ECF6\", \"width\": 0.5}}, \"type\": \"barpolar\"}], \"carpet\": [{\"aaxis\": {\"endlinecolor\": \"#2a3f5f\", \"gridcolor\": \"white\", \"linecolor\": \"white\", \"minorgridcolor\": \"white\", \"startlinecolor\": \"#2a3f5f\"}, \"baxis\": {\"endlinecolor\": \"#2a3f5f\", \"gridcolor\": \"white\", \"linecolor\": \"white\", \"minorgridcolor\": \"white\", \"startlinecolor\": \"#2a3f5f\"}, \"type\": \"carpet\"}], \"choropleth\": [{\"colorbar\": {\"outlinewidth\": 0, \"ticks\": \"\"}, \"type\": \"choropleth\"}], \"contour\": [{\"colorbar\": {\"outlinewidth\": 0, \"ticks\": \"\"}, \"colorscale\": [[0.0, \"#0d0887\"], [0.1111111111111111, \"#46039f\"], [0.2222222222222222, \"#7201a8\"], [0.3333333333333333, \"#9c179e\"], [0.4444444444444444, \"#bd3786\"], [0.5555555555555556, \"#d8576b\"], [0.6666666666666666, \"#ed7953\"], [0.7777777777777778, \"#fb9f3a\"], [0.8888888888888888, \"#fdca26\"], [1.0, \"#f0f921\"]], \"type\": \"contour\"}], \"contourcarpet\": [{\"colorbar\": {\"outlinewidth\": 0, \"ticks\": \"\"}, \"type\": \"contourcarpet\"}], \"heatmap\": [{\"colorbar\": {\"outlinewidth\": 0, \"ticks\": \"\"}, \"colorscale\": [[0.0, \"#0d0887\"], [0.1111111111111111, \"#46039f\"], [0.2222222222222222, \"#7201a8\"], [0.3333333333333333, \"#9c179e\"], [0.4444444444444444, \"#bd3786\"], [0.5555555555555556, \"#d8576b\"], [0.6666666666666666, \"#ed7953\"], [0.7777777777777778, \"#fb9f3a\"], [0.8888888888888888, \"#fdca26\"], [1.0, \"#f0f921\"]], \"type\": \"heatmap\"}], \"heatmapgl\": [{\"colorbar\": {\"outlinewidth\": 0, \"ticks\": \"\"}, \"colorscale\": [[0.0, \"#0d0887\"], [0.1111111111111111, \"#46039f\"], [0.2222222222222222, \"#7201a8\"], [0.3333333333333333, \"#9c179e\"], [0.4444444444444444, \"#bd3786\"], [0.5555555555555556, \"#d8576b\"], [0.6666666666666666, \"#ed7953\"], [0.7777777777777778, \"#fb9f3a\"], [0.8888888888888888, \"#fdca26\"], [1.0, \"#f0f921\"]], \"type\": \"heatmapgl\"}], \"histogram\": [{\"marker\": {\"colorbar\": {\"outlinewidth\": 0, \"ticks\": \"\"}}, \"type\": \"histogram\"}], \"histogram2d\": [{\"colorbar\": {\"outlinewidth\": 0, \"ticks\": \"\"}, \"colorscale\": [[0.0, \"#0d0887\"], [0.1111111111111111, \"#46039f\"], [0.2222222222222222, \"#7201a8\"], [0.3333333333333333, \"#9c179e\"], [0.4444444444444444, \"#bd3786\"], [0.5555555555555556, \"#d8576b\"], [0.6666666666666666, \"#ed7953\"], [0.7777777777777778, \"#fb9f3a\"], [0.8888888888888888, \"#fdca26\"], [1.0, \"#f0f921\"]], \"type\": \"histogram2d\"}], \"histogram2dcontour\": [{\"colorbar\": {\"outlinewidth\": 0, \"ticks\": \"\"}, \"colorscale\": [[0.0, \"#0d0887\"], [0.1111111111111111, \"#46039f\"], [0.2222222222222222, \"#7201a8\"], [0.3333333333333333, \"#9c179e\"], [0.4444444444444444, \"#bd3786\"], [0.5555555555555556, \"#d8576b\"], [0.6666666666666666, \"#ed7953\"], [0.7777777777777778, \"#fb9f3a\"], [0.8888888888888888, \"#fdca26\"], [1.0, \"#f0f921\"]], \"type\": \"histogram2dcontour\"}], \"mesh3d\": [{\"colorbar\": {\"outlinewidth\": 0, \"ticks\": \"\"}, \"type\": \"mesh3d\"}], \"parcoords\": [{\"line\": {\"colorbar\": {\"outlinewidth\": 0, \"ticks\": \"\"}}, \"type\": \"parcoords\"}], \"pie\": [{\"automargin\": true, \"type\": \"pie\"}], \"scatter\": [{\"marker\": {\"colorbar\": {\"outlinewidth\": 0, \"ticks\": \"\"}}, \"type\": \"scatter\"}], \"scatter3d\": [{\"line\": {\"colorbar\": {\"outlinewidth\": 0, \"ticks\": \"\"}}, \"marker\": {\"colorbar\": {\"outlinewidth\": 0, \"ticks\": \"\"}}, \"type\": \"scatter3d\"}], \"scattercarpet\": [{\"marker\": {\"colorbar\": {\"outlinewidth\": 0, \"ticks\": \"\"}}, \"type\": \"scattercarpet\"}], \"scattergeo\": [{\"marker\": {\"colorbar\": {\"outlinewidth\": 0, \"ticks\": \"\"}}, \"type\": \"scattergeo\"}], \"scattergl\": [{\"marker\": {\"colorbar\": {\"outlinewidth\": 0, \"ticks\": \"\"}}, \"type\": \"scattergl\"}], \"scattermapbox\": [{\"marker\": {\"colorbar\": {\"outlinewidth\": 0, \"ticks\": \"\"}}, \"type\": \"scattermapbox\"}], \"scatterpolar\": [{\"marker\": {\"colorbar\": {\"outlinewidth\": 0, \"ticks\": \"\"}}, \"type\": \"scatterpolar\"}], \"scatterpolargl\": [{\"marker\": {\"colorbar\": {\"outlinewidth\": 0, \"ticks\": \"\"}}, \"type\": \"scatterpolargl\"}], \"scatterternary\": [{\"marker\": {\"colorbar\": {\"outlinewidth\": 0, \"ticks\": \"\"}}, \"type\": \"scatterternary\"}], \"surface\": [{\"colorbar\": {\"outlinewidth\": 0, \"ticks\": \"\"}, \"colorscale\": [[0.0, \"#0d0887\"], [0.1111111111111111, \"#46039f\"], [0.2222222222222222, \"#7201a8\"], [0.3333333333333333, \"#9c179e\"], [0.4444444444444444, \"#bd3786\"], [0.5555555555555556, \"#d8576b\"], [0.6666666666666666, \"#ed7953\"], [0.7777777777777778, \"#fb9f3a\"], [0.8888888888888888, \"#fdca26\"], [1.0, \"#f0f921\"]], \"type\": \"surface\"}], \"table\": [{\"cells\": {\"fill\": {\"color\": \"#EBF0F8\"}, \"line\": {\"color\": \"white\"}}, \"header\": {\"fill\": {\"color\": \"#C8D4E3\"}, \"line\": {\"color\": \"white\"}}, \"type\": \"table\"}]}, \"layout\": {\"annotationdefaults\": {\"arrowcolor\": \"#2a3f5f\", \"arrowhead\": 0, \"arrowwidth\": 1}, \"coloraxis\": {\"colorbar\": {\"outlinewidth\": 0, \"ticks\": \"\"}}, \"colorscale\": {\"diverging\": [[0, \"#8e0152\"], [0.1, \"#c51b7d\"], [0.2, \"#de77ae\"], [0.3, \"#f1b6da\"], [0.4, \"#fde0ef\"], [0.5, \"#f7f7f7\"], [0.6, \"#e6f5d0\"], [0.7, \"#b8e186\"], [0.8, \"#7fbc41\"], [0.9, \"#4d9221\"], [1, \"#276419\"]], \"sequential\": [[0.0, \"#0d0887\"], [0.1111111111111111, \"#46039f\"], [0.2222222222222222, \"#7201a8\"], [0.3333333333333333, \"#9c179e\"], [0.4444444444444444, \"#bd3786\"], [0.5555555555555556, \"#d8576b\"], [0.6666666666666666, \"#ed7953\"], [0.7777777777777778, \"#fb9f3a\"], [0.8888888888888888, \"#fdca26\"], [1.0, \"#f0f921\"]], \"sequentialminus\": [[0.0, \"#0d0887\"], [0.1111111111111111, \"#46039f\"], [0.2222222222222222, \"#7201a8\"], [0.3333333333333333, \"#9c179e\"], [0.4444444444444444, \"#bd3786\"], [0.5555555555555556, \"#d8576b\"], [0.6666666666666666, \"#ed7953\"], [0.7777777777777778, \"#fb9f3a\"], [0.8888888888888888, \"#fdca26\"], [1.0, \"#f0f921\"]]}, \"colorway\": [\"#636efa\", \"#EF553B\", \"#00cc96\", \"#ab63fa\", \"#FFA15A\", \"#19d3f3\", \"#FF6692\", \"#B6E880\", \"#FF97FF\", \"#FECB52\"], \"font\": {\"color\": \"#2a3f5f\"}, \"geo\": {\"bgcolor\": \"white\", \"lakecolor\": \"white\", \"landcolor\": \"#E5ECF6\", \"showlakes\": true, \"showland\": true, \"subunitcolor\": \"white\"}, \"hoverlabel\": {\"align\": \"left\"}, \"hovermode\": \"closest\", \"mapbox\": {\"style\": \"light\"}, \"paper_bgcolor\": \"white\", \"plot_bgcolor\": \"#E5ECF6\", \"polar\": {\"angularaxis\": {\"gridcolor\": \"white\", \"linecolor\": \"white\", \"ticks\": \"\"}, \"bgcolor\": \"#E5ECF6\", \"radialaxis\": {\"gridcolor\": \"white\", \"linecolor\": \"white\", \"ticks\": \"\"}}, \"scene\": {\"xaxis\": {\"backgroundcolor\": \"#E5ECF6\", \"gridcolor\": \"white\", \"gridwidth\": 2, \"linecolor\": \"white\", \"showbackground\": true, \"ticks\": \"\", \"zerolinecolor\": \"white\"}, \"yaxis\": {\"backgroundcolor\": \"#E5ECF6\", \"gridcolor\": \"white\", \"gridwidth\": 2, \"linecolor\": \"white\", \"showbackground\": true, \"ticks\": \"\", \"zerolinecolor\": \"white\"}, \"zaxis\": {\"backgroundcolor\": \"#E5ECF6\", \"gridcolor\": \"white\", \"gridwidth\": 2, \"linecolor\": \"white\", \"showbackground\": true, \"ticks\": \"\", \"zerolinecolor\": \"white\"}}, \"shapedefaults\": {\"line\": {\"color\": \"#2a3f5f\"}}, \"ternary\": {\"aaxis\": {\"gridcolor\": \"white\", \"linecolor\": \"white\", \"ticks\": \"\"}, \"baxis\": {\"gridcolor\": \"white\", \"linecolor\": \"white\", \"ticks\": \"\"}, \"bgcolor\": \"#E5ECF6\", \"caxis\": {\"gridcolor\": \"white\", \"linecolor\": \"white\", \"ticks\": \"\"}}, \"title\": {\"x\": 0.05}, \"xaxis\": {\"automargin\": true, \"gridcolor\": \"white\", \"linecolor\": \"white\", \"ticks\": \"\", \"title\": {\"standoff\": 15}, \"zerolinecolor\": \"white\", \"zerolinewidth\": 2}, \"yaxis\": {\"automargin\": true, \"gridcolor\": \"white\", \"linecolor\": \"white\", \"ticks\": \"\", \"title\": {\"standoff\": 15}, \"zerolinecolor\": \"white\", \"zerolinewidth\": 2}}}, \"title\": {\"text\": \"Military Expenditure for selected countries, FY1960 - 2020\"}, \"xaxis\": {\"anchor\": \"y\", \"domain\": [0.0, 1.0], \"title\": {\"text\": \"Year\"}}, \"yaxis\": {\"anchor\": \"x\", \"domain\": [0.0, 1.0], \"title\": {\"text\": \"Value\"}}},\n",
              "                        {\"responsive\": true}\n",
              "                    ).then(function(){\n",
              "                            \n",
              "var gd = document.getElementById('c1558a31-1a99-4090-a8d1-ac6760ab122a');\n",
              "var x = new MutationObserver(function (mutations, observer) {{\n",
              "        var display = window.getComputedStyle(gd).display;\n",
              "        if (!display || display === 'none') {{\n",
              "            console.log([gd, 'removed!']);\n",
              "            Plotly.purge(gd);\n",
              "            observer.disconnect();\n",
              "        }}\n",
              "}});\n",
              "\n",
              "// Listen for the removal of the full notebook cells\n",
              "var notebookContainer = gd.closest('#notebook-container');\n",
              "if (notebookContainer) {{\n",
              "    x.observe(notebookContainer, {childList: true});\n",
              "}}\n",
              "\n",
              "// Listen for the clearing of the current output cell\n",
              "var outputEl = gd.closest('.output');\n",
              "if (outputEl) {{\n",
              "    x.observe(outputEl, {childList: true});\n",
              "}}\n",
              "\n",
              "                        })\n",
              "                };\n",
              "                \n",
              "            </script>\n",
              "        </div>\n",
              "</body>\n",
              "</html>"
            ]
          },
          "metadata": {
            "tags": []
          }
        }
      ]
    },
    {
      "cell_type": "code",
      "metadata": {
        "id": "iZN5JPac0gwf"
      },
      "source": [
        "combo_fig = make_subplots(specs=[[{\"secondary_y\": True}]])"
      ],
      "execution_count": 338,
      "outputs": []
    },
    {
      "cell_type": "code",
      "metadata": {
        "colab": {
          "base_uri": "https://localhost:8080/",
          "height": 542
        },
        "id": "t5TAXN_30gy8",
        "outputId": "202030eb-88d0-4af7-ce73-ceb37e57de2e"
      },
      "source": [
        "combo_fig.add_traces(embargo_country_histogram.data + milexp_selected_fy.data)"
      ],
      "execution_count": 339,
      "outputs": [
        {
          "output_type": "display_data",
          "data": {
            "text/html": [
              "<html>\n",
              "<head><meta charset=\"utf-8\" /></head>\n",
              "<body>\n",
              "    <div>\n",
              "            <script src=\"https://cdnjs.cloudflare.com/ajax/libs/mathjax/2.7.5/MathJax.js?config=TeX-AMS-MML_SVG\"></script><script type=\"text/javascript\">if (window.MathJax) {MathJax.Hub.Config({SVG: {font: \"STIX-Web\"}});}</script>\n",
              "                <script type=\"text/javascript\">window.PlotlyConfig = {MathJaxConfig: 'local'};</script>\n",
              "        <script src=\"https://cdn.plot.ly/plotly-latest.min.js\"></script>    \n",
              "            <div id=\"1e5e7a31-1d28-4dfd-b843-abd6335ba0b2\" class=\"plotly-graph-div\" style=\"height:525px; width:100%;\"></div>\n",
              "            <script type=\"text/javascript\">\n",
              "                \n",
              "                    window.PLOTLYENV=window.PLOTLYENV || {};\n",
              "                    \n",
              "                if (document.getElementById(\"1e5e7a31-1d28-4dfd-b843-abd6335ba0b2\")) {\n",
              "                    Plotly.newPlot(\n",
              "                        '1e5e7a31-1d28-4dfd-b843-abd6335ba0b2',\n",
              "                        [{\"alignmentgroup\": \"True\", \"bingroup\": \"x\", \"hoverlabel\": {\"namelength\": 0}, \"hovertemplate\": \"Year=%{x}<br>count of count=%{y}\", \"legendgroup\": \"\", \"marker\": {\"color\": \"#636efa\"}, \"name\": \"\", \"offsetgroup\": \"\", \"orientation\": \"v\", \"showlegend\": false, \"type\": \"histogram\", \"x\": [1977.0, 1986.0, 1986.0, 1989.0, 1990.0, 1991.0, 1991.0, 1991.0, 1991.0, 1991.0, 1992.0, 1992.0, 1992.0, 1992.0, 1993.0, 1993.0, 1993.0, 1993.0, 1994.0, 1994.0, 1995.0, 1996.0, 1996.0, 1996.0, 1997.0, 1998.0, 1998.0, 1999.0, 1999.0, 1999.0, 2000.0, 2000.0, 2000.0, 2001.0, 2001.0, 2002.0, 2002.0, 2002.0, 2002.0, 2002.0, 2003.0, 2004.0, 2004.0, 2005.0, 2005.0, 2006.0, 2006.0, 2006.0, 2007.0, 2009.0, 2009.0, 2010.0, 2011.0, 2011.0, 2011.0, 2011.0, 2013.0, 2013.0, 2013.0, 2014.0, 2014.0, 2015.0, 2017.0, 2018.0], \"xaxis\": \"x\", \"y\": [1, 1, 1, 1, 2, 1, 1, 1, 1, 2, 1, 1, 1, 1, 1, 1, 1, 1, 1, 1, 1, 2, 1, 1, 1, 1, 1, 2, 2, 1, 1, 1, 1, 1, 1, 1, 1, 1, 1, 1, 1, 2, 1, 2, 1, 2, 1, 2, 1, 1, 2, 1, 1, 2, 1, 2, 1, 1, 1, 1, 1, 2, 1, 1], \"yaxis\": \"y\"}, {\"hoverlabel\": {\"namelength\": 0}, \"hovertemplate\": \"<b>%{hovertext}</b><br><br>Country=Myanmar<br>Year=%{x}<br>Value=%{y}\", \"hovertext\": [\"Myanmar\", \"Myanmar\", \"Myanmar\", \"Myanmar\", \"Myanmar\", \"Myanmar\", \"Myanmar\", \"Myanmar\", \"Myanmar\", \"Myanmar\", \"Myanmar\", \"Myanmar\", \"Myanmar\", \"Myanmar\", \"Myanmar\", \"Myanmar\", \"Myanmar\", \"Myanmar\", \"Myanmar\", \"Myanmar\", \"Myanmar\", \"Myanmar\", \"Myanmar\", \"Myanmar\", \"Myanmar\", \"Myanmar\", \"Myanmar\", \"Myanmar\", \"Myanmar\", \"Myanmar\", \"Myanmar\", \"Myanmar\", \"Myanmar\", \"Myanmar\", \"Myanmar\", \"Myanmar\", \"Myanmar\", \"Myanmar\", \"Myanmar\", \"Myanmar\", \"Myanmar\", \"Myanmar\", \"Myanmar\", \"Myanmar\", \"Myanmar\", \"Myanmar\", \"Myanmar\", \"Myanmar\", \"Myanmar\", \"Myanmar\", \"Myanmar\", \"Myanmar\", \"Myanmar\", \"Myanmar\", \"Myanmar\", \"Myanmar\", \"Myanmar\", \"Myanmar\", \"Myanmar\", \"Myanmar\", \"Myanmar\", \"Myanmar\", \"Myanmar\", \"Myanmar\"], \"legendgroup\": \"Country=Myanmar\", \"line\": {\"color\": \"#636efa\", \"dash\": \"solid\"}, \"mode\": \"lines\", \"name\": \"Country=Myanmar\", \"showlegend\": true, \"type\": \"scattergl\", \"x\": [1951, 1952, 1953, 1954, 1955, 1956, 1957, 1958, 1959, 1960, 1961, 1962, 1963, 1964, 1965, 1966, 1967, 1968, 1969, 1970, 1971, 1972, 1973, 1974, 1975, 1976, 1977, 1978, 1979, 1980, 1981, 1982, 1983, 1984, 1985, 1986, 1987, 1988, 1989, 1990, 1991, 1992, 1993, 1994, 1995, 1996, 1997, 1998, 1999, 2000, 2001, 2002, 2003, 2004, 2005, 2012, 2013, 2014, 2015, 2016, 2017, 2018, 2019, 2020], \"xaxis\": \"x\", \"y\": [32.06178206178206, 46.67779667779668, 64.86906486906487, 77.60557760557761, 70.97482097482097, 75.02257502257503, 79.43782943782944, 85.37033537033537, 86.25758625758625, 89.51258951258951, 85.61708561708562, 90.70434070434071, 100.32235032235032, 97.9125979125979, 107.24185724185725, 105.45685545685546, 102.03910203910205, 104.59060459060458, 114.41861441861441, 122.78187278187279, 127.758749506804, 117.18127517405473, 152.45231745774228, 159.99934190502046, 138.92372323415995, 155.14220747754126, 169.29367819344617, 183.42928925931048, 190.8663540730303, 202.08346716344406, 205.28811662608686, 195.4194155967135, 192.1699914577157, 188.72082926365155, 196.75864469577633, 231.8433696479582, 203.6537435465811, 255.25682848179852, 550.1946337752986, 814.0255830977383, 942.6770851568343, 1370.4576765123606, 2061.809623889673, 2801.966891551504, 3932.0791806657444, 4675.441101668421, 4780.529107649519, 5873.097951178907, 6950.081055841826, 9030.564408836948, 9464.417217002449, 11000.356815937175, 24189.10950279609, 29853.91408291321, 32954.2622508452, 2969.2360763158836, 2366.989084910612, 2372.8959116141423, 2552.3704418280217, 2455.7841201322026, 2221.9610602285816, 1529.3644779426184, 1495.5098975020273, 2445.8217816033557], \"yaxis\": \"y2\"}, {\"hoverlabel\": {\"namelength\": 0}, \"hovertemplate\": \"<b>%{hovertext}</b><br><br>Country=South Africa<br>Year=%{x}<br>Value=%{y}\", \"hovertext\": [\"South Africa\", \"South Africa\", \"South Africa\", \"South Africa\", \"South Africa\", \"South Africa\", \"South Africa\", \"South Africa\", \"South Africa\", \"South Africa\", \"South Africa\", \"South Africa\", \"South Africa\", \"South Africa\", \"South Africa\", \"South Africa\", \"South Africa\", \"South Africa\", \"South Africa\", \"South Africa\", \"South Africa\", \"South Africa\", \"South Africa\", \"South Africa\", \"South Africa\", \"South Africa\", \"South Africa\", \"South Africa\", \"South Africa\", \"South Africa\", \"South Africa\", \"South Africa\", \"South Africa\", \"South Africa\", \"South Africa\", \"South Africa\", \"South Africa\", \"South Africa\", \"South Africa\", \"South Africa\", \"South Africa\", \"South Africa\", \"South Africa\", \"South Africa\", \"South Africa\", \"South Africa\", \"South Africa\", \"South Africa\", \"South Africa\", \"South Africa\", \"South Africa\", \"South Africa\", \"South Africa\", \"South Africa\", \"South Africa\", \"South Africa\", \"South Africa\", \"South Africa\", \"South Africa\", \"South Africa\", \"South Africa\", \"South Africa\", \"South Africa\", \"South Africa\", \"South Africa\", \"South Africa\", \"South Africa\", \"South Africa\", \"South Africa\", \"South Africa\"], \"legendgroup\": \"Country=South Africa\", \"line\": {\"color\": \"#EF553B\", \"dash\": \"solid\"}, \"mode\": \"lines\", \"name\": \"Country=South Africa\", \"showlegend\": true, \"type\": \"scattergl\", \"x\": [1951, 1952, 1953, 1954, 1955, 1956, 1957, 1958, 1959, 1960, 1961, 1962, 1963, 1964, 1965, 1966, 1967, 1968, 1969, 1970, 1971, 1972, 1973, 1974, 1975, 1976, 1977, 1978, 1979, 1980, 1981, 1982, 1983, 1984, 1985, 1986, 1987, 1988, 1989, 1990, 1991, 1992, 1993, 1994, 1995, 1996, 1997, 1998, 1999, 2000, 2001, 2002, 2003, 2004, 2005, 2006, 2007, 2008, 2009, 2010, 2011, 2012, 2013, 2014, 2015, 2016, 2017, 2018, 2019, 2020], \"xaxis\": \"x\", \"y\": [64.74997410001036, 74.54997018001193, 65.79997368001052, 62.99997480001009, 67.19997312001075, 76.99996920001233, 81.89996724001311, 63.699974520010194, 60.54997578000969, 69.99997200001121, 113.7499545000182, 186.19992552002978, 188.99992440003027, 271.59989136004344, 289.44988422004633, 324.44987022005193, 373.0998507600597, 399.699840120064, 425.59982976006813, 417.89983284006684, 485.8665272218082, 492.38654620433067, 752.9263256186605, 1102.318400770004, 1431.695127030404, 1677.2754193188548, 2073.7380184345043, 2067.9880169970043, 2160.86733972825, 2661.6711648438563, 3011.979548279984, 2744.6998581717044, 3052.68826855758, 2770.1521067187246, 2117.4063454885645, 2497.8884303488358, 3595.968625216721, 4263.086823226169, 4181.886467277746, 4364.458203855727, 3874.415134790607, 3677.40646070666, 3254.3133786653775, 3478.5822913146335, 3292.4465618443437, 2591.787130612767, 2414.1377095287285, 1905.6560087405126, 1738.0366250482857, 1891.7250134369287, 1802.262236357005, 1766.0828977202655, 2574.176278132126, 3099.065125416235, 3566.9638153704873, 3506.13965783314, 3525.684243694795, 3285.925081283394, 3592.6877020228544, 4188.168092203212, 4594.154077946546, 4489.590095944322, 4118.208483427343, 3892.4850910694445, 3488.8679478399654, 3139.312128418237, 3591.5076133699313, 3622.9187425515065, 3435.736037095993, 3150.8288802526113], \"yaxis\": \"y2\"}, {\"hoverlabel\": {\"namelength\": 0}, \"hovertemplate\": \"<b>%{hovertext}</b><br><br>Country=Lebanon<br>Year=%{x}<br>Value=%{y}\", \"hovertext\": [\"Lebanon\", \"Lebanon\", \"Lebanon\", \"Lebanon\", \"Lebanon\", \"Lebanon\", \"Lebanon\", \"Lebanon\", \"Lebanon\", \"Lebanon\", \"Lebanon\", \"Lebanon\", \"Lebanon\", \"Lebanon\", \"Lebanon\", \"Lebanon\", \"Lebanon\", \"Lebanon\", \"Lebanon\", \"Lebanon\", \"Lebanon\", \"Lebanon\", \"Lebanon\", \"Lebanon\", \"Lebanon\", \"Lebanon\", \"Lebanon\", \"Lebanon\", \"Lebanon\", \"Lebanon\", \"Lebanon\", \"Lebanon\", \"Lebanon\", \"Lebanon\", \"Lebanon\", \"Lebanon\", \"Lebanon\", \"Lebanon\", \"Lebanon\", \"Lebanon\", \"Lebanon\", \"Lebanon\", \"Lebanon\", \"Lebanon\", \"Lebanon\", \"Lebanon\", \"Lebanon\", \"Lebanon\", \"Lebanon\", \"Lebanon\", \"Lebanon\", \"Lebanon\", \"Lebanon\", \"Lebanon\", \"Lebanon\", \"Lebanon\", \"Lebanon\", \"Lebanon\", \"Lebanon\", \"Lebanon\", \"Lebanon\", \"Lebanon\", \"Lebanon\", \"Lebanon\", \"Lebanon\"], \"legendgroup\": \"Country=Lebanon\", \"line\": {\"color\": \"#00cc96\", \"dash\": \"solid\"}, \"mode\": \"lines\", \"name\": \"Country=Lebanon\", \"showlegend\": true, \"type\": \"scattergl\", \"x\": [1955, 1956, 1957, 1958, 1959, 1960, 1961, 1962, 1963, 1964, 1965, 1966, 1967, 1968, 1969, 1970, 1971, 1972, 1973, 1974, 1975, 1976, 1977, 1978, 1979, 1980, 1981, 1982, 1983, 1984, 1985, 1986, 1987, 1988, 1990, 1991, 1992, 1993, 1994, 1995, 1996, 1997, 1998, 1999, 2000, 2001, 2002, 2003, 2004, 2005, 2006, 2007, 2008, 2009, 2010, 2011, 2012, 2013, 2014, 2015, 2016, 2017, 2018, 2019, 2020], \"xaxis\": \"x\", \"y\": [12.523076923076925, 18.0625, 18.654782879054824, 21.76965630330503, 20.729001584786058, 22.906905201381985, 27.83714781298114, 40.8768245021668, 33.900603430741064, 38.065368323106654, 44.59853182935365, 51.42537730575741, 57.73095502602573, 65.57231644503013, 65.13897338519871, 64.54612753825353, 66.92009554702531, 106.2044369853674, 103.8155072019614, 179.14217960614496, 165.9441002962667, 173.07484703596268, 126.4271935769772, 252.76022968359294, 346.31100146480605, 503.4763147861971, 373.2147700324767, 246.65175512751054, 492.4726766000393, 474.5749175637259, 227.20350855820186, 148.29332367298326, 36.9997684731696, 39.31774307846443, 214.36103865835884, 229.46973100329984, 442.78633107386196, 452.97928056231916, 637.4734386067247, 746.26405412573, 735.6310135926284, 678.164279450453, 693.871897528576, 829.663624787776, 930.016583747927, 958.5406301824212, 907.4626865671642, 923.3830845771145, 954.5605306799337, 962.5207296849087, 1008.955223880597, 1152.2388059701493, 1169.485903814262, 1426.2023217247097, 1585.4063018242123, 1626.5339966832505, 1757.2139303482588, 1935.7182413723235, 2270.065959793791, 2239.416093739447, 2606.456908322253, 2441.074857018222, 2775.557816206579, 2521.246648014341, 1921.3930348258707], \"yaxis\": \"y2\"}, {\"hoverlabel\": {\"namelength\": 0}, \"hovertemplate\": \"<b>%{hovertext}</b><br><br>Country=Venezuela<br>Year=%{x}<br>Value=%{y}\", \"hovertext\": [\"Venezuela\", \"Venezuela\", \"Venezuela\", \"Venezuela\", \"Venezuela\", \"Venezuela\", \"Venezuela\", \"Venezuela\", \"Venezuela\", \"Venezuela\", \"Venezuela\", \"Venezuela\", \"Venezuela\", \"Venezuela\", \"Venezuela\", \"Venezuela\", \"Venezuela\", \"Venezuela\", \"Venezuela\", \"Venezuela\", \"Venezuela\", \"Venezuela\", \"Venezuela\", \"Venezuela\", \"Venezuela\", \"Venezuela\", \"Venezuela\", \"Venezuela\", \"Venezuela\", \"Venezuela\", \"Venezuela\", \"Venezuela\", \"Venezuela\", \"Venezuela\", \"Venezuela\", \"Venezuela\", \"Venezuela\", \"Venezuela\", \"Venezuela\", \"Venezuela\", \"Venezuela\", \"Venezuela\", \"Venezuela\", \"Venezuela\", \"Venezuela\", \"Venezuela\", \"Venezuela\", \"Venezuela\", \"Venezuela\", \"Venezuela\", \"Venezuela\", \"Venezuela\", \"Venezuela\", \"Venezuela\", \"Venezuela\", \"Venezuela\", \"Venezuela\", \"Venezuela\", \"Venezuela\", \"Venezuela\", \"Venezuela\", \"Venezuela\", \"Venezuela\"], \"legendgroup\": \"Country=Venezuela\", \"line\": {\"color\": \"#ab63fa\", \"dash\": \"solid\"}, \"mode\": \"lines\", \"name\": \"Country=Venezuela\", \"showlegend\": true, \"type\": \"scattergl\", \"x\": [1955, 1956, 1957, 1958, 1959, 1960, 1961, 1962, 1963, 1964, 1965, 1966, 1967, 1968, 1969, 1970, 1971, 1972, 1973, 1974, 1975, 1976, 1977, 1978, 1979, 1980, 1981, 1982, 1983, 1984, 1985, 1986, 1987, 1988, 1989, 1990, 1991, 1992, 1993, 1994, 1995, 1996, 1997, 1998, 1999, 2000, 2001, 2002, 2003, 2004, 2005, 2006, 2007, 2008, 2009, 2010, 2011, 2012, 2013, 2014, 2015, 2016, 2017], \"xaxis\": \"x\", \"y\": [142.85714285714286, 173.40327059549523, 228.9326723039223, 251.94029850746267, 225.6938743219481, 234.35774037341994, 114.63268285256268, 203.90068275382353, 245.39730779449917, 200.45977011494256, 227.27272727272725, 238.63636363636363, 270.45454545454544, 272.7272727272727, 263.6363636363636, 272.7272727272727, 352.27272727272725, 404.6511627906977, 420.93023255813955, 602.3255813953488, 711.6279069767442, 593.0232558139535, 748.8372093023256, 827.9069767441861, 925.5813953488373, 1002.3255813953488, 1009.3023255813954, 1523.2558139534883, 2006.9767441860465, 1325.4150473087661, 820.0, 1004.536496716081, 765.5172413793102, 1096.551724137931, 1196.2515529651184, 737.8704546860105, 983.7219533655962, 992.9324849780576, 1287.9547608642288, 939.6832314208283, 1198.810237387046, 733.1975560081466, 1541.0338638610165, 1450.9639916211167, 1408.0647158363945, 1788.3220803362517, 1911.4001365285812, 1071.3639691631854, 987.890177726888, 1448.7159829326454, 2665.390596961359, 3630.0884955752217, 4351.5603167210065, 5660.456450861668, 4055.379599441081, 3991.1948347443517, 3577.53158743851, 5114.847099993006, 6199.698500155424, 1554.7271082393247, 320.5391579635235, 218.15489292907495, 2127.936596435706], \"yaxis\": \"y2\"}, {\"hoverlabel\": {\"namelength\": 0}, \"hovertemplate\": \"<b>%{hovertext}</b><br><br>Country=Sudan<br>Year=%{x}<br>Value=%{y}\", \"hovertext\": [\"Sudan\", \"Sudan\", \"Sudan\", \"Sudan\", \"Sudan\", \"Sudan\", \"Sudan\", \"Sudan\", \"Sudan\", \"Sudan\", \"Sudan\", \"Sudan\", \"Sudan\", \"Sudan\", \"Sudan\", \"Sudan\", \"Sudan\", \"Sudan\", \"Sudan\", \"Sudan\", \"Sudan\", \"Sudan\", \"Sudan\", \"Sudan\", \"Sudan\", \"Sudan\", \"Sudan\", \"Sudan\", \"Sudan\", \"Sudan\", \"Sudan\", \"Sudan\", \"Sudan\", \"Sudan\", \"Sudan\", \"Sudan\", \"Sudan\", \"Sudan\", \"Sudan\", \"Sudan\", \"Sudan\", \"Sudan\", \"Sudan\", \"Sudan\", \"Sudan\", \"Sudan\", \"Sudan\", \"Sudan\", \"Sudan\", \"Sudan\", \"Sudan\", \"Sudan\", \"Sudan\", \"Sudan\", \"Sudan\", \"Sudan\", \"Sudan\", \"Sudan\", \"Sudan\"], \"legendgroup\": \"Country=Sudan\", \"line\": {\"color\": \"#FFA15A\", \"dash\": \"solid\"}, \"mode\": \"lines\", \"name\": \"Country=Sudan\", \"showlegend\": true, \"type\": \"scattergl\", \"x\": [1956, 1957, 1958, 1959, 1960, 1961, 1962, 1963, 1964, 1965, 1966, 1967, 1968, 1969, 1970, 1971, 1972, 1973, 1974, 1975, 1976, 1977, 1978, 1979, 1980, 1981, 1982, 1983, 1984, 1985, 1986, 1987, 1988, 1990, 1991, 1992, 1993, 1994, 1995, 1996, 1997, 1998, 1999, 2000, 2001, 2002, 2003, 2004, 2005, 2006, 2007, 2008, 2009, 2015, 2016, 2017, 2018, 2019, 2020], \"xaxis\": \"x\", \"y\": [0.09648462850546459, 14.101091326823665, 14.359563469270535, 16.59965537047674, 18.667432510051693, 20.50545663411832, 24.842044801838025, 28.144744399770246, 41.87248707639287, 56.375646180356114, 50.31591039632395, 52.268811028144746, 57.72544514646754, 87.01895462377944, 108.27110855829983, 109.99425617461229, 107.98391728891441, 113.1533601378518, 111.43021252153935, 119.47156806433085, 179.20735209649627, 216.53848583884255, 175.91640791411888, 239.9998135923778, 228.0, 203.9874171972129, 172.21463824425078, 230.76923076923077, 355.3846153846154, 205.29335682849975, 260.0, 310.3333333333333, 369.33333333333337, 1177.7777777777778, 1365.798114911065, 183.71844071282757, 257.98109394026886, 226.16700447845196, 138.75642566201964, 106.33279767187136, 97.73185931689238, 259.9575701437236, 429.6178974460503, 587.2675723291966, 388.09131742313554, 484.6072630323654, 398.11022173858066, 1240.766949070394, 1164.9959360606883, 1647.8391943710703, 2427.0725947480155, 3228.0000000000005, 3180.4830097306613, 2279.6216395618985, 2748.5119762470727, 4382.998816697173, 1047.8787199874052, 722.2561774207632, 934.3111538035246], \"yaxis\": \"y2\"}, {\"hoverlabel\": {\"namelength\": 0}, \"hovertemplate\": \"<b>%{hovertext}</b><br><br>Country=Syria<br>Year=%{x}<br>Value=%{y}\", \"hovertext\": [\"Syria\", \"Syria\", \"Syria\", \"Syria\", \"Syria\", \"Syria\", \"Syria\", \"Syria\", \"Syria\", \"Syria\", \"Syria\", \"Syria\", \"Syria\", \"Syria\", \"Syria\", \"Syria\", \"Syria\", \"Syria\", \"Syria\", \"Syria\", \"Syria\", \"Syria\", \"Syria\", \"Syria\", \"Syria\", \"Syria\", \"Syria\", \"Syria\", \"Syria\", \"Syria\", \"Syria\", \"Syria\", \"Syria\", \"Syria\", \"Syria\", \"Syria\", \"Syria\", \"Syria\", \"Syria\", \"Syria\", \"Syria\", \"Syria\", \"Syria\", \"Syria\", \"Syria\", \"Syria\", \"Syria\", \"Syria\", \"Syria\", \"Syria\", \"Syria\", \"Syria\", \"Syria\", \"Syria\", \"Syria\"], \"legendgroup\": \"Country=Syria\", \"line\": {\"color\": \"#19d3f3\", \"dash\": \"solid\"}, \"mode\": \"lines\", \"name\": \"Country=Syria\", \"showlegend\": true, \"type\": \"scattergl\", \"x\": [1956, 1957, 1958, 1959, 1960, 1961, 1962, 1964, 1965, 1966, 1967, 1968, 1969, 1970, 1971, 1972, 1973, 1974, 1975, 1976, 1977, 1978, 1979, 1980, 1981, 1982, 1983, 1984, 1985, 1986, 1987, 1988, 1989, 1990, 1991, 1992, 1993, 1994, 1995, 1996, 1997, 1998, 1999, 2000, 2001, 2002, 2003, 2004, 2005, 2006, 2007, 2008, 2009, 2010, 2011], \"xaxis\": \"x\", \"y\": [55.58659217877095, 48.324022346368714, 81.00558659217876, 82.9608938547486, 90.22346368715084, 90.22346368715084, 149.59349593495935, 112.04188481675394, 118.0628272251309, 102.35602094240838, 118.58638743455498, 190.05235602094243, 194.5026178010471, 199.73821989528795, 176.9633507853403, 260.20942408376965, 388.67455698685677, 537.3809243166207, 887.8378378378378, 945.0588812433974, 998.2165605095541, 1213.5031847133757, 1581.656050955414, 2253.248407643312, 2437.707006369427, 2726.87898089172, 2733.503184713376, 3394.9044585987263, 3510.31847133758, 3678.980891719745, 3650.191082802548, 3722.802547770701, 1483.652561247216, 1641.781737193764, 2893.80846325167, 2976.570155902005, 1426.0952380952383, 1636.2997760899152, 957.8998189499096, 995.0890409326054, 1046.927961044541, 1096.0395330516365, 1127.6328571090103, 897.044908654196, 1022.526577913993, 1102.9121569096455, 1436.2107335444664, 1388.544983485948, 1450.3246566683906, 1435.2156922841161, 1599.0337230650305, 1732.4168479019934, 2181.9745811918024, 2346.021283012365, 2494.887483148397], \"yaxis\": \"y2\"}, {\"hoverlabel\": {\"namelength\": 0}, \"hovertemplate\": \"<b>%{hovertext}</b><br><br>Country=Ethiopia<br>Year=%{x}<br>Value=%{y}\", \"hovertext\": [\"Ethiopia\", \"Ethiopia\", \"Ethiopia\", \"Ethiopia\", \"Ethiopia\", \"Ethiopia\", \"Ethiopia\", \"Ethiopia\", \"Ethiopia\", \"Ethiopia\", \"Ethiopia\", \"Ethiopia\", \"Ethiopia\", \"Ethiopia\", \"Ethiopia\", \"Ethiopia\", \"Ethiopia\", \"Ethiopia\", \"Ethiopia\", \"Ethiopia\", \"Ethiopia\", \"Ethiopia\", \"Ethiopia\", \"Ethiopia\", \"Ethiopia\", \"Ethiopia\", \"Ethiopia\", \"Ethiopia\", \"Ethiopia\", \"Ethiopia\", \"Ethiopia\", \"Ethiopia\", \"Ethiopia\", \"Ethiopia\", \"Ethiopia\", \"Ethiopia\", \"Ethiopia\", \"Ethiopia\", \"Ethiopia\", \"Ethiopia\", \"Ethiopia\", \"Ethiopia\", \"Ethiopia\", \"Ethiopia\", \"Ethiopia\", \"Ethiopia\", \"Ethiopia\", \"Ethiopia\", \"Ethiopia\", \"Ethiopia\", \"Ethiopia\", \"Ethiopia\", \"Ethiopia\", \"Ethiopia\", \"Ethiopia\", \"Ethiopia\", \"Ethiopia\", \"Ethiopia\", \"Ethiopia\", \"Ethiopia\", \"Ethiopia\", \"Ethiopia\", \"Ethiopia\", \"Ethiopia\"], \"legendgroup\": \"Country=Ethiopia\", \"line\": {\"color\": \"#FF6692\", \"dash\": \"solid\"}, \"mode\": \"lines\", \"name\": \"Country=Ethiopia\", \"showlegend\": true, \"type\": \"scattergl\", \"x\": [1957, 1958, 1959, 1960, 1961, 1962, 1963, 1964, 1965, 1966, 1967, 1968, 1969, 1970, 1971, 1972, 1973, 1974, 1975, 1976, 1977, 1978, 1979, 1980, 1981, 1982, 1983, 1984, 1985, 1986, 1987, 1988, 1989, 1990, 1991, 1992, 1993, 1994, 1995, 1996, 1997, 1998, 1999, 2000, 2001, 2002, 2003, 2004, 2005, 2006, 2007, 2008, 2009, 2010, 2011, 2012, 2013, 2014, 2015, 2016, 2017, 2018, 2019, 2020], \"xaxis\": \"x\", \"y\": [15.073637435750886, 16.20063836552665, 15.194387535369717, 15.33526265159169, 18.55526530809388, 20.185391652948116, 27.289522513856074, 36.14, 42.9, 43.42, 37.0, 34.66, 34.42, 34.54, 36.134238092946404, 41.04347826086957, 48.43359142346635, 74.7584541062802, 125.07246376811595, 128.0434782608696, 135.04830917874395, 178.21256038647346, 276.32850241545896, 359.3236714975846, 366.9806763285024, 387.36714975845416, 408.4057971014493, 423.01932367149766, 429.44444444444446, 439.2028985507247, 476.6183574879227, 614.8550724637681, 781.5217391304349, 785.048309178744, 529.0338164251208, 255.34344335414806, 163.85, 148.69167429094236, 122.460147475046, 126.45473323593127, 225.41710511018968, 458.54992544874796, 703.7048695268973, 617.5416136279003, 349.8082764508146, 288.9323334597765, 278.6731599315324, 311.03874898964517, 342.0666386659343, 345.6870170210907, 360.1403086120266, 388.18759674741193, 339.62776796630897, 303.6170330890518, 332.4417723915925, 366.53901766752523, 345.0641658440276, 414.4760258300706, 442.532624456259, 490.1772485320749, 499.7954834873768, 512.0290567106032, 544.8394298471578, 461.25762391547113], \"yaxis\": \"y2\"}, {\"hoverlabel\": {\"namelength\": 0}, \"hovertemplate\": \"<b>%{hovertext}</b><br><br>Country=Iraq<br>Year=%{x}<br>Value=%{y}\", \"hovertext\": [\"Iraq\", \"Iraq\", \"Iraq\", \"Iraq\", \"Iraq\", \"Iraq\", \"Iraq\", \"Iraq\", \"Iraq\", \"Iraq\", \"Iraq\", \"Iraq\", \"Iraq\", \"Iraq\", \"Iraq\", \"Iraq\", \"Iraq\", \"Iraq\", \"Iraq\", \"Iraq\", \"Iraq\", \"Iraq\", \"Iraq\", \"Iraq\", \"Iraq\", \"Iraq\", \"Iraq\", \"Iraq\", \"Iraq\", \"Iraq\", \"Iraq\", \"Iraq\", \"Iraq\", \"Iraq\", \"Iraq\", \"Iraq\", \"Iraq\", \"Iraq\", \"Iraq\", \"Iraq\", \"Iraq\", \"Iraq\"], \"legendgroup\": \"Country=Iraq\", \"line\": {\"color\": \"#B6E880\", \"dash\": \"solid\"}, \"mode\": \"lines\", \"name\": \"Country=Iraq\", \"showlegend\": true, \"type\": \"scattergl\", \"x\": [1957, 1958, 1959, 1960, 1961, 1962, 1963, 1964, 1965, 1966, 1967, 1968, 1969, 1970, 1971, 1972, 1973, 1974, 1975, 1976, 1977, 1978, 1979, 1980, 1981, 2004, 2005, 2006, 2007, 2008, 2009, 2010, 2011, 2012, 2013, 2014, 2015, 2016, 2017, 2018, 2019, 2020], \"xaxis\": \"x\", \"y\": [83.24396670241332, 86.68796532481387, 100.16295993481603, 118.726952509219, 125.48194980722009, 135.0649459740216, 163.21893471242612, 185.19892592042964, 225.74290970283613, 234.9969060012376, 234.54190618323753, 291.43788342484663, 375.9978496008602, 401.05083957966417, 426.26334016538266, 466.11328807809116, 665.1852889854231, 1427.457784181032, 1590.171817116696, 1761.1762395280955, 2007.6935058954195, 1986.021658302688, 2371.7128209295865, 2976.4928178142586, 4086.4977617044906, 613.7248696178667, 1120.2785326086957, 1236.0810129342656, 1989.9487473795803, 3116.3040198477893, 3237.1794871794873, 3752.9059829059825, 4278.6324786324785, 4141.066053834346, 7780.188679245283, 6923.644082332762, 9604.23101085097, 5970.383697669416, 7416.385135135135, 6317.977150052539, 7598.829335745368, 7015.558808232815], \"yaxis\": \"y2\"}, {\"hoverlabel\": {\"namelength\": 0}, \"hovertemplate\": \"<b>%{hovertext}</b><br><br>Country=Libya<br>Year=%{x}<br>Value=%{y}\", \"hovertext\": [\"Libya\", \"Libya\", \"Libya\", \"Libya\", \"Libya\", \"Libya\", \"Libya\", \"Libya\", \"Libya\", \"Libya\", \"Libya\", \"Libya\", \"Libya\", \"Libya\", \"Libya\", \"Libya\", \"Libya\", \"Libya\", \"Libya\", \"Libya\", \"Libya\", \"Libya\", \"Libya\", \"Libya\", \"Libya\", \"Libya\", \"Libya\", \"Libya\", \"Libya\", \"Libya\", \"Libya\", \"Libya\", \"Libya\", \"Libya\", \"Libya\", \"Libya\", \"Libya\", \"Libya\", \"Libya\"], \"legendgroup\": \"Country=Libya\", \"line\": {\"color\": \"#FF97FF\", \"dash\": \"solid\"}, \"mode\": \"lines\", \"name\": \"Country=Libya\", \"showlegend\": true, \"type\": \"scattergl\", \"x\": [1959, 1960, 1961, 1962, 1963, 1964, 1965, 1966, 1967, 1968, 1969, 1970, 1971, 1972, 1973, 1974, 1975, 1976, 1977, 1978, 1979, 1980, 1981, 1982, 1997, 1998, 1999, 2000, 2001, 2002, 2003, 2004, 2005, 2006, 2007, 2008, 2012, 2013, 2014], \"xaxis\": \"x\", \"y\": [5.571997771200891, 5.571997771200891, 7.167997132801148, 16.687993324802672, 18.67599252960299, 21.475991409603434, 29.119988352004658, 58.519976592009364, 79.51996819201273, 95.47996180801529, 143.0799427680229, 242.47990300803883, 243.03587164562788, 202.76822710041438, 298.3074800183984, 431.68237904955566, 287.7882526997038, 326.2951315820585, 479.6470878328396, 729.9418005681453, 853.5691485588632, 1074.1392530341056, 557.3345223136477, 709.3324506085058, 1251.9908172874545, 1443.6217582671406, 1153.4870884907862, 1085.534664870458, 819.7479936006769, 452.5136147574527, 541.401766516621, 685.0732200740247, 690.9307693483545, 614.356296200431, 639.1370461889375, 1100.0686521298505, 2987.41340773267, 3964.690154136521, 3755.652496350929], \"yaxis\": \"y2\"}, {\"hoverlabel\": {\"namelength\": 0}, \"hovertemplate\": \"<b>%{hovertext}</b><br><br>Country=Iran<br>Year=%{x}<br>Value=%{y}\", \"hovertext\": [\"Iran\", \"Iran\", \"Iran\", \"Iran\", \"Iran\", \"Iran\", \"Iran\", \"Iran\", \"Iran\", \"Iran\", \"Iran\", \"Iran\", \"Iran\", \"Iran\", \"Iran\", \"Iran\", \"Iran\", \"Iran\", \"Iran\", \"Iran\", \"Iran\", \"Iran\", \"Iran\", \"Iran\", \"Iran\", \"Iran\", \"Iran\", \"Iran\", \"Iran\", \"Iran\", \"Iran\", \"Iran\", \"Iran\", \"Iran\", \"Iran\", \"Iran\", \"Iran\", \"Iran\", \"Iran\", \"Iran\", \"Iran\", \"Iran\", \"Iran\", \"Iran\", \"Iran\", \"Iran\", \"Iran\", \"Iran\", \"Iran\", \"Iran\", \"Iran\", \"Iran\", \"Iran\", \"Iran\", \"Iran\", \"Iran\", \"Iran\", \"Iran\", \"Iran\", \"Iran\", \"Iran\"], \"legendgroup\": \"Country=Iran\", \"line\": {\"color\": \"#FECB52\", \"dash\": \"solid\"}, \"mode\": \"lines\", \"name\": \"Country=Iran\", \"showlegend\": true, \"type\": \"scattergl\", \"x\": [1960, 1961, 1962, 1963, 1964, 1965, 1966, 1967, 1968, 1969, 1970, 1971, 1972, 1973, 1974, 1975, 1976, 1977, 1978, 1979, 1980, 1981, 1982, 1983, 1984, 1985, 1986, 1987, 1988, 1989, 1990, 1991, 1992, 1993, 1994, 1995, 1996, 1997, 1998, 1999, 2000, 2001, 2002, 2003, 2004, 2005, 2006, 2007, 2008, 2009, 2010, 2011, 2012, 2013, 2014, 2015, 2016, 2017, 2018, 2019, 2020], \"xaxis\": \"x\", \"y\": [98.67986798679867, 105.94059405940594, 109.9009900990099, 128.7128712871287, 155.44554455445547, 200.00000000000003, 256.1056105610561, 331.023102310231, 437.2937293729373, 566.006600660066, 620.1320132013202, 402.3102310231023, 371.94719471947195, 480.8571669129623, 3877.8626631267116, 5951.043741982016, 7186.307294358153, 7617.207960430016, 8113.739880875546, 4993.779938919994, 4874.889400106175, 8121.567621447014, 9703.525315259945, 10550.357292931585, 9926.303621971003, 10706.415944506478, 11741.433342091335, 15263.376569599572, 18889.008562658197, 16301.812932063633, 16474.401698234527, 17549.5948299352, 19732.55801540571, 1448.1777034805784, 1703.171536205704, 2501.544189557847, 3550.9869641929276, 4642.384615823301, 5479.36294174375, 6650.2851439977185, 8327.053824362605, 10378.791765718619, 3243.891033232663, 3717.0684497839247, 5243.621132599411, 6796.744965394759, 8751.474767035876, 9330.901881771117, 11081.950208569098, 12584.623338706246, 13561.272454213882, 14277.667360568184, 16493.96328692867, 11997.1869840994, 9901.118855302648, 10588.769670868436, 12263.957414621567, 13931.196489797547, 11230.852287933145, 12528.450210913432, 15825.143121288625], \"yaxis\": \"y2\"}, {\"hoverlabel\": {\"namelength\": 0}, \"hovertemplate\": \"<b>%{hovertext}</b><br><br>Country=Nigeria<br>Year=%{x}<br>Value=%{y}\", \"hovertext\": [\"Nigeria\", \"Nigeria\", \"Nigeria\", \"Nigeria\", \"Nigeria\", \"Nigeria\", \"Nigeria\", \"Nigeria\", \"Nigeria\", \"Nigeria\", \"Nigeria\", \"Nigeria\", \"Nigeria\", \"Nigeria\", \"Nigeria\", \"Nigeria\", \"Nigeria\", \"Nigeria\", \"Nigeria\", \"Nigeria\", \"Nigeria\", \"Nigeria\", \"Nigeria\", \"Nigeria\", \"Nigeria\", \"Nigeria\", \"Nigeria\", \"Nigeria\", \"Nigeria\", \"Nigeria\", \"Nigeria\", \"Nigeria\", \"Nigeria\", \"Nigeria\", \"Nigeria\", \"Nigeria\", \"Nigeria\", \"Nigeria\", \"Nigeria\", \"Nigeria\", \"Nigeria\", \"Nigeria\", \"Nigeria\", \"Nigeria\", \"Nigeria\", \"Nigeria\", \"Nigeria\", \"Nigeria\", \"Nigeria\", \"Nigeria\", \"Nigeria\", \"Nigeria\", \"Nigeria\", \"Nigeria\", \"Nigeria\", \"Nigeria\", \"Nigeria\", \"Nigeria\", \"Nigeria\", \"Nigeria\", \"Nigeria\"], \"legendgroup\": \"Country=Nigeria\", \"line\": {\"color\": \"#636efa\", \"dash\": \"solid\"}, \"mode\": \"lines\", \"name\": \"Country=Nigeria\", \"showlegend\": true, \"type\": \"scattergl\", \"x\": [1960, 1961, 1962, 1963, 1964, 1965, 1966, 1967, 1968, 1969, 1970, 1971, 1972, 1973, 1974, 1975, 1976, 1977, 1978, 1979, 1980, 1981, 1982, 1983, 1984, 1985, 1986, 1987, 1988, 1989, 1990, 1991, 1992, 1993, 1994, 1995, 1996, 1997, 1998, 1999, 2000, 2001, 2002, 2003, 2004, 2005, 2006, 2007, 2008, 2009, 2010, 2011, 2012, 2013, 2014, 2015, 2016, 2017, 2018, 2019, 2020], \"xaxis\": \"x\", \"y\": [23.37999064800374, 28.279988688004526, 38.63998454400618, 45.49998180000728, 54.3199782720087, 65.93997362401056, 55.71997771200891, 239.9599040160384, 369.0398523840591, 684.4597262161095, 662.339735064106, 639.2595418990651, 904.0956383617446, 1020.2235919105632, 1351.1412351931358, 3028.5847974498865, 2644.426038260392, 3138.1989480394786, 3022.6422697679104, 3070.8253381169425, 3029.9150848328677, 2135.475014084325, 1651.9145132383317, 1627.393326983338, 1210.916249525457, 1091.6629931056398, 516.8935093358867, 201.691218214958, 271.10604654648364, 170.70551126789442, 277.29778348380063, 243.70578102404866, 173.65767932294315, 289.23110390022384, 319.6944899072559, 639.4066306467598, 701.4128785801759, 818.784525338, 1149.6847299643607, 491.671368589997, 368.64410946242265, 570.6322877615054, 896.9132014131931, 587.4618872947331, 639.9900668231894, 674.20814479638, 776.1480583278924, 971.3213786086734, 1615.5332107367603, 1504.4861721132022, 1990.0996686582655, 2384.9360217138424, 2316.4781998615867, 2418.7601708706266, 2357.6712192906225, 2065.557663350914, 1723.2042663951536, 1621.218176403174, 2043.051719216729, 1860.2604295613423, 2567.917819043856], \"yaxis\": \"y2\"}, {\"hoverlabel\": {\"namelength\": 0}, \"hovertemplate\": \"<b>%{hovertext}</b><br><br>Country=Sierra Leone<br>Year=%{x}<br>Value=%{y}\", \"hovertext\": [\"Sierra Leone\", \"Sierra Leone\", \"Sierra Leone\", \"Sierra Leone\", \"Sierra Leone\", \"Sierra Leone\", \"Sierra Leone\", \"Sierra Leone\", \"Sierra Leone\", \"Sierra Leone\", \"Sierra Leone\", \"Sierra Leone\", \"Sierra Leone\", \"Sierra Leone\", \"Sierra Leone\", \"Sierra Leone\", \"Sierra Leone\", \"Sierra Leone\", \"Sierra Leone\", \"Sierra Leone\", \"Sierra Leone\", \"Sierra Leone\", \"Sierra Leone\", \"Sierra Leone\", \"Sierra Leone\", \"Sierra Leone\", \"Sierra Leone\", \"Sierra Leone\", \"Sierra Leone\", \"Sierra Leone\", \"Sierra Leone\", \"Sierra Leone\", \"Sierra Leone\", \"Sierra Leone\", \"Sierra Leone\", \"Sierra Leone\", \"Sierra Leone\", \"Sierra Leone\", \"Sierra Leone\", \"Sierra Leone\", \"Sierra Leone\", \"Sierra Leone\", \"Sierra Leone\", \"Sierra Leone\", \"Sierra Leone\", \"Sierra Leone\", \"Sierra Leone\", \"Sierra Leone\", \"Sierra Leone\", \"Sierra Leone\", \"Sierra Leone\", \"Sierra Leone\", \"Sierra Leone\", \"Sierra Leone\", \"Sierra Leone\", \"Sierra Leone\", \"Sierra Leone\", \"Sierra Leone\"], \"legendgroup\": \"Country=Sierra Leone\", \"line\": {\"color\": \"#EF553B\", \"dash\": \"solid\"}, \"mode\": \"lines\", \"name\": \"Country=Sierra Leone\", \"showlegend\": true, \"type\": \"scattergl\", \"x\": [1961, 1962, 1963, 1964, 1965, 1966, 1967, 1968, 1969, 1970, 1971, 1972, 1973, 1974, 1975, 1976, 1977, 1978, 1979, 1980, 1981, 1982, 1983, 1984, 1985, 1986, 1987, 1988, 1989, 1990, 1991, 1992, 1993, 1994, 1995, 1996, 1997, 2000, 2001, 2002, 2003, 2004, 2005, 2006, 2007, 2008, 2009, 2010, 2011, 2012, 2013, 2014, 2015, 2016, 2017, 2018, 2019, 2020], \"xaxis\": \"x\", \"y\": [1.9305992277603088, 1.9837992064803176, 2.155999137600345, 2.3533990586403766, 2.505998997600401, 2.5395989841604063, 2.883153573494871, 2.6580010632004254, 3.2976013190405276, 3.986401594560638, 3.7706374098260427, 4.23461066807196, 5.022404825428557, 6.779970097993947, 6.526389844494935, 6.020631896768628, 7.064980375054513, 8.11812347188264, 10.785547366528851, 15.907791960373403, 15.788111465792426, 14.128284826222096, 10.2369346480457, 9.92051634494711, 6.281702969675079, 7.227148725150852, 4.585444664757289, 9.011475021606012, 14.394912125832597, 12.387253542516806, 23.179749715585896, 26.661754518042137, 23.339131109031666, 26.49555169240209, 25.02330459100443, 18.592815281754085, 9.490749703000159, 23.310804351566834, 29.911134607154544, 27.133961877629186, 28.467933592851605, 22.961537037722575, 23.552130233008835, 28.02245848118275, 29.07687617873569, 23.645736556308712, 26.405564662620176, 25.06227863120241, 25.4761839067774, 29.75893407979669, 31.684939411425272, 48.81063078771625, 39.22651426584026, 37.41473216954801, 39.57782600412428, 29.622478099625702, 25.641867776012568, 23.8273810780594], \"yaxis\": \"y2\"}, {\"hoverlabel\": {\"namelength\": 0}, \"hovertemplate\": \"<b>%{hovertext}</b><br><br>Country=Somalia<br>Year=%{x}<br>Value=%{y}\", \"hovertext\": [\"Somalia\", \"Somalia\", \"Somalia\", \"Somalia\", \"Somalia\", \"Somalia\", \"Somalia\", \"Somalia\", \"Somalia\", \"Somalia\", \"Somalia\", \"Somalia\", \"Somalia\", \"Somalia\", \"Somalia\", \"Somalia\", \"Somalia\", \"Somalia\", \"Somalia\", \"Somalia\", \"Somalia\", \"Somalia\", \"Somalia\", \"Somalia\", \"Somalia\", \"Somalia\", \"Somalia\", \"Somalia\", \"Somalia\", \"Somalia\", \"Somalia\", \"Somalia\", \"Somalia\", \"Somalia\", \"Somalia\", \"Somalia\", \"Somalia\"], \"legendgroup\": \"Country=Somalia\", \"line\": {\"color\": \"#00cc96\", \"dash\": \"solid\"}, \"mode\": \"lines\", \"name\": \"Country=Somalia\", \"showlegend\": true, \"type\": \"scattergl\", \"x\": [1961, 1962, 1963, 1964, 1965, 1966, 1967, 1968, 1969, 1970, 1971, 1972, 1973, 1974, 1975, 1976, 1977, 1978, 1979, 1980, 1981, 1982, 1983, 1984, 1985, 1986, 1987, 1988, 1989, 2013, 2014, 2015, 2016, 2017, 2018, 2019, 2020], \"xaxis\": \"x\", \"y\": [3.16, 3.7, 4.48, 5.42, 5.17, 6.5, 7.53, 8.34, 9.0, 11.2, 11.4, 13.2, 16.1, 21.4, 23.1, 26.3, 31.7, 81.4, 87.7, 95.5, 134.0, 83.9, 83.9, 89.2, 44.3, 34.9, 28.5, 49.5, 8.56, 26.05, 60.258, 46.614, 47.706, 61.813, 76.562, 77.535, 98.385], \"yaxis\": \"y2\"}, {\"hoverlabel\": {\"namelength\": 0}, \"hovertemplate\": \"<b>%{hovertext}</b><br><br>Country=Togo<br>Year=%{x}<br>Value=%{y}\", \"hovertext\": [\"Togo\", \"Togo\", \"Togo\", \"Togo\", \"Togo\", \"Togo\", \"Togo\", \"Togo\", \"Togo\", \"Togo\", \"Togo\", \"Togo\", \"Togo\", \"Togo\", \"Togo\", \"Togo\", \"Togo\", \"Togo\", \"Togo\", \"Togo\", \"Togo\", \"Togo\", \"Togo\", \"Togo\", \"Togo\", \"Togo\", \"Togo\", \"Togo\", \"Togo\", \"Togo\", \"Togo\", \"Togo\", \"Togo\", \"Togo\", \"Togo\", \"Togo\", \"Togo\", \"Togo\", \"Togo\", \"Togo\", \"Togo\", \"Togo\", \"Togo\", \"Togo\", \"Togo\", \"Togo\", \"Togo\", \"Togo\", \"Togo\", \"Togo\", \"Togo\"], \"legendgroup\": \"Country=Togo\", \"line\": {\"color\": \"#ab63fa\", \"dash\": \"solid\"}, \"mode\": \"lines\", \"name\": \"Country=Togo\", \"showlegend\": true, \"type\": \"scattergl\", \"x\": [1961, 1962, 1963, 1964, 1965, 1966, 1967, 1968, 1969, 1970, 1971, 1972, 1973, 1974, 1975, 1976, 1977, 1978, 1979, 1980, 1981, 1982, 1983, 1984, 1985, 1986, 1987, 1988, 1989, 1990, 1991, 1992, 1993, 1994, 1995, 2003, 2004, 2005, 2008, 2009, 2010, 2011, 2012, 2013, 2014, 2015, 2016, 2017, 2018, 2019, 2020], \"xaxis\": \"x\", \"y\": [0.3269999184538857, 0.7142449002914119, 1.134619779932739, 3.3833006158504983, 3.362428130139026, 2.8899616571284366, 3.1056784322014948, 3.288025367075314, 3.4351306542135167, 3.6504668907356286, 4.183674951698892, 5.126414525370198, 6.873376434009753, 8.097048254086953, 11.114584742876076, 14.233103159656832, 21.10875936177141, 22.7337185804942, 22.498848262050938, 24.763347216963272, 22.52595397654298, 18.54196210659574, 16.398734077561368, 15.692619639918803, 18.87980982186381, 30.011030706947036, 43.41229199732479, 43.08909242298085, 41.861019159394125, 50.748351789616734, 45.90456812486042, 49.11368685113264, 50.147794733068935, 25.396024891706663, 30.852572784023973, 28.831211286992428, 31.71962103788675, 33.23803529313627, 57.00918926764998, 55.13081709326409, 56.832843035311555, 59.01887400236508, 62.931049680036516, 72.41923730871993, 83.08001156110065, 69.97717474004565, 82.01969041231563, 88.41411492217038, 104.3789946450164, 170.5668324350892, 116.30493335881974], \"yaxis\": \"y2\"}, {\"hoverlabel\": {\"namelength\": 0}, \"hovertemplate\": \"<b>%{hovertext}</b><br><br>Country=Burundi<br>Year=%{x}<br>Value=%{y}\", \"hovertext\": [\"Burundi\", \"Burundi\", \"Burundi\", \"Burundi\", \"Burundi\", \"Burundi\", \"Burundi\", \"Burundi\", \"Burundi\", \"Burundi\", \"Burundi\", \"Burundi\", \"Burundi\", \"Burundi\", \"Burundi\", \"Burundi\", \"Burundi\", \"Burundi\", \"Burundi\", \"Burundi\", \"Burundi\", \"Burundi\", \"Burundi\", \"Burundi\", \"Burundi\", \"Burundi\", \"Burundi\", \"Burundi\", \"Burundi\", \"Burundi\", \"Burundi\", \"Burundi\", \"Burundi\", \"Burundi\", \"Burundi\", \"Burundi\", \"Burundi\", \"Burundi\", \"Burundi\", \"Burundi\", \"Burundi\", \"Burundi\", \"Burundi\", \"Burundi\", \"Burundi\", \"Burundi\", \"Burundi\", \"Burundi\", \"Burundi\", \"Burundi\", \"Burundi\", \"Burundi\", \"Burundi\", \"Burundi\", \"Burundi\"], \"legendgroup\": \"Country=Burundi\", \"line\": {\"color\": \"#FFA15A\", \"dash\": \"solid\"}, \"mode\": \"lines\", \"name\": \"Country=Burundi\", \"showlegend\": true, \"type\": \"scattergl\", \"x\": [1962, 1963, 1964, 1965, 1966, 1967, 1968, 1969, 1971, 1972, 1973, 1974, 1975, 1976, 1977, 1978, 1979, 1980, 1981, 1982, 1983, 1984, 1985, 1986, 1987, 1988, 1989, 1990, 1991, 1992, 1993, 1994, 1995, 1996, 1997, 1998, 1999, 2000, 2001, 2002, 2003, 2004, 2005, 2006, 2007, 2008, 2012, 2013, 2014, 2015, 2016, 2017, 2018, 2019, 2020], \"xaxis\": \"x\", \"y\": [8.42, 1.012, 1.162, 2.1534814814814816, 2.286857142857143, 2.376, 2.5908571428571427, 3.337142857142857, 2.6285714285714286, 3.6, 5.923067599195763, 7.682539682539683, 8.533333333333333, 9.971014492753623, 13.955555555555556, 17.03333333333333, 20.0, 27.763333333333332, 29.995555555555555, 36.66555555555555, 34.3696442000553, 29.938434035870316, 32.22029811667812, 34.60773751653222, 30.784856430675603, 34.25549342925318, 37.90328171579471, 39.60234737671893, 42.751758827191445, 38.98647643096835, 36.26740258670401, 41.90974503486872, 42.1089298798432, 50.89398078263368, 61.870123825390024, 58.736036233211095, 50.5711882632257, 42.32155221577609, 53.230373106377655, 44.910067053523555, 43.41320130793815, 44.87237714597148, 49.55712938478892, 44.717502041451176, 46.308706221634765, 43.85631994872184, 58.96666227617139, 60.8595000932422, 62.17729473908798, 66.16458443559236, 66.4628430779874, 63.908678432008834, 65.43659526279552, 84.68941391820168, 67.47409271629704], \"yaxis\": \"y2\"}, {\"hoverlabel\": {\"namelength\": 0}, \"hovertemplate\": \"<b>%{hovertext}</b><br><br>Country=Egypt<br>Year=%{x}<br>Value=%{y}\", \"hovertext\": [\"Egypt\", \"Egypt\", \"Egypt\", \"Egypt\", \"Egypt\", \"Egypt\", \"Egypt\", \"Egypt\", \"Egypt\", \"Egypt\", \"Egypt\", \"Egypt\", \"Egypt\", \"Egypt\", \"Egypt\", \"Egypt\", \"Egypt\", \"Egypt\", \"Egypt\", \"Egypt\", \"Egypt\", \"Egypt\", \"Egypt\", \"Egypt\", \"Egypt\", \"Egypt\", \"Egypt\", \"Egypt\", \"Egypt\", \"Egypt\", \"Egypt\", \"Egypt\", \"Egypt\", \"Egypt\", \"Egypt\", \"Egypt\", \"Egypt\", \"Egypt\", \"Egypt\", \"Egypt\", \"Egypt\", \"Egypt\", \"Egypt\", \"Egypt\", \"Egypt\", \"Egypt\", \"Egypt\", \"Egypt\", \"Egypt\", \"Egypt\", \"Egypt\", \"Egypt\", \"Egypt\", \"Egypt\", \"Egypt\", \"Egypt\", \"Egypt\", \"Egypt\", \"Egypt\"], \"legendgroup\": \"Country=Egypt\", \"line\": {\"color\": \"#19d3f3\", \"dash\": \"solid\"}, \"mode\": \"lines\", \"name\": \"Country=Egypt\", \"showlegend\": true, \"type\": \"scattergl\", \"x\": [1962, 1963, 1964, 1965, 1966, 1967, 1968, 1969, 1970, 1971, 1972, 1973, 1974, 1975, 1976, 1977, 1978, 1979, 1980, 1981, 1982, 1983, 1984, 1985, 1986, 1987, 1988, 1989, 1990, 1991, 1992, 1993, 1994, 1995, 1996, 1997, 1998, 1999, 2000, 2001, 2002, 2003, 2004, 2005, 2006, 2007, 2008, 2009, 2010, 2011, 2012, 2013, 2014, 2015, 2016, 2017, 2018, 2019, 2020], \"xaxis\": \"x\", \"y\": [249.69776681195285, 335.799697780272, 448.49959635036333, 515.1995363204173, 481.8495663353903, 508.29954253041177, 648.5994162605253, 888.9491999457201, 1092.499016750885, 1266.1488604660256, 1066.0490405558637, 1243.8561046949917, 1852.779424692822, 1926.890601680535, 2201.6130681005047, 2751.0580009404453, 2485.279986915544, 1152.8554959207202, 1361.4266265333908, 1817.1402612281984, 2307.1395612291985, 3004.281422455111, 3742.1375112321266, 4203.565423477967, 4727.13610409128, 4805.707420417971, 4453.56506633562, 3516.344801405846, 2260.6451612903224, 1345.7573430294995, 1415.8199744110784, 1526.165392003627, 1714.4097863302147, 1948.8769857998177, 2115.7429794661916, 2267.6503135374405, 2372.048406139315, 2447.978793903247, 2627.6983338373584, 2834.256229549459, 2902.768425240073, 2383.914898271713, 2369.743586433063, 2659.4397135752392, 2952.5201590045294, 3306.9082572226075, 3779.8803497468934, 4017.404478271456, 4407.286452719168, 4463.974191069017, 4557.748767350389, 4359.83424376995, 5085.12157627973, 5475.490833441686, 4513.022526816316, 2765.5884340120665, 3119.587363842486, 3743.6714515456547, 4505.374644325008], \"yaxis\": \"y2\"}, {\"hoverlabel\": {\"namelength\": 0}, \"hovertemplate\": \"<b>%{hovertext}</b><br><br>Country=Guinea<br>Year=%{x}<br>Value=%{y}\", \"hovertext\": [\"Guinea\", \"Guinea\", \"Guinea\", \"Guinea\", \"Guinea\", \"Guinea\", \"Guinea\", \"Guinea\", \"Guinea\", \"Guinea\", \"Guinea\", \"Guinea\", \"Guinea\", \"Guinea\", \"Guinea\", \"Guinea\", \"Guinea\", \"Guinea\", \"Guinea\", \"Guinea\", \"Guinea\", \"Guinea\", \"Guinea\", \"Guinea\", \"Guinea\", \"Guinea\", \"Guinea\", \"Guinea\", \"Guinea\", \"Guinea\", \"Guinea\", \"Guinea\", \"Guinea\", \"Guinea\"], \"legendgroup\": \"Country=Guinea\", \"line\": {\"color\": \"#FF6692\", \"dash\": \"solid\"}, \"mode\": \"lines\", \"name\": \"Country=Guinea\", \"showlegend\": true, \"type\": \"scattergl\", \"x\": [1965, 1966, 1968, 1969, 1970, 1971, 1972, 1973, 1978, 1979, 1980, 1981, 1982, 1991, 1992, 1993, 1994, 1997, 1998, 1999, 2000, 2001, 2002, 2003, 2004, 2012, 2013, 2014, 2015, 2016, 2017, 2018, 2019, 2020], \"xaxis\": \"x\", \"y\": [10.492201741948552, 13.895077982580515, 14.17865100263318, 14.70528661130241, 15.069880494227265, 26.327764415263605, 31.711404230239747, 36.058910702304004, 85.22828098461225, 71.02109174648035, 60.30924302410788, 52.510728896654115, 52.26683358669409, 71.76417839964557, 55.65404029485555, 43.956503992715774, 45.8717475087955, 44.37018980581195, 45.03448331621969, 55.21118639181202, 45.96793121411439, 87.71839881880076, 98.08486517126894, 84.13394930803605, 81.01857009799771, 168.9133574679029, 196.818705594191, 196.94558975324063, 221.4142323102065, 161.85674445321777, 181.63777587054466, 197.07952635247594, 197.75433070763407, 209.67040043205742], \"yaxis\": \"y2\"}, {\"hoverlabel\": {\"namelength\": 0}, \"hovertemplate\": \"<b>%{hovertext}</b><br><br>Country=Liberia<br>Year=%{x}<br>Value=%{y}\", \"hovertext\": [\"Liberia\", \"Liberia\", \"Liberia\", \"Liberia\", \"Liberia\", \"Liberia\", \"Liberia\", \"Liberia\", \"Liberia\", \"Liberia\", \"Liberia\", \"Liberia\", \"Liberia\", \"Liberia\", \"Liberia\", \"Liberia\", \"Liberia\", \"Liberia\", \"Liberia\", \"Liberia\", \"Liberia\", \"Liberia\", \"Liberia\", \"Liberia\", \"Liberia\", \"Liberia\", \"Liberia\", \"Liberia\", \"Liberia\", \"Liberia\", \"Liberia\", \"Liberia\", \"Liberia\", \"Liberia\", \"Liberia\", \"Liberia\", \"Liberia\", \"Liberia\", \"Liberia\", \"Liberia\", \"Liberia\", \"Liberia\", \"Liberia\", \"Liberia\", \"Liberia\"], \"legendgroup\": \"Country=Liberia\", \"line\": {\"color\": \"#B6E880\", \"dash\": \"solid\"}, \"mode\": \"lines\", \"name\": \"Country=Liberia\", \"showlegend\": true, \"type\": \"scattergl\", \"x\": [1965, 1966, 1967, 1968, 1969, 1970, 1971, 1972, 1973, 1974, 1975, 1976, 1977, 1978, 1979, 1980, 1981, 1982, 1983, 1984, 1985, 1986, 1987, 1988, 1991, 1992, 1993, 1994, 2004, 2005, 2006, 2007, 2008, 2009, 2010, 2011, 2012, 2013, 2014, 2015, 2016, 2017, 2018, 2019, 2020], \"xaxis\": \"x\", \"y\": [2.7, 2.8, 3.05, 3.05, 3.05, 3.55, 4.05, 4.05, 3.75, 4.55, 5.5, 6.4, 7.75, 8.9, 9.4, 12.75, 26.35, 43.35, 38.75, 24.95, 25.15, 24.35, 22.25, 25.0, 25.0, 22.65, 30.45, 39.3, 3.182, 8.025, 3.925, 3.486, 3.907, 7.193, 8.458, 13.271, 15.179, 15.1115, 14.531, 14.799, 14.712, 13.3355, 16.7885, 19.2285, 16.937], \"yaxis\": \"y2\"}, {\"hoverlabel\": {\"namelength\": 0}, \"hovertemplate\": \"<b>%{hovertext}</b><br><br>Country=Zimbabwe<br>Year=%{x}<br>Value=%{y}\", \"hovertext\": [\"Zimbabwe\", \"Zimbabwe\", \"Zimbabwe\", \"Zimbabwe\", \"Zimbabwe\", \"Zimbabwe\", \"Zimbabwe\", \"Zimbabwe\", \"Zimbabwe\", \"Zimbabwe\", \"Zimbabwe\", \"Zimbabwe\", \"Zimbabwe\", \"Zimbabwe\", \"Zimbabwe\", \"Zimbabwe\", \"Zimbabwe\", \"Zimbabwe\", \"Zimbabwe\", \"Zimbabwe\", \"Zimbabwe\", \"Zimbabwe\", \"Zimbabwe\", \"Zimbabwe\", \"Zimbabwe\", \"Zimbabwe\", \"Zimbabwe\", \"Zimbabwe\", \"Zimbabwe\", \"Zimbabwe\", \"Zimbabwe\", \"Zimbabwe\", \"Zimbabwe\", \"Zimbabwe\", \"Zimbabwe\", \"Zimbabwe\", \"Zimbabwe\", \"Zimbabwe\", \"Zimbabwe\", \"Zimbabwe\", \"Zimbabwe\", \"Zimbabwe\", \"Zimbabwe\", \"Zimbabwe\", \"Zimbabwe\", \"Zimbabwe\", \"Zimbabwe\", \"Zimbabwe\", \"Zimbabwe\", \"Zimbabwe\", \"Zimbabwe\", \"Zimbabwe\"], \"legendgroup\": \"Country=Zimbabwe\", \"line\": {\"color\": \"#FF97FF\", \"dash\": \"solid\"}, \"mode\": \"lines\", \"name\": \"Country=Zimbabwe\", \"showlegend\": true, \"type\": \"scattergl\", \"x\": [1965, 1966, 1967, 1968, 1969, 1970, 1971, 1972, 1973, 1974, 1975, 1976, 1977, 1978, 1979, 1980, 1981, 1982, 1983, 1984, 1985, 1986, 1987, 1988, 1989, 1990, 1991, 1992, 1993, 1994, 1995, 1996, 1997, 1998, 1999, 2000, 2001, 2002, 2003, 2004, 2005, 2006, 2010, 2011, 2012, 2013, 2014, 2015, 2016, 2017, 2018, 2019], \"xaxis\": \"x\", \"y\": [15.6, 16.95, 19.0, 30.6, 42.35, 45.95, 49.85, 58.45, 86.9, 118.55, 148.6, 199.8, 285.35, 347.75, 441.15, 442.75, 389.7, 437.45, 431.75, 360.65, 309.3, 342.2, 392.6, 407.05, 408.6, 416.3, 376.05, 296.35, 249.8, 247.9, 262.9, 291.65, 311.4, 306.0, 263.4, 346.3, 286.7, 677.0, 194.8, 256.1, 131.4, 161.7, 98.293, 198.438, 318.272, 356.7, 368.1, 376.677, 358.065, 340.522, 420.364, 546.939], \"yaxis\": \"y2\"}, {\"hoverlabel\": {\"namelength\": 0}, \"hovertemplate\": \"<b>%{hovertext}</b><br><br>Country=Afghanistan<br>Year=%{x}<br>Value=%{y}\", \"hovertext\": [\"Afghanistan\", \"Afghanistan\", \"Afghanistan\", \"Afghanistan\", \"Afghanistan\", \"Afghanistan\", \"Afghanistan\", \"Afghanistan\", \"Afghanistan\", \"Afghanistan\", \"Afghanistan\", \"Afghanistan\", \"Afghanistan\", \"Afghanistan\", \"Afghanistan\", \"Afghanistan\", \"Afghanistan\", \"Afghanistan\", \"Afghanistan\", \"Afghanistan\", \"Afghanistan\", \"Afghanistan\", \"Afghanistan\"], \"legendgroup\": \"Country=Afghanistan\", \"line\": {\"color\": \"#FECB52\", \"dash\": \"solid\"}, \"mode\": \"lines\", \"name\": \"Country=Afghanistan\", \"showlegend\": true, \"type\": \"scattergl\", \"x\": [1970, 1973, 1974, 1975, 1976, 1977, 2004, 2005, 2006, 2007, 2008, 2009, 2010, 2011, 2012, 2013, 2014, 2015, 2016, 2017, 2018, 2019, 2020], \"xaxis\": \"x\", \"y\": [2.939585501253765, 3.3412715512301565, 3.5813663514300256, 4.203664568654506, 5.3932512159455035, 6.127288063334602, 125.11155745705429, 122.72719313487397, 131.34623126951666, 219.58021429619842, 240.53259462098535, 251.8695148203345, 298.14685251959884, 325.80700365798873, 238.583385374322, 217.19410711329814, 268.2270742358079, 199.5186148318968, 185.87831006238258, 191.40711324439658, 198.07472857440797, 225.8356438693777, 279.57695492519326], \"yaxis\": \"y2\"}, {\"hoverlabel\": {\"namelength\": 0}, \"hovertemplate\": \"<b>%{hovertext}</b><br><br>Country=Rwanda<br>Year=%{x}<br>Value=%{y}\", \"hovertext\": [\"Rwanda\", \"Rwanda\", \"Rwanda\", \"Rwanda\", \"Rwanda\", \"Rwanda\", \"Rwanda\", \"Rwanda\", \"Rwanda\", \"Rwanda\", \"Rwanda\", \"Rwanda\", \"Rwanda\", \"Rwanda\", \"Rwanda\", \"Rwanda\", \"Rwanda\", \"Rwanda\", \"Rwanda\", \"Rwanda\", \"Rwanda\", \"Rwanda\", \"Rwanda\", \"Rwanda\", \"Rwanda\", \"Rwanda\", \"Rwanda\", \"Rwanda\", \"Rwanda\", \"Rwanda\", \"Rwanda\", \"Rwanda\", \"Rwanda\", \"Rwanda\", \"Rwanda\", \"Rwanda\", \"Rwanda\", \"Rwanda\", \"Rwanda\", \"Rwanda\", \"Rwanda\", \"Rwanda\", \"Rwanda\", \"Rwanda\", \"Rwanda\", \"Rwanda\", \"Rwanda\", \"Rwanda\"], \"legendgroup\": \"Country=Rwanda\", \"line\": {\"color\": \"#636efa\", \"dash\": \"solid\"}, \"mode\": \"lines\", \"name\": \"Country=Rwanda\", \"showlegend\": true, \"type\": \"scattergl\", \"x\": [1973, 1974, 1975, 1976, 1977, 1978, 1979, 1980, 1981, 1982, 1983, 1984, 1985, 1986, 1987, 1988, 1989, 1990, 1991, 1992, 1993, 1994, 1995, 1996, 1997, 1998, 1999, 2000, 2001, 2002, 2003, 2004, 2005, 2006, 2007, 2008, 2009, 2010, 2011, 2012, 2013, 2014, 2015, 2016, 2017, 2018, 2019, 2020], \"xaxis\": \"x\", \"y\": [9.365839708300564, 7.786746398360911, 9.319735189477804, 10.297663285995695, 16.062942551787614, 14.393007322777716, 19.63301715178214, 23.552267559336727, 28.68278333140202, 28.175370728562218, 28.024671701325474, 25.460676623467318, 27.25072843103363, 34.889469111517286, 36.093359476268745, 36.626347162831586, 41.62247813447454, 95.13273543350923, 105.33380205170816, 88.57017000276245, 89.4361363589093, 40.51057539231294, 56.44933672029353, 73.65882276253177, 77.27257652638212, 87.09183706141896, 80.85236358409543, 61.329857119395626, 56.88590313143352, 51.11861411757281, 45.19626898289796, 41.2157610455642, 44.99635188939861, 54.55764803973101, 55.580440804088084, 67.66035962395469, 75.27848605414107, 74.51441728645308, 75.38392855655523, 79.79391009205675, 82.4807155803265, 90.93779321668521, 103.5632147055096, 107.27861868518903, 115.71681244900425, 118.95917404681512, 124.07335262689226, 143.0218905295779], \"yaxis\": \"y2\"}, {\"hoverlabel\": {\"namelength\": 0}, \"hovertemplate\": \"<b>%{hovertext}</b><br><br>Country=Indonesia<br>Year=%{x}<br>Value=%{y}\", \"hovertext\": [\"Indonesia\", \"Indonesia\", \"Indonesia\", \"Indonesia\", \"Indonesia\", \"Indonesia\", \"Indonesia\", \"Indonesia\", \"Indonesia\", \"Indonesia\", \"Indonesia\", \"Indonesia\", \"Indonesia\", \"Indonesia\", \"Indonesia\", \"Indonesia\", \"Indonesia\", \"Indonesia\", \"Indonesia\", \"Indonesia\", \"Indonesia\", \"Indonesia\", \"Indonesia\", \"Indonesia\", \"Indonesia\", \"Indonesia\", \"Indonesia\", \"Indonesia\", \"Indonesia\", \"Indonesia\", \"Indonesia\", \"Indonesia\", \"Indonesia\", \"Indonesia\", \"Indonesia\", \"Indonesia\", \"Indonesia\", \"Indonesia\", \"Indonesia\", \"Indonesia\", \"Indonesia\", \"Indonesia\", \"Indonesia\", \"Indonesia\", \"Indonesia\", \"Indonesia\", \"Indonesia\"], \"legendgroup\": \"Country=Indonesia\", \"line\": {\"color\": \"#EF553B\", \"dash\": \"solid\"}, \"mode\": \"lines\", \"name\": \"Country=Indonesia\", \"showlegend\": true, \"type\": \"scattergl\", \"x\": [1974, 1975, 1976, 1977, 1978, 1979, 1980, 1981, 1982, 1983, 1984, 1985, 1986, 1987, 1988, 1989, 1990, 1991, 1992, 1993, 1994, 1995, 1996, 1997, 1998, 1999, 2000, 2001, 2002, 2003, 2004, 2005, 2006, 2007, 2008, 2009, 2010, 2011, 2012, 2013, 2014, 2015, 2016, 2017, 2018, 2019, 2020], \"xaxis\": \"x\", \"y\": [698.1927710843373, 1063.855421686747, 1275.301204819277, 1468.6746987951808, 1627.6623420692463, 1552.431165787932, 2114.4540458122406, 2654.1059299699095, 2741.0680942999993, 2047.2579501025552, 2002.3100766126672, 1923.3193466476978, 1734.6167040918165, 1347.5986251786965, 1356.70641276621, 1409.556738189666, 1613.9753962698271, 1697.0292054637189, 1887.635965949397, 1933.3045853097601, 2239.7315746847157, 2478.753541076487, 2874.845237586987, 3231.358571241983, 972.7021251098505, 1135.1470054677507, 1129.542839569354, 919.022697814032, 1369.8571288954472, 2134.7467043171787, 2428.947795298053, 2146.2707913864774, 2611.8751173667915, 3348.758341538125, 3232.2022154952697, 3304.459138201523, 4663.365759375519, 5838.026185717234, 6531.097955283207, 8384.028600925323, 6929.248704206713, 7595.030527643327, 7396.62607468605, 8797.528449542044, 7556.824710980182, 9003.028193204776, 9395.52953138874], \"yaxis\": \"y2\"}, {\"hoverlabel\": {\"namelength\": 0}, \"hovertemplate\": \"<b>%{hovertext}</b><br><br>Country=Angola<br>Year=%{x}<br>Value=%{y}\", \"hovertext\": [\"Angola\", \"Angola\", \"Angola\", \"Angola\", \"Angola\", \"Angola\", \"Angola\", \"Angola\", \"Angola\", \"Angola\", \"Angola\", \"Angola\", \"Angola\", \"Angola\", \"Angola\", \"Angola\", \"Angola\", \"Angola\", \"Angola\", \"Angola\", \"Angola\", \"Angola\", \"Angola\", \"Angola\", \"Angola\", \"Angola\", \"Angola\", \"Angola\", \"Angola\", \"Angola\", \"Angola\", \"Angola\", \"Angola\", \"Angola\", \"Angola\", \"Angola\", \"Angola\", \"Angola\", \"Angola\", \"Angola\", \"Angola\", \"Angola\", \"Angola\"], \"legendgroup\": \"Country=Angola\", \"line\": {\"color\": \"#00cc96\", \"dash\": \"solid\"}, \"mode\": \"lines\", \"name\": \"Country=Angola\", \"showlegend\": true, \"type\": \"scattergl\", \"x\": [1978, 1979, 1980, 1981, 1982, 1983, 1984, 1985, 1986, 1987, 1988, 1989, 1990, 1991, 1992, 1993, 1994, 1995, 1996, 1997, 1998, 1999, 2000, 2001, 2002, 2003, 2004, 2005, 2006, 2007, 2008, 2009, 2010, 2011, 2012, 2013, 2014, 2015, 2016, 2017, 2018, 2019, 2020], \"xaxis\": \"x\", \"y\": [343.27160906477707, 504.71288187713094, 497.35944916104023, 618.8916371415203, 668.493883280968, 778.6282505515074, 1066.2477438331439, 1146.4670098268602, 1156.494418076075, 1487.3988903001539, 1469.3829801457314, 1948.5593956815298, 1751.1531519486598, 1031.2477880442773, 794.1388211616558, 1774.3978768274208, 594.9911786944468, 233.84371488930014, 159.7419334681986, 456.7804750261963, 170.27829256868213, 1066.5887892328476, 583.6213335989244, 404.299139990661, 438.68624541123177, 670.0211644324943, 817.5335821520827, 1365.0553986904408, 1970.3091151837607, 2032.432883434303, 3163.5911474090203, 3311.1932452772153, 3500.7948364464883, 3639.4963735446004, 4144.634851468555, 6090.751702008843, 6846.249313340521, 3608.2991146167365, 2764.054937159764, 3062.8729139838, 1983.6137480008938, 1470.9387172875404, 993.5944046258786], \"yaxis\": \"y2\"}, {\"hoverlabel\": {\"namelength\": 0}, \"hovertemplate\": \"<b>%{hovertext}</b><br><br>Country=Haiti<br>Year=%{x}<br>Value=%{y}\", \"hovertext\": [\"Haiti\", \"Haiti\", \"Haiti\", \"Haiti\", \"Haiti\", \"Haiti\", \"Haiti\", \"Haiti\", \"Haiti\", \"Haiti\", \"Haiti\", \"Haiti\", \"Haiti\", \"Haiti\", \"Haiti\", \"Haiti\"], \"legendgroup\": \"Country=Haiti\", \"line\": {\"color\": \"#ab63fa\", \"dash\": \"solid\"}, \"mode\": \"lines\", \"name\": \"Country=Haiti\", \"showlegend\": true, \"type\": \"scattergl\", \"x\": [1988, 1989, 1990, 1991, 1992, 1993, 1994, 1995, 2013, 2014, 2015, 2016, 2017, 2018, 2019, 2020], \"xaxis\": \"x\", \"y\": [1.9724, 2.23155, 2.6704, 2.6232273866994134, 1.7436059365393857, 1.6496393059075842, 1.599966755319149, 2.478871188706593, 0.051595847483365084, 0.05351159509743409, 0.07356229689214626, 0.06451431660556704, 0.07361349246227625, 0.13968388162903356, 0.1130174894841709, 0.2638088478325353], \"yaxis\": \"y2\"}, {\"hoverlabel\": {\"namelength\": 0}, \"hovertemplate\": \"<b>%{hovertext}</b><br><br>Country=China<br>Year=%{x}<br>Value=%{y}\", \"hovertext\": [\"China\", \"China\", \"China\", \"China\", \"China\", \"China\", \"China\", \"China\", \"China\", \"China\", \"China\", \"China\", \"China\", \"China\", \"China\", \"China\", \"China\", \"China\", \"China\", \"China\", \"China\", \"China\", \"China\", \"China\", \"China\", \"China\", \"China\", \"China\", \"China\", \"China\", \"China\", \"China\"], \"legendgroup\": \"Country=China\", \"line\": {\"color\": \"#FFA15A\", \"dash\": \"solid\"}, \"mode\": \"lines\", \"name\": \"Country=China\", \"showlegend\": true, \"type\": \"scattergl\", \"x\": [1989, 1990, 1991, 1992, 1993, 1994, 1995, 1996, 1997, 1998, 1999, 2000, 2001, 2002, 2003, 2004, 2005, 2006, 2007, 2008, 2009, 2010, 2011, 2012, 2013, 2014, 2015, 2016, 2017, 2018, 2019, 2020], \"xaxis\": \"x\", \"y\": [11251.332630387957, 9926.34925081692, 9802.375366073124, 12244.267842214926, 12360.225860644641, 9867.120066274185, 12385.129474987487, 14275.400819973162, 15699.586768575462, 17031.780199691813, 20473.915094766675, 22237.140151214495, 26561.462998292423, 30284.127409997203, 33144.0004814458, 37904.57182699605, 42789.95365090244, 51453.37323384863, 62136.59075458873, 78840.80281986286, 96601.66675295417, 105522.64810183836, 125286.37316401086, 145127.60959620716, 164070.4693217442, 182109.32599168003, 196538.82723079034, 198538.36142755367, 210443.03474096782, 232530.59598526615, 240332.55545815144, 252304.2237413091], \"yaxis\": \"y2\"}, {\"hoverlabel\": {\"namelength\": 0}, \"hovertemplate\": \"<b>%{hovertext}</b><br><br>Country=Yemen<br>Year=%{x}<br>Value=%{y}\", \"hovertext\": [\"Yemen\", \"Yemen\", \"Yemen\", \"Yemen\", \"Yemen\", \"Yemen\", \"Yemen\", \"Yemen\", \"Yemen\", \"Yemen\", \"Yemen\", \"Yemen\", \"Yemen\", \"Yemen\", \"Yemen\", \"Yemen\", \"Yemen\", \"Yemen\", \"Yemen\", \"Yemen\", \"Yemen\", \"Yemen\", \"Yemen\", \"Yemen\", \"Yemen\"], \"legendgroup\": \"Country=Yemen\", \"line\": {\"color\": \"#19d3f3\", \"dash\": \"solid\"}, \"mode\": \"lines\", \"name\": \"Country=Yemen\", \"showlegend\": true, \"type\": \"scattergl\", \"x\": [1990, 1991, 1992, 1993, 1994, 1995, 1996, 1997, 1998, 1999, 2000, 2001, 2002, 2003, 2004, 2005, 2006, 2007, 2008, 2009, 2010, 2011, 2012, 2013, 2014], \"xaxis\": \"x\", \"y\": [807.0707154811367, 1028.2179165868727, 1306.9000258116087, 1535.4576564724691, 2353.269331645865, 805.8923779114184, 416.008632418086, 397.0730424424316, 384.502730310122, 395.2529572689092, 473.6640324515515, 540.1014987668375, 737.3665480427046, 807.3132440800662, 735.4851279386933, 815.627463983416, 822.1305360595587, 1050.4993641714375, 1196.4117658837429, 1420.7752641153184, 1448.153376747575, 1612.2544434050515, 1618.8401267080628, 1648.7505235236633, 1714.8308436874681], \"yaxis\": \"y2\"}, {\"hoverlabel\": {\"namelength\": 0}, \"hovertemplate\": \"<b>%{hovertext}</b><br><br>Country=Central African Rep.<br>Year=%{x}<br>Value=%{y}\", \"hovertext\": [\"Central African Rep.\", \"Central African Rep.\", \"Central African Rep.\", \"Central African Rep.\", \"Central African Rep.\", \"Central African Rep.\", \"Central African Rep.\", \"Central African Rep.\", \"Central African Rep.\", \"Central African Rep.\", \"Central African Rep.\", \"Central African Rep.\", \"Central African Rep.\", \"Central African Rep.\", \"Central African Rep.\", \"Central African Rep.\", \"Central African Rep.\", \"Central African Rep.\", \"Central African Rep.\", \"Central African Rep.\", \"Central African Rep.\", \"Central African Rep.\", \"Central African Rep.\", \"Central African Rep.\"], \"legendgroup\": \"Country=Central African Rep.\", \"line\": {\"color\": \"#FF6692\", \"dash\": \"solid\"}, \"mode\": \"lines\", \"name\": \"Country=Central African Rep.\", \"showlegend\": true, \"type\": \"scattergl\", \"x\": [1991, 1992, 1993, 1994, 1995, 1996, 2002, 2003, 2004, 2005, 2007, 2008, 2009, 2010, 2011, 2012, 2013, 2014, 2015, 2016, 2017, 2018, 2019, 2020], \"xaxis\": \"x\", \"y\": [21.59818792160421, 23.18543816964623, 19.14445036957512, 10.68974522923965, 13.014176156170112, 12.196218566245465, 10.681962960624858, 15.018926359256708, 15.103589918320603, 15.396194650670752, 19.11251974369193, 31.511483793168903, 35.99238435701186, 51.58527450295492, 49.874328728918805, 42.74602518573944, 47.923241448908705, 38.40700992145633, 26.703885622839138, 26.832998820193534, 27.516264177935216, 30.517648413658087, 40.7776666587025, 41.303630076285465], \"yaxis\": \"y2\"}, {\"hoverlabel\": {\"namelength\": 0}, \"hovertemplate\": \"<b>%{hovertext}</b><br><br>Country=Azerbaijan<br>Year=%{x}<br>Value=%{y}\", \"hovertext\": [\"Azerbaijan\", \"Azerbaijan\", \"Azerbaijan\", \"Azerbaijan\", \"Azerbaijan\", \"Azerbaijan\", \"Azerbaijan\", \"Azerbaijan\", \"Azerbaijan\", \"Azerbaijan\", \"Azerbaijan\", \"Azerbaijan\", \"Azerbaijan\", \"Azerbaijan\", \"Azerbaijan\", \"Azerbaijan\", \"Azerbaijan\", \"Azerbaijan\", \"Azerbaijan\", \"Azerbaijan\", \"Azerbaijan\", \"Azerbaijan\", \"Azerbaijan\", \"Azerbaijan\", \"Azerbaijan\", \"Azerbaijan\", \"Azerbaijan\", \"Azerbaijan\", \"Azerbaijan\"], \"legendgroup\": \"Country=Azerbaijan\", \"line\": {\"color\": \"#B6E880\", \"dash\": \"solid\"}, \"mode\": \"lines\", \"name\": \"Country=Azerbaijan\", \"showlegend\": true, \"type\": \"scattergl\", \"x\": [1992, 1993, 1994, 1995, 1996, 1997, 1998, 1999, 2000, 2001, 2002, 2003, 2004, 2005, 2006, 2007, 2008, 2009, 2010, 2011, 2012, 2013, 2014, 2015, 2016, 2017, 2018, 2019, 2020], \"xaxis\": \"x\", \"y\": [11.07011070110701, 77.51937984496124, 43.942747058542565, 66.15996891387762, 71.60684124321565, 92.0866919675062, 107.2628586197984, 120.26217396633386, 119.57565171524007, 131.96366006418867, 139.89409194333467, 176.55216230580788, 228.24963162565027, 304.52147773320036, 717.111853555619, 946.5997921046375, 1607.7992259195248, 1472.9099769465142, 1476.6087335700493, 3080.084995808461, 3246.1226126303864, 3367.5741611974386, 3427.179917064822, 2900.5513821521513, 1396.9691076583222, 1528.8595922938523, 1672.1764705882354, 1854.235294117647, 2237.7647058823527], \"yaxis\": \"y2\"}, {\"hoverlabel\": {\"namelength\": 0}, \"hovertemplate\": \"<b>%{hovertext}</b><br><br>Country=Croatia<br>Year=%{x}<br>Value=%{y}\", \"hovertext\": [\"Croatia\", \"Croatia\", \"Croatia\", \"Croatia\", \"Croatia\", \"Croatia\", \"Croatia\", \"Croatia\", \"Croatia\", \"Croatia\", \"Croatia\", \"Croatia\", \"Croatia\", \"Croatia\", \"Croatia\", \"Croatia\", \"Croatia\", \"Croatia\", \"Croatia\", \"Croatia\", \"Croatia\", \"Croatia\", \"Croatia\", \"Croatia\", \"Croatia\", \"Croatia\", \"Croatia\", \"Croatia\", \"Croatia\"], \"legendgroup\": \"Country=Croatia\", \"line\": {\"color\": \"#FF97FF\", \"dash\": \"solid\"}, \"mode\": \"lines\", \"name\": \"Country=Croatia\", \"showlegend\": true, \"type\": \"scattergl\", \"x\": [1992, 1993, 1994, 1995, 1996, 1997, 1998, 1999, 2000, 2001, 2002, 2003, 2004, 2005, 2006, 2007, 2008, 2009, 2010, 2011, 2012, 2013, 2014, 2015, 2016, 2017, 2018, 2019, 2020], \"xaxis\": \"x\", \"y\": [782.0036612507502, 1168.9367587276308, 1625.2223654178636, 2060.388930098112, 1938.6988973456798, 1797.184680663184, 1427.264826842718, 1035.9490082595821, 659.7750333125142, 629.4641037506264, 733.6807390544332, 709.3991471997638, 730.8670045108496, 799.1609012243581, 849.4310346894972, 978.8537321000496, 1295.9570743094282, 1129.0984963900114, 1015.8766535528309, 1106.4640419770692, 955.3201636158208, 956.9526440521097, 1063.4697432811347, 883.1629832668173, 836.68504208224, 920.8370529181882, 966.3587167988873, 1001.8121413470251, 1034.925914726338], \"yaxis\": \"y2\"}, {\"hoverlabel\": {\"namelength\": 0}, \"hovertemplate\": \"<b>%{hovertext}</b><br><br>Country=Slovenia<br>Year=%{x}<br>Value=%{y}\", \"hovertext\": [\"Slovenia\", \"Slovenia\", \"Slovenia\", \"Slovenia\", \"Slovenia\", \"Slovenia\", \"Slovenia\", \"Slovenia\", \"Slovenia\", \"Slovenia\", \"Slovenia\", \"Slovenia\", \"Slovenia\", \"Slovenia\", \"Slovenia\", \"Slovenia\", \"Slovenia\", \"Slovenia\", \"Slovenia\", \"Slovenia\", \"Slovenia\", \"Slovenia\", \"Slovenia\", \"Slovenia\", \"Slovenia\", \"Slovenia\", \"Slovenia\", \"Slovenia\", \"Slovenia\"], \"legendgroup\": \"Country=Slovenia\", \"line\": {\"color\": \"#FECB52\", \"dash\": \"solid\"}, \"mode\": \"lines\", \"name\": \"Country=Slovenia\", \"showlegend\": true, \"type\": \"scattergl\", \"x\": [1992, 1993, 1994, 1995, 1996, 1997, 1998, 1999, 2000, 2001, 2002, 2003, 2004, 2005, 2006, 2007, 2008, 2009, 2010, 2011, 2012, 2013, 2014, 2015, 2016, 2017, 2018, 2019, 2020], \"xaxis\": \"x\", \"y\": [281.422738461992, 230.3036715691461, 237.94950410132668, 334.6550228582867, 329.97264833190235, 290.78527180176724, 301.13982223273604, 274.8418278491092, 222.39155680547438, 271.48879038865914, 326.9595228120574, 416.9067536765131, 493.1538929137311, 514.1727994667635, 608.8337533729663, 692.6549125558757, 829.3844069286263, 798.868642190033, 772.0851075101484, 665.6796713722711, 543.4964165212631, 506.74293210331416, 486.1948703960181, 400.77187534656764, 449.17753909570104, 473.79675720880743, 529.4961226585461, 572.8840125391849, 574.8318705117975], \"yaxis\": \"y2\"}, {\"hoverlabel\": {\"namelength\": 0}, \"hovertemplate\": \"<b>%{hovertext}</b><br><br>Country=Eritrea<br>Year=%{x}<br>Value=%{y}\", \"hovertext\": [\"Eritrea\", \"Eritrea\", \"Eritrea\", \"Eritrea\", \"Eritrea\", \"Eritrea\", \"Eritrea\", \"Eritrea\", \"Eritrea\", \"Eritrea\", \"Eritrea\"], \"legendgroup\": \"Country=Eritrea\", \"line\": {\"color\": \"#636efa\", \"dash\": \"solid\"}, \"mode\": \"lines\", \"name\": \"Country=Eritrea\", \"showlegend\": true, \"type\": \"scattergl\", \"x\": [1993, 1994, 1995, 1996, 1997, 1998, 1999, 2000, 2001, 2002, 2003], \"xaxis\": \"x\", \"y\": [107.73764923322844, 80.19831121039672, 124.99634987946492, 152.27180856000038, 92.75631940818484, 263.0016856992663, 272.85673457522296, 230.67012987012987, 166.55024536893762, 150.76442521241995, 181.58366899891195], \"yaxis\": \"y2\"}, {\"hoverlabel\": {\"namelength\": 0}, \"hovertemplate\": \"<b>%{hovertext}</b><br><br>Country=Russia<br>Year=%{x}<br>Value=%{y}\", \"hovertext\": [\"Russia\", \"Russia\", \"Russia\", \"Russia\", \"Russia\", \"Russia\", \"Russia\", \"Russia\", \"Russia\", \"Russia\", \"Russia\", \"Russia\", \"Russia\", \"Russia\", \"Russia\", \"Russia\", \"Russia\", \"Russia\", \"Russia\", \"Russia\", \"Russia\", \"Russia\", \"Russia\", \"Russia\", \"Russia\", \"Russia\", \"Russia\", \"Russia\"], \"legendgroup\": \"Country=Russia\", \"line\": {\"color\": \"#EF553B\", \"dash\": \"solid\"}, \"mode\": \"lines\", \"name\": \"Country=Russia\", \"showlegend\": true, \"type\": \"scattergl\", \"x\": [1993, 1994, 1995, 1996, 1997, 1998, 1999, 2000, 2001, 2002, 2003, 2004, 2005, 2006, 2007, 2008, 2009, 2010, 2011, 2012, 2013, 2014, 2015, 2016, 2017, 2018, 2019, 2020], \"xaxis\": \"x\", \"y\": [7766.720078413419, 13547.871733424627, 12741.629470405669, 15826.3406518084, 17577.353180646624, 7955.730400985875, 6469.035211353417, 9228.204143736757, 11683.151344772614, 13943.825063400162, 16973.73908510361, 20955.41357062786, 27336.9772736915, 34517.78161891802, 43534.99499624719, 56183.7853932539, 51532.11679751988, 58720.22760875794, 70237.5239514946, 81469.39993125766, 88352.89646355981, 84696.5046534978, 66421.82217992056, 69245.2945528466, 66913.03353678314, 61609.20475641708, 65201.335848356466, 61712.53716893713], \"yaxis\": \"y2\"}, {\"hoverlabel\": {\"namelength\": 0}, \"hovertemplate\": \"<b>%{hovertext}</b><br><br>Country=Ukraine<br>Year=%{x}<br>Value=%{y}\", \"hovertext\": [\"Ukraine\", \"Ukraine\", \"Ukraine\", \"Ukraine\", \"Ukraine\", \"Ukraine\", \"Ukraine\", \"Ukraine\", \"Ukraine\", \"Ukraine\", \"Ukraine\", \"Ukraine\", \"Ukraine\", \"Ukraine\", \"Ukraine\", \"Ukraine\", \"Ukraine\", \"Ukraine\", \"Ukraine\", \"Ukraine\", \"Ukraine\", \"Ukraine\", \"Ukraine\", \"Ukraine\", \"Ukraine\", \"Ukraine\", \"Ukraine\", \"Ukraine\"], \"legendgroup\": \"Country=Ukraine\", \"line\": {\"color\": \"#00cc96\", \"dash\": \"solid\"}, \"mode\": \"lines\", \"name\": \"Country=Ukraine\", \"showlegend\": true, \"type\": \"scattergl\", \"x\": [1993, 1994, 1995, 1996, 1997, 1998, 1999, 2000, 2001, 2002, 2003, 2004, 2005, 2006, 2007, 2008, 2009, 2010, 2011, 2012, 2013, 2014, 2015, 2016, 2017, 2018, 2019, 2020], \"xaxis\": \"x\", \"y\": [123.41092112520684, 683.5860451766946, 779.2569260116627, 1009.5820100903541, 1449.6739469075985, 912.2120888003462, 620.8055316140653, 696.4043799618767, 741.712830593281, 872.3918732704792, 1104.8082674972668, 1322.215078263943, 1692.6845064274214, 2101.5073661169995, 2882.2798403449306, 3385.406783392424, 2320.408612749703, 2587.448220937442, 2502.2965751120796, 2835.905352501492, 2895.0018891530085, 2997.1892144942544, 2959.581345119483, 2943.807591718629, 3246.78656733091, 4169.707536409091, 5419.138048445906, 5924.200880305501], \"yaxis\": \"y2\"}, {\"hoverlabel\": {\"namelength\": 0}, \"hovertemplate\": \"<b>%{hovertext}</b><br><br>Country=Uzbekistan<br>Year=%{x}<br>Value=%{y}\", \"hovertext\": [\"Uzbekistan\", \"Uzbekistan\", \"Uzbekistan\", \"Uzbekistan\", \"Uzbekistan\", \"Uzbekistan\", \"Uzbekistan\", \"Uzbekistan\", \"Uzbekistan\", \"Uzbekistan\"], \"legendgroup\": \"Country=Uzbekistan\", \"line\": {\"color\": \"#ab63fa\", \"dash\": \"solid\"}, \"mode\": \"lines\", \"name\": \"Country=Uzbekistan\", \"showlegend\": true, \"type\": \"scattergl\", \"x\": [1994, 1995, 1996, 1997, 1999, 2000, 2001, 2002, 2003, 2018], \"xaxis\": \"x\", \"y\": [86.9298245614035, 112.6784214945424, 172.2115456610178, 217.74719074336028, 250.07173601147773, 115.3753846153846, 59.76061046511628, 45.914432989690724, 54.1336954635028, 1440.3850722075165], \"yaxis\": \"y2\"}, {\"hoverlabel\": {\"namelength\": 0}, \"hovertemplate\": \"<b>%{hovertext}</b><br><br>Country=Belarus<br>Year=%{x}<br>Value=%{y}\", \"hovertext\": [\"Belarus\", \"Belarus\", \"Belarus\", \"Belarus\", \"Belarus\", \"Belarus\", \"Belarus\", \"Belarus\", \"Belarus\", \"Belarus\", \"Belarus\", \"Belarus\", \"Belarus\", \"Belarus\", \"Belarus\", \"Belarus\", \"Belarus\", \"Belarus\", \"Belarus\", \"Belarus\", \"Belarus\", \"Belarus\", \"Belarus\", \"Belarus\", \"Belarus\", \"Belarus\"], \"legendgroup\": \"Country=Belarus\", \"line\": {\"color\": \"#FFA15A\", \"dash\": \"solid\"}, \"mode\": \"lines\", \"name\": \"Country=Belarus\", \"showlegend\": true, \"type\": \"scattergl\", \"x\": [1995, 1996, 1997, 1998, 1999, 2000, 2001, 2002, 2003, 2004, 2005, 2006, 2007, 2008, 2009, 2010, 2011, 2012, 2013, 2014, 2015, 2016, 2017, 2018, 2019, 2020], \"xaxis\": \"x\", \"y\": [179.08167693776585, 182.8056145549097, 249.38413942852753, 227.58608728830464, 165.90384885376764, 140.32620473339037, 177.69784172661872, 204.3642373752038, 231.56386043768006, 314.3140177571218, 452.68406830654374, 631.831238109449, 746.9432639976143, 883.0275229357798, 675.4265050750971, 767.699285884553, 756.2773512803967, 807.4232628435032, 959.8016903057979, 1000.0134486132156, 709.9088460548721, 592.1823313668201, 625.6378169178508, 709.7133163847901, 773.7130287162566, 844.5129409462303], \"yaxis\": \"y2\"}, {\"hoverlabel\": {\"namelength\": 0}, \"hovertemplate\": \"<b>%{hovertext}</b><br><br>Country=South Sudan<br>Year=%{x}<br>Value=%{y}\", \"hovertext\": [\"South Sudan\", \"South Sudan\", \"South Sudan\", \"South Sudan\", \"South Sudan\", \"South Sudan\", \"South Sudan\", \"South Sudan\", \"South Sudan\", \"South Sudan\", \"South Sudan\", \"South Sudan\", \"South Sudan\", \"South Sudan\"], \"legendgroup\": \"Country=South Sudan\", \"line\": {\"color\": \"#19d3f3\", \"dash\": \"solid\"}, \"mode\": \"lines\", \"name\": \"Country=South Sudan\", \"showlegend\": true, \"type\": \"scattergl\", \"x\": [2006, 2007, 2008, 2009, 2010, 2011, 2012, 2013, 2014, 2015, 2016, 2017, 2018, 2019], \"xaxis\": \"x\", \"y\": [551.4545044277537, 587.9668667228808, 896.3907069315268, 609.8986326487162, 650.9106678230703, 1052.7219703686358, 988.2259887005649, 981.9830508474575, 1301.5254237288134, 1151.9203767594379, 135.3381435897436, 72.38810457388036, 149.0924246995465, 186.49892522647013], \"yaxis\": \"y2\"}],\n",
              "                        {\"template\": {\"data\": {\"bar\": [{\"error_x\": {\"color\": \"#2a3f5f\"}, \"error_y\": {\"color\": \"#2a3f5f\"}, \"marker\": {\"line\": {\"color\": \"#E5ECF6\", \"width\": 0.5}}, \"type\": \"bar\"}], \"barpolar\": [{\"marker\": {\"line\": {\"color\": \"#E5ECF6\", \"width\": 0.5}}, \"type\": \"barpolar\"}], \"carpet\": [{\"aaxis\": {\"endlinecolor\": \"#2a3f5f\", \"gridcolor\": \"white\", \"linecolor\": \"white\", \"minorgridcolor\": \"white\", \"startlinecolor\": \"#2a3f5f\"}, \"baxis\": {\"endlinecolor\": \"#2a3f5f\", \"gridcolor\": \"white\", \"linecolor\": \"white\", \"minorgridcolor\": \"white\", \"startlinecolor\": \"#2a3f5f\"}, \"type\": \"carpet\"}], \"choropleth\": [{\"colorbar\": {\"outlinewidth\": 0, \"ticks\": \"\"}, \"type\": \"choropleth\"}], \"contour\": [{\"colorbar\": {\"outlinewidth\": 0, \"ticks\": \"\"}, \"colorscale\": [[0.0, \"#0d0887\"], [0.1111111111111111, \"#46039f\"], [0.2222222222222222, \"#7201a8\"], [0.3333333333333333, \"#9c179e\"], [0.4444444444444444, \"#bd3786\"], [0.5555555555555556, \"#d8576b\"], [0.6666666666666666, \"#ed7953\"], [0.7777777777777778, \"#fb9f3a\"], [0.8888888888888888, \"#fdca26\"], [1.0, \"#f0f921\"]], \"type\": \"contour\"}], \"contourcarpet\": [{\"colorbar\": {\"outlinewidth\": 0, \"ticks\": \"\"}, \"type\": \"contourcarpet\"}], \"heatmap\": [{\"colorbar\": {\"outlinewidth\": 0, \"ticks\": \"\"}, \"colorscale\": [[0.0, \"#0d0887\"], [0.1111111111111111, \"#46039f\"], [0.2222222222222222, \"#7201a8\"], [0.3333333333333333, \"#9c179e\"], [0.4444444444444444, \"#bd3786\"], [0.5555555555555556, \"#d8576b\"], [0.6666666666666666, \"#ed7953\"], [0.7777777777777778, \"#fb9f3a\"], [0.8888888888888888, \"#fdca26\"], [1.0, \"#f0f921\"]], \"type\": \"heatmap\"}], \"heatmapgl\": [{\"colorbar\": {\"outlinewidth\": 0, \"ticks\": \"\"}, \"colorscale\": [[0.0, \"#0d0887\"], [0.1111111111111111, \"#46039f\"], [0.2222222222222222, \"#7201a8\"], [0.3333333333333333, \"#9c179e\"], [0.4444444444444444, \"#bd3786\"], [0.5555555555555556, \"#d8576b\"], [0.6666666666666666, \"#ed7953\"], [0.7777777777777778, \"#fb9f3a\"], [0.8888888888888888, \"#fdca26\"], [1.0, \"#f0f921\"]], \"type\": \"heatmapgl\"}], \"histogram\": [{\"marker\": {\"colorbar\": {\"outlinewidth\": 0, \"ticks\": \"\"}}, \"type\": \"histogram\"}], \"histogram2d\": [{\"colorbar\": {\"outlinewidth\": 0, \"ticks\": \"\"}, \"colorscale\": [[0.0, \"#0d0887\"], [0.1111111111111111, \"#46039f\"], [0.2222222222222222, \"#7201a8\"], [0.3333333333333333, \"#9c179e\"], [0.4444444444444444, \"#bd3786\"], [0.5555555555555556, \"#d8576b\"], [0.6666666666666666, \"#ed7953\"], [0.7777777777777778, \"#fb9f3a\"], [0.8888888888888888, \"#fdca26\"], [1.0, \"#f0f921\"]], \"type\": \"histogram2d\"}], \"histogram2dcontour\": [{\"colorbar\": {\"outlinewidth\": 0, \"ticks\": \"\"}, \"colorscale\": [[0.0, \"#0d0887\"], [0.1111111111111111, \"#46039f\"], [0.2222222222222222, \"#7201a8\"], [0.3333333333333333, \"#9c179e\"], [0.4444444444444444, \"#bd3786\"], [0.5555555555555556, \"#d8576b\"], [0.6666666666666666, \"#ed7953\"], [0.7777777777777778, \"#fb9f3a\"], [0.8888888888888888, \"#fdca26\"], [1.0, \"#f0f921\"]], \"type\": \"histogram2dcontour\"}], \"mesh3d\": [{\"colorbar\": {\"outlinewidth\": 0, \"ticks\": \"\"}, \"type\": \"mesh3d\"}], \"parcoords\": [{\"line\": {\"colorbar\": {\"outlinewidth\": 0, \"ticks\": \"\"}}, \"type\": \"parcoords\"}], \"pie\": [{\"automargin\": true, \"type\": \"pie\"}], \"scatter\": [{\"marker\": {\"colorbar\": {\"outlinewidth\": 0, \"ticks\": \"\"}}, \"type\": \"scatter\"}], \"scatter3d\": [{\"line\": {\"colorbar\": {\"outlinewidth\": 0, \"ticks\": \"\"}}, \"marker\": {\"colorbar\": {\"outlinewidth\": 0, \"ticks\": \"\"}}, \"type\": \"scatter3d\"}], \"scattercarpet\": [{\"marker\": {\"colorbar\": {\"outlinewidth\": 0, \"ticks\": \"\"}}, \"type\": \"scattercarpet\"}], \"scattergeo\": [{\"marker\": {\"colorbar\": {\"outlinewidth\": 0, \"ticks\": \"\"}}, \"type\": \"scattergeo\"}], \"scattergl\": [{\"marker\": {\"colorbar\": {\"outlinewidth\": 0, \"ticks\": \"\"}}, \"type\": \"scattergl\"}], \"scattermapbox\": [{\"marker\": {\"colorbar\": {\"outlinewidth\": 0, \"ticks\": \"\"}}, \"type\": \"scattermapbox\"}], \"scatterpolar\": [{\"marker\": {\"colorbar\": {\"outlinewidth\": 0, \"ticks\": \"\"}}, \"type\": \"scatterpolar\"}], \"scatterpolargl\": [{\"marker\": {\"colorbar\": {\"outlinewidth\": 0, \"ticks\": \"\"}}, \"type\": \"scatterpolargl\"}], \"scatterternary\": [{\"marker\": {\"colorbar\": {\"outlinewidth\": 0, \"ticks\": \"\"}}, \"type\": \"scatterternary\"}], \"surface\": [{\"colorbar\": {\"outlinewidth\": 0, \"ticks\": \"\"}, \"colorscale\": [[0.0, \"#0d0887\"], [0.1111111111111111, \"#46039f\"], [0.2222222222222222, \"#7201a8\"], [0.3333333333333333, \"#9c179e\"], [0.4444444444444444, \"#bd3786\"], [0.5555555555555556, \"#d8576b\"], [0.6666666666666666, \"#ed7953\"], [0.7777777777777778, \"#fb9f3a\"], [0.8888888888888888, \"#fdca26\"], [1.0, \"#f0f921\"]], \"type\": \"surface\"}], \"table\": [{\"cells\": {\"fill\": {\"color\": \"#EBF0F8\"}, \"line\": {\"color\": \"white\"}}, \"header\": {\"fill\": {\"color\": \"#C8D4E3\"}, \"line\": {\"color\": \"white\"}}, \"type\": \"table\"}]}, \"layout\": {\"annotationdefaults\": {\"arrowcolor\": \"#2a3f5f\", \"arrowhead\": 0, \"arrowwidth\": 1}, \"coloraxis\": {\"colorbar\": {\"outlinewidth\": 0, \"ticks\": \"\"}}, \"colorscale\": {\"diverging\": [[0, \"#8e0152\"], [0.1, \"#c51b7d\"], [0.2, \"#de77ae\"], [0.3, \"#f1b6da\"], [0.4, \"#fde0ef\"], [0.5, \"#f7f7f7\"], [0.6, \"#e6f5d0\"], [0.7, \"#b8e186\"], [0.8, \"#7fbc41\"], [0.9, \"#4d9221\"], [1, \"#276419\"]], \"sequential\": [[0.0, \"#0d0887\"], [0.1111111111111111, \"#46039f\"], [0.2222222222222222, \"#7201a8\"], [0.3333333333333333, \"#9c179e\"], [0.4444444444444444, \"#bd3786\"], [0.5555555555555556, \"#d8576b\"], [0.6666666666666666, \"#ed7953\"], [0.7777777777777778, \"#fb9f3a\"], [0.8888888888888888, \"#fdca26\"], [1.0, \"#f0f921\"]], \"sequentialminus\": [[0.0, \"#0d0887\"], [0.1111111111111111, \"#46039f\"], [0.2222222222222222, \"#7201a8\"], [0.3333333333333333, \"#9c179e\"], [0.4444444444444444, \"#bd3786\"], [0.5555555555555556, \"#d8576b\"], [0.6666666666666666, \"#ed7953\"], [0.7777777777777778, \"#fb9f3a\"], [0.8888888888888888, \"#fdca26\"], [1.0, \"#f0f921\"]]}, \"colorway\": [\"#636efa\", \"#EF553B\", \"#00cc96\", \"#ab63fa\", \"#FFA15A\", \"#19d3f3\", \"#FF6692\", \"#B6E880\", \"#FF97FF\", \"#FECB52\"], \"font\": {\"color\": \"#2a3f5f\"}, \"geo\": {\"bgcolor\": \"white\", \"lakecolor\": \"white\", \"landcolor\": \"#E5ECF6\", \"showlakes\": true, \"showland\": true, \"subunitcolor\": \"white\"}, \"hoverlabel\": {\"align\": \"left\"}, \"hovermode\": \"closest\", \"mapbox\": {\"style\": \"light\"}, \"paper_bgcolor\": \"white\", \"plot_bgcolor\": \"#E5ECF6\", \"polar\": {\"angularaxis\": {\"gridcolor\": \"white\", \"linecolor\": \"white\", \"ticks\": \"\"}, \"bgcolor\": \"#E5ECF6\", \"radialaxis\": {\"gridcolor\": \"white\", \"linecolor\": \"white\", \"ticks\": \"\"}}, \"scene\": {\"xaxis\": {\"backgroundcolor\": \"#E5ECF6\", \"gridcolor\": \"white\", \"gridwidth\": 2, \"linecolor\": \"white\", \"showbackground\": true, \"ticks\": \"\", \"zerolinecolor\": \"white\"}, \"yaxis\": {\"backgroundcolor\": \"#E5ECF6\", \"gridcolor\": \"white\", \"gridwidth\": 2, \"linecolor\": \"white\", \"showbackground\": true, \"ticks\": \"\", \"zerolinecolor\": \"white\"}, \"zaxis\": {\"backgroundcolor\": \"#E5ECF6\", \"gridcolor\": \"white\", \"gridwidth\": 2, \"linecolor\": \"white\", \"showbackground\": true, \"ticks\": \"\", \"zerolinecolor\": \"white\"}}, \"shapedefaults\": {\"line\": {\"color\": \"#2a3f5f\"}}, \"ternary\": {\"aaxis\": {\"gridcolor\": \"white\", \"linecolor\": \"white\", \"ticks\": \"\"}, \"baxis\": {\"gridcolor\": \"white\", \"linecolor\": \"white\", \"ticks\": \"\"}, \"bgcolor\": \"#E5ECF6\", \"caxis\": {\"gridcolor\": \"white\", \"linecolor\": \"white\", \"ticks\": \"\"}}, \"title\": {\"x\": 0.05}, \"xaxis\": {\"automargin\": true, \"gridcolor\": \"white\", \"linecolor\": \"white\", \"ticks\": \"\", \"title\": {\"standoff\": 15}, \"zerolinecolor\": \"white\", \"zerolinewidth\": 2}, \"yaxis\": {\"automargin\": true, \"gridcolor\": \"white\", \"linecolor\": \"white\", \"ticks\": \"\", \"title\": {\"standoff\": 15}, \"zerolinecolor\": \"white\", \"zerolinewidth\": 2}}}, \"xaxis\": {\"anchor\": \"y\", \"domain\": [0.0, 0.94]}, \"yaxis\": {\"anchor\": \"x\", \"domain\": [0.0, 1.0]}, \"yaxis2\": {\"anchor\": \"x\", \"overlaying\": \"y\", \"side\": \"right\"}},\n",
              "                        {\"responsive\": true}\n",
              "                    ).then(function(){\n",
              "                            \n",
              "var gd = document.getElementById('1e5e7a31-1d28-4dfd-b843-abd6335ba0b2');\n",
              "var x = new MutationObserver(function (mutations, observer) {{\n",
              "        var display = window.getComputedStyle(gd).display;\n",
              "        if (!display || display === 'none') {{\n",
              "            console.log([gd, 'removed!']);\n",
              "            Plotly.purge(gd);\n",
              "            observer.disconnect();\n",
              "        }}\n",
              "}});\n",
              "\n",
              "// Listen for the removal of the full notebook cells\n",
              "var notebookContainer = gd.closest('#notebook-container');\n",
              "if (notebookContainer) {{\n",
              "    x.observe(notebookContainer, {childList: true});\n",
              "}}\n",
              "\n",
              "// Listen for the clearing of the current output cell\n",
              "var outputEl = gd.closest('.output');\n",
              "if (outputEl) {{\n",
              "    x.observe(outputEl, {childList: true});\n",
              "}}\n",
              "\n",
              "                        })\n",
              "                };\n",
              "                \n",
              "            </script>\n",
              "        </div>\n",
              "</body>\n",
              "</html>"
            ]
          },
          "metadata": {
            "tags": []
          }
        }
      ]
    },
    {
      "cell_type": "code",
      "metadata": {
        "id": "Q-zqug7cTBZx"
      },
      "source": [
        "# add title\n",
        "combo_fig.layout.title=\"Number of arms embargo and military expenditure trend 1960-2020\"\n",
        "\n",
        "# add x-axis title\n",
        "combo_fig.layout.xaxis.title = \"Fiscal Year\"\n",
        "\n",
        "# add right y-axis title\n",
        "combo_fig.layout.yaxis.title = \"Count of arms embargoes\"\n",
        "\n",
        "# add left y-axis title\n",
        "combo_fig.layout.yaxis2.title = \"Military Expenditure in Million USD\""
      ],
      "execution_count": 341,
      "outputs": []
    },
    {
      "cell_type": "code",
      "metadata": {
        "colab": {
          "base_uri": "https://localhost:8080/",
          "height": 542
        },
        "id": "k8K2oES-TTSo",
        "outputId": "469b0360-db54-42e1-b73e-8b9b8826f8ca"
      },
      "source": [
        "combo_fig"
      ],
      "execution_count": 342,
      "outputs": [
        {
          "output_type": "display_data",
          "data": {
            "text/html": [
              "<html>\n",
              "<head><meta charset=\"utf-8\" /></head>\n",
              "<body>\n",
              "    <div>\n",
              "            <script src=\"https://cdnjs.cloudflare.com/ajax/libs/mathjax/2.7.5/MathJax.js?config=TeX-AMS-MML_SVG\"></script><script type=\"text/javascript\">if (window.MathJax) {MathJax.Hub.Config({SVG: {font: \"STIX-Web\"}});}</script>\n",
              "                <script type=\"text/javascript\">window.PlotlyConfig = {MathJaxConfig: 'local'};</script>\n",
              "        <script src=\"https://cdn.plot.ly/plotly-latest.min.js\"></script>    \n",
              "            <div id=\"087d0c1e-1277-4add-8739-b01f9cbe83dc\" class=\"plotly-graph-div\" style=\"height:525px; width:100%;\"></div>\n",
              "            <script type=\"text/javascript\">\n",
              "                \n",
              "                    window.PLOTLYENV=window.PLOTLYENV || {};\n",
              "                    \n",
              "                if (document.getElementById(\"087d0c1e-1277-4add-8739-b01f9cbe83dc\")) {\n",
              "                    Plotly.newPlot(\n",
              "                        '087d0c1e-1277-4add-8739-b01f9cbe83dc',\n",
              "                        [{\"alignmentgroup\": \"True\", \"bingroup\": \"x\", \"hoverlabel\": {\"namelength\": 0}, \"hovertemplate\": \"Year=%{x}<br>count of count=%{y}\", \"legendgroup\": \"\", \"marker\": {\"color\": \"#636efa\"}, \"name\": \"\", \"offsetgroup\": \"\", \"orientation\": \"v\", \"showlegend\": false, \"type\": \"histogram\", \"x\": [1977.0, 1986.0, 1986.0, 1989.0, 1990.0, 1991.0, 1991.0, 1991.0, 1991.0, 1991.0, 1992.0, 1992.0, 1992.0, 1992.0, 1993.0, 1993.0, 1993.0, 1993.0, 1994.0, 1994.0, 1995.0, 1996.0, 1996.0, 1996.0, 1997.0, 1998.0, 1998.0, 1999.0, 1999.0, 1999.0, 2000.0, 2000.0, 2000.0, 2001.0, 2001.0, 2002.0, 2002.0, 2002.0, 2002.0, 2002.0, 2003.0, 2004.0, 2004.0, 2005.0, 2005.0, 2006.0, 2006.0, 2006.0, 2007.0, 2009.0, 2009.0, 2010.0, 2011.0, 2011.0, 2011.0, 2011.0, 2013.0, 2013.0, 2013.0, 2014.0, 2014.0, 2015.0, 2017.0, 2018.0], \"xaxis\": \"x\", \"y\": [1, 1, 1, 1, 2, 1, 1, 1, 1, 2, 1, 1, 1, 1, 1, 1, 1, 1, 1, 1, 1, 2, 1, 1, 1, 1, 1, 2, 2, 1, 1, 1, 1, 1, 1, 1, 1, 1, 1, 1, 1, 2, 1, 2, 1, 2, 1, 2, 1, 1, 2, 1, 1, 2, 1, 2, 1, 1, 1, 1, 1, 2, 1, 1], \"yaxis\": \"y\"}, {\"hoverlabel\": {\"namelength\": 0}, \"hovertemplate\": \"<b>%{hovertext}</b><br><br>Country=Myanmar<br>Year=%{x}<br>Value=%{y}\", \"hovertext\": [\"Myanmar\", \"Myanmar\", \"Myanmar\", \"Myanmar\", \"Myanmar\", \"Myanmar\", \"Myanmar\", \"Myanmar\", \"Myanmar\", \"Myanmar\", \"Myanmar\", \"Myanmar\", \"Myanmar\", \"Myanmar\", \"Myanmar\", \"Myanmar\", \"Myanmar\", \"Myanmar\", \"Myanmar\", \"Myanmar\", \"Myanmar\", \"Myanmar\", \"Myanmar\", \"Myanmar\", \"Myanmar\", \"Myanmar\", \"Myanmar\", \"Myanmar\", \"Myanmar\", \"Myanmar\", \"Myanmar\", \"Myanmar\", \"Myanmar\", \"Myanmar\", \"Myanmar\", \"Myanmar\", \"Myanmar\", \"Myanmar\", \"Myanmar\", \"Myanmar\", \"Myanmar\", \"Myanmar\", \"Myanmar\", \"Myanmar\", \"Myanmar\", \"Myanmar\", \"Myanmar\", \"Myanmar\", \"Myanmar\", \"Myanmar\", \"Myanmar\", \"Myanmar\", \"Myanmar\", \"Myanmar\", \"Myanmar\", \"Myanmar\", \"Myanmar\", \"Myanmar\", \"Myanmar\", \"Myanmar\", \"Myanmar\", \"Myanmar\", \"Myanmar\", \"Myanmar\"], \"legendgroup\": \"Country=Myanmar\", \"line\": {\"color\": \"#636efa\", \"dash\": \"solid\"}, \"mode\": \"lines\", \"name\": \"Country=Myanmar\", \"showlegend\": true, \"type\": \"scattergl\", \"x\": [1951, 1952, 1953, 1954, 1955, 1956, 1957, 1958, 1959, 1960, 1961, 1962, 1963, 1964, 1965, 1966, 1967, 1968, 1969, 1970, 1971, 1972, 1973, 1974, 1975, 1976, 1977, 1978, 1979, 1980, 1981, 1982, 1983, 1984, 1985, 1986, 1987, 1988, 1989, 1990, 1991, 1992, 1993, 1994, 1995, 1996, 1997, 1998, 1999, 2000, 2001, 2002, 2003, 2004, 2005, 2012, 2013, 2014, 2015, 2016, 2017, 2018, 2019, 2020], \"xaxis\": \"x\", \"y\": [32.06178206178206, 46.67779667779668, 64.86906486906487, 77.60557760557761, 70.97482097482097, 75.02257502257503, 79.43782943782944, 85.37033537033537, 86.25758625758625, 89.51258951258951, 85.61708561708562, 90.70434070434071, 100.32235032235032, 97.9125979125979, 107.24185724185725, 105.45685545685546, 102.03910203910205, 104.59060459060458, 114.41861441861441, 122.78187278187279, 127.758749506804, 117.18127517405473, 152.45231745774228, 159.99934190502046, 138.92372323415995, 155.14220747754126, 169.29367819344617, 183.42928925931048, 190.8663540730303, 202.08346716344406, 205.28811662608686, 195.4194155967135, 192.1699914577157, 188.72082926365155, 196.75864469577633, 231.8433696479582, 203.6537435465811, 255.25682848179852, 550.1946337752986, 814.0255830977383, 942.6770851568343, 1370.4576765123606, 2061.809623889673, 2801.966891551504, 3932.0791806657444, 4675.441101668421, 4780.529107649519, 5873.097951178907, 6950.081055841826, 9030.564408836948, 9464.417217002449, 11000.356815937175, 24189.10950279609, 29853.91408291321, 32954.2622508452, 2969.2360763158836, 2366.989084910612, 2372.8959116141423, 2552.3704418280217, 2455.7841201322026, 2221.9610602285816, 1529.3644779426184, 1495.5098975020273, 2445.8217816033557], \"yaxis\": \"y2\"}, {\"hoverlabel\": {\"namelength\": 0}, \"hovertemplate\": \"<b>%{hovertext}</b><br><br>Country=South Africa<br>Year=%{x}<br>Value=%{y}\", \"hovertext\": [\"South Africa\", \"South Africa\", \"South Africa\", \"South Africa\", \"South Africa\", \"South Africa\", \"South Africa\", \"South Africa\", \"South Africa\", \"South Africa\", \"South Africa\", \"South Africa\", \"South Africa\", \"South Africa\", \"South Africa\", \"South Africa\", \"South Africa\", \"South Africa\", \"South Africa\", \"South Africa\", \"South Africa\", \"South Africa\", \"South Africa\", \"South Africa\", \"South Africa\", \"South Africa\", \"South Africa\", \"South Africa\", \"South Africa\", \"South Africa\", \"South Africa\", \"South Africa\", \"South Africa\", \"South Africa\", \"South Africa\", \"South Africa\", \"South Africa\", \"South Africa\", \"South Africa\", \"South Africa\", \"South Africa\", \"South Africa\", \"South Africa\", \"South Africa\", \"South Africa\", \"South Africa\", \"South Africa\", \"South Africa\", \"South Africa\", \"South Africa\", \"South Africa\", \"South Africa\", \"South Africa\", \"South Africa\", \"South Africa\", \"South Africa\", \"South Africa\", \"South Africa\", \"South Africa\", \"South Africa\", \"South Africa\", \"South Africa\", \"South Africa\", \"South Africa\", \"South Africa\", \"South Africa\", \"South Africa\", \"South Africa\", \"South Africa\", \"South Africa\"], \"legendgroup\": \"Country=South Africa\", \"line\": {\"color\": \"#EF553B\", \"dash\": \"solid\"}, \"mode\": \"lines\", \"name\": \"Country=South Africa\", \"showlegend\": true, \"type\": \"scattergl\", \"x\": [1951, 1952, 1953, 1954, 1955, 1956, 1957, 1958, 1959, 1960, 1961, 1962, 1963, 1964, 1965, 1966, 1967, 1968, 1969, 1970, 1971, 1972, 1973, 1974, 1975, 1976, 1977, 1978, 1979, 1980, 1981, 1982, 1983, 1984, 1985, 1986, 1987, 1988, 1989, 1990, 1991, 1992, 1993, 1994, 1995, 1996, 1997, 1998, 1999, 2000, 2001, 2002, 2003, 2004, 2005, 2006, 2007, 2008, 2009, 2010, 2011, 2012, 2013, 2014, 2015, 2016, 2017, 2018, 2019, 2020], \"xaxis\": \"x\", \"y\": [64.74997410001036, 74.54997018001193, 65.79997368001052, 62.99997480001009, 67.19997312001075, 76.99996920001233, 81.89996724001311, 63.699974520010194, 60.54997578000969, 69.99997200001121, 113.7499545000182, 186.19992552002978, 188.99992440003027, 271.59989136004344, 289.44988422004633, 324.44987022005193, 373.0998507600597, 399.699840120064, 425.59982976006813, 417.89983284006684, 485.8665272218082, 492.38654620433067, 752.9263256186605, 1102.318400770004, 1431.695127030404, 1677.2754193188548, 2073.7380184345043, 2067.9880169970043, 2160.86733972825, 2661.6711648438563, 3011.979548279984, 2744.6998581717044, 3052.68826855758, 2770.1521067187246, 2117.4063454885645, 2497.8884303488358, 3595.968625216721, 4263.086823226169, 4181.886467277746, 4364.458203855727, 3874.415134790607, 3677.40646070666, 3254.3133786653775, 3478.5822913146335, 3292.4465618443437, 2591.787130612767, 2414.1377095287285, 1905.6560087405126, 1738.0366250482857, 1891.7250134369287, 1802.262236357005, 1766.0828977202655, 2574.176278132126, 3099.065125416235, 3566.9638153704873, 3506.13965783314, 3525.684243694795, 3285.925081283394, 3592.6877020228544, 4188.168092203212, 4594.154077946546, 4489.590095944322, 4118.208483427343, 3892.4850910694445, 3488.8679478399654, 3139.312128418237, 3591.5076133699313, 3622.9187425515065, 3435.736037095993, 3150.8288802526113], \"yaxis\": \"y2\"}, {\"hoverlabel\": {\"namelength\": 0}, \"hovertemplate\": \"<b>%{hovertext}</b><br><br>Country=Lebanon<br>Year=%{x}<br>Value=%{y}\", \"hovertext\": [\"Lebanon\", \"Lebanon\", \"Lebanon\", \"Lebanon\", \"Lebanon\", \"Lebanon\", \"Lebanon\", \"Lebanon\", \"Lebanon\", \"Lebanon\", \"Lebanon\", \"Lebanon\", \"Lebanon\", \"Lebanon\", \"Lebanon\", \"Lebanon\", \"Lebanon\", \"Lebanon\", \"Lebanon\", \"Lebanon\", \"Lebanon\", \"Lebanon\", \"Lebanon\", \"Lebanon\", \"Lebanon\", \"Lebanon\", \"Lebanon\", \"Lebanon\", \"Lebanon\", \"Lebanon\", \"Lebanon\", \"Lebanon\", \"Lebanon\", \"Lebanon\", \"Lebanon\", \"Lebanon\", \"Lebanon\", \"Lebanon\", \"Lebanon\", \"Lebanon\", \"Lebanon\", \"Lebanon\", \"Lebanon\", \"Lebanon\", \"Lebanon\", \"Lebanon\", \"Lebanon\", \"Lebanon\", \"Lebanon\", \"Lebanon\", \"Lebanon\", \"Lebanon\", \"Lebanon\", \"Lebanon\", \"Lebanon\", \"Lebanon\", \"Lebanon\", \"Lebanon\", \"Lebanon\", \"Lebanon\", \"Lebanon\", \"Lebanon\", \"Lebanon\", \"Lebanon\", \"Lebanon\"], \"legendgroup\": \"Country=Lebanon\", \"line\": {\"color\": \"#00cc96\", \"dash\": \"solid\"}, \"mode\": \"lines\", \"name\": \"Country=Lebanon\", \"showlegend\": true, \"type\": \"scattergl\", \"x\": [1955, 1956, 1957, 1958, 1959, 1960, 1961, 1962, 1963, 1964, 1965, 1966, 1967, 1968, 1969, 1970, 1971, 1972, 1973, 1974, 1975, 1976, 1977, 1978, 1979, 1980, 1981, 1982, 1983, 1984, 1985, 1986, 1987, 1988, 1990, 1991, 1992, 1993, 1994, 1995, 1996, 1997, 1998, 1999, 2000, 2001, 2002, 2003, 2004, 2005, 2006, 2007, 2008, 2009, 2010, 2011, 2012, 2013, 2014, 2015, 2016, 2017, 2018, 2019, 2020], \"xaxis\": \"x\", \"y\": [12.523076923076925, 18.0625, 18.654782879054824, 21.76965630330503, 20.729001584786058, 22.906905201381985, 27.83714781298114, 40.8768245021668, 33.900603430741064, 38.065368323106654, 44.59853182935365, 51.42537730575741, 57.73095502602573, 65.57231644503013, 65.13897338519871, 64.54612753825353, 66.92009554702531, 106.2044369853674, 103.8155072019614, 179.14217960614496, 165.9441002962667, 173.07484703596268, 126.4271935769772, 252.76022968359294, 346.31100146480605, 503.4763147861971, 373.2147700324767, 246.65175512751054, 492.4726766000393, 474.5749175637259, 227.20350855820186, 148.29332367298326, 36.9997684731696, 39.31774307846443, 214.36103865835884, 229.46973100329984, 442.78633107386196, 452.97928056231916, 637.4734386067247, 746.26405412573, 735.6310135926284, 678.164279450453, 693.871897528576, 829.663624787776, 930.016583747927, 958.5406301824212, 907.4626865671642, 923.3830845771145, 954.5605306799337, 962.5207296849087, 1008.955223880597, 1152.2388059701493, 1169.485903814262, 1426.2023217247097, 1585.4063018242123, 1626.5339966832505, 1757.2139303482588, 1935.7182413723235, 2270.065959793791, 2239.416093739447, 2606.456908322253, 2441.074857018222, 2775.557816206579, 2521.246648014341, 1921.3930348258707], \"yaxis\": \"y2\"}, {\"hoverlabel\": {\"namelength\": 0}, \"hovertemplate\": \"<b>%{hovertext}</b><br><br>Country=Venezuela<br>Year=%{x}<br>Value=%{y}\", \"hovertext\": [\"Venezuela\", \"Venezuela\", \"Venezuela\", \"Venezuela\", \"Venezuela\", \"Venezuela\", \"Venezuela\", \"Venezuela\", \"Venezuela\", \"Venezuela\", \"Venezuela\", \"Venezuela\", \"Venezuela\", \"Venezuela\", \"Venezuela\", \"Venezuela\", \"Venezuela\", \"Venezuela\", \"Venezuela\", \"Venezuela\", \"Venezuela\", \"Venezuela\", \"Venezuela\", \"Venezuela\", \"Venezuela\", \"Venezuela\", \"Venezuela\", \"Venezuela\", \"Venezuela\", \"Venezuela\", \"Venezuela\", \"Venezuela\", \"Venezuela\", \"Venezuela\", \"Venezuela\", \"Venezuela\", \"Venezuela\", \"Venezuela\", \"Venezuela\", \"Venezuela\", \"Venezuela\", \"Venezuela\", \"Venezuela\", \"Venezuela\", \"Venezuela\", \"Venezuela\", \"Venezuela\", \"Venezuela\", \"Venezuela\", \"Venezuela\", \"Venezuela\", \"Venezuela\", \"Venezuela\", \"Venezuela\", \"Venezuela\", \"Venezuela\", \"Venezuela\", \"Venezuela\", \"Venezuela\", \"Venezuela\", \"Venezuela\", \"Venezuela\", \"Venezuela\"], \"legendgroup\": \"Country=Venezuela\", \"line\": {\"color\": \"#ab63fa\", \"dash\": \"solid\"}, \"mode\": \"lines\", \"name\": \"Country=Venezuela\", \"showlegend\": true, \"type\": \"scattergl\", \"x\": [1955, 1956, 1957, 1958, 1959, 1960, 1961, 1962, 1963, 1964, 1965, 1966, 1967, 1968, 1969, 1970, 1971, 1972, 1973, 1974, 1975, 1976, 1977, 1978, 1979, 1980, 1981, 1982, 1983, 1984, 1985, 1986, 1987, 1988, 1989, 1990, 1991, 1992, 1993, 1994, 1995, 1996, 1997, 1998, 1999, 2000, 2001, 2002, 2003, 2004, 2005, 2006, 2007, 2008, 2009, 2010, 2011, 2012, 2013, 2014, 2015, 2016, 2017], \"xaxis\": \"x\", \"y\": [142.85714285714286, 173.40327059549523, 228.9326723039223, 251.94029850746267, 225.6938743219481, 234.35774037341994, 114.63268285256268, 203.90068275382353, 245.39730779449917, 200.45977011494256, 227.27272727272725, 238.63636363636363, 270.45454545454544, 272.7272727272727, 263.6363636363636, 272.7272727272727, 352.27272727272725, 404.6511627906977, 420.93023255813955, 602.3255813953488, 711.6279069767442, 593.0232558139535, 748.8372093023256, 827.9069767441861, 925.5813953488373, 1002.3255813953488, 1009.3023255813954, 1523.2558139534883, 2006.9767441860465, 1325.4150473087661, 820.0, 1004.536496716081, 765.5172413793102, 1096.551724137931, 1196.2515529651184, 737.8704546860105, 983.7219533655962, 992.9324849780576, 1287.9547608642288, 939.6832314208283, 1198.810237387046, 733.1975560081466, 1541.0338638610165, 1450.9639916211167, 1408.0647158363945, 1788.3220803362517, 1911.4001365285812, 1071.3639691631854, 987.890177726888, 1448.7159829326454, 2665.390596961359, 3630.0884955752217, 4351.5603167210065, 5660.456450861668, 4055.379599441081, 3991.1948347443517, 3577.53158743851, 5114.847099993006, 6199.698500155424, 1554.7271082393247, 320.5391579635235, 218.15489292907495, 2127.936596435706], \"yaxis\": \"y2\"}, {\"hoverlabel\": {\"namelength\": 0}, \"hovertemplate\": \"<b>%{hovertext}</b><br><br>Country=Sudan<br>Year=%{x}<br>Value=%{y}\", \"hovertext\": [\"Sudan\", \"Sudan\", \"Sudan\", \"Sudan\", \"Sudan\", \"Sudan\", \"Sudan\", \"Sudan\", \"Sudan\", \"Sudan\", \"Sudan\", \"Sudan\", \"Sudan\", \"Sudan\", \"Sudan\", \"Sudan\", \"Sudan\", \"Sudan\", \"Sudan\", \"Sudan\", \"Sudan\", \"Sudan\", \"Sudan\", \"Sudan\", \"Sudan\", \"Sudan\", \"Sudan\", \"Sudan\", \"Sudan\", \"Sudan\", \"Sudan\", \"Sudan\", \"Sudan\", \"Sudan\", \"Sudan\", \"Sudan\", \"Sudan\", \"Sudan\", \"Sudan\", \"Sudan\", \"Sudan\", \"Sudan\", \"Sudan\", \"Sudan\", \"Sudan\", \"Sudan\", \"Sudan\", \"Sudan\", \"Sudan\", \"Sudan\", \"Sudan\", \"Sudan\", \"Sudan\", \"Sudan\", \"Sudan\", \"Sudan\", \"Sudan\", \"Sudan\", \"Sudan\"], \"legendgroup\": \"Country=Sudan\", \"line\": {\"color\": \"#FFA15A\", \"dash\": \"solid\"}, \"mode\": \"lines\", \"name\": \"Country=Sudan\", \"showlegend\": true, \"type\": \"scattergl\", \"x\": [1956, 1957, 1958, 1959, 1960, 1961, 1962, 1963, 1964, 1965, 1966, 1967, 1968, 1969, 1970, 1971, 1972, 1973, 1974, 1975, 1976, 1977, 1978, 1979, 1980, 1981, 1982, 1983, 1984, 1985, 1986, 1987, 1988, 1990, 1991, 1992, 1993, 1994, 1995, 1996, 1997, 1998, 1999, 2000, 2001, 2002, 2003, 2004, 2005, 2006, 2007, 2008, 2009, 2015, 2016, 2017, 2018, 2019, 2020], \"xaxis\": \"x\", \"y\": [0.09648462850546459, 14.101091326823665, 14.359563469270535, 16.59965537047674, 18.667432510051693, 20.50545663411832, 24.842044801838025, 28.144744399770246, 41.87248707639287, 56.375646180356114, 50.31591039632395, 52.268811028144746, 57.72544514646754, 87.01895462377944, 108.27110855829983, 109.99425617461229, 107.98391728891441, 113.1533601378518, 111.43021252153935, 119.47156806433085, 179.20735209649627, 216.53848583884255, 175.91640791411888, 239.9998135923778, 228.0, 203.9874171972129, 172.21463824425078, 230.76923076923077, 355.3846153846154, 205.29335682849975, 260.0, 310.3333333333333, 369.33333333333337, 1177.7777777777778, 1365.798114911065, 183.71844071282757, 257.98109394026886, 226.16700447845196, 138.75642566201964, 106.33279767187136, 97.73185931689238, 259.9575701437236, 429.6178974460503, 587.2675723291966, 388.09131742313554, 484.6072630323654, 398.11022173858066, 1240.766949070394, 1164.9959360606883, 1647.8391943710703, 2427.0725947480155, 3228.0000000000005, 3180.4830097306613, 2279.6216395618985, 2748.5119762470727, 4382.998816697173, 1047.8787199874052, 722.2561774207632, 934.3111538035246], \"yaxis\": \"y2\"}, {\"hoverlabel\": {\"namelength\": 0}, \"hovertemplate\": \"<b>%{hovertext}</b><br><br>Country=Syria<br>Year=%{x}<br>Value=%{y}\", \"hovertext\": [\"Syria\", \"Syria\", \"Syria\", \"Syria\", \"Syria\", \"Syria\", \"Syria\", \"Syria\", \"Syria\", \"Syria\", \"Syria\", \"Syria\", \"Syria\", \"Syria\", \"Syria\", \"Syria\", \"Syria\", \"Syria\", \"Syria\", \"Syria\", \"Syria\", \"Syria\", \"Syria\", \"Syria\", \"Syria\", \"Syria\", \"Syria\", \"Syria\", \"Syria\", \"Syria\", \"Syria\", \"Syria\", \"Syria\", \"Syria\", \"Syria\", \"Syria\", \"Syria\", \"Syria\", \"Syria\", \"Syria\", \"Syria\", \"Syria\", \"Syria\", \"Syria\", \"Syria\", \"Syria\", \"Syria\", \"Syria\", \"Syria\", \"Syria\", \"Syria\", \"Syria\", \"Syria\", \"Syria\", \"Syria\"], \"legendgroup\": \"Country=Syria\", \"line\": {\"color\": \"#19d3f3\", \"dash\": \"solid\"}, \"mode\": \"lines\", \"name\": \"Country=Syria\", \"showlegend\": true, \"type\": \"scattergl\", \"x\": [1956, 1957, 1958, 1959, 1960, 1961, 1962, 1964, 1965, 1966, 1967, 1968, 1969, 1970, 1971, 1972, 1973, 1974, 1975, 1976, 1977, 1978, 1979, 1980, 1981, 1982, 1983, 1984, 1985, 1986, 1987, 1988, 1989, 1990, 1991, 1992, 1993, 1994, 1995, 1996, 1997, 1998, 1999, 2000, 2001, 2002, 2003, 2004, 2005, 2006, 2007, 2008, 2009, 2010, 2011], \"xaxis\": \"x\", \"y\": [55.58659217877095, 48.324022346368714, 81.00558659217876, 82.9608938547486, 90.22346368715084, 90.22346368715084, 149.59349593495935, 112.04188481675394, 118.0628272251309, 102.35602094240838, 118.58638743455498, 190.05235602094243, 194.5026178010471, 199.73821989528795, 176.9633507853403, 260.20942408376965, 388.67455698685677, 537.3809243166207, 887.8378378378378, 945.0588812433974, 998.2165605095541, 1213.5031847133757, 1581.656050955414, 2253.248407643312, 2437.707006369427, 2726.87898089172, 2733.503184713376, 3394.9044585987263, 3510.31847133758, 3678.980891719745, 3650.191082802548, 3722.802547770701, 1483.652561247216, 1641.781737193764, 2893.80846325167, 2976.570155902005, 1426.0952380952383, 1636.2997760899152, 957.8998189499096, 995.0890409326054, 1046.927961044541, 1096.0395330516365, 1127.6328571090103, 897.044908654196, 1022.526577913993, 1102.9121569096455, 1436.2107335444664, 1388.544983485948, 1450.3246566683906, 1435.2156922841161, 1599.0337230650305, 1732.4168479019934, 2181.9745811918024, 2346.021283012365, 2494.887483148397], \"yaxis\": \"y2\"}, {\"hoverlabel\": {\"namelength\": 0}, \"hovertemplate\": \"<b>%{hovertext}</b><br><br>Country=Ethiopia<br>Year=%{x}<br>Value=%{y}\", \"hovertext\": [\"Ethiopia\", \"Ethiopia\", \"Ethiopia\", \"Ethiopia\", \"Ethiopia\", \"Ethiopia\", \"Ethiopia\", \"Ethiopia\", \"Ethiopia\", \"Ethiopia\", \"Ethiopia\", \"Ethiopia\", \"Ethiopia\", \"Ethiopia\", \"Ethiopia\", \"Ethiopia\", \"Ethiopia\", \"Ethiopia\", \"Ethiopia\", \"Ethiopia\", \"Ethiopia\", \"Ethiopia\", \"Ethiopia\", \"Ethiopia\", \"Ethiopia\", \"Ethiopia\", \"Ethiopia\", \"Ethiopia\", \"Ethiopia\", \"Ethiopia\", \"Ethiopia\", \"Ethiopia\", \"Ethiopia\", \"Ethiopia\", \"Ethiopia\", \"Ethiopia\", \"Ethiopia\", \"Ethiopia\", \"Ethiopia\", \"Ethiopia\", \"Ethiopia\", \"Ethiopia\", \"Ethiopia\", \"Ethiopia\", \"Ethiopia\", \"Ethiopia\", \"Ethiopia\", \"Ethiopia\", \"Ethiopia\", \"Ethiopia\", \"Ethiopia\", \"Ethiopia\", \"Ethiopia\", \"Ethiopia\", \"Ethiopia\", \"Ethiopia\", \"Ethiopia\", \"Ethiopia\", \"Ethiopia\", \"Ethiopia\", \"Ethiopia\", \"Ethiopia\", \"Ethiopia\", \"Ethiopia\"], \"legendgroup\": \"Country=Ethiopia\", \"line\": {\"color\": \"#FF6692\", \"dash\": \"solid\"}, \"mode\": \"lines\", \"name\": \"Country=Ethiopia\", \"showlegend\": true, \"type\": \"scattergl\", \"x\": [1957, 1958, 1959, 1960, 1961, 1962, 1963, 1964, 1965, 1966, 1967, 1968, 1969, 1970, 1971, 1972, 1973, 1974, 1975, 1976, 1977, 1978, 1979, 1980, 1981, 1982, 1983, 1984, 1985, 1986, 1987, 1988, 1989, 1990, 1991, 1992, 1993, 1994, 1995, 1996, 1997, 1998, 1999, 2000, 2001, 2002, 2003, 2004, 2005, 2006, 2007, 2008, 2009, 2010, 2011, 2012, 2013, 2014, 2015, 2016, 2017, 2018, 2019, 2020], \"xaxis\": \"x\", \"y\": [15.073637435750886, 16.20063836552665, 15.194387535369717, 15.33526265159169, 18.55526530809388, 20.185391652948116, 27.289522513856074, 36.14, 42.9, 43.42, 37.0, 34.66, 34.42, 34.54, 36.134238092946404, 41.04347826086957, 48.43359142346635, 74.7584541062802, 125.07246376811595, 128.0434782608696, 135.04830917874395, 178.21256038647346, 276.32850241545896, 359.3236714975846, 366.9806763285024, 387.36714975845416, 408.4057971014493, 423.01932367149766, 429.44444444444446, 439.2028985507247, 476.6183574879227, 614.8550724637681, 781.5217391304349, 785.048309178744, 529.0338164251208, 255.34344335414806, 163.85, 148.69167429094236, 122.460147475046, 126.45473323593127, 225.41710511018968, 458.54992544874796, 703.7048695268973, 617.5416136279003, 349.8082764508146, 288.9323334597765, 278.6731599315324, 311.03874898964517, 342.0666386659343, 345.6870170210907, 360.1403086120266, 388.18759674741193, 339.62776796630897, 303.6170330890518, 332.4417723915925, 366.53901766752523, 345.0641658440276, 414.4760258300706, 442.532624456259, 490.1772485320749, 499.7954834873768, 512.0290567106032, 544.8394298471578, 461.25762391547113], \"yaxis\": \"y2\"}, {\"hoverlabel\": {\"namelength\": 0}, \"hovertemplate\": \"<b>%{hovertext}</b><br><br>Country=Iraq<br>Year=%{x}<br>Value=%{y}\", \"hovertext\": [\"Iraq\", \"Iraq\", \"Iraq\", \"Iraq\", \"Iraq\", \"Iraq\", \"Iraq\", \"Iraq\", \"Iraq\", \"Iraq\", \"Iraq\", \"Iraq\", \"Iraq\", \"Iraq\", \"Iraq\", \"Iraq\", \"Iraq\", \"Iraq\", \"Iraq\", \"Iraq\", \"Iraq\", \"Iraq\", \"Iraq\", \"Iraq\", \"Iraq\", \"Iraq\", \"Iraq\", \"Iraq\", \"Iraq\", \"Iraq\", \"Iraq\", \"Iraq\", \"Iraq\", \"Iraq\", \"Iraq\", \"Iraq\", \"Iraq\", \"Iraq\", \"Iraq\", \"Iraq\", \"Iraq\", \"Iraq\"], \"legendgroup\": \"Country=Iraq\", \"line\": {\"color\": \"#B6E880\", \"dash\": \"solid\"}, \"mode\": \"lines\", \"name\": \"Country=Iraq\", \"showlegend\": true, \"type\": \"scattergl\", \"x\": [1957, 1958, 1959, 1960, 1961, 1962, 1963, 1964, 1965, 1966, 1967, 1968, 1969, 1970, 1971, 1972, 1973, 1974, 1975, 1976, 1977, 1978, 1979, 1980, 1981, 2004, 2005, 2006, 2007, 2008, 2009, 2010, 2011, 2012, 2013, 2014, 2015, 2016, 2017, 2018, 2019, 2020], \"xaxis\": \"x\", \"y\": [83.24396670241332, 86.68796532481387, 100.16295993481603, 118.726952509219, 125.48194980722009, 135.0649459740216, 163.21893471242612, 185.19892592042964, 225.74290970283613, 234.9969060012376, 234.54190618323753, 291.43788342484663, 375.9978496008602, 401.05083957966417, 426.26334016538266, 466.11328807809116, 665.1852889854231, 1427.457784181032, 1590.171817116696, 1761.1762395280955, 2007.6935058954195, 1986.021658302688, 2371.7128209295865, 2976.4928178142586, 4086.4977617044906, 613.7248696178667, 1120.2785326086957, 1236.0810129342656, 1989.9487473795803, 3116.3040198477893, 3237.1794871794873, 3752.9059829059825, 4278.6324786324785, 4141.066053834346, 7780.188679245283, 6923.644082332762, 9604.23101085097, 5970.383697669416, 7416.385135135135, 6317.977150052539, 7598.829335745368, 7015.558808232815], \"yaxis\": \"y2\"}, {\"hoverlabel\": {\"namelength\": 0}, \"hovertemplate\": \"<b>%{hovertext}</b><br><br>Country=Libya<br>Year=%{x}<br>Value=%{y}\", \"hovertext\": [\"Libya\", \"Libya\", \"Libya\", \"Libya\", \"Libya\", \"Libya\", \"Libya\", \"Libya\", \"Libya\", \"Libya\", \"Libya\", \"Libya\", \"Libya\", \"Libya\", \"Libya\", \"Libya\", \"Libya\", \"Libya\", \"Libya\", \"Libya\", \"Libya\", \"Libya\", \"Libya\", \"Libya\", \"Libya\", \"Libya\", \"Libya\", \"Libya\", \"Libya\", \"Libya\", \"Libya\", \"Libya\", \"Libya\", \"Libya\", \"Libya\", \"Libya\", \"Libya\", \"Libya\", \"Libya\"], \"legendgroup\": \"Country=Libya\", \"line\": {\"color\": \"#FF97FF\", \"dash\": \"solid\"}, \"mode\": \"lines\", \"name\": \"Country=Libya\", \"showlegend\": true, \"type\": \"scattergl\", \"x\": [1959, 1960, 1961, 1962, 1963, 1964, 1965, 1966, 1967, 1968, 1969, 1970, 1971, 1972, 1973, 1974, 1975, 1976, 1977, 1978, 1979, 1980, 1981, 1982, 1997, 1998, 1999, 2000, 2001, 2002, 2003, 2004, 2005, 2006, 2007, 2008, 2012, 2013, 2014], \"xaxis\": \"x\", \"y\": [5.571997771200891, 5.571997771200891, 7.167997132801148, 16.687993324802672, 18.67599252960299, 21.475991409603434, 29.119988352004658, 58.519976592009364, 79.51996819201273, 95.47996180801529, 143.0799427680229, 242.47990300803883, 243.03587164562788, 202.76822710041438, 298.3074800183984, 431.68237904955566, 287.7882526997038, 326.2951315820585, 479.6470878328396, 729.9418005681453, 853.5691485588632, 1074.1392530341056, 557.3345223136477, 709.3324506085058, 1251.9908172874545, 1443.6217582671406, 1153.4870884907862, 1085.534664870458, 819.7479936006769, 452.5136147574527, 541.401766516621, 685.0732200740247, 690.9307693483545, 614.356296200431, 639.1370461889375, 1100.0686521298505, 2987.41340773267, 3964.690154136521, 3755.652496350929], \"yaxis\": \"y2\"}, {\"hoverlabel\": {\"namelength\": 0}, \"hovertemplate\": \"<b>%{hovertext}</b><br><br>Country=Iran<br>Year=%{x}<br>Value=%{y}\", \"hovertext\": [\"Iran\", \"Iran\", \"Iran\", \"Iran\", \"Iran\", \"Iran\", \"Iran\", \"Iran\", \"Iran\", \"Iran\", \"Iran\", \"Iran\", \"Iran\", \"Iran\", \"Iran\", \"Iran\", \"Iran\", \"Iran\", \"Iran\", \"Iran\", \"Iran\", \"Iran\", \"Iran\", \"Iran\", \"Iran\", \"Iran\", \"Iran\", \"Iran\", \"Iran\", \"Iran\", \"Iran\", \"Iran\", \"Iran\", \"Iran\", \"Iran\", \"Iran\", \"Iran\", \"Iran\", \"Iran\", \"Iran\", \"Iran\", \"Iran\", \"Iran\", \"Iran\", \"Iran\", \"Iran\", \"Iran\", \"Iran\", \"Iran\", \"Iran\", \"Iran\", \"Iran\", \"Iran\", \"Iran\", \"Iran\", \"Iran\", \"Iran\", \"Iran\", \"Iran\", \"Iran\", \"Iran\"], \"legendgroup\": \"Country=Iran\", \"line\": {\"color\": \"#FECB52\", \"dash\": \"solid\"}, \"mode\": \"lines\", \"name\": \"Country=Iran\", \"showlegend\": true, \"type\": \"scattergl\", \"x\": [1960, 1961, 1962, 1963, 1964, 1965, 1966, 1967, 1968, 1969, 1970, 1971, 1972, 1973, 1974, 1975, 1976, 1977, 1978, 1979, 1980, 1981, 1982, 1983, 1984, 1985, 1986, 1987, 1988, 1989, 1990, 1991, 1992, 1993, 1994, 1995, 1996, 1997, 1998, 1999, 2000, 2001, 2002, 2003, 2004, 2005, 2006, 2007, 2008, 2009, 2010, 2011, 2012, 2013, 2014, 2015, 2016, 2017, 2018, 2019, 2020], \"xaxis\": \"x\", \"y\": [98.67986798679867, 105.94059405940594, 109.9009900990099, 128.7128712871287, 155.44554455445547, 200.00000000000003, 256.1056105610561, 331.023102310231, 437.2937293729373, 566.006600660066, 620.1320132013202, 402.3102310231023, 371.94719471947195, 480.8571669129623, 3877.8626631267116, 5951.043741982016, 7186.307294358153, 7617.207960430016, 8113.739880875546, 4993.779938919994, 4874.889400106175, 8121.567621447014, 9703.525315259945, 10550.357292931585, 9926.303621971003, 10706.415944506478, 11741.433342091335, 15263.376569599572, 18889.008562658197, 16301.812932063633, 16474.401698234527, 17549.5948299352, 19732.55801540571, 1448.1777034805784, 1703.171536205704, 2501.544189557847, 3550.9869641929276, 4642.384615823301, 5479.36294174375, 6650.2851439977185, 8327.053824362605, 10378.791765718619, 3243.891033232663, 3717.0684497839247, 5243.621132599411, 6796.744965394759, 8751.474767035876, 9330.901881771117, 11081.950208569098, 12584.623338706246, 13561.272454213882, 14277.667360568184, 16493.96328692867, 11997.1869840994, 9901.118855302648, 10588.769670868436, 12263.957414621567, 13931.196489797547, 11230.852287933145, 12528.450210913432, 15825.143121288625], \"yaxis\": \"y2\"}, {\"hoverlabel\": {\"namelength\": 0}, \"hovertemplate\": \"<b>%{hovertext}</b><br><br>Country=Nigeria<br>Year=%{x}<br>Value=%{y}\", \"hovertext\": [\"Nigeria\", \"Nigeria\", \"Nigeria\", \"Nigeria\", \"Nigeria\", \"Nigeria\", \"Nigeria\", \"Nigeria\", \"Nigeria\", \"Nigeria\", \"Nigeria\", \"Nigeria\", \"Nigeria\", \"Nigeria\", \"Nigeria\", \"Nigeria\", \"Nigeria\", \"Nigeria\", \"Nigeria\", \"Nigeria\", \"Nigeria\", \"Nigeria\", \"Nigeria\", \"Nigeria\", \"Nigeria\", \"Nigeria\", \"Nigeria\", \"Nigeria\", \"Nigeria\", \"Nigeria\", \"Nigeria\", \"Nigeria\", \"Nigeria\", \"Nigeria\", \"Nigeria\", \"Nigeria\", \"Nigeria\", \"Nigeria\", \"Nigeria\", \"Nigeria\", \"Nigeria\", \"Nigeria\", \"Nigeria\", \"Nigeria\", \"Nigeria\", \"Nigeria\", \"Nigeria\", \"Nigeria\", \"Nigeria\", \"Nigeria\", \"Nigeria\", \"Nigeria\", \"Nigeria\", \"Nigeria\", \"Nigeria\", \"Nigeria\", \"Nigeria\", \"Nigeria\", \"Nigeria\", \"Nigeria\", \"Nigeria\"], \"legendgroup\": \"Country=Nigeria\", \"line\": {\"color\": \"#636efa\", \"dash\": \"solid\"}, \"mode\": \"lines\", \"name\": \"Country=Nigeria\", \"showlegend\": true, \"type\": \"scattergl\", \"x\": [1960, 1961, 1962, 1963, 1964, 1965, 1966, 1967, 1968, 1969, 1970, 1971, 1972, 1973, 1974, 1975, 1976, 1977, 1978, 1979, 1980, 1981, 1982, 1983, 1984, 1985, 1986, 1987, 1988, 1989, 1990, 1991, 1992, 1993, 1994, 1995, 1996, 1997, 1998, 1999, 2000, 2001, 2002, 2003, 2004, 2005, 2006, 2007, 2008, 2009, 2010, 2011, 2012, 2013, 2014, 2015, 2016, 2017, 2018, 2019, 2020], \"xaxis\": \"x\", \"y\": [23.37999064800374, 28.279988688004526, 38.63998454400618, 45.49998180000728, 54.3199782720087, 65.93997362401056, 55.71997771200891, 239.9599040160384, 369.0398523840591, 684.4597262161095, 662.339735064106, 639.2595418990651, 904.0956383617446, 1020.2235919105632, 1351.1412351931358, 3028.5847974498865, 2644.426038260392, 3138.1989480394786, 3022.6422697679104, 3070.8253381169425, 3029.9150848328677, 2135.475014084325, 1651.9145132383317, 1627.393326983338, 1210.916249525457, 1091.6629931056398, 516.8935093358867, 201.691218214958, 271.10604654648364, 170.70551126789442, 277.29778348380063, 243.70578102404866, 173.65767932294315, 289.23110390022384, 319.6944899072559, 639.4066306467598, 701.4128785801759, 818.784525338, 1149.6847299643607, 491.671368589997, 368.64410946242265, 570.6322877615054, 896.9132014131931, 587.4618872947331, 639.9900668231894, 674.20814479638, 776.1480583278924, 971.3213786086734, 1615.5332107367603, 1504.4861721132022, 1990.0996686582655, 2384.9360217138424, 2316.4781998615867, 2418.7601708706266, 2357.6712192906225, 2065.557663350914, 1723.2042663951536, 1621.218176403174, 2043.051719216729, 1860.2604295613423, 2567.917819043856], \"yaxis\": \"y2\"}, {\"hoverlabel\": {\"namelength\": 0}, \"hovertemplate\": \"<b>%{hovertext}</b><br><br>Country=Sierra Leone<br>Year=%{x}<br>Value=%{y}\", \"hovertext\": [\"Sierra Leone\", \"Sierra Leone\", \"Sierra Leone\", \"Sierra Leone\", \"Sierra Leone\", \"Sierra Leone\", \"Sierra Leone\", \"Sierra Leone\", \"Sierra Leone\", \"Sierra Leone\", \"Sierra Leone\", \"Sierra Leone\", \"Sierra Leone\", \"Sierra Leone\", \"Sierra Leone\", \"Sierra Leone\", \"Sierra Leone\", \"Sierra Leone\", \"Sierra Leone\", \"Sierra Leone\", \"Sierra Leone\", \"Sierra Leone\", \"Sierra Leone\", \"Sierra Leone\", \"Sierra Leone\", \"Sierra Leone\", \"Sierra Leone\", \"Sierra Leone\", \"Sierra Leone\", \"Sierra Leone\", \"Sierra Leone\", \"Sierra Leone\", \"Sierra Leone\", \"Sierra Leone\", \"Sierra Leone\", \"Sierra Leone\", \"Sierra Leone\", \"Sierra Leone\", \"Sierra Leone\", \"Sierra Leone\", \"Sierra Leone\", \"Sierra Leone\", \"Sierra Leone\", \"Sierra Leone\", \"Sierra Leone\", \"Sierra Leone\", \"Sierra Leone\", \"Sierra Leone\", \"Sierra Leone\", \"Sierra Leone\", \"Sierra Leone\", \"Sierra Leone\", \"Sierra Leone\", \"Sierra Leone\", \"Sierra Leone\", \"Sierra Leone\", \"Sierra Leone\", \"Sierra Leone\"], \"legendgroup\": \"Country=Sierra Leone\", \"line\": {\"color\": \"#EF553B\", \"dash\": \"solid\"}, \"mode\": \"lines\", \"name\": \"Country=Sierra Leone\", \"showlegend\": true, \"type\": \"scattergl\", \"x\": [1961, 1962, 1963, 1964, 1965, 1966, 1967, 1968, 1969, 1970, 1971, 1972, 1973, 1974, 1975, 1976, 1977, 1978, 1979, 1980, 1981, 1982, 1983, 1984, 1985, 1986, 1987, 1988, 1989, 1990, 1991, 1992, 1993, 1994, 1995, 1996, 1997, 2000, 2001, 2002, 2003, 2004, 2005, 2006, 2007, 2008, 2009, 2010, 2011, 2012, 2013, 2014, 2015, 2016, 2017, 2018, 2019, 2020], \"xaxis\": \"x\", \"y\": [1.9305992277603088, 1.9837992064803176, 2.155999137600345, 2.3533990586403766, 2.505998997600401, 2.5395989841604063, 2.883153573494871, 2.6580010632004254, 3.2976013190405276, 3.986401594560638, 3.7706374098260427, 4.23461066807196, 5.022404825428557, 6.779970097993947, 6.526389844494935, 6.020631896768628, 7.064980375054513, 8.11812347188264, 10.785547366528851, 15.907791960373403, 15.788111465792426, 14.128284826222096, 10.2369346480457, 9.92051634494711, 6.281702969675079, 7.227148725150852, 4.585444664757289, 9.011475021606012, 14.394912125832597, 12.387253542516806, 23.179749715585896, 26.661754518042137, 23.339131109031666, 26.49555169240209, 25.02330459100443, 18.592815281754085, 9.490749703000159, 23.310804351566834, 29.911134607154544, 27.133961877629186, 28.467933592851605, 22.961537037722575, 23.552130233008835, 28.02245848118275, 29.07687617873569, 23.645736556308712, 26.405564662620176, 25.06227863120241, 25.4761839067774, 29.75893407979669, 31.684939411425272, 48.81063078771625, 39.22651426584026, 37.41473216954801, 39.57782600412428, 29.622478099625702, 25.641867776012568, 23.8273810780594], \"yaxis\": \"y2\"}, {\"hoverlabel\": {\"namelength\": 0}, \"hovertemplate\": \"<b>%{hovertext}</b><br><br>Country=Somalia<br>Year=%{x}<br>Value=%{y}\", \"hovertext\": [\"Somalia\", \"Somalia\", \"Somalia\", \"Somalia\", \"Somalia\", \"Somalia\", \"Somalia\", \"Somalia\", \"Somalia\", \"Somalia\", \"Somalia\", \"Somalia\", \"Somalia\", \"Somalia\", \"Somalia\", \"Somalia\", \"Somalia\", \"Somalia\", \"Somalia\", \"Somalia\", \"Somalia\", \"Somalia\", \"Somalia\", \"Somalia\", \"Somalia\", \"Somalia\", \"Somalia\", \"Somalia\", \"Somalia\", \"Somalia\", \"Somalia\", \"Somalia\", \"Somalia\", \"Somalia\", \"Somalia\", \"Somalia\", \"Somalia\"], \"legendgroup\": \"Country=Somalia\", \"line\": {\"color\": \"#00cc96\", \"dash\": \"solid\"}, \"mode\": \"lines\", \"name\": \"Country=Somalia\", \"showlegend\": true, \"type\": \"scattergl\", \"x\": [1961, 1962, 1963, 1964, 1965, 1966, 1967, 1968, 1969, 1970, 1971, 1972, 1973, 1974, 1975, 1976, 1977, 1978, 1979, 1980, 1981, 1982, 1983, 1984, 1985, 1986, 1987, 1988, 1989, 2013, 2014, 2015, 2016, 2017, 2018, 2019, 2020], \"xaxis\": \"x\", \"y\": [3.16, 3.7, 4.48, 5.42, 5.17, 6.5, 7.53, 8.34, 9.0, 11.2, 11.4, 13.2, 16.1, 21.4, 23.1, 26.3, 31.7, 81.4, 87.7, 95.5, 134.0, 83.9, 83.9, 89.2, 44.3, 34.9, 28.5, 49.5, 8.56, 26.05, 60.258, 46.614, 47.706, 61.813, 76.562, 77.535, 98.385], \"yaxis\": \"y2\"}, {\"hoverlabel\": {\"namelength\": 0}, \"hovertemplate\": \"<b>%{hovertext}</b><br><br>Country=Togo<br>Year=%{x}<br>Value=%{y}\", \"hovertext\": [\"Togo\", \"Togo\", \"Togo\", \"Togo\", \"Togo\", \"Togo\", \"Togo\", \"Togo\", \"Togo\", \"Togo\", \"Togo\", \"Togo\", \"Togo\", \"Togo\", \"Togo\", \"Togo\", \"Togo\", \"Togo\", \"Togo\", \"Togo\", \"Togo\", \"Togo\", \"Togo\", \"Togo\", \"Togo\", \"Togo\", \"Togo\", \"Togo\", \"Togo\", \"Togo\", \"Togo\", \"Togo\", \"Togo\", \"Togo\", \"Togo\", \"Togo\", \"Togo\", \"Togo\", \"Togo\", \"Togo\", \"Togo\", \"Togo\", \"Togo\", \"Togo\", \"Togo\", \"Togo\", \"Togo\", \"Togo\", \"Togo\", \"Togo\", \"Togo\"], \"legendgroup\": \"Country=Togo\", \"line\": {\"color\": \"#ab63fa\", \"dash\": \"solid\"}, \"mode\": \"lines\", \"name\": \"Country=Togo\", \"showlegend\": true, \"type\": \"scattergl\", \"x\": [1961, 1962, 1963, 1964, 1965, 1966, 1967, 1968, 1969, 1970, 1971, 1972, 1973, 1974, 1975, 1976, 1977, 1978, 1979, 1980, 1981, 1982, 1983, 1984, 1985, 1986, 1987, 1988, 1989, 1990, 1991, 1992, 1993, 1994, 1995, 2003, 2004, 2005, 2008, 2009, 2010, 2011, 2012, 2013, 2014, 2015, 2016, 2017, 2018, 2019, 2020], \"xaxis\": \"x\", \"y\": [0.3269999184538857, 0.7142449002914119, 1.134619779932739, 3.3833006158504983, 3.362428130139026, 2.8899616571284366, 3.1056784322014948, 3.288025367075314, 3.4351306542135167, 3.6504668907356286, 4.183674951698892, 5.126414525370198, 6.873376434009753, 8.097048254086953, 11.114584742876076, 14.233103159656832, 21.10875936177141, 22.7337185804942, 22.498848262050938, 24.763347216963272, 22.52595397654298, 18.54196210659574, 16.398734077561368, 15.692619639918803, 18.87980982186381, 30.011030706947036, 43.41229199732479, 43.08909242298085, 41.861019159394125, 50.748351789616734, 45.90456812486042, 49.11368685113264, 50.147794733068935, 25.396024891706663, 30.852572784023973, 28.831211286992428, 31.71962103788675, 33.23803529313627, 57.00918926764998, 55.13081709326409, 56.832843035311555, 59.01887400236508, 62.931049680036516, 72.41923730871993, 83.08001156110065, 69.97717474004565, 82.01969041231563, 88.41411492217038, 104.3789946450164, 170.5668324350892, 116.30493335881974], \"yaxis\": \"y2\"}, {\"hoverlabel\": {\"namelength\": 0}, \"hovertemplate\": \"<b>%{hovertext}</b><br><br>Country=Burundi<br>Year=%{x}<br>Value=%{y}\", \"hovertext\": [\"Burundi\", \"Burundi\", \"Burundi\", \"Burundi\", \"Burundi\", \"Burundi\", \"Burundi\", \"Burundi\", \"Burundi\", \"Burundi\", \"Burundi\", \"Burundi\", \"Burundi\", \"Burundi\", \"Burundi\", \"Burundi\", \"Burundi\", \"Burundi\", \"Burundi\", \"Burundi\", \"Burundi\", \"Burundi\", \"Burundi\", \"Burundi\", \"Burundi\", \"Burundi\", \"Burundi\", \"Burundi\", \"Burundi\", \"Burundi\", \"Burundi\", \"Burundi\", \"Burundi\", \"Burundi\", \"Burundi\", \"Burundi\", \"Burundi\", \"Burundi\", \"Burundi\", \"Burundi\", \"Burundi\", \"Burundi\", \"Burundi\", \"Burundi\", \"Burundi\", \"Burundi\", \"Burundi\", \"Burundi\", \"Burundi\", \"Burundi\", \"Burundi\", \"Burundi\", \"Burundi\", \"Burundi\", \"Burundi\"], \"legendgroup\": \"Country=Burundi\", \"line\": {\"color\": \"#FFA15A\", \"dash\": \"solid\"}, \"mode\": \"lines\", \"name\": \"Country=Burundi\", \"showlegend\": true, \"type\": \"scattergl\", \"x\": [1962, 1963, 1964, 1965, 1966, 1967, 1968, 1969, 1971, 1972, 1973, 1974, 1975, 1976, 1977, 1978, 1979, 1980, 1981, 1982, 1983, 1984, 1985, 1986, 1987, 1988, 1989, 1990, 1991, 1992, 1993, 1994, 1995, 1996, 1997, 1998, 1999, 2000, 2001, 2002, 2003, 2004, 2005, 2006, 2007, 2008, 2012, 2013, 2014, 2015, 2016, 2017, 2018, 2019, 2020], \"xaxis\": \"x\", \"y\": [8.42, 1.012, 1.162, 2.1534814814814816, 2.286857142857143, 2.376, 2.5908571428571427, 3.337142857142857, 2.6285714285714286, 3.6, 5.923067599195763, 7.682539682539683, 8.533333333333333, 9.971014492753623, 13.955555555555556, 17.03333333333333, 20.0, 27.763333333333332, 29.995555555555555, 36.66555555555555, 34.3696442000553, 29.938434035870316, 32.22029811667812, 34.60773751653222, 30.784856430675603, 34.25549342925318, 37.90328171579471, 39.60234737671893, 42.751758827191445, 38.98647643096835, 36.26740258670401, 41.90974503486872, 42.1089298798432, 50.89398078263368, 61.870123825390024, 58.736036233211095, 50.5711882632257, 42.32155221577609, 53.230373106377655, 44.910067053523555, 43.41320130793815, 44.87237714597148, 49.55712938478892, 44.717502041451176, 46.308706221634765, 43.85631994872184, 58.96666227617139, 60.8595000932422, 62.17729473908798, 66.16458443559236, 66.4628430779874, 63.908678432008834, 65.43659526279552, 84.68941391820168, 67.47409271629704], \"yaxis\": \"y2\"}, {\"hoverlabel\": {\"namelength\": 0}, \"hovertemplate\": \"<b>%{hovertext}</b><br><br>Country=Egypt<br>Year=%{x}<br>Value=%{y}\", \"hovertext\": [\"Egypt\", \"Egypt\", \"Egypt\", \"Egypt\", \"Egypt\", \"Egypt\", \"Egypt\", \"Egypt\", \"Egypt\", \"Egypt\", \"Egypt\", \"Egypt\", \"Egypt\", \"Egypt\", \"Egypt\", \"Egypt\", \"Egypt\", \"Egypt\", \"Egypt\", \"Egypt\", \"Egypt\", \"Egypt\", \"Egypt\", \"Egypt\", \"Egypt\", \"Egypt\", \"Egypt\", \"Egypt\", \"Egypt\", \"Egypt\", \"Egypt\", \"Egypt\", \"Egypt\", \"Egypt\", \"Egypt\", \"Egypt\", \"Egypt\", \"Egypt\", \"Egypt\", \"Egypt\", \"Egypt\", \"Egypt\", \"Egypt\", \"Egypt\", \"Egypt\", \"Egypt\", \"Egypt\", \"Egypt\", \"Egypt\", \"Egypt\", \"Egypt\", \"Egypt\", \"Egypt\", \"Egypt\", \"Egypt\", \"Egypt\", \"Egypt\", \"Egypt\", \"Egypt\"], \"legendgroup\": \"Country=Egypt\", \"line\": {\"color\": \"#19d3f3\", \"dash\": \"solid\"}, \"mode\": \"lines\", \"name\": \"Country=Egypt\", \"showlegend\": true, \"type\": \"scattergl\", \"x\": [1962, 1963, 1964, 1965, 1966, 1967, 1968, 1969, 1970, 1971, 1972, 1973, 1974, 1975, 1976, 1977, 1978, 1979, 1980, 1981, 1982, 1983, 1984, 1985, 1986, 1987, 1988, 1989, 1990, 1991, 1992, 1993, 1994, 1995, 1996, 1997, 1998, 1999, 2000, 2001, 2002, 2003, 2004, 2005, 2006, 2007, 2008, 2009, 2010, 2011, 2012, 2013, 2014, 2015, 2016, 2017, 2018, 2019, 2020], \"xaxis\": \"x\", \"y\": [249.69776681195285, 335.799697780272, 448.49959635036333, 515.1995363204173, 481.8495663353903, 508.29954253041177, 648.5994162605253, 888.9491999457201, 1092.499016750885, 1266.1488604660256, 1066.0490405558637, 1243.8561046949917, 1852.779424692822, 1926.890601680535, 2201.6130681005047, 2751.0580009404453, 2485.279986915544, 1152.8554959207202, 1361.4266265333908, 1817.1402612281984, 2307.1395612291985, 3004.281422455111, 3742.1375112321266, 4203.565423477967, 4727.13610409128, 4805.707420417971, 4453.56506633562, 3516.344801405846, 2260.6451612903224, 1345.7573430294995, 1415.8199744110784, 1526.165392003627, 1714.4097863302147, 1948.8769857998177, 2115.7429794661916, 2267.6503135374405, 2372.048406139315, 2447.978793903247, 2627.6983338373584, 2834.256229549459, 2902.768425240073, 2383.914898271713, 2369.743586433063, 2659.4397135752392, 2952.5201590045294, 3306.9082572226075, 3779.8803497468934, 4017.404478271456, 4407.286452719168, 4463.974191069017, 4557.748767350389, 4359.83424376995, 5085.12157627973, 5475.490833441686, 4513.022526816316, 2765.5884340120665, 3119.587363842486, 3743.6714515456547, 4505.374644325008], \"yaxis\": \"y2\"}, {\"hoverlabel\": {\"namelength\": 0}, \"hovertemplate\": \"<b>%{hovertext}</b><br><br>Country=Guinea<br>Year=%{x}<br>Value=%{y}\", \"hovertext\": [\"Guinea\", \"Guinea\", \"Guinea\", \"Guinea\", \"Guinea\", \"Guinea\", \"Guinea\", \"Guinea\", \"Guinea\", \"Guinea\", \"Guinea\", \"Guinea\", \"Guinea\", \"Guinea\", \"Guinea\", \"Guinea\", \"Guinea\", \"Guinea\", \"Guinea\", \"Guinea\", \"Guinea\", \"Guinea\", \"Guinea\", \"Guinea\", \"Guinea\", \"Guinea\", \"Guinea\", \"Guinea\", \"Guinea\", \"Guinea\", \"Guinea\", \"Guinea\", \"Guinea\", \"Guinea\"], \"legendgroup\": \"Country=Guinea\", \"line\": {\"color\": \"#FF6692\", \"dash\": \"solid\"}, \"mode\": \"lines\", \"name\": \"Country=Guinea\", \"showlegend\": true, \"type\": \"scattergl\", \"x\": [1965, 1966, 1968, 1969, 1970, 1971, 1972, 1973, 1978, 1979, 1980, 1981, 1982, 1991, 1992, 1993, 1994, 1997, 1998, 1999, 2000, 2001, 2002, 2003, 2004, 2012, 2013, 2014, 2015, 2016, 2017, 2018, 2019, 2020], \"xaxis\": \"x\", \"y\": [10.492201741948552, 13.895077982580515, 14.17865100263318, 14.70528661130241, 15.069880494227265, 26.327764415263605, 31.711404230239747, 36.058910702304004, 85.22828098461225, 71.02109174648035, 60.30924302410788, 52.510728896654115, 52.26683358669409, 71.76417839964557, 55.65404029485555, 43.956503992715774, 45.8717475087955, 44.37018980581195, 45.03448331621969, 55.21118639181202, 45.96793121411439, 87.71839881880076, 98.08486517126894, 84.13394930803605, 81.01857009799771, 168.9133574679029, 196.818705594191, 196.94558975324063, 221.4142323102065, 161.85674445321777, 181.63777587054466, 197.07952635247594, 197.75433070763407, 209.67040043205742], \"yaxis\": \"y2\"}, {\"hoverlabel\": {\"namelength\": 0}, \"hovertemplate\": \"<b>%{hovertext}</b><br><br>Country=Liberia<br>Year=%{x}<br>Value=%{y}\", \"hovertext\": [\"Liberia\", \"Liberia\", \"Liberia\", \"Liberia\", \"Liberia\", \"Liberia\", \"Liberia\", \"Liberia\", \"Liberia\", \"Liberia\", \"Liberia\", \"Liberia\", \"Liberia\", \"Liberia\", \"Liberia\", \"Liberia\", \"Liberia\", \"Liberia\", \"Liberia\", \"Liberia\", \"Liberia\", \"Liberia\", \"Liberia\", \"Liberia\", \"Liberia\", \"Liberia\", \"Liberia\", \"Liberia\", \"Liberia\", \"Liberia\", \"Liberia\", \"Liberia\", \"Liberia\", \"Liberia\", \"Liberia\", \"Liberia\", \"Liberia\", \"Liberia\", \"Liberia\", \"Liberia\", \"Liberia\", \"Liberia\", \"Liberia\", \"Liberia\", \"Liberia\"], \"legendgroup\": \"Country=Liberia\", \"line\": {\"color\": \"#B6E880\", \"dash\": \"solid\"}, \"mode\": \"lines\", \"name\": \"Country=Liberia\", \"showlegend\": true, \"type\": \"scattergl\", \"x\": [1965, 1966, 1967, 1968, 1969, 1970, 1971, 1972, 1973, 1974, 1975, 1976, 1977, 1978, 1979, 1980, 1981, 1982, 1983, 1984, 1985, 1986, 1987, 1988, 1991, 1992, 1993, 1994, 2004, 2005, 2006, 2007, 2008, 2009, 2010, 2011, 2012, 2013, 2014, 2015, 2016, 2017, 2018, 2019, 2020], \"xaxis\": \"x\", \"y\": [2.7, 2.8, 3.05, 3.05, 3.05, 3.55, 4.05, 4.05, 3.75, 4.55, 5.5, 6.4, 7.75, 8.9, 9.4, 12.75, 26.35, 43.35, 38.75, 24.95, 25.15, 24.35, 22.25, 25.0, 25.0, 22.65, 30.45, 39.3, 3.182, 8.025, 3.925, 3.486, 3.907, 7.193, 8.458, 13.271, 15.179, 15.1115, 14.531, 14.799, 14.712, 13.3355, 16.7885, 19.2285, 16.937], \"yaxis\": \"y2\"}, {\"hoverlabel\": {\"namelength\": 0}, \"hovertemplate\": \"<b>%{hovertext}</b><br><br>Country=Zimbabwe<br>Year=%{x}<br>Value=%{y}\", \"hovertext\": [\"Zimbabwe\", \"Zimbabwe\", \"Zimbabwe\", \"Zimbabwe\", \"Zimbabwe\", \"Zimbabwe\", \"Zimbabwe\", \"Zimbabwe\", \"Zimbabwe\", \"Zimbabwe\", \"Zimbabwe\", \"Zimbabwe\", \"Zimbabwe\", \"Zimbabwe\", \"Zimbabwe\", \"Zimbabwe\", \"Zimbabwe\", \"Zimbabwe\", \"Zimbabwe\", \"Zimbabwe\", \"Zimbabwe\", \"Zimbabwe\", \"Zimbabwe\", \"Zimbabwe\", \"Zimbabwe\", \"Zimbabwe\", \"Zimbabwe\", \"Zimbabwe\", \"Zimbabwe\", \"Zimbabwe\", \"Zimbabwe\", \"Zimbabwe\", \"Zimbabwe\", \"Zimbabwe\", \"Zimbabwe\", \"Zimbabwe\", \"Zimbabwe\", \"Zimbabwe\", \"Zimbabwe\", \"Zimbabwe\", \"Zimbabwe\", \"Zimbabwe\", \"Zimbabwe\", \"Zimbabwe\", \"Zimbabwe\", \"Zimbabwe\", \"Zimbabwe\", \"Zimbabwe\", \"Zimbabwe\", \"Zimbabwe\", \"Zimbabwe\", \"Zimbabwe\"], \"legendgroup\": \"Country=Zimbabwe\", \"line\": {\"color\": \"#FF97FF\", \"dash\": \"solid\"}, \"mode\": \"lines\", \"name\": \"Country=Zimbabwe\", \"showlegend\": true, \"type\": \"scattergl\", \"x\": [1965, 1966, 1967, 1968, 1969, 1970, 1971, 1972, 1973, 1974, 1975, 1976, 1977, 1978, 1979, 1980, 1981, 1982, 1983, 1984, 1985, 1986, 1987, 1988, 1989, 1990, 1991, 1992, 1993, 1994, 1995, 1996, 1997, 1998, 1999, 2000, 2001, 2002, 2003, 2004, 2005, 2006, 2010, 2011, 2012, 2013, 2014, 2015, 2016, 2017, 2018, 2019], \"xaxis\": \"x\", \"y\": [15.6, 16.95, 19.0, 30.6, 42.35, 45.95, 49.85, 58.45, 86.9, 118.55, 148.6, 199.8, 285.35, 347.75, 441.15, 442.75, 389.7, 437.45, 431.75, 360.65, 309.3, 342.2, 392.6, 407.05, 408.6, 416.3, 376.05, 296.35, 249.8, 247.9, 262.9, 291.65, 311.4, 306.0, 263.4, 346.3, 286.7, 677.0, 194.8, 256.1, 131.4, 161.7, 98.293, 198.438, 318.272, 356.7, 368.1, 376.677, 358.065, 340.522, 420.364, 546.939], \"yaxis\": \"y2\"}, {\"hoverlabel\": {\"namelength\": 0}, \"hovertemplate\": \"<b>%{hovertext}</b><br><br>Country=Afghanistan<br>Year=%{x}<br>Value=%{y}\", \"hovertext\": [\"Afghanistan\", \"Afghanistan\", \"Afghanistan\", \"Afghanistan\", \"Afghanistan\", \"Afghanistan\", \"Afghanistan\", \"Afghanistan\", \"Afghanistan\", \"Afghanistan\", \"Afghanistan\", \"Afghanistan\", \"Afghanistan\", \"Afghanistan\", \"Afghanistan\", \"Afghanistan\", \"Afghanistan\", \"Afghanistan\", \"Afghanistan\", \"Afghanistan\", \"Afghanistan\", \"Afghanistan\", \"Afghanistan\"], \"legendgroup\": \"Country=Afghanistan\", \"line\": {\"color\": \"#FECB52\", \"dash\": \"solid\"}, \"mode\": \"lines\", \"name\": \"Country=Afghanistan\", \"showlegend\": true, \"type\": \"scattergl\", \"x\": [1970, 1973, 1974, 1975, 1976, 1977, 2004, 2005, 2006, 2007, 2008, 2009, 2010, 2011, 2012, 2013, 2014, 2015, 2016, 2017, 2018, 2019, 2020], \"xaxis\": \"x\", \"y\": [2.939585501253765, 3.3412715512301565, 3.5813663514300256, 4.203664568654506, 5.3932512159455035, 6.127288063334602, 125.11155745705429, 122.72719313487397, 131.34623126951666, 219.58021429619842, 240.53259462098535, 251.8695148203345, 298.14685251959884, 325.80700365798873, 238.583385374322, 217.19410711329814, 268.2270742358079, 199.5186148318968, 185.87831006238258, 191.40711324439658, 198.07472857440797, 225.8356438693777, 279.57695492519326], \"yaxis\": \"y2\"}, {\"hoverlabel\": {\"namelength\": 0}, \"hovertemplate\": \"<b>%{hovertext}</b><br><br>Country=Rwanda<br>Year=%{x}<br>Value=%{y}\", \"hovertext\": [\"Rwanda\", \"Rwanda\", \"Rwanda\", \"Rwanda\", \"Rwanda\", \"Rwanda\", \"Rwanda\", \"Rwanda\", \"Rwanda\", \"Rwanda\", \"Rwanda\", \"Rwanda\", \"Rwanda\", \"Rwanda\", \"Rwanda\", \"Rwanda\", \"Rwanda\", \"Rwanda\", \"Rwanda\", \"Rwanda\", \"Rwanda\", \"Rwanda\", \"Rwanda\", \"Rwanda\", \"Rwanda\", \"Rwanda\", \"Rwanda\", \"Rwanda\", \"Rwanda\", \"Rwanda\", \"Rwanda\", \"Rwanda\", \"Rwanda\", \"Rwanda\", \"Rwanda\", \"Rwanda\", \"Rwanda\", \"Rwanda\", \"Rwanda\", \"Rwanda\", \"Rwanda\", \"Rwanda\", \"Rwanda\", \"Rwanda\", \"Rwanda\", \"Rwanda\", \"Rwanda\", \"Rwanda\"], \"legendgroup\": \"Country=Rwanda\", \"line\": {\"color\": \"#636efa\", \"dash\": \"solid\"}, \"mode\": \"lines\", \"name\": \"Country=Rwanda\", \"showlegend\": true, \"type\": \"scattergl\", \"x\": [1973, 1974, 1975, 1976, 1977, 1978, 1979, 1980, 1981, 1982, 1983, 1984, 1985, 1986, 1987, 1988, 1989, 1990, 1991, 1992, 1993, 1994, 1995, 1996, 1997, 1998, 1999, 2000, 2001, 2002, 2003, 2004, 2005, 2006, 2007, 2008, 2009, 2010, 2011, 2012, 2013, 2014, 2015, 2016, 2017, 2018, 2019, 2020], \"xaxis\": \"x\", \"y\": [9.365839708300564, 7.786746398360911, 9.319735189477804, 10.297663285995695, 16.062942551787614, 14.393007322777716, 19.63301715178214, 23.552267559336727, 28.68278333140202, 28.175370728562218, 28.024671701325474, 25.460676623467318, 27.25072843103363, 34.889469111517286, 36.093359476268745, 36.626347162831586, 41.62247813447454, 95.13273543350923, 105.33380205170816, 88.57017000276245, 89.4361363589093, 40.51057539231294, 56.44933672029353, 73.65882276253177, 77.27257652638212, 87.09183706141896, 80.85236358409543, 61.329857119395626, 56.88590313143352, 51.11861411757281, 45.19626898289796, 41.2157610455642, 44.99635188939861, 54.55764803973101, 55.580440804088084, 67.66035962395469, 75.27848605414107, 74.51441728645308, 75.38392855655523, 79.79391009205675, 82.4807155803265, 90.93779321668521, 103.5632147055096, 107.27861868518903, 115.71681244900425, 118.95917404681512, 124.07335262689226, 143.0218905295779], \"yaxis\": \"y2\"}, {\"hoverlabel\": {\"namelength\": 0}, \"hovertemplate\": \"<b>%{hovertext}</b><br><br>Country=Indonesia<br>Year=%{x}<br>Value=%{y}\", \"hovertext\": [\"Indonesia\", \"Indonesia\", \"Indonesia\", \"Indonesia\", \"Indonesia\", \"Indonesia\", \"Indonesia\", \"Indonesia\", \"Indonesia\", \"Indonesia\", \"Indonesia\", \"Indonesia\", \"Indonesia\", \"Indonesia\", \"Indonesia\", \"Indonesia\", \"Indonesia\", \"Indonesia\", \"Indonesia\", \"Indonesia\", \"Indonesia\", \"Indonesia\", \"Indonesia\", \"Indonesia\", \"Indonesia\", \"Indonesia\", \"Indonesia\", \"Indonesia\", \"Indonesia\", \"Indonesia\", \"Indonesia\", \"Indonesia\", \"Indonesia\", \"Indonesia\", \"Indonesia\", \"Indonesia\", \"Indonesia\", \"Indonesia\", \"Indonesia\", \"Indonesia\", \"Indonesia\", \"Indonesia\", \"Indonesia\", \"Indonesia\", \"Indonesia\", \"Indonesia\", \"Indonesia\"], \"legendgroup\": \"Country=Indonesia\", \"line\": {\"color\": \"#EF553B\", \"dash\": \"solid\"}, \"mode\": \"lines\", \"name\": \"Country=Indonesia\", \"showlegend\": true, \"type\": \"scattergl\", \"x\": [1974, 1975, 1976, 1977, 1978, 1979, 1980, 1981, 1982, 1983, 1984, 1985, 1986, 1987, 1988, 1989, 1990, 1991, 1992, 1993, 1994, 1995, 1996, 1997, 1998, 1999, 2000, 2001, 2002, 2003, 2004, 2005, 2006, 2007, 2008, 2009, 2010, 2011, 2012, 2013, 2014, 2015, 2016, 2017, 2018, 2019, 2020], \"xaxis\": \"x\", \"y\": [698.1927710843373, 1063.855421686747, 1275.301204819277, 1468.6746987951808, 1627.6623420692463, 1552.431165787932, 2114.4540458122406, 2654.1059299699095, 2741.0680942999993, 2047.2579501025552, 2002.3100766126672, 1923.3193466476978, 1734.6167040918165, 1347.5986251786965, 1356.70641276621, 1409.556738189666, 1613.9753962698271, 1697.0292054637189, 1887.635965949397, 1933.3045853097601, 2239.7315746847157, 2478.753541076487, 2874.845237586987, 3231.358571241983, 972.7021251098505, 1135.1470054677507, 1129.542839569354, 919.022697814032, 1369.8571288954472, 2134.7467043171787, 2428.947795298053, 2146.2707913864774, 2611.8751173667915, 3348.758341538125, 3232.2022154952697, 3304.459138201523, 4663.365759375519, 5838.026185717234, 6531.097955283207, 8384.028600925323, 6929.248704206713, 7595.030527643327, 7396.62607468605, 8797.528449542044, 7556.824710980182, 9003.028193204776, 9395.52953138874], \"yaxis\": \"y2\"}, {\"hoverlabel\": {\"namelength\": 0}, \"hovertemplate\": \"<b>%{hovertext}</b><br><br>Country=Angola<br>Year=%{x}<br>Value=%{y}\", \"hovertext\": [\"Angola\", \"Angola\", \"Angola\", \"Angola\", \"Angola\", \"Angola\", \"Angola\", \"Angola\", \"Angola\", \"Angola\", \"Angola\", \"Angola\", \"Angola\", \"Angola\", \"Angola\", \"Angola\", \"Angola\", \"Angola\", \"Angola\", \"Angola\", \"Angola\", \"Angola\", \"Angola\", \"Angola\", \"Angola\", \"Angola\", \"Angola\", \"Angola\", \"Angola\", \"Angola\", \"Angola\", \"Angola\", \"Angola\", \"Angola\", \"Angola\", \"Angola\", \"Angola\", \"Angola\", \"Angola\", \"Angola\", \"Angola\", \"Angola\", \"Angola\"], \"legendgroup\": \"Country=Angola\", \"line\": {\"color\": \"#00cc96\", \"dash\": \"solid\"}, \"mode\": \"lines\", \"name\": \"Country=Angola\", \"showlegend\": true, \"type\": \"scattergl\", \"x\": [1978, 1979, 1980, 1981, 1982, 1983, 1984, 1985, 1986, 1987, 1988, 1989, 1990, 1991, 1992, 1993, 1994, 1995, 1996, 1997, 1998, 1999, 2000, 2001, 2002, 2003, 2004, 2005, 2006, 2007, 2008, 2009, 2010, 2011, 2012, 2013, 2014, 2015, 2016, 2017, 2018, 2019, 2020], \"xaxis\": \"x\", \"y\": [343.27160906477707, 504.71288187713094, 497.35944916104023, 618.8916371415203, 668.493883280968, 778.6282505515074, 1066.2477438331439, 1146.4670098268602, 1156.494418076075, 1487.3988903001539, 1469.3829801457314, 1948.5593956815298, 1751.1531519486598, 1031.2477880442773, 794.1388211616558, 1774.3978768274208, 594.9911786944468, 233.84371488930014, 159.7419334681986, 456.7804750261963, 170.27829256868213, 1066.5887892328476, 583.6213335989244, 404.299139990661, 438.68624541123177, 670.0211644324943, 817.5335821520827, 1365.0553986904408, 1970.3091151837607, 2032.432883434303, 3163.5911474090203, 3311.1932452772153, 3500.7948364464883, 3639.4963735446004, 4144.634851468555, 6090.751702008843, 6846.249313340521, 3608.2991146167365, 2764.054937159764, 3062.8729139838, 1983.6137480008938, 1470.9387172875404, 993.5944046258786], \"yaxis\": \"y2\"}, {\"hoverlabel\": {\"namelength\": 0}, \"hovertemplate\": \"<b>%{hovertext}</b><br><br>Country=Haiti<br>Year=%{x}<br>Value=%{y}\", \"hovertext\": [\"Haiti\", \"Haiti\", \"Haiti\", \"Haiti\", \"Haiti\", \"Haiti\", \"Haiti\", \"Haiti\", \"Haiti\", \"Haiti\", \"Haiti\", \"Haiti\", \"Haiti\", \"Haiti\", \"Haiti\", \"Haiti\"], \"legendgroup\": \"Country=Haiti\", \"line\": {\"color\": \"#ab63fa\", \"dash\": \"solid\"}, \"mode\": \"lines\", \"name\": \"Country=Haiti\", \"showlegend\": true, \"type\": \"scattergl\", \"x\": [1988, 1989, 1990, 1991, 1992, 1993, 1994, 1995, 2013, 2014, 2015, 2016, 2017, 2018, 2019, 2020], \"xaxis\": \"x\", \"y\": [1.9724, 2.23155, 2.6704, 2.6232273866994134, 1.7436059365393857, 1.6496393059075842, 1.599966755319149, 2.478871188706593, 0.051595847483365084, 0.05351159509743409, 0.07356229689214626, 0.06451431660556704, 0.07361349246227625, 0.13968388162903356, 0.1130174894841709, 0.2638088478325353], \"yaxis\": \"y2\"}, {\"hoverlabel\": {\"namelength\": 0}, \"hovertemplate\": \"<b>%{hovertext}</b><br><br>Country=China<br>Year=%{x}<br>Value=%{y}\", \"hovertext\": [\"China\", \"China\", \"China\", \"China\", \"China\", \"China\", \"China\", \"China\", \"China\", \"China\", \"China\", \"China\", \"China\", \"China\", \"China\", \"China\", \"China\", \"China\", \"China\", \"China\", \"China\", \"China\", \"China\", \"China\", \"China\", \"China\", \"China\", \"China\", \"China\", \"China\", \"China\", \"China\"], \"legendgroup\": \"Country=China\", \"line\": {\"color\": \"#FFA15A\", \"dash\": \"solid\"}, \"mode\": \"lines\", \"name\": \"Country=China\", \"showlegend\": true, \"type\": \"scattergl\", \"x\": [1989, 1990, 1991, 1992, 1993, 1994, 1995, 1996, 1997, 1998, 1999, 2000, 2001, 2002, 2003, 2004, 2005, 2006, 2007, 2008, 2009, 2010, 2011, 2012, 2013, 2014, 2015, 2016, 2017, 2018, 2019, 2020], \"xaxis\": \"x\", \"y\": [11251.332630387957, 9926.34925081692, 9802.375366073124, 12244.267842214926, 12360.225860644641, 9867.120066274185, 12385.129474987487, 14275.400819973162, 15699.586768575462, 17031.780199691813, 20473.915094766675, 22237.140151214495, 26561.462998292423, 30284.127409997203, 33144.0004814458, 37904.57182699605, 42789.95365090244, 51453.37323384863, 62136.59075458873, 78840.80281986286, 96601.66675295417, 105522.64810183836, 125286.37316401086, 145127.60959620716, 164070.4693217442, 182109.32599168003, 196538.82723079034, 198538.36142755367, 210443.03474096782, 232530.59598526615, 240332.55545815144, 252304.2237413091], \"yaxis\": \"y2\"}, {\"hoverlabel\": {\"namelength\": 0}, \"hovertemplate\": \"<b>%{hovertext}</b><br><br>Country=Yemen<br>Year=%{x}<br>Value=%{y}\", \"hovertext\": [\"Yemen\", \"Yemen\", \"Yemen\", \"Yemen\", \"Yemen\", \"Yemen\", \"Yemen\", \"Yemen\", \"Yemen\", \"Yemen\", \"Yemen\", \"Yemen\", \"Yemen\", \"Yemen\", \"Yemen\", \"Yemen\", \"Yemen\", \"Yemen\", \"Yemen\", \"Yemen\", \"Yemen\", \"Yemen\", \"Yemen\", \"Yemen\", \"Yemen\"], \"legendgroup\": \"Country=Yemen\", \"line\": {\"color\": \"#19d3f3\", \"dash\": \"solid\"}, \"mode\": \"lines\", \"name\": \"Country=Yemen\", \"showlegend\": true, \"type\": \"scattergl\", \"x\": [1990, 1991, 1992, 1993, 1994, 1995, 1996, 1997, 1998, 1999, 2000, 2001, 2002, 2003, 2004, 2005, 2006, 2007, 2008, 2009, 2010, 2011, 2012, 2013, 2014], \"xaxis\": \"x\", \"y\": [807.0707154811367, 1028.2179165868727, 1306.9000258116087, 1535.4576564724691, 2353.269331645865, 805.8923779114184, 416.008632418086, 397.0730424424316, 384.502730310122, 395.2529572689092, 473.6640324515515, 540.1014987668375, 737.3665480427046, 807.3132440800662, 735.4851279386933, 815.627463983416, 822.1305360595587, 1050.4993641714375, 1196.4117658837429, 1420.7752641153184, 1448.153376747575, 1612.2544434050515, 1618.8401267080628, 1648.7505235236633, 1714.8308436874681], \"yaxis\": \"y2\"}, {\"hoverlabel\": {\"namelength\": 0}, \"hovertemplate\": \"<b>%{hovertext}</b><br><br>Country=Central African Rep.<br>Year=%{x}<br>Value=%{y}\", \"hovertext\": [\"Central African Rep.\", \"Central African Rep.\", \"Central African Rep.\", \"Central African Rep.\", \"Central African Rep.\", \"Central African Rep.\", \"Central African Rep.\", \"Central African Rep.\", \"Central African Rep.\", \"Central African Rep.\", \"Central African Rep.\", \"Central African Rep.\", \"Central African Rep.\", \"Central African Rep.\", \"Central African Rep.\", \"Central African Rep.\", \"Central African Rep.\", \"Central African Rep.\", \"Central African Rep.\", \"Central African Rep.\", \"Central African Rep.\", \"Central African Rep.\", \"Central African Rep.\", \"Central African Rep.\"], \"legendgroup\": \"Country=Central African Rep.\", \"line\": {\"color\": \"#FF6692\", \"dash\": \"solid\"}, \"mode\": \"lines\", \"name\": \"Country=Central African Rep.\", \"showlegend\": true, \"type\": \"scattergl\", \"x\": [1991, 1992, 1993, 1994, 1995, 1996, 2002, 2003, 2004, 2005, 2007, 2008, 2009, 2010, 2011, 2012, 2013, 2014, 2015, 2016, 2017, 2018, 2019, 2020], \"xaxis\": \"x\", \"y\": [21.59818792160421, 23.18543816964623, 19.14445036957512, 10.68974522923965, 13.014176156170112, 12.196218566245465, 10.681962960624858, 15.018926359256708, 15.103589918320603, 15.396194650670752, 19.11251974369193, 31.511483793168903, 35.99238435701186, 51.58527450295492, 49.874328728918805, 42.74602518573944, 47.923241448908705, 38.40700992145633, 26.703885622839138, 26.832998820193534, 27.516264177935216, 30.517648413658087, 40.7776666587025, 41.303630076285465], \"yaxis\": \"y2\"}, {\"hoverlabel\": {\"namelength\": 0}, \"hovertemplate\": \"<b>%{hovertext}</b><br><br>Country=Azerbaijan<br>Year=%{x}<br>Value=%{y}\", \"hovertext\": [\"Azerbaijan\", \"Azerbaijan\", \"Azerbaijan\", \"Azerbaijan\", \"Azerbaijan\", \"Azerbaijan\", \"Azerbaijan\", \"Azerbaijan\", \"Azerbaijan\", \"Azerbaijan\", \"Azerbaijan\", \"Azerbaijan\", \"Azerbaijan\", \"Azerbaijan\", \"Azerbaijan\", \"Azerbaijan\", \"Azerbaijan\", \"Azerbaijan\", \"Azerbaijan\", \"Azerbaijan\", \"Azerbaijan\", \"Azerbaijan\", \"Azerbaijan\", \"Azerbaijan\", \"Azerbaijan\", \"Azerbaijan\", \"Azerbaijan\", \"Azerbaijan\", \"Azerbaijan\"], \"legendgroup\": \"Country=Azerbaijan\", \"line\": {\"color\": \"#B6E880\", \"dash\": \"solid\"}, \"mode\": \"lines\", \"name\": \"Country=Azerbaijan\", \"showlegend\": true, \"type\": \"scattergl\", \"x\": [1992, 1993, 1994, 1995, 1996, 1997, 1998, 1999, 2000, 2001, 2002, 2003, 2004, 2005, 2006, 2007, 2008, 2009, 2010, 2011, 2012, 2013, 2014, 2015, 2016, 2017, 2018, 2019, 2020], \"xaxis\": \"x\", \"y\": [11.07011070110701, 77.51937984496124, 43.942747058542565, 66.15996891387762, 71.60684124321565, 92.0866919675062, 107.2628586197984, 120.26217396633386, 119.57565171524007, 131.96366006418867, 139.89409194333467, 176.55216230580788, 228.24963162565027, 304.52147773320036, 717.111853555619, 946.5997921046375, 1607.7992259195248, 1472.9099769465142, 1476.6087335700493, 3080.084995808461, 3246.1226126303864, 3367.5741611974386, 3427.179917064822, 2900.5513821521513, 1396.9691076583222, 1528.8595922938523, 1672.1764705882354, 1854.235294117647, 2237.7647058823527], \"yaxis\": \"y2\"}, {\"hoverlabel\": {\"namelength\": 0}, \"hovertemplate\": \"<b>%{hovertext}</b><br><br>Country=Croatia<br>Year=%{x}<br>Value=%{y}\", \"hovertext\": [\"Croatia\", \"Croatia\", \"Croatia\", \"Croatia\", \"Croatia\", \"Croatia\", \"Croatia\", \"Croatia\", \"Croatia\", \"Croatia\", \"Croatia\", \"Croatia\", \"Croatia\", \"Croatia\", \"Croatia\", \"Croatia\", \"Croatia\", \"Croatia\", \"Croatia\", \"Croatia\", \"Croatia\", \"Croatia\", \"Croatia\", \"Croatia\", \"Croatia\", \"Croatia\", \"Croatia\", \"Croatia\", \"Croatia\"], \"legendgroup\": \"Country=Croatia\", \"line\": {\"color\": \"#FF97FF\", \"dash\": \"solid\"}, \"mode\": \"lines\", \"name\": \"Country=Croatia\", \"showlegend\": true, \"type\": \"scattergl\", \"x\": [1992, 1993, 1994, 1995, 1996, 1997, 1998, 1999, 2000, 2001, 2002, 2003, 2004, 2005, 2006, 2007, 2008, 2009, 2010, 2011, 2012, 2013, 2014, 2015, 2016, 2017, 2018, 2019, 2020], \"xaxis\": \"x\", \"y\": [782.0036612507502, 1168.9367587276308, 1625.2223654178636, 2060.388930098112, 1938.6988973456798, 1797.184680663184, 1427.264826842718, 1035.9490082595821, 659.7750333125142, 629.4641037506264, 733.6807390544332, 709.3991471997638, 730.8670045108496, 799.1609012243581, 849.4310346894972, 978.8537321000496, 1295.9570743094282, 1129.0984963900114, 1015.8766535528309, 1106.4640419770692, 955.3201636158208, 956.9526440521097, 1063.4697432811347, 883.1629832668173, 836.68504208224, 920.8370529181882, 966.3587167988873, 1001.8121413470251, 1034.925914726338], \"yaxis\": \"y2\"}, {\"hoverlabel\": {\"namelength\": 0}, \"hovertemplate\": \"<b>%{hovertext}</b><br><br>Country=Slovenia<br>Year=%{x}<br>Value=%{y}\", \"hovertext\": [\"Slovenia\", \"Slovenia\", \"Slovenia\", \"Slovenia\", \"Slovenia\", \"Slovenia\", \"Slovenia\", \"Slovenia\", \"Slovenia\", \"Slovenia\", \"Slovenia\", \"Slovenia\", \"Slovenia\", \"Slovenia\", \"Slovenia\", \"Slovenia\", \"Slovenia\", \"Slovenia\", \"Slovenia\", \"Slovenia\", \"Slovenia\", \"Slovenia\", \"Slovenia\", \"Slovenia\", \"Slovenia\", \"Slovenia\", \"Slovenia\", \"Slovenia\", \"Slovenia\"], \"legendgroup\": \"Country=Slovenia\", \"line\": {\"color\": \"#FECB52\", \"dash\": \"solid\"}, \"mode\": \"lines\", \"name\": \"Country=Slovenia\", \"showlegend\": true, \"type\": \"scattergl\", \"x\": [1992, 1993, 1994, 1995, 1996, 1997, 1998, 1999, 2000, 2001, 2002, 2003, 2004, 2005, 2006, 2007, 2008, 2009, 2010, 2011, 2012, 2013, 2014, 2015, 2016, 2017, 2018, 2019, 2020], \"xaxis\": \"x\", \"y\": [281.422738461992, 230.3036715691461, 237.94950410132668, 334.6550228582867, 329.97264833190235, 290.78527180176724, 301.13982223273604, 274.8418278491092, 222.39155680547438, 271.48879038865914, 326.9595228120574, 416.9067536765131, 493.1538929137311, 514.1727994667635, 608.8337533729663, 692.6549125558757, 829.3844069286263, 798.868642190033, 772.0851075101484, 665.6796713722711, 543.4964165212631, 506.74293210331416, 486.1948703960181, 400.77187534656764, 449.17753909570104, 473.79675720880743, 529.4961226585461, 572.8840125391849, 574.8318705117975], \"yaxis\": \"y2\"}, {\"hoverlabel\": {\"namelength\": 0}, \"hovertemplate\": \"<b>%{hovertext}</b><br><br>Country=Eritrea<br>Year=%{x}<br>Value=%{y}\", \"hovertext\": [\"Eritrea\", \"Eritrea\", \"Eritrea\", \"Eritrea\", \"Eritrea\", \"Eritrea\", \"Eritrea\", \"Eritrea\", \"Eritrea\", \"Eritrea\", \"Eritrea\"], \"legendgroup\": \"Country=Eritrea\", \"line\": {\"color\": \"#636efa\", \"dash\": \"solid\"}, \"mode\": \"lines\", \"name\": \"Country=Eritrea\", \"showlegend\": true, \"type\": \"scattergl\", \"x\": [1993, 1994, 1995, 1996, 1997, 1998, 1999, 2000, 2001, 2002, 2003], \"xaxis\": \"x\", \"y\": [107.73764923322844, 80.19831121039672, 124.99634987946492, 152.27180856000038, 92.75631940818484, 263.0016856992663, 272.85673457522296, 230.67012987012987, 166.55024536893762, 150.76442521241995, 181.58366899891195], \"yaxis\": \"y2\"}, {\"hoverlabel\": {\"namelength\": 0}, \"hovertemplate\": \"<b>%{hovertext}</b><br><br>Country=Russia<br>Year=%{x}<br>Value=%{y}\", \"hovertext\": [\"Russia\", \"Russia\", \"Russia\", \"Russia\", \"Russia\", \"Russia\", \"Russia\", \"Russia\", \"Russia\", \"Russia\", \"Russia\", \"Russia\", \"Russia\", \"Russia\", \"Russia\", \"Russia\", \"Russia\", \"Russia\", \"Russia\", \"Russia\", \"Russia\", \"Russia\", \"Russia\", \"Russia\", \"Russia\", \"Russia\", \"Russia\", \"Russia\"], \"legendgroup\": \"Country=Russia\", \"line\": {\"color\": \"#EF553B\", \"dash\": \"solid\"}, \"mode\": \"lines\", \"name\": \"Country=Russia\", \"showlegend\": true, \"type\": \"scattergl\", \"x\": [1993, 1994, 1995, 1996, 1997, 1998, 1999, 2000, 2001, 2002, 2003, 2004, 2005, 2006, 2007, 2008, 2009, 2010, 2011, 2012, 2013, 2014, 2015, 2016, 2017, 2018, 2019, 2020], \"xaxis\": \"x\", \"y\": [7766.720078413419, 13547.871733424627, 12741.629470405669, 15826.3406518084, 17577.353180646624, 7955.730400985875, 6469.035211353417, 9228.204143736757, 11683.151344772614, 13943.825063400162, 16973.73908510361, 20955.41357062786, 27336.9772736915, 34517.78161891802, 43534.99499624719, 56183.7853932539, 51532.11679751988, 58720.22760875794, 70237.5239514946, 81469.39993125766, 88352.89646355981, 84696.5046534978, 66421.82217992056, 69245.2945528466, 66913.03353678314, 61609.20475641708, 65201.335848356466, 61712.53716893713], \"yaxis\": \"y2\"}, {\"hoverlabel\": {\"namelength\": 0}, \"hovertemplate\": \"<b>%{hovertext}</b><br><br>Country=Ukraine<br>Year=%{x}<br>Value=%{y}\", \"hovertext\": [\"Ukraine\", \"Ukraine\", \"Ukraine\", \"Ukraine\", \"Ukraine\", \"Ukraine\", \"Ukraine\", \"Ukraine\", \"Ukraine\", \"Ukraine\", \"Ukraine\", \"Ukraine\", \"Ukraine\", \"Ukraine\", \"Ukraine\", \"Ukraine\", \"Ukraine\", \"Ukraine\", \"Ukraine\", \"Ukraine\", \"Ukraine\", \"Ukraine\", \"Ukraine\", \"Ukraine\", \"Ukraine\", \"Ukraine\", \"Ukraine\", \"Ukraine\"], \"legendgroup\": \"Country=Ukraine\", \"line\": {\"color\": \"#00cc96\", \"dash\": \"solid\"}, \"mode\": \"lines\", \"name\": \"Country=Ukraine\", \"showlegend\": true, \"type\": \"scattergl\", \"x\": [1993, 1994, 1995, 1996, 1997, 1998, 1999, 2000, 2001, 2002, 2003, 2004, 2005, 2006, 2007, 2008, 2009, 2010, 2011, 2012, 2013, 2014, 2015, 2016, 2017, 2018, 2019, 2020], \"xaxis\": \"x\", \"y\": [123.41092112520684, 683.5860451766946, 779.2569260116627, 1009.5820100903541, 1449.6739469075985, 912.2120888003462, 620.8055316140653, 696.4043799618767, 741.712830593281, 872.3918732704792, 1104.8082674972668, 1322.215078263943, 1692.6845064274214, 2101.5073661169995, 2882.2798403449306, 3385.406783392424, 2320.408612749703, 2587.448220937442, 2502.2965751120796, 2835.905352501492, 2895.0018891530085, 2997.1892144942544, 2959.581345119483, 2943.807591718629, 3246.78656733091, 4169.707536409091, 5419.138048445906, 5924.200880305501], \"yaxis\": \"y2\"}, {\"hoverlabel\": {\"namelength\": 0}, \"hovertemplate\": \"<b>%{hovertext}</b><br><br>Country=Uzbekistan<br>Year=%{x}<br>Value=%{y}\", \"hovertext\": [\"Uzbekistan\", \"Uzbekistan\", \"Uzbekistan\", \"Uzbekistan\", \"Uzbekistan\", \"Uzbekistan\", \"Uzbekistan\", \"Uzbekistan\", \"Uzbekistan\", \"Uzbekistan\"], \"legendgroup\": \"Country=Uzbekistan\", \"line\": {\"color\": \"#ab63fa\", \"dash\": \"solid\"}, \"mode\": \"lines\", \"name\": \"Country=Uzbekistan\", \"showlegend\": true, \"type\": \"scattergl\", \"x\": [1994, 1995, 1996, 1997, 1999, 2000, 2001, 2002, 2003, 2018], \"xaxis\": \"x\", \"y\": [86.9298245614035, 112.6784214945424, 172.2115456610178, 217.74719074336028, 250.07173601147773, 115.3753846153846, 59.76061046511628, 45.914432989690724, 54.1336954635028, 1440.3850722075165], \"yaxis\": \"y2\"}, {\"hoverlabel\": {\"namelength\": 0}, \"hovertemplate\": \"<b>%{hovertext}</b><br><br>Country=Belarus<br>Year=%{x}<br>Value=%{y}\", \"hovertext\": [\"Belarus\", \"Belarus\", \"Belarus\", \"Belarus\", \"Belarus\", \"Belarus\", \"Belarus\", \"Belarus\", \"Belarus\", \"Belarus\", \"Belarus\", \"Belarus\", \"Belarus\", \"Belarus\", \"Belarus\", \"Belarus\", \"Belarus\", \"Belarus\", \"Belarus\", \"Belarus\", \"Belarus\", \"Belarus\", \"Belarus\", \"Belarus\", \"Belarus\", \"Belarus\"], \"legendgroup\": \"Country=Belarus\", \"line\": {\"color\": \"#FFA15A\", \"dash\": \"solid\"}, \"mode\": \"lines\", \"name\": \"Country=Belarus\", \"showlegend\": true, \"type\": \"scattergl\", \"x\": [1995, 1996, 1997, 1998, 1999, 2000, 2001, 2002, 2003, 2004, 2005, 2006, 2007, 2008, 2009, 2010, 2011, 2012, 2013, 2014, 2015, 2016, 2017, 2018, 2019, 2020], \"xaxis\": \"x\", \"y\": [179.08167693776585, 182.8056145549097, 249.38413942852753, 227.58608728830464, 165.90384885376764, 140.32620473339037, 177.69784172661872, 204.3642373752038, 231.56386043768006, 314.3140177571218, 452.68406830654374, 631.831238109449, 746.9432639976143, 883.0275229357798, 675.4265050750971, 767.699285884553, 756.2773512803967, 807.4232628435032, 959.8016903057979, 1000.0134486132156, 709.9088460548721, 592.1823313668201, 625.6378169178508, 709.7133163847901, 773.7130287162566, 844.5129409462303], \"yaxis\": \"y2\"}, {\"hoverlabel\": {\"namelength\": 0}, \"hovertemplate\": \"<b>%{hovertext}</b><br><br>Country=South Sudan<br>Year=%{x}<br>Value=%{y}\", \"hovertext\": [\"South Sudan\", \"South Sudan\", \"South Sudan\", \"South Sudan\", \"South Sudan\", \"South Sudan\", \"South Sudan\", \"South Sudan\", \"South Sudan\", \"South Sudan\", \"South Sudan\", \"South Sudan\", \"South Sudan\", \"South Sudan\"], \"legendgroup\": \"Country=South Sudan\", \"line\": {\"color\": \"#19d3f3\", \"dash\": \"solid\"}, \"mode\": \"lines\", \"name\": \"Country=South Sudan\", \"showlegend\": true, \"type\": \"scattergl\", \"x\": [2006, 2007, 2008, 2009, 2010, 2011, 2012, 2013, 2014, 2015, 2016, 2017, 2018, 2019], \"xaxis\": \"x\", \"y\": [551.4545044277537, 587.9668667228808, 896.3907069315268, 609.8986326487162, 650.9106678230703, 1052.7219703686358, 988.2259887005649, 981.9830508474575, 1301.5254237288134, 1151.9203767594379, 135.3381435897436, 72.38810457388036, 149.0924246995465, 186.49892522647013], \"yaxis\": \"y2\"}],\n",
              "                        {\"template\": {\"data\": {\"bar\": [{\"error_x\": {\"color\": \"#2a3f5f\"}, \"error_y\": {\"color\": \"#2a3f5f\"}, \"marker\": {\"line\": {\"color\": \"#E5ECF6\", \"width\": 0.5}}, \"type\": \"bar\"}], \"barpolar\": [{\"marker\": {\"line\": {\"color\": \"#E5ECF6\", \"width\": 0.5}}, \"type\": \"barpolar\"}], \"carpet\": [{\"aaxis\": {\"endlinecolor\": \"#2a3f5f\", \"gridcolor\": \"white\", \"linecolor\": \"white\", \"minorgridcolor\": \"white\", \"startlinecolor\": \"#2a3f5f\"}, \"baxis\": {\"endlinecolor\": \"#2a3f5f\", \"gridcolor\": \"white\", \"linecolor\": \"white\", \"minorgridcolor\": \"white\", \"startlinecolor\": \"#2a3f5f\"}, \"type\": \"carpet\"}], \"choropleth\": [{\"colorbar\": {\"outlinewidth\": 0, \"ticks\": \"\"}, \"type\": \"choropleth\"}], \"contour\": [{\"colorbar\": {\"outlinewidth\": 0, \"ticks\": \"\"}, \"colorscale\": [[0.0, \"#0d0887\"], [0.1111111111111111, \"#46039f\"], [0.2222222222222222, \"#7201a8\"], [0.3333333333333333, \"#9c179e\"], [0.4444444444444444, \"#bd3786\"], [0.5555555555555556, \"#d8576b\"], [0.6666666666666666, \"#ed7953\"], [0.7777777777777778, \"#fb9f3a\"], [0.8888888888888888, \"#fdca26\"], [1.0, \"#f0f921\"]], \"type\": \"contour\"}], \"contourcarpet\": [{\"colorbar\": {\"outlinewidth\": 0, \"ticks\": \"\"}, \"type\": \"contourcarpet\"}], \"heatmap\": [{\"colorbar\": {\"outlinewidth\": 0, \"ticks\": \"\"}, \"colorscale\": [[0.0, \"#0d0887\"], [0.1111111111111111, \"#46039f\"], [0.2222222222222222, \"#7201a8\"], [0.3333333333333333, \"#9c179e\"], [0.4444444444444444, \"#bd3786\"], [0.5555555555555556, \"#d8576b\"], [0.6666666666666666, \"#ed7953\"], [0.7777777777777778, \"#fb9f3a\"], [0.8888888888888888, \"#fdca26\"], [1.0, \"#f0f921\"]], \"type\": \"heatmap\"}], \"heatmapgl\": [{\"colorbar\": {\"outlinewidth\": 0, \"ticks\": \"\"}, \"colorscale\": [[0.0, \"#0d0887\"], [0.1111111111111111, \"#46039f\"], [0.2222222222222222, \"#7201a8\"], [0.3333333333333333, \"#9c179e\"], [0.4444444444444444, \"#bd3786\"], [0.5555555555555556, \"#d8576b\"], [0.6666666666666666, \"#ed7953\"], [0.7777777777777778, \"#fb9f3a\"], [0.8888888888888888, \"#fdca26\"], [1.0, \"#f0f921\"]], \"type\": \"heatmapgl\"}], \"histogram\": [{\"marker\": {\"colorbar\": {\"outlinewidth\": 0, \"ticks\": \"\"}}, \"type\": \"histogram\"}], \"histogram2d\": [{\"colorbar\": {\"outlinewidth\": 0, \"ticks\": \"\"}, \"colorscale\": [[0.0, \"#0d0887\"], [0.1111111111111111, \"#46039f\"], [0.2222222222222222, \"#7201a8\"], [0.3333333333333333, \"#9c179e\"], [0.4444444444444444, \"#bd3786\"], [0.5555555555555556, \"#d8576b\"], [0.6666666666666666, \"#ed7953\"], [0.7777777777777778, \"#fb9f3a\"], [0.8888888888888888, \"#fdca26\"], [1.0, \"#f0f921\"]], \"type\": \"histogram2d\"}], \"histogram2dcontour\": [{\"colorbar\": {\"outlinewidth\": 0, \"ticks\": \"\"}, \"colorscale\": [[0.0, \"#0d0887\"], [0.1111111111111111, \"#46039f\"], [0.2222222222222222, \"#7201a8\"], [0.3333333333333333, \"#9c179e\"], [0.4444444444444444, \"#bd3786\"], [0.5555555555555556, \"#d8576b\"], [0.6666666666666666, \"#ed7953\"], [0.7777777777777778, \"#fb9f3a\"], [0.8888888888888888, \"#fdca26\"], [1.0, \"#f0f921\"]], \"type\": \"histogram2dcontour\"}], \"mesh3d\": [{\"colorbar\": {\"outlinewidth\": 0, \"ticks\": \"\"}, \"type\": \"mesh3d\"}], \"parcoords\": [{\"line\": {\"colorbar\": {\"outlinewidth\": 0, \"ticks\": \"\"}}, \"type\": \"parcoords\"}], \"pie\": [{\"automargin\": true, \"type\": \"pie\"}], \"scatter\": [{\"marker\": {\"colorbar\": {\"outlinewidth\": 0, \"ticks\": \"\"}}, \"type\": \"scatter\"}], \"scatter3d\": [{\"line\": {\"colorbar\": {\"outlinewidth\": 0, \"ticks\": \"\"}}, \"marker\": {\"colorbar\": {\"outlinewidth\": 0, \"ticks\": \"\"}}, \"type\": \"scatter3d\"}], \"scattercarpet\": [{\"marker\": {\"colorbar\": {\"outlinewidth\": 0, \"ticks\": \"\"}}, \"type\": \"scattercarpet\"}], \"scattergeo\": [{\"marker\": {\"colorbar\": {\"outlinewidth\": 0, \"ticks\": \"\"}}, \"type\": \"scattergeo\"}], \"scattergl\": [{\"marker\": {\"colorbar\": {\"outlinewidth\": 0, \"ticks\": \"\"}}, \"type\": \"scattergl\"}], \"scattermapbox\": [{\"marker\": {\"colorbar\": {\"outlinewidth\": 0, \"ticks\": \"\"}}, \"type\": \"scattermapbox\"}], \"scatterpolar\": [{\"marker\": {\"colorbar\": {\"outlinewidth\": 0, \"ticks\": \"\"}}, \"type\": \"scatterpolar\"}], \"scatterpolargl\": [{\"marker\": {\"colorbar\": {\"outlinewidth\": 0, \"ticks\": \"\"}}, \"type\": \"scatterpolargl\"}], \"scatterternary\": [{\"marker\": {\"colorbar\": {\"outlinewidth\": 0, \"ticks\": \"\"}}, \"type\": \"scatterternary\"}], \"surface\": [{\"colorbar\": {\"outlinewidth\": 0, \"ticks\": \"\"}, \"colorscale\": [[0.0, \"#0d0887\"], [0.1111111111111111, \"#46039f\"], [0.2222222222222222, \"#7201a8\"], [0.3333333333333333, \"#9c179e\"], [0.4444444444444444, \"#bd3786\"], [0.5555555555555556, \"#d8576b\"], [0.6666666666666666, \"#ed7953\"], [0.7777777777777778, \"#fb9f3a\"], [0.8888888888888888, \"#fdca26\"], [1.0, \"#f0f921\"]], \"type\": \"surface\"}], \"table\": [{\"cells\": {\"fill\": {\"color\": \"#EBF0F8\"}, \"line\": {\"color\": \"white\"}}, \"header\": {\"fill\": {\"color\": \"#C8D4E3\"}, \"line\": {\"color\": \"white\"}}, \"type\": \"table\"}]}, \"layout\": {\"annotationdefaults\": {\"arrowcolor\": \"#2a3f5f\", \"arrowhead\": 0, \"arrowwidth\": 1}, \"coloraxis\": {\"colorbar\": {\"outlinewidth\": 0, \"ticks\": \"\"}}, \"colorscale\": {\"diverging\": [[0, \"#8e0152\"], [0.1, \"#c51b7d\"], [0.2, \"#de77ae\"], [0.3, \"#f1b6da\"], [0.4, \"#fde0ef\"], [0.5, \"#f7f7f7\"], [0.6, \"#e6f5d0\"], [0.7, \"#b8e186\"], [0.8, \"#7fbc41\"], [0.9, \"#4d9221\"], [1, \"#276419\"]], \"sequential\": [[0.0, \"#0d0887\"], [0.1111111111111111, \"#46039f\"], [0.2222222222222222, \"#7201a8\"], [0.3333333333333333, \"#9c179e\"], [0.4444444444444444, \"#bd3786\"], [0.5555555555555556, \"#d8576b\"], [0.6666666666666666, \"#ed7953\"], [0.7777777777777778, \"#fb9f3a\"], [0.8888888888888888, \"#fdca26\"], [1.0, \"#f0f921\"]], \"sequentialminus\": [[0.0, \"#0d0887\"], [0.1111111111111111, \"#46039f\"], [0.2222222222222222, \"#7201a8\"], [0.3333333333333333, \"#9c179e\"], [0.4444444444444444, \"#bd3786\"], [0.5555555555555556, \"#d8576b\"], [0.6666666666666666, \"#ed7953\"], [0.7777777777777778, \"#fb9f3a\"], [0.8888888888888888, \"#fdca26\"], [1.0, \"#f0f921\"]]}, \"colorway\": [\"#636efa\", \"#EF553B\", \"#00cc96\", \"#ab63fa\", \"#FFA15A\", \"#19d3f3\", \"#FF6692\", \"#B6E880\", \"#FF97FF\", \"#FECB52\"], \"font\": {\"color\": \"#2a3f5f\"}, \"geo\": {\"bgcolor\": \"white\", \"lakecolor\": \"white\", \"landcolor\": \"#E5ECF6\", \"showlakes\": true, \"showland\": true, \"subunitcolor\": \"white\"}, \"hoverlabel\": {\"align\": \"left\"}, \"hovermode\": \"closest\", \"mapbox\": {\"style\": \"light\"}, \"paper_bgcolor\": \"white\", \"plot_bgcolor\": \"#E5ECF6\", \"polar\": {\"angularaxis\": {\"gridcolor\": \"white\", \"linecolor\": \"white\", \"ticks\": \"\"}, \"bgcolor\": \"#E5ECF6\", \"radialaxis\": {\"gridcolor\": \"white\", \"linecolor\": \"white\", \"ticks\": \"\"}}, \"scene\": {\"xaxis\": {\"backgroundcolor\": \"#E5ECF6\", \"gridcolor\": \"white\", \"gridwidth\": 2, \"linecolor\": \"white\", \"showbackground\": true, \"ticks\": \"\", \"zerolinecolor\": \"white\"}, \"yaxis\": {\"backgroundcolor\": \"#E5ECF6\", \"gridcolor\": \"white\", \"gridwidth\": 2, \"linecolor\": \"white\", \"showbackground\": true, \"ticks\": \"\", \"zerolinecolor\": \"white\"}, \"zaxis\": {\"backgroundcolor\": \"#E5ECF6\", \"gridcolor\": \"white\", \"gridwidth\": 2, \"linecolor\": \"white\", \"showbackground\": true, \"ticks\": \"\", \"zerolinecolor\": \"white\"}}, \"shapedefaults\": {\"line\": {\"color\": \"#2a3f5f\"}}, \"ternary\": {\"aaxis\": {\"gridcolor\": \"white\", \"linecolor\": \"white\", \"ticks\": \"\"}, \"baxis\": {\"gridcolor\": \"white\", \"linecolor\": \"white\", \"ticks\": \"\"}, \"bgcolor\": \"#E5ECF6\", \"caxis\": {\"gridcolor\": \"white\", \"linecolor\": \"white\", \"ticks\": \"\"}}, \"title\": {\"x\": 0.05}, \"xaxis\": {\"automargin\": true, \"gridcolor\": \"white\", \"linecolor\": \"white\", \"ticks\": \"\", \"title\": {\"standoff\": 15}, \"zerolinecolor\": \"white\", \"zerolinewidth\": 2}, \"yaxis\": {\"automargin\": true, \"gridcolor\": \"white\", \"linecolor\": \"white\", \"ticks\": \"\", \"title\": {\"standoff\": 15}, \"zerolinecolor\": \"white\", \"zerolinewidth\": 2}}}, \"title\": {\"text\": \"Number of arms embargo and military expenditure trend 1960-2020\"}, \"xaxis\": {\"anchor\": \"y\", \"domain\": [0.0, 0.94], \"title\": {\"text\": \"Fiscal Year\"}}, \"yaxis\": {\"anchor\": \"x\", \"domain\": [0.0, 1.0], \"title\": {\"text\": \"Count of arms embargoes\"}}, \"yaxis2\": {\"anchor\": \"x\", \"overlaying\": \"y\", \"side\": \"right\", \"title\": {\"text\": \"Military Expenditure in Million USD\"}}},\n",
              "                        {\"responsive\": true}\n",
              "                    ).then(function(){\n",
              "                            \n",
              "var gd = document.getElementById('087d0c1e-1277-4add-8739-b01f9cbe83dc');\n",
              "var x = new MutationObserver(function (mutations, observer) {{\n",
              "        var display = window.getComputedStyle(gd).display;\n",
              "        if (!display || display === 'none') {{\n",
              "            console.log([gd, 'removed!']);\n",
              "            Plotly.purge(gd);\n",
              "            observer.disconnect();\n",
              "        }}\n",
              "}});\n",
              "\n",
              "// Listen for the removal of the full notebook cells\n",
              "var notebookContainer = gd.closest('#notebook-container');\n",
              "if (notebookContainer) {{\n",
              "    x.observe(notebookContainer, {childList: true});\n",
              "}}\n",
              "\n",
              "// Listen for the clearing of the current output cell\n",
              "var outputEl = gd.closest('.output');\n",
              "if (outputEl) {{\n",
              "    x.observe(outputEl, {childList: true});\n",
              "}}\n",
              "\n",
              "                        })\n",
              "                };\n",
              "                \n",
              "            </script>\n",
              "        </div>\n",
              "</body>\n",
              "</html>"
            ]
          },
          "metadata": {
            "tags": []
          }
        }
      ]
    },
    {
      "cell_type": "markdown",
      "metadata": {
        "id": "3PYko49zTsZP"
      },
      "source": [
        "# Exporting Interactive Graphs (as HTML)"
      ]
    },
    {
      "cell_type": "code",
      "metadata": {
        "colab": {
          "base_uri": "https://localhost:8080/",
          "height": 17
        },
        "id": "ON2_WblmUChC",
        "outputId": "cbd8c8e0-a8d9-488e-cd74-49daa6a7118c"
      },
      "source": [
        "# export graph as an html file\n",
        "milexp_embargo_bubble.write_html(\"milexp_embargo_bubble.html\")\n",
        "\n",
        "# download files from google colab\n",
        "files.download(\"milexp_embargo_bubble.html\")"
      ],
      "execution_count": 350,
      "outputs": [
        {
          "output_type": "display_data",
          "data": {
            "application/javascript": [
              "\n",
              "    async function download(id, filename, size) {\n",
              "      if (!google.colab.kernel.accessAllowed) {\n",
              "        return;\n",
              "      }\n",
              "      const div = document.createElement('div');\n",
              "      const label = document.createElement('label');\n",
              "      label.textContent = `Downloading \"${filename}\": `;\n",
              "      div.appendChild(label);\n",
              "      const progress = document.createElement('progress');\n",
              "      progress.max = size;\n",
              "      div.appendChild(progress);\n",
              "      document.body.appendChild(div);\n",
              "\n",
              "      const buffers = [];\n",
              "      let downloaded = 0;\n",
              "\n",
              "      const channel = await google.colab.kernel.comms.open(id);\n",
              "      // Send a message to notify the kernel that we're ready.\n",
              "      channel.send({})\n",
              "\n",
              "      for await (const message of channel.messages) {\n",
              "        // Send a message to notify the kernel that we're ready.\n",
              "        channel.send({})\n",
              "        if (message.buffers) {\n",
              "          for (const buffer of message.buffers) {\n",
              "            buffers.push(buffer);\n",
              "            downloaded += buffer.byteLength;\n",
              "            progress.value = downloaded;\n",
              "          }\n",
              "        }\n",
              "      }\n",
              "      const blob = new Blob(buffers, {type: 'application/binary'});\n",
              "      const a = document.createElement('a');\n",
              "      a.href = window.URL.createObjectURL(blob);\n",
              "      a.download = filename;\n",
              "      div.appendChild(a);\n",
              "      a.click();\n",
              "      div.remove();\n",
              "    }\n",
              "  "
            ],
            "text/plain": [
              "<IPython.core.display.Javascript object>"
            ]
          },
          "metadata": {
            "tags": []
          }
        },
        {
          "output_type": "display_data",
          "data": {
            "application/javascript": [
              "download(\"download_d48ccce4-50b0-4b74-81a7-537fe8d2cefa\", \"milexp_embargo_bubble.html\", 3305110)"
            ],
            "text/plain": [
              "<IPython.core.display.Javascript object>"
            ]
          },
          "metadata": {
            "tags": []
          }
        }
      ]
    },
    {
      "cell_type": "code",
      "metadata": {
        "colab": {
          "base_uri": "https://localhost:8080/",
          "height": 17
        },
        "id": "gUASsemcTrsb",
        "outputId": "d4d7a5d7-c30e-493e-e1d4-50779d2293b6"
      },
      "source": [
        "# export graph as an html file\n",
        "combo_fig.write_html(\"combined_embargo_milexp.html\")\n",
        "\n",
        "# download files from google colab\n",
        "files.download(\"combined_embargo_milexp.html\")"
      ],
      "execution_count": 344,
      "outputs": [
        {
          "output_type": "display_data",
          "data": {
            "application/javascript": [
              "\n",
              "    async function download(id, filename, size) {\n",
              "      if (!google.colab.kernel.accessAllowed) {\n",
              "        return;\n",
              "      }\n",
              "      const div = document.createElement('div');\n",
              "      const label = document.createElement('label');\n",
              "      label.textContent = `Downloading \"${filename}\": `;\n",
              "      div.appendChild(label);\n",
              "      const progress = document.createElement('progress');\n",
              "      progress.max = size;\n",
              "      div.appendChild(progress);\n",
              "      document.body.appendChild(div);\n",
              "\n",
              "      const buffers = [];\n",
              "      let downloaded = 0;\n",
              "\n",
              "      const channel = await google.colab.kernel.comms.open(id);\n",
              "      // Send a message to notify the kernel that we're ready.\n",
              "      channel.send({})\n",
              "\n",
              "      for await (const message of channel.messages) {\n",
              "        // Send a message to notify the kernel that we're ready.\n",
              "        channel.send({})\n",
              "        if (message.buffers) {\n",
              "          for (const buffer of message.buffers) {\n",
              "            buffers.push(buffer);\n",
              "            downloaded += buffer.byteLength;\n",
              "            progress.value = downloaded;\n",
              "          }\n",
              "        }\n",
              "      }\n",
              "      const blob = new Blob(buffers, {type: 'application/binary'});\n",
              "      const a = document.createElement('a');\n",
              "      a.href = window.URL.createObjectURL(blob);\n",
              "      a.download = filename;\n",
              "      div.appendChild(a);\n",
              "      a.click();\n",
              "      div.remove();\n",
              "    }\n",
              "  "
            ],
            "text/plain": [
              "<IPython.core.display.Javascript object>"
            ]
          },
          "metadata": {
            "tags": []
          }
        },
        {
          "output_type": "display_data",
          "data": {
            "application/javascript": [
              "download(\"download_1166909d-0d65-4401-af44-d37498ed31b5\", \"combined_embargo_milexp.html\", 3360751)"
            ],
            "text/plain": [
              "<IPython.core.display.Javascript object>"
            ]
          },
          "metadata": {
            "tags": []
          }
        }
      ]
    }
  ]
}